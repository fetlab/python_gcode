{
 "cells": [
  {
   "cell_type": "code",
   "execution_count": 1,
   "id": "01b03ab6-abfa-4ee4-bd7a-753a45f9ba3a",
   "metadata": {},
   "outputs": [],
   "source": [
    "import numpy as np\n",
    "import pandas as pd\n",
    "import pickle\n",
    "import plotly.graph_objects as go\n",
    "from copy import copy, deepcopy\n",
    "from pprint import pprint\n",
    "from Geometry3D import Point, distance, HalfLine\n",
    "\n",
    "from rich.console import Console\n",
    "rprint = Console(style=\"on #272727\").print\n",
    "\n",
    "#suppress scientific notation\n",
    "np.set_printoptions(suppress=True, precision=8)"
   ]
  },
  {
   "cell_type": "code",
   "execution_count": 10,
   "id": "7419b93e-6ecc-4b1c-b49b-cb5681dd0a95",
   "metadata": {},
   "outputs": [
    {
     "name": "stdout",
     "output_type": "stream",
     "text": [
      "The autoreload extension is already loaded. To reload it, use:\n",
      "  %reload_ext autoreload\n"
     ]
    }
   ],
   "source": [
    "import threader, geometry_helpers, gcode, gcline, tlayer, util, cura4layer\n",
    "import parsers.cura4\n",
    "from parsers import cura4\n",
    "from threader import TLayer, Threader, GCodeException\n",
    "from util import find\n",
    "from danutil import dupcount\n",
    "#page_wide()\n",
    "\n",
    "#Attempt to reload modules automatically\n",
    "%load_ext autoreload\n",
    "%autoreload 2"
   ]
  },
  {
   "cell_type": "code",
   "execution_count": 3,
   "id": "d54642d0",
   "metadata": {},
   "outputs": [],
   "source": [
    "#Fusion: smaller complex shape v1\n",
    "gcode_file = '/Users/dan/r/thread_printer/stl/test2/Smaller complex shape - cura.gcode'\n",
    "cura_project = '/Users/dan/r/thread_printer/stl/test2/Smaller complex shape - cura.3mf'"
   ]
  },
  {
   "cell_type": "code",
   "execution_count": null,
   "id": "f7ba65e1",
   "metadata": {},
   "outputs": [],
   "source": [
    "thread_transform = cura4.parse_3mf(cura_project)\n",
    "thread_transform"
   ]
  },
  {
   "cell_type": "code",
   "execution_count": 4,
   "id": "2978611a",
   "metadata": {},
   "outputs": [],
   "source": [
    "# From cura4.parse_3mf(cura_project) so I don't have to run that every time\n",
    "thread_transform = np.array([39.26039839, 46.27034378, 23.87050056])\n",
    "\n",
    "#See thread_from_fusion.py to get thread path\n",
    "tpath = [\n",
    "\t\t([33.7300, 17.1077, 11.4653], [56.0477, 43.4545, 11.4653]),\n",
    "\t\t([56.0477, 43.4545, 11.4653], [53.2410, 59.2656, 11.4653]),\n",
    "\t\t([53.2410, 59.2656, 11.4653], [26.9901, 69.3288, 42.0560]),\n",
    "\t\t([26.9901, 69.3288, 42.0560], [26.9901, 69.3288, 47.7410]),\n",
    "]\n",
    "tpath = np.array(tpath)\n",
    "\n",
    "#Do it this way so I can add transform if needed\n",
    "#tpath = np.insert(tpath, 0, [[0,0,0], tpath[0,0]], axis=0)\n",
    "\n",
    "#Temporary fix for TODO in cura4.parse3mf\n",
    "thread_transform[2] = 0\n",
    "\n",
    "g = gcode.GcodeFile(gcode_file, layer_class=TLayer)\n",
    "t = Threader(g)\n",
    "\n",
    "#start_layer = next(layer for layer in g.layers if (layer.z + layer.layer_height) >= tpath[0][1][2])\n",
    "start_layer = g.layers[56]\n",
    "\n",
    "thread_geom = list([geometry_helpers.GSegment(Point(*s), Point(*e)) for s,e in tpath])"
   ]
  },
  {
   "cell_type": "code",
   "execution_count": 7,
   "id": "8d3802a2",
   "metadata": {},
   "outputs": [
    {
     "data": {
      "text/html": [
       "<pre style=\"white-space:pre;overflow-x:auto;line-height:normal;font-family:Menlo,'DejaVu Sans Mono',consolas,'Courier New',monospace\"><span style=\"background-color: #272727\">Route </span><span style=\"color: #008080; text-decoration-color: #008080; background-color: #272727; font-weight: bold\">4</span><span style=\"background-color: #272727\">-segment thread through layer:</span>\n",
       "<span style=\"background-color: #272727\">  </span><span style=\"background-color: #272727; font-weight: bold\">&lt;</span><span style=\"color: #ff00ff; text-decoration-color: #ff00ff; background-color: #272727; font-weight: bold\">Layer</span><span style=\"color: #000000; text-decoration-color: #000000; background-color: #272727\"> </span><span style=\"color: #008080; text-decoration-color: #008080; background-color: #272727; font-weight: bold\">56</span><span style=\"color: #000000; text-decoration-color: #000000; background-color: #272727\"> at </span><span style=\"color: #808000; text-decoration-color: #808000; background-color: #272727\">Z</span><span style=\"color: #000000; text-decoration-color: #000000; background-color: #272727\">=</span><span style=\"color: #008080; text-decoration-color: #008080; background-color: #272727; font-weight: bold\">11.4</span><span style=\"color: #000000; text-decoration-color: #000000; background-color: #272727\">; corners: </span><span style=\"color: #000000; text-decoration-color: #000000; background-color: #272727; font-weight: bold\">((</span><span style=\"color: #008080; text-decoration-color: #008080; background-color: #272727; font-weight: bold\">15.235</span><span style=\"color: #000000; text-decoration-color: #000000; background-color: #272727\">, </span><span style=\"color: #008080; text-decoration-color: #008080; background-color: #272727; font-weight: bold\">16.791</span><span style=\"color: #000000; text-decoration-color: #000000; background-color: #272727; font-weight: bold\">)</span><span style=\"color: #000000; text-decoration-color: #000000; background-color: #272727\">, </span><span style=\"color: #000000; text-decoration-color: #000000; background-color: #272727; font-weight: bold\">(</span><span style=\"color: #008080; text-decoration-color: #008080; background-color: #272727; font-weight: bold\">63.186</span><span style=\"color: #000000; text-decoration-color: #000000; background-color: #272727\">, </span><span style=\"color: #008080; text-decoration-color: #008080; background-color: #272727; font-weight: bold\">75.723</span><span style=\"color: #000000; text-decoration-color: #000000; background-color: #272727; font-weight: bold\">))</span><span style=\"color: #000000; text-decoration-color: #000000; background-color: #272727\">; </span><span style=\"color: #008080; text-decoration-color: #008080; background-color: #272727; font-weight: bold\">376</span><span style=\"color: #000000; text-decoration-color: #000000; background-color: #272727\"> lines</span><span style=\"background-color: #272727; font-weight: bold\">&gt;</span>\n",
       "</pre>\n"
      ],
      "text/plain": [
       "\u001b[48;2;39;39;39mRoute \u001b[0m\u001b[1;36;48;2;39;39;39m4\u001b[0m\u001b[48;2;39;39;39m-segment thread through layer:\u001b[0m\n",
       "\u001b[48;2;39;39;39m  \u001b[0m\u001b[1;48;2;39;39;39m<\u001b[0m\u001b[1;95;48;2;39;39;39mLayer\u001b[0m\u001b[39;48;2;39;39;39m \u001b[0m\u001b[1;36;48;2;39;39;39m56\u001b[0m\u001b[39;48;2;39;39;39m at \u001b[0m\u001b[33;48;2;39;39;39mZ\u001b[0m\u001b[39;48;2;39;39;39m=\u001b[0m\u001b[1;36;48;2;39;39;39m11\u001b[0m\u001b[1;36;48;2;39;39;39m.4\u001b[0m\u001b[39;48;2;39;39;39m; corners: \u001b[0m\u001b[1;39;48;2;39;39;39m(\u001b[0m\u001b[1;39;48;2;39;39;39m(\u001b[0m\u001b[1;36;48;2;39;39;39m15.235\u001b[0m\u001b[39;48;2;39;39;39m, \u001b[0m\u001b[1;36;48;2;39;39;39m16.791\u001b[0m\u001b[1;39;48;2;39;39;39m)\u001b[0m\u001b[39;48;2;39;39;39m, \u001b[0m\u001b[1;39;48;2;39;39;39m(\u001b[0m\u001b[1;36;48;2;39;39;39m63.186\u001b[0m\u001b[39;48;2;39;39;39m, \u001b[0m\u001b[1;36;48;2;39;39;39m75.723\u001b[0m\u001b[1;39;48;2;39;39;39m)\u001b[0m\u001b[1;39;48;2;39;39;39m)\u001b[0m\u001b[39;48;2;39;39;39m; \u001b[0m\u001b[1;36;48;2;39;39;39m376\u001b[0m\u001b[39;48;2;39;39;39m lines\u001b[0m\u001b[1;48;2;39;39;39m>\u001b[0m\n"
      ]
     },
     "metadata": {},
     "output_type": "display_data"
    },
    {
     "data": {
      "text/html": [
       "<pre style=\"white-space:pre;overflow-x:auto;line-height:normal;font-family:Menlo,'DejaVu Sans Mono',consolas,'Courier New',monospace\"><span style=\"background-color: #272727\">        </span><span style=\"color: #008080; text-decoration-color: #008080; background-color: #272727; font-weight: bold\">0</span><span style=\"background-color: #272727\">. </span><span style=\"background-color: #272727; font-weight: bold\">&lt;</span><span style=\"color: #000000; text-decoration-color: #000000; background-color: #272727; font-weight: bold\">{</span><span style=\"color: #000000; text-decoration-color: #000000; background-color: #272727\"> </span><span style=\"color: #008080; text-decoration-color: #008080; background-color: #272727; font-weight: bold\">33.73</span><span style=\"color: #000000; text-decoration-color: #000000; background-color: #272727\">,  </span><span style=\"color: #008080; text-decoration-color: #008080; background-color: #272727; font-weight: bold\">17.11</span><span style=\"color: #000000; text-decoration-color: #000000; background-color: #272727\">,  </span><span style=\"color: #008080; text-decoration-color: #008080; background-color: #272727; font-weight: bold\">11.47</span><span style=\"color: #000000; text-decoration-color: #000000; background-color: #272727; font-weight: bold\">}</span><span style=\"color: #000000; text-decoration-color: #000000; background-color: #272727\">←→</span><span style=\"color: #000000; text-decoration-color: #000000; background-color: #272727; font-weight: bold\">{</span><span style=\"color: #000000; text-decoration-color: #000000; background-color: #272727\"> </span><span style=\"color: #008080; text-decoration-color: #008080; background-color: #272727; font-weight: bold\">56.05</span><span style=\"color: #000000; text-decoration-color: #000000; background-color: #272727\">,  </span><span style=\"color: #008080; text-decoration-color: #008080; background-color: #272727; font-weight: bold\">43.45</span><span style=\"color: #000000; text-decoration-color: #000000; background-color: #272727\">,  </span><span style=\"color: #008080; text-decoration-color: #008080; background-color: #272727; font-weight: bold\">11.47</span><span style=\"color: #000000; text-decoration-color: #000000; background-color: #272727; font-weight: bold\">}</span><span style=\"background-color: #272727; font-weight: bold\">&gt;</span>\n",
       "</pre>\n"
      ],
      "text/plain": [
       "\u001b[48;2;39;39;39m \u001b[0m\u001b[48;2;39;39;39m       \u001b[0m\u001b[1;36;48;2;39;39;39m0\u001b[0m\u001b[48;2;39;39;39m. \u001b[0m\u001b[1;48;2;39;39;39m<\u001b[0m\u001b[1;39;48;2;39;39;39m{\u001b[0m\u001b[39;48;2;39;39;39m \u001b[0m\u001b[1;36;48;2;39;39;39m33.73\u001b[0m\u001b[39;48;2;39;39;39m,  \u001b[0m\u001b[1;36;48;2;39;39;39m17.11\u001b[0m\u001b[39;48;2;39;39;39m,  \u001b[0m\u001b[1;36;48;2;39;39;39m11.47\u001b[0m\u001b[1;39;48;2;39;39;39m}\u001b[0m\u001b[39;48;2;39;39;39m←→\u001b[0m\u001b[1;39;48;2;39;39;39m{\u001b[0m\u001b[39;48;2;39;39;39m \u001b[0m\u001b[1;36;48;2;39;39;39m56.05\u001b[0m\u001b[39;48;2;39;39;39m,  \u001b[0m\u001b[1;36;48;2;39;39;39m43.45\u001b[0m\u001b[39;48;2;39;39;39m,  \u001b[0m\u001b[1;36;48;2;39;39;39m11.47\u001b[0m\u001b[1;39;48;2;39;39;39m}\u001b[0m\u001b[1;48;2;39;39;39m>\u001b[0m\n"
      ]
     },
     "metadata": {},
     "output_type": "display_data"
    },
    {
     "data": {
      "text/html": [
       "<pre style=\"white-space:pre;overflow-x:auto;line-height:normal;font-family:Menlo,'DejaVu Sans Mono',consolas,'Courier New',monospace\"><span style=\"background-color: #272727\">        </span><span style=\"color: #008080; text-decoration-color: #008080; background-color: #272727; font-weight: bold\">1</span><span style=\"background-color: #272727\">. </span><span style=\"background-color: #272727; font-weight: bold\">&lt;</span><span style=\"color: #000000; text-decoration-color: #000000; background-color: #272727; font-weight: bold\">{</span><span style=\"color: #000000; text-decoration-color: #000000; background-color: #272727\"> </span><span style=\"color: #008080; text-decoration-color: #008080; background-color: #272727; font-weight: bold\">56.05</span><span style=\"color: #000000; text-decoration-color: #000000; background-color: #272727\">,  </span><span style=\"color: #008080; text-decoration-color: #008080; background-color: #272727; font-weight: bold\">43.45</span><span style=\"color: #000000; text-decoration-color: #000000; background-color: #272727\">,  </span><span style=\"color: #008080; text-decoration-color: #008080; background-color: #272727; font-weight: bold\">11.47</span><span style=\"color: #000000; text-decoration-color: #000000; background-color: #272727; font-weight: bold\">}</span><span style=\"color: #000000; text-decoration-color: #000000; background-color: #272727\">←→</span><span style=\"color: #000000; text-decoration-color: #000000; background-color: #272727; font-weight: bold\">{</span><span style=\"color: #000000; text-decoration-color: #000000; background-color: #272727\"> </span><span style=\"color: #008080; text-decoration-color: #008080; background-color: #272727; font-weight: bold\">53.24</span><span style=\"color: #000000; text-decoration-color: #000000; background-color: #272727\">,  </span><span style=\"color: #008080; text-decoration-color: #008080; background-color: #272727; font-weight: bold\">59.27</span><span style=\"color: #000000; text-decoration-color: #000000; background-color: #272727\">,  </span><span style=\"color: #008080; text-decoration-color: #008080; background-color: #272727; font-weight: bold\">11.47</span><span style=\"color: #000000; text-decoration-color: #000000; background-color: #272727; font-weight: bold\">}</span><span style=\"background-color: #272727; font-weight: bold\">&gt;</span>\n",
       "</pre>\n"
      ],
      "text/plain": [
       "\u001b[48;2;39;39;39m \u001b[0m\u001b[48;2;39;39;39m       \u001b[0m\u001b[1;36;48;2;39;39;39m1\u001b[0m\u001b[48;2;39;39;39m. \u001b[0m\u001b[1;48;2;39;39;39m<\u001b[0m\u001b[1;39;48;2;39;39;39m{\u001b[0m\u001b[39;48;2;39;39;39m \u001b[0m\u001b[1;36;48;2;39;39;39m56.05\u001b[0m\u001b[39;48;2;39;39;39m,  \u001b[0m\u001b[1;36;48;2;39;39;39m43.45\u001b[0m\u001b[39;48;2;39;39;39m,  \u001b[0m\u001b[1;36;48;2;39;39;39m11.47\u001b[0m\u001b[1;39;48;2;39;39;39m}\u001b[0m\u001b[39;48;2;39;39;39m←→\u001b[0m\u001b[1;39;48;2;39;39;39m{\u001b[0m\u001b[39;48;2;39;39;39m \u001b[0m\u001b[1;36;48;2;39;39;39m53.24\u001b[0m\u001b[39;48;2;39;39;39m,  \u001b[0m\u001b[1;36;48;2;39;39;39m59.27\u001b[0m\u001b[39;48;2;39;39;39m,  \u001b[0m\u001b[1;36;48;2;39;39;39m11.47\u001b[0m\u001b[1;39;48;2;39;39;39m}\u001b[0m\u001b[1;48;2;39;39;39m>\u001b[0m\n"
      ]
     },
     "metadata": {},
     "output_type": "display_data"
    },
    {
     "data": {
      "text/html": [
       "<pre style=\"white-space:pre;overflow-x:auto;line-height:normal;font-family:Menlo,'DejaVu Sans Mono',consolas,'Courier New',monospace\"><span style=\"background-color: #272727\">        </span><span style=\"color: #008080; text-decoration-color: #008080; background-color: #272727; font-weight: bold\">2</span><span style=\"background-color: #272727\">. </span><span style=\"background-color: #272727; font-weight: bold\">&lt;</span><span style=\"color: #000000; text-decoration-color: #000000; background-color: #272727; font-weight: bold\">{</span><span style=\"color: #000000; text-decoration-color: #000000; background-color: #272727\"> </span><span style=\"color: #008080; text-decoration-color: #008080; background-color: #272727; font-weight: bold\">53.24</span><span style=\"color: #000000; text-decoration-color: #000000; background-color: #272727\">,  </span><span style=\"color: #008080; text-decoration-color: #008080; background-color: #272727; font-weight: bold\">59.27</span><span style=\"color: #000000; text-decoration-color: #000000; background-color: #272727\">,  </span><span style=\"color: #008080; text-decoration-color: #008080; background-color: #272727; font-weight: bold\">11.47</span><span style=\"color: #000000; text-decoration-color: #000000; background-color: #272727; font-weight: bold\">}</span><span style=\"color: #000000; text-decoration-color: #000000; background-color: #272727\">←→</span><span style=\"color: #000000; text-decoration-color: #000000; background-color: #272727; font-weight: bold\">{</span><span style=\"color: #000000; text-decoration-color: #000000; background-color: #272727\"> </span><span style=\"color: #008080; text-decoration-color: #008080; background-color: #272727; font-weight: bold\">26.99</span><span style=\"color: #000000; text-decoration-color: #000000; background-color: #272727\">,  </span><span style=\"color: #008080; text-decoration-color: #008080; background-color: #272727; font-weight: bold\">69.33</span><span style=\"color: #000000; text-decoration-color: #000000; background-color: #272727\">,  </span><span style=\"color: #008080; text-decoration-color: #008080; background-color: #272727; font-weight: bold\">42.06</span><span style=\"color: #000000; text-decoration-color: #000000; background-color: #272727; font-weight: bold\">}</span><span style=\"background-color: #272727; font-weight: bold\">&gt;</span>\n",
       "</pre>\n"
      ],
      "text/plain": [
       "\u001b[48;2;39;39;39m \u001b[0m\u001b[48;2;39;39;39m       \u001b[0m\u001b[1;36;48;2;39;39;39m2\u001b[0m\u001b[48;2;39;39;39m. \u001b[0m\u001b[1;48;2;39;39;39m<\u001b[0m\u001b[1;39;48;2;39;39;39m{\u001b[0m\u001b[39;48;2;39;39;39m \u001b[0m\u001b[1;36;48;2;39;39;39m53.24\u001b[0m\u001b[39;48;2;39;39;39m,  \u001b[0m\u001b[1;36;48;2;39;39;39m59.27\u001b[0m\u001b[39;48;2;39;39;39m,  \u001b[0m\u001b[1;36;48;2;39;39;39m11.47\u001b[0m\u001b[1;39;48;2;39;39;39m}\u001b[0m\u001b[39;48;2;39;39;39m←→\u001b[0m\u001b[1;39;48;2;39;39;39m{\u001b[0m\u001b[39;48;2;39;39;39m \u001b[0m\u001b[1;36;48;2;39;39;39m26.99\u001b[0m\u001b[39;48;2;39;39;39m,  \u001b[0m\u001b[1;36;48;2;39;39;39m69.33\u001b[0m\u001b[39;48;2;39;39;39m,  \u001b[0m\u001b[1;36;48;2;39;39;39m42.06\u001b[0m\u001b[1;39;48;2;39;39;39m}\u001b[0m\u001b[1;48;2;39;39;39m>\u001b[0m\n"
      ]
     },
     "metadata": {},
     "output_type": "display_data"
    },
    {
     "data": {
      "text/html": [
       "<pre style=\"white-space:pre;overflow-x:auto;line-height:normal;font-family:Menlo,'DejaVu Sans Mono',consolas,'Courier New',monospace\"><span style=\"background-color: #272727\">        </span><span style=\"color: #008080; text-decoration-color: #008080; background-color: #272727; font-weight: bold\">3</span><span style=\"background-color: #272727\">. </span><span style=\"background-color: #272727; font-weight: bold\">&lt;</span><span style=\"color: #000000; text-decoration-color: #000000; background-color: #272727; font-weight: bold\">{</span><span style=\"color: #000000; text-decoration-color: #000000; background-color: #272727\"> </span><span style=\"color: #008080; text-decoration-color: #008080; background-color: #272727; font-weight: bold\">26.99</span><span style=\"color: #000000; text-decoration-color: #000000; background-color: #272727\">,  </span><span style=\"color: #008080; text-decoration-color: #008080; background-color: #272727; font-weight: bold\">69.33</span><span style=\"color: #000000; text-decoration-color: #000000; background-color: #272727\">,  </span><span style=\"color: #008080; text-decoration-color: #008080; background-color: #272727; font-weight: bold\">42.06</span><span style=\"color: #000000; text-decoration-color: #000000; background-color: #272727; font-weight: bold\">}</span><span style=\"color: #000000; text-decoration-color: #000000; background-color: #272727\">←→</span><span style=\"color: #000000; text-decoration-color: #000000; background-color: #272727; font-weight: bold\">{</span><span style=\"color: #000000; text-decoration-color: #000000; background-color: #272727\"> </span><span style=\"color: #008080; text-decoration-color: #008080; background-color: #272727; font-weight: bold\">26.99</span><span style=\"color: #000000; text-decoration-color: #000000; background-color: #272727\">,  </span><span style=\"color: #008080; text-decoration-color: #008080; background-color: #272727; font-weight: bold\">69.33</span><span style=\"color: #000000; text-decoration-color: #000000; background-color: #272727\">,  </span><span style=\"color: #008080; text-decoration-color: #008080; background-color: #272727; font-weight: bold\">47.74</span><span style=\"color: #000000; text-decoration-color: #000000; background-color: #272727; font-weight: bold\">}</span><span style=\"background-color: #272727; font-weight: bold\">&gt;</span>\n",
       "</pre>\n"
      ],
      "text/plain": [
       "\u001b[48;2;39;39;39m \u001b[0m\u001b[48;2;39;39;39m       \u001b[0m\u001b[1;36;48;2;39;39;39m3\u001b[0m\u001b[48;2;39;39;39m. \u001b[0m\u001b[1;48;2;39;39;39m<\u001b[0m\u001b[1;39;48;2;39;39;39m{\u001b[0m\u001b[39;48;2;39;39;39m \u001b[0m\u001b[1;36;48;2;39;39;39m26.99\u001b[0m\u001b[39;48;2;39;39;39m,  \u001b[0m\u001b[1;36;48;2;39;39;39m69.33\u001b[0m\u001b[39;48;2;39;39;39m,  \u001b[0m\u001b[1;36;48;2;39;39;39m42.06\u001b[0m\u001b[1;39;48;2;39;39;39m}\u001b[0m\u001b[39;48;2;39;39;39m←→\u001b[0m\u001b[1;39;48;2;39;39;39m{\u001b[0m\u001b[39;48;2;39;39;39m \u001b[0m\u001b[1;36;48;2;39;39;39m26.99\u001b[0m\u001b[39;48;2;39;39;39m,  \u001b[0m\u001b[1;36;48;2;39;39;39m69.33\u001b[0m\u001b[39;48;2;39;39;39m,  \u001b[0m\u001b[1;36;48;2;39;39;39m47.74\u001b[0m\u001b[1;39;48;2;39;39;39m}\u001b[0m\u001b[1;48;2;39;39;39m>\u001b[0m\n"
      ]
     },
     "metadata": {},
     "output_type": "display_data"
    },
    {
     "name": "stdout",
     "output_type": "stream",
     "text": [
      "Thread segment <{ 26.99,  69.33,  42.06}←→{ 26.99,  69.33,  47.74}> endpoints not in layer\n"
     ]
    },
    {
     "data": {
      "text/html": [
       "<pre style=\"white-space:pre;overflow-x:auto;line-height:normal;font-family:Menlo,'DejaVu Sans Mono',consolas,'Courier New',monospace\">\n",
       "<span style=\"background-color: #272727\">Flattened thread:</span>\n",
       "</pre>\n"
      ],
      "text/plain": [
       "\n",
       "\u001b[48;2;39;39;39mFlattened thread:\u001b[0m\n"
      ]
     },
     "metadata": {},
     "output_type": "display_data"
    },
    {
     "data": {
      "text/html": [
       "<pre style=\"white-space:pre;overflow-x:auto;line-height:normal;font-family:Menlo,'DejaVu Sans Mono',consolas,'Courier New',monospace\"><span style=\"background-color: #272727\">        </span><span style=\"color: #008080; text-decoration-color: #008080; background-color: #272727; font-weight: bold\">0</span><span style=\"background-color: #272727\">. </span><span style=\"background-color: #272727; font-weight: bold\">&lt;</span><span style=\"color: #000000; text-decoration-color: #000000; background-color: #272727; font-weight: bold\">{</span><span style=\"color: #000000; text-decoration-color: #000000; background-color: #272727\"> </span><span style=\"color: #008080; text-decoration-color: #008080; background-color: #272727; font-weight: bold\">33.24</span><span style=\"color: #000000; text-decoration-color: #000000; background-color: #272727\">,  </span><span style=\"color: #008080; text-decoration-color: #008080; background-color: #272727; font-weight: bold\">16.86</span><span style=\"color: #000000; text-decoration-color: #000000; background-color: #272727\">,  </span><span style=\"color: #008080; text-decoration-color: #008080; background-color: #272727; font-weight: bold\">11.40</span><span style=\"color: #000000; text-decoration-color: #000000; background-color: #272727; font-weight: bold\">}</span><span style=\"color: #000000; text-decoration-color: #000000; background-color: #272727\">←→</span><span style=\"color: #000000; text-decoration-color: #000000; background-color: #272727; font-weight: bold\">{</span><span style=\"color: #000000; text-decoration-color: #000000; background-color: #272727\"> </span><span style=\"color: #008080; text-decoration-color: #008080; background-color: #272727; font-weight: bold\">33.73</span><span style=\"color: #000000; text-decoration-color: #000000; background-color: #272727\">,  </span><span style=\"color: #008080; text-decoration-color: #008080; background-color: #272727; font-weight: bold\">17.11</span><span style=\"color: #000000; text-decoration-color: #000000; background-color: #272727\">,  </span><span style=\"color: #008080; text-decoration-color: #008080; background-color: #272727; font-weight: bold\">11.40</span><span style=\"color: #000000; text-decoration-color: #000000; background-color: #272727; font-weight: bold\">}</span><span style=\"background-color: #272727; font-weight: bold\">&gt;</span><span style=\"background-color: #272727\"> </span><span style=\"background-color: #272727; font-weight: bold\">(</span><span style=\"color: #008080; text-decoration-color: #008080; background-color: #272727; font-weight: bold\">0.55</span><span style=\"background-color: #272727\"> mm</span><span style=\"background-color: #272727; font-weight: bold\">)</span>\n",
       "</pre>\n"
      ],
      "text/plain": [
       "\u001b[48;2;39;39;39m \u001b[0m\u001b[48;2;39;39;39m       \u001b[0m\u001b[1;36;48;2;39;39;39m0\u001b[0m\u001b[48;2;39;39;39m. \u001b[0m\u001b[1;48;2;39;39;39m<\u001b[0m\u001b[1;39;48;2;39;39;39m{\u001b[0m\u001b[39;48;2;39;39;39m \u001b[0m\u001b[1;36;48;2;39;39;39m33.24\u001b[0m\u001b[39;48;2;39;39;39m,  \u001b[0m\u001b[1;36;48;2;39;39;39m16.86\u001b[0m\u001b[39;48;2;39;39;39m,  \u001b[0m\u001b[1;36;48;2;39;39;39m11.40\u001b[0m\u001b[1;39;48;2;39;39;39m}\u001b[0m\u001b[39;48;2;39;39;39m←→\u001b[0m\u001b[1;39;48;2;39;39;39m{\u001b[0m\u001b[39;48;2;39;39;39m \u001b[0m\u001b[1;36;48;2;39;39;39m33.73\u001b[0m\u001b[39;48;2;39;39;39m,  \u001b[0m\u001b[1;36;48;2;39;39;39m17.11\u001b[0m\u001b[39;48;2;39;39;39m,  \u001b[0m\u001b[1;36;48;2;39;39;39m11.40\u001b[0m\u001b[1;39;48;2;39;39;39m}\u001b[0m\u001b[1;48;2;39;39;39m>\u001b[0m\u001b[48;2;39;39;39m \u001b[0m\u001b[1;48;2;39;39;39m(\u001b[0m\u001b[1;36;48;2;39;39;39m0.55\u001b[0m\u001b[48;2;39;39;39m mm\u001b[0m\u001b[1;48;2;39;39;39m)\u001b[0m\n"
      ]
     },
     "metadata": {},
     "output_type": "display_data"
    },
    {
     "data": {
      "text/html": [
       "<pre style=\"white-space:pre;overflow-x:auto;line-height:normal;font-family:Menlo,'DejaVu Sans Mono',consolas,'Courier New',monospace\"><span style=\"background-color: #272727\">        </span><span style=\"color: #008080; text-decoration-color: #008080; background-color: #272727; font-weight: bold\">1</span><span style=\"background-color: #272727\">. </span><span style=\"background-color: #272727; font-weight: bold\">&lt;</span><span style=\"color: #000000; text-decoration-color: #000000; background-color: #272727; font-weight: bold\">{</span><span style=\"color: #000000; text-decoration-color: #000000; background-color: #272727\"> </span><span style=\"color: #008080; text-decoration-color: #008080; background-color: #272727; font-weight: bold\">33.73</span><span style=\"color: #000000; text-decoration-color: #000000; background-color: #272727\">,  </span><span style=\"color: #008080; text-decoration-color: #008080; background-color: #272727; font-weight: bold\">17.11</span><span style=\"color: #000000; text-decoration-color: #000000; background-color: #272727\">,  </span><span style=\"color: #008080; text-decoration-color: #008080; background-color: #272727; font-weight: bold\">11.40</span><span style=\"color: #000000; text-decoration-color: #000000; background-color: #272727; font-weight: bold\">}</span><span style=\"color: #000000; text-decoration-color: #000000; background-color: #272727\">←→</span><span style=\"color: #000000; text-decoration-color: #000000; background-color: #272727; font-weight: bold\">{</span><span style=\"color: #000000; text-decoration-color: #000000; background-color: #272727\"> </span><span style=\"color: #008080; text-decoration-color: #008080; background-color: #272727; font-weight: bold\">56.05</span><span style=\"color: #000000; text-decoration-color: #000000; background-color: #272727\">,  </span><span style=\"color: #008080; text-decoration-color: #008080; background-color: #272727; font-weight: bold\">43.45</span><span style=\"color: #000000; text-decoration-color: #000000; background-color: #272727\">,  </span><span style=\"color: #008080; text-decoration-color: #008080; background-color: #272727; font-weight: bold\">11.40</span><span style=\"color: #000000; text-decoration-color: #000000; background-color: #272727; font-weight: bold\">}</span><span style=\"background-color: #272727; font-weight: bold\">&gt;</span><span style=\"background-color: #272727\"> </span><span style=\"background-color: #272727; font-weight: bold\">(</span><span style=\"color: #008080; text-decoration-color: #008080; background-color: #272727; font-weight: bold\">34.53</span><span style=\"background-color: #272727\"> mm</span><span style=\"background-color: #272727; font-weight: bold\">)</span>\n",
       "</pre>\n"
      ],
      "text/plain": [
       "\u001b[48;2;39;39;39m \u001b[0m\u001b[48;2;39;39;39m       \u001b[0m\u001b[1;36;48;2;39;39;39m1\u001b[0m\u001b[48;2;39;39;39m. \u001b[0m\u001b[1;48;2;39;39;39m<\u001b[0m\u001b[1;39;48;2;39;39;39m{\u001b[0m\u001b[39;48;2;39;39;39m \u001b[0m\u001b[1;36;48;2;39;39;39m33.73\u001b[0m\u001b[39;48;2;39;39;39m,  \u001b[0m\u001b[1;36;48;2;39;39;39m17.11\u001b[0m\u001b[39;48;2;39;39;39m,  \u001b[0m\u001b[1;36;48;2;39;39;39m11.40\u001b[0m\u001b[1;39;48;2;39;39;39m}\u001b[0m\u001b[39;48;2;39;39;39m←→\u001b[0m\u001b[1;39;48;2;39;39;39m{\u001b[0m\u001b[39;48;2;39;39;39m \u001b[0m\u001b[1;36;48;2;39;39;39m56.05\u001b[0m\u001b[39;48;2;39;39;39m,  \u001b[0m\u001b[1;36;48;2;39;39;39m43.45\u001b[0m\u001b[39;48;2;39;39;39m,  \u001b[0m\u001b[1;36;48;2;39;39;39m11.40\u001b[0m\u001b[1;39;48;2;39;39;39m}\u001b[0m\u001b[1;48;2;39;39;39m>\u001b[0m\u001b[48;2;39;39;39m \u001b[0m\u001b[1;48;2;39;39;39m(\u001b[0m\u001b[1;36;48;2;39;39;39m34.53\u001b[0m\u001b[48;2;39;39;39m mm\u001b[0m\u001b[1;48;2;39;39;39m)\u001b[0m\n"
      ]
     },
     "metadata": {},
     "output_type": "display_data"
    },
    {
     "data": {
      "text/html": [
       "<pre style=\"white-space:pre;overflow-x:auto;line-height:normal;font-family:Menlo,'DejaVu Sans Mono',consolas,'Courier New',monospace\"><span style=\"background-color: #272727\">        </span><span style=\"color: #008080; text-decoration-color: #008080; background-color: #272727; font-weight: bold\">2</span><span style=\"background-color: #272727\">. </span><span style=\"background-color: #272727; font-weight: bold\">&lt;</span><span style=\"color: #000000; text-decoration-color: #000000; background-color: #272727; font-weight: bold\">{</span><span style=\"color: #000000; text-decoration-color: #000000; background-color: #272727\"> </span><span style=\"color: #008080; text-decoration-color: #008080; background-color: #272727; font-weight: bold\">56.05</span><span style=\"color: #000000; text-decoration-color: #000000; background-color: #272727\">,  </span><span style=\"color: #008080; text-decoration-color: #008080; background-color: #272727; font-weight: bold\">43.45</span><span style=\"color: #000000; text-decoration-color: #000000; background-color: #272727\">,  </span><span style=\"color: #008080; text-decoration-color: #008080; background-color: #272727; font-weight: bold\">11.40</span><span style=\"color: #000000; text-decoration-color: #000000; background-color: #272727; font-weight: bold\">}</span><span style=\"color: #000000; text-decoration-color: #000000; background-color: #272727\">←→</span><span style=\"color: #000000; text-decoration-color: #000000; background-color: #272727; font-weight: bold\">{</span><span style=\"color: #000000; text-decoration-color: #000000; background-color: #272727\"> </span><span style=\"color: #008080; text-decoration-color: #008080; background-color: #272727; font-weight: bold\">53.24</span><span style=\"color: #000000; text-decoration-color: #000000; background-color: #272727\">,  </span><span style=\"color: #008080; text-decoration-color: #008080; background-color: #272727; font-weight: bold\">59.27</span><span style=\"color: #000000; text-decoration-color: #000000; background-color: #272727\">,  </span><span style=\"color: #008080; text-decoration-color: #008080; background-color: #272727; font-weight: bold\">11.40</span><span style=\"color: #000000; text-decoration-color: #000000; background-color: #272727; font-weight: bold\">}</span><span style=\"background-color: #272727; font-weight: bold\">&gt;</span><span style=\"background-color: #272727\"> </span><span style=\"background-color: #272727; font-weight: bold\">(</span><span style=\"color: #008080; text-decoration-color: #008080; background-color: #272727; font-weight: bold\">16.06</span><span style=\"background-color: #272727\"> mm</span><span style=\"background-color: #272727; font-weight: bold\">)</span>\n",
       "</pre>\n"
      ],
      "text/plain": [
       "\u001b[48;2;39;39;39m \u001b[0m\u001b[48;2;39;39;39m       \u001b[0m\u001b[1;36;48;2;39;39;39m2\u001b[0m\u001b[48;2;39;39;39m. \u001b[0m\u001b[1;48;2;39;39;39m<\u001b[0m\u001b[1;39;48;2;39;39;39m{\u001b[0m\u001b[39;48;2;39;39;39m \u001b[0m\u001b[1;36;48;2;39;39;39m56.05\u001b[0m\u001b[39;48;2;39;39;39m,  \u001b[0m\u001b[1;36;48;2;39;39;39m43.45\u001b[0m\u001b[39;48;2;39;39;39m,  \u001b[0m\u001b[1;36;48;2;39;39;39m11.40\u001b[0m\u001b[1;39;48;2;39;39;39m}\u001b[0m\u001b[39;48;2;39;39;39m←→\u001b[0m\u001b[1;39;48;2;39;39;39m{\u001b[0m\u001b[39;48;2;39;39;39m \u001b[0m\u001b[1;36;48;2;39;39;39m53.24\u001b[0m\u001b[39;48;2;39;39;39m,  \u001b[0m\u001b[1;36;48;2;39;39;39m59.27\u001b[0m\u001b[39;48;2;39;39;39m,  \u001b[0m\u001b[1;36;48;2;39;39;39m11.40\u001b[0m\u001b[1;39;48;2;39;39;39m}\u001b[0m\u001b[1;48;2;39;39;39m>\u001b[0m\u001b[48;2;39;39;39m \u001b[0m\u001b[1;48;2;39;39;39m(\u001b[0m\u001b[1;36;48;2;39;39;39m16.06\u001b[0m\u001b[48;2;39;39;39m mm\u001b[0m\u001b[1;48;2;39;39;39m)\u001b[0m\n"
      ]
     },
     "metadata": {},
     "output_type": "display_data"
    },
    {
     "data": {
      "text/html": [
       "<pre style=\"white-space:pre;overflow-x:auto;line-height:normal;font-family:Menlo,'DejaVu Sans Mono',consolas,'Courier New',monospace\"><span style=\"background-color: #272727\">        </span><span style=\"color: #008080; text-decoration-color: #008080; background-color: #272727; font-weight: bold\">3</span><span style=\"background-color: #272727\">. </span><span style=\"background-color: #272727; font-weight: bold\">&lt;</span><span style=\"color: #000000; text-decoration-color: #000000; background-color: #272727; font-weight: bold\">{</span><span style=\"color: #000000; text-decoration-color: #000000; background-color: #272727\"> </span><span style=\"color: #008080; text-decoration-color: #008080; background-color: #272727; font-weight: bold\">53.24</span><span style=\"color: #000000; text-decoration-color: #000000; background-color: #272727\">,  </span><span style=\"color: #008080; text-decoration-color: #008080; background-color: #272727; font-weight: bold\">59.27</span><span style=\"color: #000000; text-decoration-color: #000000; background-color: #272727\">,  </span><span style=\"color: #008080; text-decoration-color: #008080; background-color: #272727; font-weight: bold\">11.40</span><span style=\"color: #000000; text-decoration-color: #000000; background-color: #272727; font-weight: bold\">}</span><span style=\"color: #000000; text-decoration-color: #000000; background-color: #272727\">←→</span><span style=\"color: #000000; text-decoration-color: #000000; background-color: #272727; font-weight: bold\">{</span><span style=\"color: #000000; text-decoration-color: #000000; background-color: #272727\"> </span><span style=\"color: #008080; text-decoration-color: #008080; background-color: #272727; font-weight: bold\">53.21</span><span style=\"color: #000000; text-decoration-color: #000000; background-color: #272727\">,  </span><span style=\"color: #008080; text-decoration-color: #008080; background-color: #272727; font-weight: bold\">59.28</span><span style=\"color: #000000; text-decoration-color: #000000; background-color: #272727\">,  </span><span style=\"color: #008080; text-decoration-color: #008080; background-color: #272727; font-weight: bold\">11.40</span><span style=\"color: #000000; text-decoration-color: #000000; background-color: #272727; font-weight: bold\">}</span><span style=\"background-color: #272727; font-weight: bold\">&gt;</span><span style=\"background-color: #272727\"> </span><span style=\"background-color: #272727; font-weight: bold\">(</span><span style=\"color: #008080; text-decoration-color: #008080; background-color: #272727; font-weight: bold\">0.03</span><span style=\"background-color: #272727\"> mm</span><span style=\"background-color: #272727; font-weight: bold\">)</span>\n",
       "</pre>\n"
      ],
      "text/plain": [
       "\u001b[48;2;39;39;39m \u001b[0m\u001b[48;2;39;39;39m       \u001b[0m\u001b[1;36;48;2;39;39;39m3\u001b[0m\u001b[48;2;39;39;39m. \u001b[0m\u001b[1;48;2;39;39;39m<\u001b[0m\u001b[1;39;48;2;39;39;39m{\u001b[0m\u001b[39;48;2;39;39;39m \u001b[0m\u001b[1;36;48;2;39;39;39m53.24\u001b[0m\u001b[39;48;2;39;39;39m,  \u001b[0m\u001b[1;36;48;2;39;39;39m59.27\u001b[0m\u001b[39;48;2;39;39;39m,  \u001b[0m\u001b[1;36;48;2;39;39;39m11.40\u001b[0m\u001b[1;39;48;2;39;39;39m}\u001b[0m\u001b[39;48;2;39;39;39m←→\u001b[0m\u001b[1;39;48;2;39;39;39m{\u001b[0m\u001b[39;48;2;39;39;39m \u001b[0m\u001b[1;36;48;2;39;39;39m53.21\u001b[0m\u001b[39;48;2;39;39;39m,  \u001b[0m\u001b[1;36;48;2;39;39;39m59.28\u001b[0m\u001b[39;48;2;39;39;39m,  \u001b[0m\u001b[1;36;48;2;39;39;39m11.40\u001b[0m\u001b[1;39;48;2;39;39;39m}\u001b[0m\u001b[1;48;2;39;39;39m>\u001b[0m\u001b[48;2;39;39;39m \u001b[0m\u001b[1;48;2;39;39;39m(\u001b[0m\u001b[1;36;48;2;39;39;39m0.03\u001b[0m\u001b[48;2;39;39;39m mm\u001b[0m\u001b[1;48;2;39;39;39m)\u001b[0m\n"
      ]
     },
     "metadata": {},
     "output_type": "display_data"
    },
    {
     "data": {
      "text/html": [
       "<pre style=\"white-space:pre;overflow-x:auto;line-height:normal;font-family:Menlo,'DejaVu Sans Mono',consolas,'Courier New',monospace\">\n",
       "<span style=\"color: #008080; text-decoration-color: #008080; background-color: #272727; font-weight: bold\">3</span><span style=\"background-color: #272727\"> thread segments in this layer:</span>\n",
       "</pre>\n"
      ],
      "text/plain": [
       "\n",
       "\u001b[1;36;48;2;39;39;39m3\u001b[0m\u001b[48;2;39;39;39m thread segments in this layer:\u001b[0m\n"
      ]
     },
     "metadata": {},
     "output_type": "display_data"
    },
    {
     "data": {
      "text/html": [
       "<pre style=\"white-space:pre;overflow-x:auto;line-height:normal;font-family:Menlo,'DejaVu Sans Mono',consolas,'Courier New',monospace\"><span style=\"background-color: #272727\">        </span><span style=\"color: #008080; text-decoration-color: #008080; background-color: #272727; font-weight: bold\">0</span><span style=\"background-color: #272727\">. </span><span style=\"background-color: #272727; font-weight: bold\">&lt;</span><span style=\"color: #000000; text-decoration-color: #000000; background-color: #272727; font-weight: bold\">{</span><span style=\"color: #000000; text-decoration-color: #000000; background-color: #272727\"> </span><span style=\"color: #008080; text-decoration-color: #008080; background-color: #272727; font-weight: bold\">33.24</span><span style=\"color: #000000; text-decoration-color: #000000; background-color: #272727\">,  </span><span style=\"color: #008080; text-decoration-color: #008080; background-color: #272727; font-weight: bold\">16.86</span><span style=\"color: #000000; text-decoration-color: #000000; background-color: #272727\">,  </span><span style=\"color: #008080; text-decoration-color: #008080; background-color: #272727; font-weight: bold\">11.40</span><span style=\"color: #000000; text-decoration-color: #000000; background-color: #272727; font-weight: bold\">}</span><span style=\"color: #000000; text-decoration-color: #000000; background-color: #272727\">←→</span><span style=\"color: #000000; text-decoration-color: #000000; background-color: #272727; font-weight: bold\">{</span><span style=\"color: #000000; text-decoration-color: #000000; background-color: #272727\"> </span><span style=\"color: #008080; text-decoration-color: #008080; background-color: #272727; font-weight: bold\">33.99</span><span style=\"color: #000000; text-decoration-color: #000000; background-color: #272727\">,  </span><span style=\"color: #008080; text-decoration-color: #008080; background-color: #272727; font-weight: bold\">17.24</span><span style=\"color: #000000; text-decoration-color: #000000; background-color: #272727\">,  </span><span style=\"color: #008080; text-decoration-color: #008080; background-color: #272727; font-weight: bold\">11.40</span><span style=\"color: #000000; text-decoration-color: #000000; background-color: #272727; font-weight: bold\">}</span><span style=\"background-color: #272727; font-weight: bold\">&gt;</span><span style=\"background-color: #272727\"> </span><span style=\"background-color: #272727; font-weight: bold\">(</span><span style=\"color: #008080; text-decoration-color: #008080; background-color: #272727; font-weight: bold\">0.84</span><span style=\"background-color: #272727\"> mm</span><span style=\"background-color: #272727; font-weight: bold\">)</span>\n",
       "</pre>\n"
      ],
      "text/plain": [
       "\u001b[48;2;39;39;39m \u001b[0m\u001b[48;2;39;39;39m       \u001b[0m\u001b[1;36;48;2;39;39;39m0\u001b[0m\u001b[48;2;39;39;39m. \u001b[0m\u001b[1;48;2;39;39;39m<\u001b[0m\u001b[1;39;48;2;39;39;39m{\u001b[0m\u001b[39;48;2;39;39;39m \u001b[0m\u001b[1;36;48;2;39;39;39m33.24\u001b[0m\u001b[39;48;2;39;39;39m,  \u001b[0m\u001b[1;36;48;2;39;39;39m16.86\u001b[0m\u001b[39;48;2;39;39;39m,  \u001b[0m\u001b[1;36;48;2;39;39;39m11.40\u001b[0m\u001b[1;39;48;2;39;39;39m}\u001b[0m\u001b[39;48;2;39;39;39m←→\u001b[0m\u001b[1;39;48;2;39;39;39m{\u001b[0m\u001b[39;48;2;39;39;39m \u001b[0m\u001b[1;36;48;2;39;39;39m33.99\u001b[0m\u001b[39;48;2;39;39;39m,  \u001b[0m\u001b[1;36;48;2;39;39;39m17.24\u001b[0m\u001b[39;48;2;39;39;39m,  \u001b[0m\u001b[1;36;48;2;39;39;39m11.40\u001b[0m\u001b[1;39;48;2;39;39;39m}\u001b[0m\u001b[1;48;2;39;39;39m>\u001b[0m\u001b[48;2;39;39;39m \u001b[0m\u001b[1;48;2;39;39;39m(\u001b[0m\u001b[1;36;48;2;39;39;39m0.84\u001b[0m\u001b[48;2;39;39;39m mm\u001b[0m\u001b[1;48;2;39;39;39m)\u001b[0m\n"
      ]
     },
     "metadata": {},
     "output_type": "display_data"
    },
    {
     "data": {
      "text/html": [
       "<pre style=\"white-space:pre;overflow-x:auto;line-height:normal;font-family:Menlo,'DejaVu Sans Mono',consolas,'Courier New',monospace\"><span style=\"background-color: #272727\">        </span><span style=\"color: #008080; text-decoration-color: #008080; background-color: #272727; font-weight: bold\">1</span><span style=\"background-color: #272727\">. </span><span style=\"background-color: #272727; font-weight: bold\">&lt;</span><span style=\"color: #000000; text-decoration-color: #000000; background-color: #272727; font-weight: bold\">{</span><span style=\"color: #000000; text-decoration-color: #000000; background-color: #272727\"> </span><span style=\"color: #008080; text-decoration-color: #008080; background-color: #272727; font-weight: bold\">33.99</span><span style=\"color: #000000; text-decoration-color: #000000; background-color: #272727\">,  </span><span style=\"color: #008080; text-decoration-color: #008080; background-color: #272727; font-weight: bold\">17.24</span><span style=\"color: #000000; text-decoration-color: #000000; background-color: #272727\">,  </span><span style=\"color: #008080; text-decoration-color: #008080; background-color: #272727; font-weight: bold\">11.40</span><span style=\"color: #000000; text-decoration-color: #000000; background-color: #272727; font-weight: bold\">}</span><span style=\"color: #000000; text-decoration-color: #000000; background-color: #272727\">←→</span><span style=\"color: #000000; text-decoration-color: #000000; background-color: #272727; font-weight: bold\">{</span><span style=\"color: #000000; text-decoration-color: #000000; background-color: #272727\"> </span><span style=\"color: #008080; text-decoration-color: #008080; background-color: #272727; font-weight: bold\">56.08</span><span style=\"color: #000000; text-decoration-color: #000000; background-color: #272727\">,  </span><span style=\"color: #008080; text-decoration-color: #008080; background-color: #272727; font-weight: bold\">43.49</span><span style=\"color: #000000; text-decoration-color: #000000; background-color: #272727\">,  </span><span style=\"color: #008080; text-decoration-color: #008080; background-color: #272727; font-weight: bold\">11.40</span><span style=\"color: #000000; text-decoration-color: #000000; background-color: #272727; font-weight: bold\">}</span><span style=\"background-color: #272727; font-weight: bold\">&gt;</span><span style=\"background-color: #272727\"> </span><span style=\"background-color: #272727; font-weight: bold\">(</span><span style=\"color: #008080; text-decoration-color: #008080; background-color: #272727; font-weight: bold\">34.31</span><span style=\"background-color: #272727\"> mm</span><span style=\"background-color: #272727; font-weight: bold\">)</span>\n",
       "</pre>\n"
      ],
      "text/plain": [
       "\u001b[48;2;39;39;39m \u001b[0m\u001b[48;2;39;39;39m       \u001b[0m\u001b[1;36;48;2;39;39;39m1\u001b[0m\u001b[48;2;39;39;39m. \u001b[0m\u001b[1;48;2;39;39;39m<\u001b[0m\u001b[1;39;48;2;39;39;39m{\u001b[0m\u001b[39;48;2;39;39;39m \u001b[0m\u001b[1;36;48;2;39;39;39m33.99\u001b[0m\u001b[39;48;2;39;39;39m,  \u001b[0m\u001b[1;36;48;2;39;39;39m17.24\u001b[0m\u001b[39;48;2;39;39;39m,  \u001b[0m\u001b[1;36;48;2;39;39;39m11.40\u001b[0m\u001b[1;39;48;2;39;39;39m}\u001b[0m\u001b[39;48;2;39;39;39m←→\u001b[0m\u001b[1;39;48;2;39;39;39m{\u001b[0m\u001b[39;48;2;39;39;39m \u001b[0m\u001b[1;36;48;2;39;39;39m56.08\u001b[0m\u001b[39;48;2;39;39;39m,  \u001b[0m\u001b[1;36;48;2;39;39;39m43.49\u001b[0m\u001b[39;48;2;39;39;39m,  \u001b[0m\u001b[1;36;48;2;39;39;39m11.40\u001b[0m\u001b[1;39;48;2;39;39;39m}\u001b[0m\u001b[1;48;2;39;39;39m>\u001b[0m\u001b[48;2;39;39;39m \u001b[0m\u001b[1;48;2;39;39;39m(\u001b[0m\u001b[1;36;48;2;39;39;39m34.31\u001b[0m\u001b[48;2;39;39;39m mm\u001b[0m\u001b[1;48;2;39;39;39m)\u001b[0m\n"
      ]
     },
     "metadata": {},
     "output_type": "display_data"
    },
    {
     "data": {
      "text/html": [
       "<pre style=\"white-space:pre;overflow-x:auto;line-height:normal;font-family:Menlo,'DejaVu Sans Mono',consolas,'Courier New',monospace\"><span style=\"background-color: #272727\">        </span><span style=\"color: #008080; text-decoration-color: #008080; background-color: #272727; font-weight: bold\">2</span><span style=\"background-color: #272727\">. </span><span style=\"background-color: #272727; font-weight: bold\">&lt;</span><span style=\"color: #000000; text-decoration-color: #000000; background-color: #272727; font-weight: bold\">{</span><span style=\"color: #000000; text-decoration-color: #000000; background-color: #272727\"> </span><span style=\"color: #008080; text-decoration-color: #008080; background-color: #272727; font-weight: bold\">56.08</span><span style=\"color: #000000; text-decoration-color: #000000; background-color: #272727\">,  </span><span style=\"color: #008080; text-decoration-color: #008080; background-color: #272727; font-weight: bold\">43.49</span><span style=\"color: #000000; text-decoration-color: #000000; background-color: #272727\">,  </span><span style=\"color: #008080; text-decoration-color: #008080; background-color: #272727; font-weight: bold\">11.40</span><span style=\"color: #000000; text-decoration-color: #000000; background-color: #272727; font-weight: bold\">}</span><span style=\"color: #000000; text-decoration-color: #000000; background-color: #272727\">←→</span><span style=\"color: #000000; text-decoration-color: #000000; background-color: #272727; font-weight: bold\">{</span><span style=\"color: #000000; text-decoration-color: #000000; background-color: #272727\"> </span><span style=\"color: #008080; text-decoration-color: #008080; background-color: #272727; font-weight: bold\">53.54</span><span style=\"color: #000000; text-decoration-color: #000000; background-color: #272727\">,  </span><span style=\"color: #008080; text-decoration-color: #008080; background-color: #272727; font-weight: bold\">57.63</span><span style=\"color: #000000; text-decoration-color: #000000; background-color: #272727\">,  </span><span style=\"color: #008080; text-decoration-color: #008080; background-color: #272727; font-weight: bold\">11.40</span><span style=\"color: #000000; text-decoration-color: #000000; background-color: #272727; font-weight: bold\">}</span><span style=\"background-color: #272727; font-weight: bold\">&gt;</span><span style=\"background-color: #272727\"> </span><span style=\"background-color: #272727; font-weight: bold\">(</span><span style=\"color: #008080; text-decoration-color: #008080; background-color: #272727; font-weight: bold\">14.36</span><span style=\"background-color: #272727\"> mm</span><span style=\"background-color: #272727; font-weight: bold\">)</span>\n",
       "</pre>\n"
      ],
      "text/plain": [
       "\u001b[48;2;39;39;39m \u001b[0m\u001b[48;2;39;39;39m       \u001b[0m\u001b[1;36;48;2;39;39;39m2\u001b[0m\u001b[48;2;39;39;39m. \u001b[0m\u001b[1;48;2;39;39;39m<\u001b[0m\u001b[1;39;48;2;39;39;39m{\u001b[0m\u001b[39;48;2;39;39;39m \u001b[0m\u001b[1;36;48;2;39;39;39m56.08\u001b[0m\u001b[39;48;2;39;39;39m,  \u001b[0m\u001b[1;36;48;2;39;39;39m43.49\u001b[0m\u001b[39;48;2;39;39;39m,  \u001b[0m\u001b[1;36;48;2;39;39;39m11.40\u001b[0m\u001b[1;39;48;2;39;39;39m}\u001b[0m\u001b[39;48;2;39;39;39m←→\u001b[0m\u001b[1;39;48;2;39;39;39m{\u001b[0m\u001b[39;48;2;39;39;39m \u001b[0m\u001b[1;36;48;2;39;39;39m53.54\u001b[0m\u001b[39;48;2;39;39;39m,  \u001b[0m\u001b[1;36;48;2;39;39;39m57.63\u001b[0m\u001b[39;48;2;39;39;39m,  \u001b[0m\u001b[1;36;48;2;39;39;39m11.40\u001b[0m\u001b[1;39;48;2;39;39;39m}\u001b[0m\u001b[1;48;2;39;39;39m>\u001b[0m\u001b[48;2;39;39;39m \u001b[0m\u001b[1;48;2;39;39;39m(\u001b[0m\u001b[1;36;48;2;39;39;39m14.36\u001b[0m\u001b[48;2;39;39;39m mm\u001b[0m\u001b[1;48;2;39;39;39m)\u001b[0m\n"
      ]
     },
     "metadata": {},
     "output_type": "display_data"
    },
    {
     "data": {
      "text/html": [
       "<pre style=\"white-space:pre;overflow-x:auto;line-height:normal;font-family:Menlo,'DejaVu Sans Mono',consolas,'Courier New',monospace\"><span style=\"color: #808000; text-decoration-color: #808000; background-color: #272727\">————</span><span style=\"background-color: #272727\"> Start </span><span style=\"color: #808000; text-decoration-color: #808000; background-color: #272727\">————</span>\n",
       "</pre>\n"
      ],
      "text/plain": [
       "\u001b[33;48;2;39;39;39m————\u001b[0m\u001b[48;2;39;39;39m Start \u001b[0m\u001b[33;48;2;39;39;39m————\u001b[0m\n"
      ]
     },
     "metadata": {},
     "output_type": "display_data"
    },
    {
     "data": {
      "text/html": [
       "<pre style=\"white-space:pre;overflow-x:auto;line-height:normal;font-family:Menlo,'DejaVu Sans Mono',consolas,'Courier New',monospace\">\n",
       "<span style=\"color: #00afaf; text-decoration-color: #00afaf; background-color: #272727; font-weight: bold; font-style: italic\">&lt;Step</span><span style=\"color: #00afaf; text-decoration-color: #00afaf; background-color: #272727; font-style: italic\"> </span><span style=\"color: #00afaf; text-decoration-color: #00afaf; background-color: #272727; font-weight: bold; font-style: italic\">0</span><span style=\"color: #00afaf; text-decoration-color: #00afaf; background-color: #272727; font-style: italic\"> </span><span style=\"color: #00afaf; text-decoration-color: #00afaf; background-color: #272727; font-weight: bold; font-style: italic\">(0</span><span style=\"color: #00afaf; text-decoration-color: #00afaf; background-color: #272727; font-style: italic\"> segments</span><span style=\"color: #00afaf; text-decoration-color: #00afaf; background-color: #272727; font-weight: bold; font-style: italic\">)&gt;</span><span style=\"color: #00afaf; text-decoration-color: #00afaf; background-color: #272727; font-style: italic\">: Move thread to avoid </span><span style=\"color: #00afaf; text-decoration-color: #00afaf; background-color: #272727; font-weight: bold; font-style: italic\">280</span><span style=\"color: #00afaf; text-decoration-color: #00afaf; background-color: #272727; font-style: italic\">/</span><span style=\"color: #00afaf; text-decoration-color: #00afaf; background-color: #272727; font-weight: bold; font-style: italic\">298</span><span style=\"color: #00afaf; text-decoration-color: #00afaf; background-color: #272727; font-style: italic\"> segments of non-intersecting geometry</span>\n",
       "<span style=\"color: #00afaf; text-decoration-color: #00afaf; background-color: #272727; font-style: italic\">  </span><span style=\"color: #00afaf; text-decoration-color: #00afaf; background-color: #272727; font-weight: bold; font-style: italic\">Printer(Bed(0</span><span style=\"color: #00afaf; text-decoration-color: #00afaf; background-color: #272727; font-style: italic\">, </span><span style=\"color: #00afaf; text-decoration-color: #00afaf; background-color: #272727; font-weight: bold; font-style: italic\">0</span><span style=\"color: #00afaf; text-decoration-color: #00afaf; background-color: #272727; font-style: italic\">, ⚓︎</span><span style=\"color: #00afaf; text-decoration-color: #00afaf; background-color: #272727; font-weight: bold; font-style: italic\">{</span><span style=\"color: #00afaf; text-decoration-color: #00afaf; background-color: #272727; font-style: italic\">  </span><span style=\"color: #00afaf; text-decoration-color: #00afaf; background-color: #272727; font-weight: bold; font-style: italic\">0.00</span><span style=\"color: #00afaf; text-decoration-color: #00afaf; background-color: #272727; font-style: italic\">,   </span><span style=\"color: #00afaf; text-decoration-color: #00afaf; background-color: #272727; font-weight: bold; font-style: italic\">0.00</span><span style=\"color: #00afaf; text-decoration-color: #00afaf; background-color: #272727; font-style: italic\">,   </span><span style=\"color: #00afaf; text-decoration-color: #00afaf; background-color: #272727; font-weight: bold; font-style: italic\">0.00})</span><span style=\"color: #00afaf; text-decoration-color: #00afaf; background-color: #272727; font-style: italic\">, </span><span style=\"color: #00afaf; text-decoration-color: #00afaf; background-color: #272727; font-weight: bold; font-style: italic\">Ring(0.00</span><span style=\"color: #00afaf; text-decoration-color: #00afaf; background-color: #272727; font-style: italic\">°, </span><span style=\"color: #00afaf; text-decoration-color: #00afaf; background-color: #272727; font-weight: bold; font-style: italic\">{</span><span style=\"color: #00afaf; text-decoration-color: #00afaf; background-color: #272727; font-style: italic\"> </span><span style=\"color: #00afaf; text-decoration-color: #00afaf; background-color: #272727; font-weight: bold; font-style: italic\">36.00</span><span style=\"color: #00afaf; text-decoration-color: #00afaf; background-color: #272727; font-style: italic\">,  </span><span style=\"color: #00afaf; text-decoration-color: #00afaf; background-color: #272727; font-weight: bold; font-style: italic\">28.00</span><span style=\"color: #00afaf; text-decoration-color: #00afaf; background-color: #272727; font-style: italic\">,   </span><span style=\"color: #00afaf; text-decoration-color: #00afaf; background-color: #272727; font-weight: bold; font-style: italic\">0.00}))</span>\n",
       "</pre>\n"
      ],
      "text/plain": [
       "\n",
       "\u001b[1;3;38;5;37;48;2;39;39;39m<\u001b[0m\u001b[1;3;38;5;37;48;2;39;39;39mStep\u001b[0m\u001b[3;38;5;37;48;2;39;39;39m \u001b[0m\u001b[1;3;38;5;37;48;2;39;39;39m0\u001b[0m\u001b[3;38;5;37;48;2;39;39;39m \u001b[0m\u001b[1;3;38;5;37;48;2;39;39;39m(\u001b[0m\u001b[1;3;38;5;37;48;2;39;39;39m0\u001b[0m\u001b[3;38;5;37;48;2;39;39;39m segments\u001b[0m\u001b[1;3;38;5;37;48;2;39;39;39m)\u001b[0m\u001b[1;3;38;5;37;48;2;39;39;39m>\u001b[0m\u001b[3;38;5;37;48;2;39;39;39m: \u001b[0m\u001b[3;38;5;37;48;2;39;39;39mMove thread to avoid \u001b[0m\u001b[1;3;38;5;37;48;2;39;39;39m280\u001b[0m\u001b[3;38;5;37;48;2;39;39;39m/\u001b[0m\u001b[1;3;38;5;37;48;2;39;39;39m298\u001b[0m\u001b[3;38;5;37;48;2;39;39;39m segments of non-intersecting geometry\u001b[0m\n",
       "\u001b[3;38;5;37;48;2;39;39;39m  \u001b[0m\u001b[1;3;38;5;37;48;2;39;39;39mPrinter\u001b[0m\u001b[1;3;38;5;37;48;2;39;39;39m(\u001b[0m\u001b[1;3;38;5;37;48;2;39;39;39mBed\u001b[0m\u001b[1;3;38;5;37;48;2;39;39;39m(\u001b[0m\u001b[1;3;38;5;37;48;2;39;39;39m0\u001b[0m\u001b[3;38;5;37;48;2;39;39;39m, \u001b[0m\u001b[1;3;38;5;37;48;2;39;39;39m0\u001b[0m\u001b[3;38;5;37;48;2;39;39;39m, ⚓︎\u001b[0m\u001b[1;3;38;5;37;48;2;39;39;39m{\u001b[0m\u001b[3;38;5;37;48;2;39;39;39m  \u001b[0m\u001b[1;3;38;5;37;48;2;39;39;39m0.00\u001b[0m\u001b[3;38;5;37;48;2;39;39;39m,   \u001b[0m\u001b[1;3;38;5;37;48;2;39;39;39m0.00\u001b[0m\u001b[3;38;5;37;48;2;39;39;39m,   \u001b[0m\u001b[1;3;38;5;37;48;2;39;39;39m0.00\u001b[0m\u001b[1;3;38;5;37;48;2;39;39;39m}\u001b[0m\u001b[1;3;38;5;37;48;2;39;39;39m)\u001b[0m\u001b[3;38;5;37;48;2;39;39;39m, \u001b[0m\u001b[1;3;38;5;37;48;2;39;39;39mRing\u001b[0m\u001b[1;3;38;5;37;48;2;39;39;39m(\u001b[0m\u001b[1;3;38;5;37;48;2;39;39;39m0.00\u001b[0m\u001b[3;38;5;37;48;2;39;39;39m°, \u001b[0m\u001b[1;3;38;5;37;48;2;39;39;39m{\u001b[0m\u001b[3;38;5;37;48;2;39;39;39m \u001b[0m\u001b[1;3;38;5;37;48;2;39;39;39m36.00\u001b[0m\u001b[3;38;5;37;48;2;39;39;39m,  \u001b[0m\u001b[1;3;38;5;37;48;2;39;39;39m28.00\u001b[0m\u001b[3;38;5;37;48;2;39;39;39m,   \u001b[0m\u001b[1;3;38;5;37;48;2;39;39;39m0.00\u001b[0m\u001b[1;3;38;5;37;48;2;39;39;39m}\u001b[0m\u001b[1;3;38;5;37;48;2;39;39;39m)\u001b[0m\u001b[1;3;38;5;37;48;2;39;39;39m)\u001b[0m\n"
      ]
     },
     "metadata": {},
     "output_type": "display_data"
    },
    {
     "data": {
      "text/html": [
       "<pre style=\"white-space:pre;overflow-x:auto;line-height:normal;font-family:Menlo,'DejaVu Sans Mono',consolas,'Courier New',monospace\"><span style=\"background-color: #272727\">Thread intersects </span><span style=\"color: #008080; text-decoration-color: #008080; background-color: #272727; font-weight: bold\">0</span><span style=\"background-color: #272727\"> of </span><span style=\"color: #008080; text-decoration-color: #008080; background-color: #272727; font-weight: bold\">280</span><span style=\"background-color: #272727\"> geometry segments, don't need to move ring</span>\n",
       "</pre>\n"
      ],
      "text/plain": [
       "\u001b[48;2;39;39;39mThread intersects \u001b[0m\u001b[1;36;48;2;39;39;39m0\u001b[0m\u001b[48;2;39;39;39m of \u001b[0m\u001b[1;36;48;2;39;39;39m280\u001b[0m\u001b[48;2;39;39;39m geometry segments, don't need to move ring\u001b[0m\n"
      ]
     },
     "metadata": {},
     "output_type": "display_data"
    },
    {
     "data": {
      "text/html": [
       "<pre style=\"white-space:pre;overflow-x:auto;line-height:normal;font-family:Menlo,'DejaVu Sans Mono',consolas,'Courier New',monospace\">\n",
       "<span style=\"color: #00afaf; text-decoration-color: #00afaf; background-color: #272727; font-weight: bold; font-style: italic\">&lt;Step</span><span style=\"color: #00afaf; text-decoration-color: #00afaf; background-color: #272727; font-style: italic\"> </span><span style=\"color: #00afaf; text-decoration-color: #00afaf; background-color: #272727; font-weight: bold; font-style: italic\">1</span><span style=\"color: #00afaf; text-decoration-color: #00afaf; background-color: #272727; font-style: italic\"> </span><span style=\"color: #00afaf; text-decoration-color: #00afaf; background-color: #272727; font-weight: bold; font-style: italic\">(0</span><span style=\"color: #00afaf; text-decoration-color: #00afaf; background-color: #272727; font-style: italic\"> segments</span><span style=\"color: #00afaf; text-decoration-color: #00afaf; background-color: #272727; font-weight: bold; font-style: italic\">)&gt;</span><span style=\"color: #00afaf; text-decoration-color: #00afaf; background-color: #272727; font-style: italic\">: Print non-intersecting geometry</span>\n",
       "<span style=\"color: #00afaf; text-decoration-color: #00afaf; background-color: #272727; font-style: italic\">  </span><span style=\"color: #00afaf; text-decoration-color: #00afaf; background-color: #272727; font-weight: bold; font-style: italic\">Printer(Bed(0</span><span style=\"color: #00afaf; text-decoration-color: #00afaf; background-color: #272727; font-style: italic\">, </span><span style=\"color: #00afaf; text-decoration-color: #00afaf; background-color: #272727; font-weight: bold; font-style: italic\">0</span><span style=\"color: #00afaf; text-decoration-color: #00afaf; background-color: #272727; font-style: italic\">, ⚓︎</span><span style=\"color: #00afaf; text-decoration-color: #00afaf; background-color: #272727; font-weight: bold; font-style: italic\">{</span><span style=\"color: #00afaf; text-decoration-color: #00afaf; background-color: #272727; font-style: italic\">  </span><span style=\"color: #00afaf; text-decoration-color: #00afaf; background-color: #272727; font-weight: bold; font-style: italic\">0.00</span><span style=\"color: #00afaf; text-decoration-color: #00afaf; background-color: #272727; font-style: italic\">,   </span><span style=\"color: #00afaf; text-decoration-color: #00afaf; background-color: #272727; font-weight: bold; font-style: italic\">0.00</span><span style=\"color: #00afaf; text-decoration-color: #00afaf; background-color: #272727; font-style: italic\">,   </span><span style=\"color: #00afaf; text-decoration-color: #00afaf; background-color: #272727; font-weight: bold; font-style: italic\">0.00})</span><span style=\"color: #00afaf; text-decoration-color: #00afaf; background-color: #272727; font-style: italic\">, </span><span style=\"color: #00afaf; text-decoration-color: #00afaf; background-color: #272727; font-weight: bold; font-style: italic\">Ring(0.00</span><span style=\"color: #00afaf; text-decoration-color: #00afaf; background-color: #272727; font-style: italic\">°, </span><span style=\"color: #00afaf; text-decoration-color: #00afaf; background-color: #272727; font-weight: bold; font-style: italic\">{</span><span style=\"color: #00afaf; text-decoration-color: #00afaf; background-color: #272727; font-style: italic\"> </span><span style=\"color: #00afaf; text-decoration-color: #00afaf; background-color: #272727; font-weight: bold; font-style: italic\">36.00</span><span style=\"color: #00afaf; text-decoration-color: #00afaf; background-color: #272727; font-style: italic\">,  </span><span style=\"color: #00afaf; text-decoration-color: #00afaf; background-color: #272727; font-weight: bold; font-style: italic\">28.00</span><span style=\"color: #00afaf; text-decoration-color: #00afaf; background-color: #272727; font-style: italic\">,   </span><span style=\"color: #00afaf; text-decoration-color: #00afaf; background-color: #272727; font-weight: bold; font-style: italic\">0.00}))</span>\n",
       "</pre>\n"
      ],
      "text/plain": [
       "\n",
       "\u001b[1;3;38;5;37;48;2;39;39;39m<\u001b[0m\u001b[1;3;38;5;37;48;2;39;39;39mStep\u001b[0m\u001b[3;38;5;37;48;2;39;39;39m \u001b[0m\u001b[1;3;38;5;37;48;2;39;39;39m1\u001b[0m\u001b[3;38;5;37;48;2;39;39;39m \u001b[0m\u001b[1;3;38;5;37;48;2;39;39;39m(\u001b[0m\u001b[1;3;38;5;37;48;2;39;39;39m0\u001b[0m\u001b[3;38;5;37;48;2;39;39;39m segments\u001b[0m\u001b[1;3;38;5;37;48;2;39;39;39m)\u001b[0m\u001b[1;3;38;5;37;48;2;39;39;39m>\u001b[0m\u001b[3;38;5;37;48;2;39;39;39m: \u001b[0m\u001b[3;38;5;37;48;2;39;39;39mPrint non-intersecting geometry\u001b[0m\n",
       "\u001b[3;38;5;37;48;2;39;39;39m  \u001b[0m\u001b[1;3;38;5;37;48;2;39;39;39mPrinter\u001b[0m\u001b[1;3;38;5;37;48;2;39;39;39m(\u001b[0m\u001b[1;3;38;5;37;48;2;39;39;39mBed\u001b[0m\u001b[1;3;38;5;37;48;2;39;39;39m(\u001b[0m\u001b[1;3;38;5;37;48;2;39;39;39m0\u001b[0m\u001b[3;38;5;37;48;2;39;39;39m, \u001b[0m\u001b[1;3;38;5;37;48;2;39;39;39m0\u001b[0m\u001b[3;38;5;37;48;2;39;39;39m, ⚓︎\u001b[0m\u001b[1;3;38;5;37;48;2;39;39;39m{\u001b[0m\u001b[3;38;5;37;48;2;39;39;39m  \u001b[0m\u001b[1;3;38;5;37;48;2;39;39;39m0.00\u001b[0m\u001b[3;38;5;37;48;2;39;39;39m,   \u001b[0m\u001b[1;3;38;5;37;48;2;39;39;39m0.00\u001b[0m\u001b[3;38;5;37;48;2;39;39;39m,   \u001b[0m\u001b[1;3;38;5;37;48;2;39;39;39m0.00\u001b[0m\u001b[1;3;38;5;37;48;2;39;39;39m}\u001b[0m\u001b[1;3;38;5;37;48;2;39;39;39m)\u001b[0m\u001b[3;38;5;37;48;2;39;39;39m, \u001b[0m\u001b[1;3;38;5;37;48;2;39;39;39mRing\u001b[0m\u001b[1;3;38;5;37;48;2;39;39;39m(\u001b[0m\u001b[1;3;38;5;37;48;2;39;39;39m0.00\u001b[0m\u001b[3;38;5;37;48;2;39;39;39m°, \u001b[0m\u001b[1;3;38;5;37;48;2;39;39;39m{\u001b[0m\u001b[3;38;5;37;48;2;39;39;39m \u001b[0m\u001b[1;3;38;5;37;48;2;39;39;39m36.00\u001b[0m\u001b[3;38;5;37;48;2;39;39;39m,  \u001b[0m\u001b[1;3;38;5;37;48;2;39;39;39m28.00\u001b[0m\u001b[3;38;5;37;48;2;39;39;39m,   \u001b[0m\u001b[1;3;38;5;37;48;2;39;39;39m0.00\u001b[0m\u001b[1;3;38;5;37;48;2;39;39;39m}\u001b[0m\u001b[1;3;38;5;37;48;2;39;39;39m)\u001b[0m\u001b[1;3;38;5;37;48;2;39;39;39m)\u001b[0m\n"
      ]
     },
     "metadata": {},
     "output_type": "display_data"
    },
    {
     "data": {
      "text/html": [
       "<pre style=\"white-space:pre;overflow-x:auto;line-height:normal;font-family:Menlo,'DejaVu Sans Mono',consolas,'Courier New',monospace\"><span style=\"background-color: #272727\">Adding </span><span style=\"color: #008080; text-decoration-color: #008080; background-color: #272727; font-weight: bold\">280</span><span style=\"background-color: #272727\">/</span><span style=\"color: #008080; text-decoration-color: #008080; background-color: #272727; font-weight: bold\">280</span><span style=\"background-color: #272727\"> unprinted gcsegs to Step</span>\n",
       "</pre>\n"
      ],
      "text/plain": [
       "\u001b[48;2;39;39;39mAdding \u001b[0m\u001b[1;36;48;2;39;39;39m280\u001b[0m\u001b[48;2;39;39;39m/\u001b[0m\u001b[1;36;48;2;39;39;39m280\u001b[0m\u001b[48;2;39;39;39m unprinted gcsegs to Step\u001b[0m\n"
      ]
     },
     "metadata": {},
     "output_type": "display_data"
    },
    {
     "data": {
      "text/html": [
       "<pre style=\"white-space:pre;overflow-x:auto;line-height:normal;font-family:Menlo,'DejaVu Sans Mono',consolas,'Courier New',monospace\"><span style=\"color: #808000; text-decoration-color: #808000; background-color: #272727\">---- Adding </span><span style=\"color: #808000; text-decoration-color: #808000; background-color: #272727; font-weight: bold\">21821</span><span style=\"color: #808000; text-decoration-color: #808000; background-color: #272727\"> </span><span style=\"color: #808000; text-decoration-color: #808000; background-color: #272727; font-weight: bold\">(</span><span style=\"color: #808000; text-decoration-color: #808000; background-color: #272727\">n</span><span style=\"color: #808000; text-decoration-color: #808000; background-color: #272727; font-weight: bold\">)</span><span style=\"color: #808000; text-decoration-color: #808000; background-color: #272727\"> to </span><span style=\"color: #808000; text-decoration-color: #808000; background-color: #272727; font-weight: bold\">&lt;Step</span><span style=\"color: #808000; text-decoration-color: #808000; background-color: #272727\"> </span><span style=\"color: #808000; text-decoration-color: #808000; background-color: #272727; font-weight: bold\">1</span><span style=\"color: #808000; text-decoration-color: #808000; background-color: #272727\"> </span><span style=\"color: #808000; text-decoration-color: #808000; background-color: #272727; font-weight: bold\">(</span><span style=\"color: #808000; text-decoration-color: #808000; background-color: #272727; font-weight: bold\">228</span><span style=\"color: #808000; text-decoration-color: #808000; background-color: #272727\"> segments</span><span style=\"color: #808000; text-decoration-color: #808000; background-color: #272727; font-weight: bold\">)&gt;</span><span style=\"color: #808000; text-decoration-color: #808000; background-color: #272727\">: </span><span style=\"color: #00afaf; text-decoration-color: #00afaf; background-color: #272727; font-style: italic\">Print non-intersecting geometry</span>\n",
       "<span style=\"color: #808000; text-decoration-color: #808000; background-color: #272727\">  </span><span style=\"color: #808000; text-decoration-color: #808000; background-color: #272727; font-weight: bold\">Printer(Bed(</span><span style=\"color: #808000; text-decoration-color: #808000; background-color: #272727; font-weight: bold\">0</span><span style=\"color: #808000; text-decoration-color: #808000; background-color: #272727\">, </span><span style=\"color: #808000; text-decoration-color: #808000; background-color: #272727; font-weight: bold\">0</span><span style=\"color: #808000; text-decoration-color: #808000; background-color: #272727\">, ⚓︎</span><span style=\"color: #808000; text-decoration-color: #808000; background-color: #272727; font-weight: bold\">{</span><span style=\"color: #808000; text-decoration-color: #808000; background-color: #272727\">  </span><span style=\"color: #808000; text-decoration-color: #808000; background-color: #272727; font-weight: bold\">0.00</span><span style=\"color: #808000; text-decoration-color: #808000; background-color: #272727\">,   </span><span style=\"color: #808000; text-decoration-color: #808000; background-color: #272727; font-weight: bold\">0.00</span><span style=\"color: #808000; text-decoration-color: #808000; background-color: #272727\">,   </span><span style=\"color: #808000; text-decoration-color: #808000; background-color: #272727; font-weight: bold\">0.00</span><span style=\"color: #808000; text-decoration-color: #808000; background-color: #272727; font-weight: bold\">})</span><span style=\"color: #808000; text-decoration-color: #808000; background-color: #272727\">, </span><span style=\"color: #808000; text-decoration-color: #808000; background-color: #272727; font-weight: bold\">Ring(</span><span style=\"color: #808000; text-decoration-color: #808000; background-color: #272727; font-weight: bold\">0.00</span><span style=\"color: #808000; text-decoration-color: #808000; background-color: #272727\">°, </span><span style=\"color: #808000; text-decoration-color: #808000; background-color: #272727; font-weight: bold\">{</span><span style=\"color: #808000; text-decoration-color: #808000; background-color: #272727\"> </span><span style=\"color: #808000; text-decoration-color: #808000; background-color: #272727; font-weight: bold\">36.00</span><span style=\"color: #808000; text-decoration-color: #808000; background-color: #272727\">,  </span><span style=\"color: #808000; text-decoration-color: #808000; background-color: #272727; font-weight: bold\">28.00</span><span style=\"color: #808000; text-decoration-color: #808000; background-color: #272727\">,   </span><span style=\"color: #808000; text-decoration-color: #808000; background-color: #272727; font-weight: bold\">0.00</span><span style=\"color: #808000; text-decoration-color: #808000; background-color: #272727; font-weight: bold\">}))</span><span style=\"color: #808000; text-decoration-color: #808000; background-color: #272727\">:</span>\n",
       "<span style=\"color: #808000; text-decoration-color: #808000; background-color: #272727; font-weight: bold\">&lt;s[</span><span style=\"color: #808000; text-decoration-color: #808000; background-color: #272727; font-weight: bold\">2</span><span style=\"color: #808000; text-decoration-color: #808000; background-color: #272727; font-weight: bold\">]</span><span style=\"color: #808000; text-decoration-color: #808000; background-color: #272727\"> </span><span style=\"color: #808000; text-decoration-color: #808000; background-color: #272727; font-weight: bold\">21820</span><span style=\"color: #808000; text-decoration-color: #808000; background-color: #272727\">:</span><span style=\"color: #808000; text-decoration-color: #808000; background-color: #272727; font-weight: bold\">{</span><span style=\"color: #808000; text-decoration-color: #808000; background-color: #272727\"> </span><span style=\"color: #808000; text-decoration-color: #808000; background-color: #272727; font-weight: bold\">46.60</span><span style=\"color: #808000; text-decoration-color: #808000; background-color: #272727\">,  </span><span style=\"color: #808000; text-decoration-color: #808000; background-color: #272727; font-weight: bold\">46.35</span><span style=\"color: #808000; text-decoration-color: #808000; background-color: #272727\">,  </span><span style=\"color: #808000; text-decoration-color: #808000; background-color: #272727; font-weight: bold\">11.40</span><span style=\"color: #808000; text-decoration-color: #808000; background-color: #272727; font-weight: bold\">}</span><span style=\"color: #808000; text-decoration-color: #808000; background-color: #272727\">←→</span><span style=\"color: #808000; text-decoration-color: #808000; background-color: #272727; font-weight: bold\">21821</span><span style=\"color: #808000; text-decoration-color: #808000; background-color: #272727\">:</span><span style=\"color: #808000; text-decoration-color: #808000; background-color: #272727; font-weight: bold\">{</span><span style=\"color: #808000; text-decoration-color: #808000; background-color: #272727\"> </span><span style=\"color: #808000; text-decoration-color: #808000; background-color: #272727; font-weight: bold\">46.83</span><span style=\"color: #808000; text-decoration-color: #808000; background-color: #272727\">,  </span><span style=\"color: #808000; text-decoration-color: #808000; background-color: #272727; font-weight: bold\">46.20</span><span style=\"color: #808000; text-decoration-color: #808000; background-color: #272727\">,  </span><span style=\"color: #808000; text-decoration-color: #808000; background-color: #272727; font-weight: bold\">11.40</span><span style=\"color: #808000; text-decoration-color: #808000; background-color: #272727; font-weight: bold\">}&gt;</span>\n",
       "<span style=\"color: #808000; text-decoration-color: #808000; background-color: #272727\">----</span>\n",
       "</pre>\n"
      ],
      "text/plain": [
       "\u001b[33;48;2;39;39;39m---- Adding \u001b[0m\u001b[1;33;48;2;39;39;39m21821\u001b[0m\u001b[33;48;2;39;39;39m \u001b[0m\u001b[1;33;48;2;39;39;39m(\u001b[0m\u001b[33;48;2;39;39;39mn\u001b[0m\u001b[1;33;48;2;39;39;39m)\u001b[0m\u001b[33;48;2;39;39;39m to \u001b[0m\u001b[1;33;48;2;39;39;39m<\u001b[0m\u001b[1;33;48;2;39;39;39mStep\u001b[0m\u001b[33;48;2;39;39;39m \u001b[0m\u001b[1;33;48;2;39;39;39m1\u001b[0m\u001b[33;48;2;39;39;39m \u001b[0m\u001b[1;33;48;2;39;39;39m(\u001b[0m\u001b[1;33;48;2;39;39;39m228\u001b[0m\u001b[33;48;2;39;39;39m segments\u001b[0m\u001b[1;33;48;2;39;39;39m)\u001b[0m\u001b[1;33;48;2;39;39;39m>\u001b[0m\u001b[33;48;2;39;39;39m: \u001b[0m\u001b[3;38;5;37;48;2;39;39;39mPrint non-intersecting geometry\u001b[0m\n",
       "\u001b[33;48;2;39;39;39m  \u001b[0m\u001b[1;33;48;2;39;39;39mPrinter\u001b[0m\u001b[1;33;48;2;39;39;39m(\u001b[0m\u001b[1;33;48;2;39;39;39mBed\u001b[0m\u001b[1;33;48;2;39;39;39m(\u001b[0m\u001b[1;33;48;2;39;39;39m0\u001b[0m\u001b[33;48;2;39;39;39m, \u001b[0m\u001b[1;33;48;2;39;39;39m0\u001b[0m\u001b[33;48;2;39;39;39m, ⚓︎\u001b[0m\u001b[1;33;48;2;39;39;39m{\u001b[0m\u001b[33;48;2;39;39;39m  \u001b[0m\u001b[1;33;48;2;39;39;39m0.00\u001b[0m\u001b[33;48;2;39;39;39m,   \u001b[0m\u001b[1;33;48;2;39;39;39m0.00\u001b[0m\u001b[33;48;2;39;39;39m,   \u001b[0m\u001b[1;33;48;2;39;39;39m0.00\u001b[0m\u001b[1;33;48;2;39;39;39m}\u001b[0m\u001b[1;33;48;2;39;39;39m)\u001b[0m\u001b[33;48;2;39;39;39m, \u001b[0m\u001b[1;33;48;2;39;39;39mRing\u001b[0m\u001b[1;33;48;2;39;39;39m(\u001b[0m\u001b[1;33;48;2;39;39;39m0.00\u001b[0m\u001b[33;48;2;39;39;39m°, \u001b[0m\u001b[1;33;48;2;39;39;39m{\u001b[0m\u001b[33;48;2;39;39;39m \u001b[0m\u001b[1;33;48;2;39;39;39m36.00\u001b[0m\u001b[33;48;2;39;39;39m,  \u001b[0m\u001b[1;33;48;2;39;39;39m28.00\u001b[0m\u001b[33;48;2;39;39;39m,   \u001b[0m\u001b[1;33;48;2;39;39;39m0.00\u001b[0m\u001b[1;33;48;2;39;39;39m}\u001b[0m\u001b[1;33;48;2;39;39;39m)\u001b[0m\u001b[1;33;48;2;39;39;39m)\u001b[0m\u001b[33;48;2;39;39;39m:\u001b[0m\n",
       "\u001b[1;33;48;2;39;39;39m<\u001b[0m\u001b[1;33;48;2;39;39;39ms\u001b[0m\u001b[1;33;48;2;39;39;39m[\u001b[0m\u001b[1;33;48;2;39;39;39m2\u001b[0m\u001b[1;33;48;2;39;39;39m]\u001b[0m\u001b[33;48;2;39;39;39m \u001b[0m\u001b[1;33;48;2;39;39;39m21820\u001b[0m\u001b[33;48;2;39;39;39m:\u001b[0m\u001b[1;33;48;2;39;39;39m{\u001b[0m\u001b[33;48;2;39;39;39m \u001b[0m\u001b[1;33;48;2;39;39;39m46.60\u001b[0m\u001b[33;48;2;39;39;39m,  \u001b[0m\u001b[1;33;48;2;39;39;39m46.35\u001b[0m\u001b[33;48;2;39;39;39m,  \u001b[0m\u001b[1;33;48;2;39;39;39m11.40\u001b[0m\u001b[1;33;48;2;39;39;39m}\u001b[0m\u001b[33;48;2;39;39;39m←→\u001b[0m\u001b[1;33;48;2;39;39;39m21821\u001b[0m\u001b[33;48;2;39;39;39m:\u001b[0m\u001b[1;33;48;2;39;39;39m{\u001b[0m\u001b[33;48;2;39;39;39m \u001b[0m\u001b[1;33;48;2;39;39;39m46.83\u001b[0m\u001b[33;48;2;39;39;39m,  \u001b[0m\u001b[1;33;48;2;39;39;39m46.20\u001b[0m\u001b[33;48;2;39;39;39m,  \u001b[0m\u001b[1;33;48;2;39;39;39m11.40\u001b[0m\u001b[1;33;48;2;39;39;39m}\u001b[0m\u001b[1;33;48;2;39;39;39m>\u001b[0m\n",
       "\u001b[33;48;2;39;39;39m----\u001b[0m\n"
      ]
     },
     "metadata": {},
     "output_type": "display_data"
    },
    {
     "data": {
      "text/html": [
       "<pre style=\"white-space:pre;overflow-x:auto;line-height:normal;font-family:Menlo,'DejaVu Sans Mono',consolas,'Courier New',monospace\"><span style=\"color: #008080; text-decoration-color: #008080; background-color: #272727; font-weight: bold\">18</span><span style=\"background-color: #272727\"> non-printed segments left from </span><span style=\"color: #008080; text-decoration-color: #008080; background-color: #272727; font-weight: bold\">298</span><span style=\"background-color: #272727\"> original segments</span>\n",
       "</pre>\n"
      ],
      "text/plain": [
       "\u001b[1;36;48;2;39;39;39m18\u001b[0m\u001b[48;2;39;39;39m non-printed segments left from \u001b[0m\u001b[1;36;48;2;39;39;39m298\u001b[0m\u001b[48;2;39;39;39m original segments\u001b[0m\n"
      ]
     },
     "metadata": {},
     "output_type": "display_data"
    },
    {
     "data": {
      "text/html": [
       "<pre style=\"white-space:pre;overflow-x:auto;line-height:normal;font-family:Menlo,'DejaVu Sans Mono',consolas,'Courier New',monospace\"><span style=\"color: #800000; text-decoration-color: #800000; background-color: #272727\">———</span><span style=\"background-color: #272727\"> Now process </span><span style=\"color: #008080; text-decoration-color: #008080; background-color: #272727; font-weight: bold\">3</span><span style=\"background-color: #272727\"> thread segments </span><span style=\"color: #800000; text-decoration-color: #800000; background-color: #272727\">———</span>\n",
       "</pre>\n"
      ],
      "text/plain": [
       "\u001b[31;48;2;39;39;39m———\u001b[0m\u001b[48;2;39;39;39m Now process \u001b[0m\u001b[1;36;48;2;39;39;39m3\u001b[0m\u001b[48;2;39;39;39m thread segments \u001b[0m\u001b[31;48;2;39;39;39m———\u001b[0m\n"
      ]
     },
     "metadata": {},
     "output_type": "display_data"
    },
    {
     "data": {
      "text/html": [
       "<pre style=\"white-space:pre;overflow-x:auto;line-height:normal;font-family:Menlo,'DejaVu Sans Mono',consolas,'Courier New',monospace\"><span style=\"color: #808000; text-decoration-color: #808000; background-color: #272727\">————</span><span style=\"background-color: #272727\"> Thread </span><span style=\"color: #008080; text-decoration-color: #008080; background-color: #272727; font-weight: bold\">0</span><span style=\"background-color: #272727\">: </span><span style=\"background-color: #272727; font-weight: bold\">&lt;</span><span style=\"color: #000000; text-decoration-color: #000000; background-color: #272727; font-weight: bold\">{</span><span style=\"color: #000000; text-decoration-color: #000000; background-color: #272727\"> </span><span style=\"color: #008080; text-decoration-color: #008080; background-color: #272727; font-weight: bold\">33.24</span><span style=\"color: #000000; text-decoration-color: #000000; background-color: #272727\">,  </span><span style=\"color: #008080; text-decoration-color: #008080; background-color: #272727; font-weight: bold\">16.86</span><span style=\"color: #000000; text-decoration-color: #000000; background-color: #272727\">,  </span><span style=\"color: #008080; text-decoration-color: #008080; background-color: #272727; font-weight: bold\">11.40</span><span style=\"color: #000000; text-decoration-color: #000000; background-color: #272727; font-weight: bold\">}</span><span style=\"color: #000000; text-decoration-color: #000000; background-color: #272727\">←→</span><span style=\"color: #000000; text-decoration-color: #000000; background-color: #272727; font-weight: bold\">{</span><span style=\"color: #000000; text-decoration-color: #000000; background-color: #272727\"> </span><span style=\"color: #008080; text-decoration-color: #008080; background-color: #272727; font-weight: bold\">33.99</span><span style=\"color: #000000; text-decoration-color: #000000; background-color: #272727\">,  </span><span style=\"color: #008080; text-decoration-color: #008080; background-color: #272727; font-weight: bold\">17.24</span><span style=\"color: #000000; text-decoration-color: #000000; background-color: #272727\">,  </span><span style=\"color: #008080; text-decoration-color: #008080; background-color: #272727; font-weight: bold\">11.40</span><span style=\"color: #000000; text-decoration-color: #000000; background-color: #272727; font-weight: bold\">}</span><span style=\"background-color: #272727; font-weight: bold\">&gt;</span><span style=\"background-color: #272727\"> </span><span style=\"color: #808000; text-decoration-color: #808000; background-color: #272727\">————</span>\n",
       "</pre>\n"
      ],
      "text/plain": [
       "\u001b[33;48;2;39;39;39m————\u001b[0m\u001b[48;2;39;39;39m Thread \u001b[0m\u001b[1;36;48;2;39;39;39m0\u001b[0m\u001b[48;2;39;39;39m: \u001b[0m\u001b[1;48;2;39;39;39m<\u001b[0m\u001b[1;39;48;2;39;39;39m{\u001b[0m\u001b[39;48;2;39;39;39m \u001b[0m\u001b[1;36;48;2;39;39;39m33.24\u001b[0m\u001b[39;48;2;39;39;39m,  \u001b[0m\u001b[1;36;48;2;39;39;39m16.86\u001b[0m\u001b[39;48;2;39;39;39m,  \u001b[0m\u001b[1;36;48;2;39;39;39m11.40\u001b[0m\u001b[1;39;48;2;39;39;39m}\u001b[0m\u001b[39;48;2;39;39;39m←→\u001b[0m\u001b[1;39;48;2;39;39;39m{\u001b[0m\u001b[39;48;2;39;39;39m \u001b[0m\u001b[1;36;48;2;39;39;39m33.99\u001b[0m\u001b[39;48;2;39;39;39m,  \u001b[0m\u001b[1;36;48;2;39;39;39m17.24\u001b[0m\u001b[39;48;2;39;39;39m,  \u001b[0m\u001b[1;36;48;2;39;39;39m11.40\u001b[0m\u001b[1;39;48;2;39;39;39m}\u001b[0m\u001b[1;48;2;39;39;39m>\u001b[0m\u001b[48;2;39;39;39m \u001b[0m\u001b[33;48;2;39;39;39m————\u001b[0m\n"
      ]
     },
     "metadata": {},
     "output_type": "display_data"
    },
    {
     "data": {
      "text/html": [
       "<pre style=\"white-space:pre;overflow-x:auto;line-height:normal;font-family:Menlo,'DejaVu Sans Mono',consolas,'Courier New',monospace\">\n",
       "<span style=\"color: #00afaf; text-decoration-color: #00afaf; background-color: #272727; font-weight: bold; font-style: italic\">&lt;Step</span><span style=\"color: #00afaf; text-decoration-color: #00afaf; background-color: #272727; font-style: italic\"> </span><span style=\"color: #00afaf; text-decoration-color: #00afaf; background-color: #272727; font-weight: bold; font-style: italic\">2</span><span style=\"color: #00afaf; text-decoration-color: #00afaf; background-color: #272727; font-style: italic\"> </span><span style=\"color: #00afaf; text-decoration-color: #00afaf; background-color: #272727; font-weight: bold; font-style: italic\">(0</span><span style=\"color: #00afaf; text-decoration-color: #00afaf; background-color: #272727; font-style: italic\"> segments</span><span style=\"color: #00afaf; text-decoration-color: #00afaf; background-color: #272727; font-weight: bold; font-style: italic\">)&gt;</span><span style=\"color: #00afaf; text-decoration-color: #00afaf; background-color: #272727; font-style: italic\">: Move thread to overlap anchor at </span><span style=\"color: #00afaf; text-decoration-color: #00afaf; background-color: #272727; font-weight: bold; font-style: italic\">{</span><span style=\"color: #00afaf; text-decoration-color: #00afaf; background-color: #272727; font-style: italic\"> </span><span style=\"color: #00afaf; text-decoration-color: #00afaf; background-color: #272727; font-weight: bold; font-style: italic\">33.99</span><span style=\"color: #00afaf; text-decoration-color: #00afaf; background-color: #272727; font-style: italic\">,  </span><span style=\"color: #00afaf; text-decoration-color: #00afaf; background-color: #272727; font-weight: bold; font-style: italic\">17.24</span><span style=\"color: #00afaf; text-decoration-color: #00afaf; background-color: #272727; font-style: italic\">,  </span><span style=\"color: #00afaf; text-decoration-color: #00afaf; background-color: #272727; font-weight: bold; font-style: italic\">11.40}</span>\n",
       "<span style=\"color: #00afaf; text-decoration-color: #00afaf; background-color: #272727; font-style: italic\">  </span><span style=\"color: #00afaf; text-decoration-color: #00afaf; background-color: #272727; font-weight: bold; font-style: italic\">Printer(Bed(0</span><span style=\"color: #00afaf; text-decoration-color: #00afaf; background-color: #272727; font-style: italic\">, </span><span style=\"color: #00afaf; text-decoration-color: #00afaf; background-color: #272727; font-weight: bold; font-style: italic\">0</span><span style=\"color: #00afaf; text-decoration-color: #00afaf; background-color: #272727; font-style: italic\">, ⚓︎</span><span style=\"color: #00afaf; text-decoration-color: #00afaf; background-color: #272727; font-weight: bold; font-style: italic\">{</span><span style=\"color: #00afaf; text-decoration-color: #00afaf; background-color: #272727; font-style: italic\">  </span><span style=\"color: #00afaf; text-decoration-color: #00afaf; background-color: #272727; font-weight: bold; font-style: italic\">0.00</span><span style=\"color: #00afaf; text-decoration-color: #00afaf; background-color: #272727; font-style: italic\">,   </span><span style=\"color: #00afaf; text-decoration-color: #00afaf; background-color: #272727; font-weight: bold; font-style: italic\">0.00</span><span style=\"color: #00afaf; text-decoration-color: #00afaf; background-color: #272727; font-style: italic\">,   </span><span style=\"color: #00afaf; text-decoration-color: #00afaf; background-color: #272727; font-weight: bold; font-style: italic\">0.00})</span><span style=\"color: #00afaf; text-decoration-color: #00afaf; background-color: #272727; font-style: italic\">, </span><span style=\"color: #00afaf; text-decoration-color: #00afaf; background-color: #272727; font-weight: bold; font-style: italic\">Ring(0.00</span><span style=\"color: #00afaf; text-decoration-color: #00afaf; background-color: #272727; font-style: italic\">°, </span><span style=\"color: #00afaf; text-decoration-color: #00afaf; background-color: #272727; font-weight: bold; font-style: italic\">{</span><span style=\"color: #00afaf; text-decoration-color: #00afaf; background-color: #272727; font-style: italic\"> </span><span style=\"color: #00afaf; text-decoration-color: #00afaf; background-color: #272727; font-weight: bold; font-style: italic\">36.00</span><span style=\"color: #00afaf; text-decoration-color: #00afaf; background-color: #272727; font-style: italic\">,  </span><span style=\"color: #00afaf; text-decoration-color: #00afaf; background-color: #272727; font-weight: bold; font-style: italic\">28.00</span><span style=\"color: #00afaf; text-decoration-color: #00afaf; background-color: #272727; font-style: italic\">,   </span><span style=\"color: #00afaf; text-decoration-color: #00afaf; background-color: #272727; font-weight: bold; font-style: italic\">0.00}))</span>\n",
       "</pre>\n"
      ],
      "text/plain": [
       "\n",
       "\u001b[1;3;38;5;37;48;2;39;39;39m<\u001b[0m\u001b[1;3;38;5;37;48;2;39;39;39mStep\u001b[0m\u001b[3;38;5;37;48;2;39;39;39m \u001b[0m\u001b[1;3;38;5;37;48;2;39;39;39m2\u001b[0m\u001b[3;38;5;37;48;2;39;39;39m \u001b[0m\u001b[1;3;38;5;37;48;2;39;39;39m(\u001b[0m\u001b[1;3;38;5;37;48;2;39;39;39m0\u001b[0m\u001b[3;38;5;37;48;2;39;39;39m segments\u001b[0m\u001b[1;3;38;5;37;48;2;39;39;39m)\u001b[0m\u001b[1;3;38;5;37;48;2;39;39;39m>\u001b[0m\u001b[3;38;5;37;48;2;39;39;39m: \u001b[0m\u001b[3;38;5;37;48;2;39;39;39mMove thread to overlap anchor at \u001b[0m\u001b[1;3;38;5;37;48;2;39;39;39m{\u001b[0m\u001b[3;38;5;37;48;2;39;39;39m \u001b[0m\u001b[1;3;38;5;37;48;2;39;39;39m33.99\u001b[0m\u001b[3;38;5;37;48;2;39;39;39m,  \u001b[0m\u001b[1;3;38;5;37;48;2;39;39;39m17.24\u001b[0m\u001b[3;38;5;37;48;2;39;39;39m,  \u001b[0m\u001b[1;3;38;5;37;48;2;39;39;39m11.40\u001b[0m\u001b[1;3;38;5;37;48;2;39;39;39m}\u001b[0m\n",
       "\u001b[3;38;5;37;48;2;39;39;39m  \u001b[0m\u001b[1;3;38;5;37;48;2;39;39;39mPrinter\u001b[0m\u001b[1;3;38;5;37;48;2;39;39;39m(\u001b[0m\u001b[1;3;38;5;37;48;2;39;39;39mBed\u001b[0m\u001b[1;3;38;5;37;48;2;39;39;39m(\u001b[0m\u001b[1;3;38;5;37;48;2;39;39;39m0\u001b[0m\u001b[3;38;5;37;48;2;39;39;39m, \u001b[0m\u001b[1;3;38;5;37;48;2;39;39;39m0\u001b[0m\u001b[3;38;5;37;48;2;39;39;39m, ⚓︎\u001b[0m\u001b[1;3;38;5;37;48;2;39;39;39m{\u001b[0m\u001b[3;38;5;37;48;2;39;39;39m  \u001b[0m\u001b[1;3;38;5;37;48;2;39;39;39m0.00\u001b[0m\u001b[3;38;5;37;48;2;39;39;39m,   \u001b[0m\u001b[1;3;38;5;37;48;2;39;39;39m0.00\u001b[0m\u001b[3;38;5;37;48;2;39;39;39m,   \u001b[0m\u001b[1;3;38;5;37;48;2;39;39;39m0.00\u001b[0m\u001b[1;3;38;5;37;48;2;39;39;39m}\u001b[0m\u001b[1;3;38;5;37;48;2;39;39;39m)\u001b[0m\u001b[3;38;5;37;48;2;39;39;39m, \u001b[0m\u001b[1;3;38;5;37;48;2;39;39;39mRing\u001b[0m\u001b[1;3;38;5;37;48;2;39;39;39m(\u001b[0m\u001b[1;3;38;5;37;48;2;39;39;39m0.00\u001b[0m\u001b[3;38;5;37;48;2;39;39;39m°, \u001b[0m\u001b[1;3;38;5;37;48;2;39;39;39m{\u001b[0m\u001b[3;38;5;37;48;2;39;39;39m \u001b[0m\u001b[1;3;38;5;37;48;2;39;39;39m36.00\u001b[0m\u001b[3;38;5;37;48;2;39;39;39m,  \u001b[0m\u001b[1;3;38;5;37;48;2;39;39;39m28.00\u001b[0m\u001b[3;38;5;37;48;2;39;39;39m,   \u001b[0m\u001b[1;3;38;5;37;48;2;39;39;39m0.00\u001b[0m\u001b[1;3;38;5;37;48;2;39;39;39m}\u001b[0m\u001b[1;3;38;5;37;48;2;39;39;39m)\u001b[0m\u001b[1;3;38;5;37;48;2;39;39;39m)\u001b[0m\n"
      ]
     },
     "metadata": {},
     "output_type": "display_data"
    },
    {
     "data": {
      "text/html": [
       "<pre style=\"white-space:pre;overflow-x:auto;line-height:normal;font-family:Menlo,'DejaVu Sans Mono',consolas,'Courier New',monospace\"><span style=\"background-color: #272727\">HalfLine from </span><span style=\"background-color: #272727; font-weight: bold\">{</span><span style=\"background-color: #272727\">  </span><span style=\"color: #008080; text-decoration-color: #008080; background-color: #272727; font-weight: bold\">0.00</span><span style=\"background-color: #272727\">,   </span><span style=\"color: #008080; text-decoration-color: #008080; background-color: #272727; font-weight: bold\">0.00</span><span style=\"background-color: #272727\">,   </span><span style=\"color: #008080; text-decoration-color: #008080; background-color: #272727; font-weight: bold\">0.00</span><span style=\"background-color: #272727; font-weight: bold\">}</span><span style=\"background-color: #272727\"> to </span><span style=\"background-color: #272727; font-weight: bold\">{</span><span style=\"background-color: #272727\"> </span><span style=\"color: #008080; text-decoration-color: #008080; background-color: #272727; font-weight: bold\">33.99</span><span style=\"background-color: #272727\">,  </span><span style=\"color: #008080; text-decoration-color: #008080; background-color: #272727; font-weight: bold\">17.24</span><span style=\"background-color: #272727\">,  </span><span style=\"color: #008080; text-decoration-color: #008080; background-color: #272727; font-weight: bold\">11.40</span><span style=\"background-color: #272727; font-weight: bold\">}</span><span style=\"background-color: #272727\">:</span>\n",
       "<span style=\"background-color: #272727\"> </span><span style=\"color: #800080; text-decoration-color: #800080; background-color: #272727; font-weight: bold\">H</span><span style=\"background-color: #272727; font-weight: bold\">({</span><span style=\"background-color: #272727\">  </span><span style=\"color: #008080; text-decoration-color: #008080; background-color: #272727; font-weight: bold\">0.00</span><span style=\"background-color: #272727\">,   </span><span style=\"color: #008080; text-decoration-color: #008080; background-color: #272727; font-weight: bold\">0.00</span><span style=\"background-color: #272727\">,   </span><span style=\"color: #008080; text-decoration-color: #008080; background-color: #272727; font-weight: bold\">0.00</span><span style=\"background-color: #272727; font-weight: bold\">}</span><span style=\"background-color: #272727\">, </span><span style=\"color: #800080; text-decoration-color: #800080; background-color: #272727; font-weight: bold\">V</span><span style=\"background-color: #272727; font-weight: bold\">(</span><span style=\"color: #008080; text-decoration-color: #008080; background-color: #272727; font-weight: bold\">33.99</span><span style=\"background-color: #272727\">, </span><span style=\"color: #008080; text-decoration-color: #008080; background-color: #272727; font-weight: bold\">17.24</span><span style=\"background-color: #272727\">, </span><span style=\"color: #008080; text-decoration-color: #008080; background-color: #272727; font-weight: bold\">0.00</span><span style=\"background-color: #272727; font-weight: bold\">))</span>\n",
       "</pre>\n"
      ],
      "text/plain": [
       "\u001b[48;2;39;39;39mHalfLine from \u001b[0m\u001b[1;48;2;39;39;39m{\u001b[0m\u001b[48;2;39;39;39m  \u001b[0m\u001b[1;36;48;2;39;39;39m0.00\u001b[0m\u001b[48;2;39;39;39m,   \u001b[0m\u001b[1;36;48;2;39;39;39m0.00\u001b[0m\u001b[48;2;39;39;39m,   \u001b[0m\u001b[1;36;48;2;39;39;39m0.00\u001b[0m\u001b[1;48;2;39;39;39m}\u001b[0m\u001b[48;2;39;39;39m to \u001b[0m\u001b[1;48;2;39;39;39m{\u001b[0m\u001b[48;2;39;39;39m \u001b[0m\u001b[1;36;48;2;39;39;39m33.99\u001b[0m\u001b[48;2;39;39;39m,  \u001b[0m\u001b[1;36;48;2;39;39;39m17.24\u001b[0m\u001b[48;2;39;39;39m,  \u001b[0m\u001b[1;36;48;2;39;39;39m11.40\u001b[0m\u001b[1;48;2;39;39;39m}\u001b[0m\u001b[48;2;39;39;39m:\u001b[0m\n",
       "\u001b[48;2;39;39;39m \u001b[0m\u001b[1;35;48;2;39;39;39mH\u001b[0m\u001b[1;48;2;39;39;39m(\u001b[0m\u001b[1;48;2;39;39;39m{\u001b[0m\u001b[48;2;39;39;39m  \u001b[0m\u001b[1;36;48;2;39;39;39m0.00\u001b[0m\u001b[48;2;39;39;39m,   \u001b[0m\u001b[1;36;48;2;39;39;39m0.00\u001b[0m\u001b[48;2;39;39;39m,   \u001b[0m\u001b[1;36;48;2;39;39;39m0.00\u001b[0m\u001b[1;48;2;39;39;39m}\u001b[0m\u001b[48;2;39;39;39m, \u001b[0m\u001b[1;35;48;2;39;39;39mV\u001b[0m\u001b[1;48;2;39;39;39m(\u001b[0m\u001b[1;36;48;2;39;39;39m33.99\u001b[0m\u001b[48;2;39;39;39m, \u001b[0m\u001b[1;36;48;2;39;39;39m17.24\u001b[0m\u001b[48;2;39;39;39m, \u001b[0m\u001b[1;36;48;2;39;39;39m0.00\u001b[0m\u001b[1;48;2;39;39;39m)\u001b[0m\u001b[1;48;2;39;39;39m)\u001b[0m\n"
      ]
     },
     "metadata": {},
     "output_type": "display_data"
    },
    {
     "data": {
      "text/html": [
       "<pre style=\"white-space:pre;overflow-x:auto;line-height:normal;font-family:Menlo,'DejaVu Sans Mono',consolas,'Courier New',monospace\"><span style=\"color: #008080; text-decoration-color: #008080; background-color: #272727; font-weight: bold\">0</span><span style=\"background-color: #272727\">/</span><span style=\"color: #008080; text-decoration-color: #008080; background-color: #272727; font-weight: bold\">18</span><span style=\"background-color: #272727\"> unprinted segments that don't intersect </span><span style=\"background-color: #272727; font-weight: bold\">(</span><span style=\"background-color: #272727\">anchor→ring trajectory + remaining thread segments</span><span style=\"background-color: #272727; font-weight: bold\">)</span>\n",
       "</pre>\n"
      ],
      "text/plain": [
       "\u001b[1;36;48;2;39;39;39m0\u001b[0m\u001b[48;2;39;39;39m/\u001b[0m\u001b[1;36;48;2;39;39;39m18\u001b[0m\u001b[48;2;39;39;39m unprinted segments that don't intersect \u001b[0m\u001b[1;48;2;39;39;39m(\u001b[0m\u001b[48;2;39;39;39manchor→ring trajectory + remaining thread segments\u001b[0m\u001b[1;48;2;39;39;39m)\u001b[0m\n"
      ]
     },
     "metadata": {},
     "output_type": "display_data"
    },
    {
     "data": {
      "text/html": [
       "<pre style=\"white-space:pre;overflow-x:auto;line-height:normal;font-family:Menlo,'DejaVu Sans Mono',consolas,'Courier New',monospace\"><span style=\"color: #008080; text-decoration-color: #008080; background-color: #272727; font-weight: bold\">1</span><span style=\"background-color: #272727\">/</span><span style=\"color: #008080; text-decoration-color: #008080; background-color: #272727; font-weight: bold\">18</span><span style=\"background-color: #272727\"> unprinted segments that intersect current thread segment</span>\n",
       "</pre>\n"
      ],
      "text/plain": [
       "\u001b[1;36;48;2;39;39;39m1\u001b[0m\u001b[48;2;39;39;39m/\u001b[0m\u001b[1;36;48;2;39;39;39m18\u001b[0m\u001b[48;2;39;39;39m unprinted segments that intersect current thread segment\u001b[0m\n"
      ]
     },
     "metadata": {},
     "output_type": "display_data"
    },
    {
     "data": {
      "text/html": [
       "<pre style=\"white-space:pre;overflow-x:auto;line-height:normal;font-family:Menlo,'DejaVu Sans Mono',consolas,'Courier New',monospace\"><span style=\"color: #008080; text-decoration-color: #008080; background-color: #272727; font-weight: bold\">0</span><span style=\"background-color: #272727\">: Nothing not intersecting thread to print</span>\n",
       "</pre>\n"
      ],
      "text/plain": [
       "\u001b[1;36;48;2;39;39;39m0\u001b[0m\u001b[48;2;39;39;39m: Nothing not intersecting thread to print\u001b[0m\n"
      ]
     },
     "metadata": {},
     "output_type": "display_data"
    },
    {
     "data": {
      "text/html": [
       "<pre style=\"white-space:pre;overflow-x:auto;line-height:normal;font-family:Menlo,'DejaVu Sans Mono',consolas,'Courier New',monospace\">\n",
       "<span style=\"color: #00afaf; text-decoration-color: #00afaf; background-color: #272727; font-weight: bold; font-style: italic\">&lt;Step</span><span style=\"color: #00afaf; text-decoration-color: #00afaf; background-color: #272727; font-style: italic\"> </span><span style=\"color: #00afaf; text-decoration-color: #00afaf; background-color: #272727; font-weight: bold; font-style: italic\">3</span><span style=\"color: #00afaf; text-decoration-color: #00afaf; background-color: #272727; font-style: italic\"> </span><span style=\"color: #00afaf; text-decoration-color: #00afaf; background-color: #272727; font-weight: bold; font-style: italic\">(0</span><span style=\"color: #00afaf; text-decoration-color: #00afaf; background-color: #272727; font-style: italic\"> segments</span><span style=\"color: #00afaf; text-decoration-color: #00afaf; background-color: #272727; font-weight: bold; font-style: italic\">)&gt;</span><span style=\"color: #00afaf; text-decoration-color: #00afaf; background-color: #272727; font-style: italic\">: Print </span><span style=\"color: #00afaf; text-decoration-color: #00afaf; background-color: #272727; font-weight: bold; font-style: italic\">1</span><span style=\"color: #00afaf; text-decoration-color: #00afaf; background-color: #272727; font-style: italic\"> overlapping layers segments</span>\n",
       "<span style=\"color: #00afaf; text-decoration-color: #00afaf; background-color: #272727; font-style: italic\">  </span><span style=\"color: #00afaf; text-decoration-color: #00afaf; background-color: #272727; font-weight: bold; font-style: italic\">Printer(Bed(0</span><span style=\"color: #00afaf; text-decoration-color: #00afaf; background-color: #272727; font-style: italic\">, </span><span style=\"color: #00afaf; text-decoration-color: #00afaf; background-color: #272727; font-weight: bold; font-style: italic\">0</span><span style=\"color: #00afaf; text-decoration-color: #00afaf; background-color: #272727; font-style: italic\">, ⚓︎</span><span style=\"color: #00afaf; text-decoration-color: #00afaf; background-color: #272727; font-weight: bold; font-style: italic\">{</span><span style=\"color: #00afaf; text-decoration-color: #00afaf; background-color: #272727; font-style: italic\">  </span><span style=\"color: #00afaf; text-decoration-color: #00afaf; background-color: #272727; font-weight: bold; font-style: italic\">0.00</span><span style=\"color: #00afaf; text-decoration-color: #00afaf; background-color: #272727; font-style: italic\">,   </span><span style=\"color: #00afaf; text-decoration-color: #00afaf; background-color: #272727; font-weight: bold; font-style: italic\">0.00</span><span style=\"color: #00afaf; text-decoration-color: #00afaf; background-color: #272727; font-style: italic\">,   </span><span style=\"color: #00afaf; text-decoration-color: #00afaf; background-color: #272727; font-weight: bold; font-style: italic\">0.00})</span><span style=\"color: #00afaf; text-decoration-color: #00afaf; background-color: #272727; font-style: italic\">, </span><span style=\"color: #00afaf; text-decoration-color: #00afaf; background-color: #272727; font-weight: bold; font-style: italic\">Ring(21.50</span><span style=\"color: #00afaf; text-decoration-color: #00afaf; background-color: #272727; font-style: italic\">°, </span><span style=\"color: #00afaf; text-decoration-color: #00afaf; background-color: #272727; font-weight: bold; font-style: italic\">{</span><span style=\"color: #00afaf; text-decoration-color: #00afaf; background-color: #272727; font-style: italic\"> </span><span style=\"color: #00afaf; text-decoration-color: #00afaf; background-color: #272727; font-weight: bold; font-style: italic\">36.00</span><span style=\"color: #00afaf; text-decoration-color: #00afaf; background-color: #272727; font-style: italic\">,  </span><span style=\"color: #00afaf; text-decoration-color: #00afaf; background-color: #272727; font-weight: bold; font-style: italic\">28.00</span><span style=\"color: #00afaf; text-decoration-color: #00afaf; background-color: #272727; font-style: italic\">,   </span><span style=\"color: #00afaf; text-decoration-color: #00afaf; background-color: #272727; font-weight: bold; font-style: italic\">0.00}))</span>\n",
       "</pre>\n"
      ],
      "text/plain": [
       "\n",
       "\u001b[1;3;38;5;37;48;2;39;39;39m<\u001b[0m\u001b[1;3;38;5;37;48;2;39;39;39mStep\u001b[0m\u001b[3;38;5;37;48;2;39;39;39m \u001b[0m\u001b[1;3;38;5;37;48;2;39;39;39m3\u001b[0m\u001b[3;38;5;37;48;2;39;39;39m \u001b[0m\u001b[1;3;38;5;37;48;2;39;39;39m(\u001b[0m\u001b[1;3;38;5;37;48;2;39;39;39m0\u001b[0m\u001b[3;38;5;37;48;2;39;39;39m segments\u001b[0m\u001b[1;3;38;5;37;48;2;39;39;39m)\u001b[0m\u001b[1;3;38;5;37;48;2;39;39;39m>\u001b[0m\u001b[3;38;5;37;48;2;39;39;39m: \u001b[0m\u001b[3;38;5;37;48;2;39;39;39mPrint \u001b[0m\u001b[1;3;38;5;37;48;2;39;39;39m1\u001b[0m\u001b[3;38;5;37;48;2;39;39;39m overlapping layers segments\u001b[0m\n",
       "\u001b[3;38;5;37;48;2;39;39;39m  \u001b[0m\u001b[1;3;38;5;37;48;2;39;39;39mPrinter\u001b[0m\u001b[1;3;38;5;37;48;2;39;39;39m(\u001b[0m\u001b[1;3;38;5;37;48;2;39;39;39mBed\u001b[0m\u001b[1;3;38;5;37;48;2;39;39;39m(\u001b[0m\u001b[1;3;38;5;37;48;2;39;39;39m0\u001b[0m\u001b[3;38;5;37;48;2;39;39;39m, \u001b[0m\u001b[1;3;38;5;37;48;2;39;39;39m0\u001b[0m\u001b[3;38;5;37;48;2;39;39;39m, ⚓︎\u001b[0m\u001b[1;3;38;5;37;48;2;39;39;39m{\u001b[0m\u001b[3;38;5;37;48;2;39;39;39m  \u001b[0m\u001b[1;3;38;5;37;48;2;39;39;39m0.00\u001b[0m\u001b[3;38;5;37;48;2;39;39;39m,   \u001b[0m\u001b[1;3;38;5;37;48;2;39;39;39m0.00\u001b[0m\u001b[3;38;5;37;48;2;39;39;39m,   \u001b[0m\u001b[1;3;38;5;37;48;2;39;39;39m0.00\u001b[0m\u001b[1;3;38;5;37;48;2;39;39;39m}\u001b[0m\u001b[1;3;38;5;37;48;2;39;39;39m)\u001b[0m\u001b[3;38;5;37;48;2;39;39;39m, \u001b[0m\u001b[1;3;38;5;37;48;2;39;39;39mRing\u001b[0m\u001b[1;3;38;5;37;48;2;39;39;39m(\u001b[0m\u001b[1;3;38;5;37;48;2;39;39;39m21.50\u001b[0m\u001b[3;38;5;37;48;2;39;39;39m°, \u001b[0m\u001b[1;3;38;5;37;48;2;39;39;39m{\u001b[0m\u001b[3;38;5;37;48;2;39;39;39m \u001b[0m\u001b[1;3;38;5;37;48;2;39;39;39m36.00\u001b[0m\u001b[3;38;5;37;48;2;39;39;39m,  \u001b[0m\u001b[1;3;38;5;37;48;2;39;39;39m28.00\u001b[0m\u001b[3;38;5;37;48;2;39;39;39m,   \u001b[0m\u001b[1;3;38;5;37;48;2;39;39;39m0.00\u001b[0m\u001b[1;3;38;5;37;48;2;39;39;39m}\u001b[0m\u001b[1;3;38;5;37;48;2;39;39;39m)\u001b[0m\u001b[1;3;38;5;37;48;2;39;39;39m)\u001b[0m\n"
      ]
     },
     "metadata": {},
     "output_type": "display_data"
    },
    {
     "data": {
      "text/html": [
       "<pre style=\"white-space:pre;overflow-x:auto;line-height:normal;font-family:Menlo,'DejaVu Sans Mono',consolas,'Courier New',monospace\"><span style=\"background-color: #272727\">Adding </span><span style=\"color: #008080; text-decoration-color: #008080; background-color: #272727; font-weight: bold\">1</span><span style=\"background-color: #272727\">/</span><span style=\"color: #008080; text-decoration-color: #008080; background-color: #272727; font-weight: bold\">1</span><span style=\"background-color: #272727\"> unprinted gcsegs to Step</span>\n",
       "</pre>\n"
      ],
      "text/plain": [
       "\u001b[48;2;39;39;39mAdding \u001b[0m\u001b[1;36;48;2;39;39;39m1\u001b[0m\u001b[48;2;39;39;39m/\u001b[0m\u001b[1;36;48;2;39;39;39m1\u001b[0m\u001b[48;2;39;39;39m unprinted gcsegs to Step\u001b[0m\n"
      ]
     },
     "metadata": {},
     "output_type": "display_data"
    },
    {
     "data": {
      "text/html": [
       "<pre style=\"white-space:pre;overflow-x:auto;line-height:normal;font-family:Menlo,'DejaVu Sans Mono',consolas,'Courier New',monospace\"><span style=\"color: #808000; text-decoration-color: #808000; background-color: #272727\">————</span><span style=\"background-color: #272727\"> Thread </span><span style=\"color: #008080; text-decoration-color: #008080; background-color: #272727; font-weight: bold\">1</span><span style=\"background-color: #272727\">: </span><span style=\"background-color: #272727; font-weight: bold\">&lt;</span><span style=\"color: #000000; text-decoration-color: #000000; background-color: #272727; font-weight: bold\">{</span><span style=\"color: #000000; text-decoration-color: #000000; background-color: #272727\"> </span><span style=\"color: #008080; text-decoration-color: #008080; background-color: #272727; font-weight: bold\">33.99</span><span style=\"color: #000000; text-decoration-color: #000000; background-color: #272727\">,  </span><span style=\"color: #008080; text-decoration-color: #008080; background-color: #272727; font-weight: bold\">17.24</span><span style=\"color: #000000; text-decoration-color: #000000; background-color: #272727\">,  </span><span style=\"color: #008080; text-decoration-color: #008080; background-color: #272727; font-weight: bold\">11.40</span><span style=\"color: #000000; text-decoration-color: #000000; background-color: #272727; font-weight: bold\">}</span><span style=\"color: #000000; text-decoration-color: #000000; background-color: #272727\">←→</span><span style=\"color: #000000; text-decoration-color: #000000; background-color: #272727; font-weight: bold\">{</span><span style=\"color: #000000; text-decoration-color: #000000; background-color: #272727\"> </span><span style=\"color: #008080; text-decoration-color: #008080; background-color: #272727; font-weight: bold\">56.08</span><span style=\"color: #000000; text-decoration-color: #000000; background-color: #272727\">,  </span><span style=\"color: #008080; text-decoration-color: #008080; background-color: #272727; font-weight: bold\">43.49</span><span style=\"color: #000000; text-decoration-color: #000000; background-color: #272727\">,  </span><span style=\"color: #008080; text-decoration-color: #008080; background-color: #272727; font-weight: bold\">11.40</span><span style=\"color: #000000; text-decoration-color: #000000; background-color: #272727; font-weight: bold\">}</span><span style=\"background-color: #272727; font-weight: bold\">&gt;</span><span style=\"background-color: #272727\"> </span><span style=\"color: #808000; text-decoration-color: #808000; background-color: #272727\">————</span>\n",
       "</pre>\n"
      ],
      "text/plain": [
       "\u001b[33;48;2;39;39;39m————\u001b[0m\u001b[48;2;39;39;39m Thread \u001b[0m\u001b[1;36;48;2;39;39;39m1\u001b[0m\u001b[48;2;39;39;39m: \u001b[0m\u001b[1;48;2;39;39;39m<\u001b[0m\u001b[1;39;48;2;39;39;39m{\u001b[0m\u001b[39;48;2;39;39;39m \u001b[0m\u001b[1;36;48;2;39;39;39m33.99\u001b[0m\u001b[39;48;2;39;39;39m,  \u001b[0m\u001b[1;36;48;2;39;39;39m17.24\u001b[0m\u001b[39;48;2;39;39;39m,  \u001b[0m\u001b[1;36;48;2;39;39;39m11.40\u001b[0m\u001b[1;39;48;2;39;39;39m}\u001b[0m\u001b[39;48;2;39;39;39m←→\u001b[0m\u001b[1;39;48;2;39;39;39m{\u001b[0m\u001b[39;48;2;39;39;39m \u001b[0m\u001b[1;36;48;2;39;39;39m56.08\u001b[0m\u001b[39;48;2;39;39;39m,  \u001b[0m\u001b[1;36;48;2;39;39;39m43.49\u001b[0m\u001b[39;48;2;39;39;39m,  \u001b[0m\u001b[1;36;48;2;39;39;39m11.40\u001b[0m\u001b[1;39;48;2;39;39;39m}\u001b[0m\u001b[1;48;2;39;39;39m>\u001b[0m\u001b[48;2;39;39;39m \u001b[0m\u001b[33;48;2;39;39;39m————\u001b[0m\n"
      ]
     },
     "metadata": {},
     "output_type": "display_data"
    },
    {
     "data": {
      "text/html": [
       "<pre style=\"white-space:pre;overflow-x:auto;line-height:normal;font-family:Menlo,'DejaVu Sans Mono',consolas,'Courier New',monospace\">\n",
       "<span style=\"color: #00afaf; text-decoration-color: #00afaf; background-color: #272727; font-weight: bold; font-style: italic\">&lt;Step</span><span style=\"color: #00afaf; text-decoration-color: #00afaf; background-color: #272727; font-style: italic\"> </span><span style=\"color: #00afaf; text-decoration-color: #00afaf; background-color: #272727; font-weight: bold; font-style: italic\">4</span><span style=\"color: #00afaf; text-decoration-color: #00afaf; background-color: #272727; font-style: italic\"> </span><span style=\"color: #00afaf; text-decoration-color: #00afaf; background-color: #272727; font-weight: bold; font-style: italic\">(0</span><span style=\"color: #00afaf; text-decoration-color: #00afaf; background-color: #272727; font-style: italic\"> segments</span><span style=\"color: #00afaf; text-decoration-color: #00afaf; background-color: #272727; font-weight: bold; font-style: italic\">)&gt;</span><span style=\"color: #00afaf; text-decoration-color: #00afaf; background-color: #272727; font-style: italic\">: Move thread to overlap anchor at </span><span style=\"color: #00afaf; text-decoration-color: #00afaf; background-color: #272727; font-weight: bold; font-style: italic\">{</span><span style=\"color: #00afaf; text-decoration-color: #00afaf; background-color: #272727; font-style: italic\"> </span><span style=\"color: #00afaf; text-decoration-color: #00afaf; background-color: #272727; font-weight: bold; font-style: italic\">56.08</span><span style=\"color: #00afaf; text-decoration-color: #00afaf; background-color: #272727; font-style: italic\">,  </span><span style=\"color: #00afaf; text-decoration-color: #00afaf; background-color: #272727; font-weight: bold; font-style: italic\">43.49</span><span style=\"color: #00afaf; text-decoration-color: #00afaf; background-color: #272727; font-style: italic\">,  </span><span style=\"color: #00afaf; text-decoration-color: #00afaf; background-color: #272727; font-weight: bold; font-style: italic\">11.40}</span>\n",
       "<span style=\"color: #00afaf; text-decoration-color: #00afaf; background-color: #272727; font-style: italic\">  </span><span style=\"color: #00afaf; text-decoration-color: #00afaf; background-color: #272727; font-weight: bold; font-style: italic\">Printer(Bed(0</span><span style=\"color: #00afaf; text-decoration-color: #00afaf; background-color: #272727; font-style: italic\">, </span><span style=\"color: #00afaf; text-decoration-color: #00afaf; background-color: #272727; font-weight: bold; font-style: italic\">0</span><span style=\"color: #00afaf; text-decoration-color: #00afaf; background-color: #272727; font-style: italic\">, ⚓︎</span><span style=\"color: #00afaf; text-decoration-color: #00afaf; background-color: #272727; font-weight: bold; font-style: italic\">{</span><span style=\"color: #00afaf; text-decoration-color: #00afaf; background-color: #272727; font-style: italic\">  </span><span style=\"color: #00afaf; text-decoration-color: #00afaf; background-color: #272727; font-weight: bold; font-style: italic\">0.00</span><span style=\"color: #00afaf; text-decoration-color: #00afaf; background-color: #272727; font-style: italic\">,   </span><span style=\"color: #00afaf; text-decoration-color: #00afaf; background-color: #272727; font-weight: bold; font-style: italic\">0.00</span><span style=\"color: #00afaf; text-decoration-color: #00afaf; background-color: #272727; font-style: italic\">,   </span><span style=\"color: #00afaf; text-decoration-color: #00afaf; background-color: #272727; font-weight: bold; font-style: italic\">0.00})</span><span style=\"color: #00afaf; text-decoration-color: #00afaf; background-color: #272727; font-style: italic\">, </span><span style=\"color: #00afaf; text-decoration-color: #00afaf; background-color: #272727; font-weight: bold; font-style: italic\">Ring(21.50</span><span style=\"color: #00afaf; text-decoration-color: #00afaf; background-color: #272727; font-style: italic\">°, </span><span style=\"color: #00afaf; text-decoration-color: #00afaf; background-color: #272727; font-weight: bold; font-style: italic\">{</span><span style=\"color: #00afaf; text-decoration-color: #00afaf; background-color: #272727; font-style: italic\"> </span><span style=\"color: #00afaf; text-decoration-color: #00afaf; background-color: #272727; font-weight: bold; font-style: italic\">36.00</span><span style=\"color: #00afaf; text-decoration-color: #00afaf; background-color: #272727; font-style: italic\">,  </span><span style=\"color: #00afaf; text-decoration-color: #00afaf; background-color: #272727; font-weight: bold; font-style: italic\">28.00</span><span style=\"color: #00afaf; text-decoration-color: #00afaf; background-color: #272727; font-style: italic\">,   </span><span style=\"color: #00afaf; text-decoration-color: #00afaf; background-color: #272727; font-weight: bold; font-style: italic\">0.00}))</span>\n",
       "</pre>\n"
      ],
      "text/plain": [
       "\n",
       "\u001b[1;3;38;5;37;48;2;39;39;39m<\u001b[0m\u001b[1;3;38;5;37;48;2;39;39;39mStep\u001b[0m\u001b[3;38;5;37;48;2;39;39;39m \u001b[0m\u001b[1;3;38;5;37;48;2;39;39;39m4\u001b[0m\u001b[3;38;5;37;48;2;39;39;39m \u001b[0m\u001b[1;3;38;5;37;48;2;39;39;39m(\u001b[0m\u001b[1;3;38;5;37;48;2;39;39;39m0\u001b[0m\u001b[3;38;5;37;48;2;39;39;39m segments\u001b[0m\u001b[1;3;38;5;37;48;2;39;39;39m)\u001b[0m\u001b[1;3;38;5;37;48;2;39;39;39m>\u001b[0m\u001b[3;38;5;37;48;2;39;39;39m: \u001b[0m\u001b[3;38;5;37;48;2;39;39;39mMove thread to overlap anchor at \u001b[0m\u001b[1;3;38;5;37;48;2;39;39;39m{\u001b[0m\u001b[3;38;5;37;48;2;39;39;39m \u001b[0m\u001b[1;3;38;5;37;48;2;39;39;39m56.08\u001b[0m\u001b[3;38;5;37;48;2;39;39;39m,  \u001b[0m\u001b[1;3;38;5;37;48;2;39;39;39m43.49\u001b[0m\u001b[3;38;5;37;48;2;39;39;39m,  \u001b[0m\u001b[1;3;38;5;37;48;2;39;39;39m11.40\u001b[0m\u001b[1;3;38;5;37;48;2;39;39;39m}\u001b[0m\n",
       "\u001b[3;38;5;37;48;2;39;39;39m  \u001b[0m\u001b[1;3;38;5;37;48;2;39;39;39mPrinter\u001b[0m\u001b[1;3;38;5;37;48;2;39;39;39m(\u001b[0m\u001b[1;3;38;5;37;48;2;39;39;39mBed\u001b[0m\u001b[1;3;38;5;37;48;2;39;39;39m(\u001b[0m\u001b[1;3;38;5;37;48;2;39;39;39m0\u001b[0m\u001b[3;38;5;37;48;2;39;39;39m, \u001b[0m\u001b[1;3;38;5;37;48;2;39;39;39m0\u001b[0m\u001b[3;38;5;37;48;2;39;39;39m, ⚓︎\u001b[0m\u001b[1;3;38;5;37;48;2;39;39;39m{\u001b[0m\u001b[3;38;5;37;48;2;39;39;39m  \u001b[0m\u001b[1;3;38;5;37;48;2;39;39;39m0.00\u001b[0m\u001b[3;38;5;37;48;2;39;39;39m,   \u001b[0m\u001b[1;3;38;5;37;48;2;39;39;39m0.00\u001b[0m\u001b[3;38;5;37;48;2;39;39;39m,   \u001b[0m\u001b[1;3;38;5;37;48;2;39;39;39m0.00\u001b[0m\u001b[1;3;38;5;37;48;2;39;39;39m}\u001b[0m\u001b[1;3;38;5;37;48;2;39;39;39m)\u001b[0m\u001b[3;38;5;37;48;2;39;39;39m, \u001b[0m\u001b[1;3;38;5;37;48;2;39;39;39mRing\u001b[0m\u001b[1;3;38;5;37;48;2;39;39;39m(\u001b[0m\u001b[1;3;38;5;37;48;2;39;39;39m21.50\u001b[0m\u001b[3;38;5;37;48;2;39;39;39m°, \u001b[0m\u001b[1;3;38;5;37;48;2;39;39;39m{\u001b[0m\u001b[3;38;5;37;48;2;39;39;39m \u001b[0m\u001b[1;3;38;5;37;48;2;39;39;39m36.00\u001b[0m\u001b[3;38;5;37;48;2;39;39;39m,  \u001b[0m\u001b[1;3;38;5;37;48;2;39;39;39m28.00\u001b[0m\u001b[3;38;5;37;48;2;39;39;39m,   \u001b[0m\u001b[1;3;38;5;37;48;2;39;39;39m0.00\u001b[0m\u001b[1;3;38;5;37;48;2;39;39;39m}\u001b[0m\u001b[1;3;38;5;37;48;2;39;39;39m)\u001b[0m\u001b[1;3;38;5;37;48;2;39;39;39m)\u001b[0m\n"
      ]
     },
     "metadata": {},
     "output_type": "display_data"
    },
    {
     "data": {
      "text/html": [
       "<pre style=\"white-space:pre;overflow-x:auto;line-height:normal;font-family:Menlo,'DejaVu Sans Mono',consolas,'Courier New',monospace\"><span style=\"background-color: #272727\">HalfLine from </span><span style=\"background-color: #272727; font-weight: bold\">{</span><span style=\"background-color: #272727\"> </span><span style=\"color: #008080; text-decoration-color: #008080; background-color: #272727; font-weight: bold\">33.99</span><span style=\"background-color: #272727\">,  </span><span style=\"color: #008080; text-decoration-color: #008080; background-color: #272727; font-weight: bold\">17.24</span><span style=\"background-color: #272727\">,  </span><span style=\"color: #008080; text-decoration-color: #008080; background-color: #272727; font-weight: bold\">11.40</span><span style=\"background-color: #272727; font-weight: bold\">}</span><span style=\"background-color: #272727\"> to </span><span style=\"background-color: #272727; font-weight: bold\">{</span><span style=\"background-color: #272727\"> </span><span style=\"color: #008080; text-decoration-color: #008080; background-color: #272727; font-weight: bold\">56.08</span><span style=\"background-color: #272727\">,  </span><span style=\"color: #008080; text-decoration-color: #008080; background-color: #272727; font-weight: bold\">43.49</span><span style=\"background-color: #272727\">,  </span><span style=\"color: #008080; text-decoration-color: #008080; background-color: #272727; font-weight: bold\">11.40</span><span style=\"background-color: #272727; font-weight: bold\">}</span><span style=\"background-color: #272727\">:</span>\n",
       "<span style=\"background-color: #272727\"> </span><span style=\"color: #800080; text-decoration-color: #800080; background-color: #272727; font-weight: bold\">H</span><span style=\"background-color: #272727; font-weight: bold\">({</span><span style=\"background-color: #272727\"> </span><span style=\"color: #008080; text-decoration-color: #008080; background-color: #272727; font-weight: bold\">33.99</span><span style=\"background-color: #272727\">,  </span><span style=\"color: #008080; text-decoration-color: #008080; background-color: #272727; font-weight: bold\">17.24</span><span style=\"background-color: #272727\">,   </span><span style=\"color: #008080; text-decoration-color: #008080; background-color: #272727; font-weight: bold\">0.00</span><span style=\"background-color: #272727; font-weight: bold\">}</span><span style=\"background-color: #272727\">, </span><span style=\"color: #800080; text-decoration-color: #800080; background-color: #272727; font-weight: bold\">V</span><span style=\"background-color: #272727; font-weight: bold\">(</span><span style=\"color: #008080; text-decoration-color: #008080; background-color: #272727; font-weight: bold\">22.09</span><span style=\"background-color: #272727\">, </span><span style=\"color: #008080; text-decoration-color: #008080; background-color: #272727; font-weight: bold\">26.25</span><span style=\"background-color: #272727\">, </span><span style=\"color: #008080; text-decoration-color: #008080; background-color: #272727; font-weight: bold\">0.00</span><span style=\"background-color: #272727; font-weight: bold\">))</span>\n",
       "</pre>\n"
      ],
      "text/plain": [
       "\u001b[48;2;39;39;39mHalfLine from \u001b[0m\u001b[1;48;2;39;39;39m{\u001b[0m\u001b[48;2;39;39;39m \u001b[0m\u001b[1;36;48;2;39;39;39m33.99\u001b[0m\u001b[48;2;39;39;39m,  \u001b[0m\u001b[1;36;48;2;39;39;39m17.24\u001b[0m\u001b[48;2;39;39;39m,  \u001b[0m\u001b[1;36;48;2;39;39;39m11.40\u001b[0m\u001b[1;48;2;39;39;39m}\u001b[0m\u001b[48;2;39;39;39m to \u001b[0m\u001b[1;48;2;39;39;39m{\u001b[0m\u001b[48;2;39;39;39m \u001b[0m\u001b[1;36;48;2;39;39;39m56.08\u001b[0m\u001b[48;2;39;39;39m,  \u001b[0m\u001b[1;36;48;2;39;39;39m43.49\u001b[0m\u001b[48;2;39;39;39m,  \u001b[0m\u001b[1;36;48;2;39;39;39m11.40\u001b[0m\u001b[1;48;2;39;39;39m}\u001b[0m\u001b[48;2;39;39;39m:\u001b[0m\n",
       "\u001b[48;2;39;39;39m \u001b[0m\u001b[1;35;48;2;39;39;39mH\u001b[0m\u001b[1;48;2;39;39;39m(\u001b[0m\u001b[1;48;2;39;39;39m{\u001b[0m\u001b[48;2;39;39;39m \u001b[0m\u001b[1;36;48;2;39;39;39m33.99\u001b[0m\u001b[48;2;39;39;39m,  \u001b[0m\u001b[1;36;48;2;39;39;39m17.24\u001b[0m\u001b[48;2;39;39;39m,   \u001b[0m\u001b[1;36;48;2;39;39;39m0.00\u001b[0m\u001b[1;48;2;39;39;39m}\u001b[0m\u001b[48;2;39;39;39m, \u001b[0m\u001b[1;35;48;2;39;39;39mV\u001b[0m\u001b[1;48;2;39;39;39m(\u001b[0m\u001b[1;36;48;2;39;39;39m22.09\u001b[0m\u001b[48;2;39;39;39m, \u001b[0m\u001b[1;36;48;2;39;39;39m26.25\u001b[0m\u001b[48;2;39;39;39m, \u001b[0m\u001b[1;36;48;2;39;39;39m0.00\u001b[0m\u001b[1;48;2;39;39;39m)\u001b[0m\u001b[1;48;2;39;39;39m)\u001b[0m\n"
      ]
     },
     "metadata": {},
     "output_type": "display_data"
    },
    {
     "data": {
      "text/html": [
       "<pre style=\"white-space:pre;overflow-x:auto;line-height:normal;font-family:Menlo,'DejaVu Sans Mono',consolas,'Courier New',monospace\"><span style=\"color: #008080; text-decoration-color: #008080; background-color: #272727; font-weight: bold\">0</span><span style=\"background-color: #272727\">/</span><span style=\"color: #008080; text-decoration-color: #008080; background-color: #272727; font-weight: bold\">17</span><span style=\"background-color: #272727\"> unprinted segments that don't intersect </span><span style=\"background-color: #272727; font-weight: bold\">(</span><span style=\"background-color: #272727\">anchor→ring trajectory + remaining thread segments</span><span style=\"background-color: #272727; font-weight: bold\">)</span>\n",
       "</pre>\n"
      ],
      "text/plain": [
       "\u001b[1;36;48;2;39;39;39m0\u001b[0m\u001b[48;2;39;39;39m/\u001b[0m\u001b[1;36;48;2;39;39;39m17\u001b[0m\u001b[48;2;39;39;39m unprinted segments that don't intersect \u001b[0m\u001b[1;48;2;39;39;39m(\u001b[0m\u001b[48;2;39;39;39manchor→ring trajectory + remaining thread segments\u001b[0m\u001b[1;48;2;39;39;39m)\u001b[0m\n"
      ]
     },
     "metadata": {},
     "output_type": "display_data"
    },
    {
     "data": {
      "text/html": [
       "<pre style=\"white-space:pre;overflow-x:auto;line-height:normal;font-family:Menlo,'DejaVu Sans Mono',consolas,'Courier New',monospace\"><span style=\"color: #008080; text-decoration-color: #008080; background-color: #272727; font-weight: bold\">12</span><span style=\"background-color: #272727\">/</span><span style=\"color: #008080; text-decoration-color: #008080; background-color: #272727; font-weight: bold\">17</span><span style=\"background-color: #272727\"> unprinted segments that intersect current thread segment</span>\n",
       "</pre>\n"
      ],
      "text/plain": [
       "\u001b[1;36;48;2;39;39;39m12\u001b[0m\u001b[48;2;39;39;39m/\u001b[0m\u001b[1;36;48;2;39;39;39m17\u001b[0m\u001b[48;2;39;39;39m unprinted segments that intersect current thread segment\u001b[0m\n"
      ]
     },
     "metadata": {},
     "output_type": "display_data"
    },
    {
     "data": {
      "text/html": [
       "<pre style=\"white-space:pre;overflow-x:auto;line-height:normal;font-family:Menlo,'DejaVu Sans Mono',consolas,'Courier New',monospace\"><span style=\"color: #008080; text-decoration-color: #008080; background-color: #272727; font-weight: bold\">1</span><span style=\"background-color: #272727\">: Nothing not intersecting thread to print</span>\n",
       "</pre>\n"
      ],
      "text/plain": [
       "\u001b[1;36;48;2;39;39;39m1\u001b[0m\u001b[48;2;39;39;39m: Nothing not intersecting thread to print\u001b[0m\n"
      ]
     },
     "metadata": {},
     "output_type": "display_data"
    },
    {
     "data": {
      "text/html": [
       "<pre style=\"white-space:pre;overflow-x:auto;line-height:normal;font-family:Menlo,'DejaVu Sans Mono',consolas,'Courier New',monospace\">\n",
       "<span style=\"color: #00afaf; text-decoration-color: #00afaf; background-color: #272727; font-weight: bold; font-style: italic\">&lt;Step</span><span style=\"color: #00afaf; text-decoration-color: #00afaf; background-color: #272727; font-style: italic\"> </span><span style=\"color: #00afaf; text-decoration-color: #00afaf; background-color: #272727; font-weight: bold; font-style: italic\">5</span><span style=\"color: #00afaf; text-decoration-color: #00afaf; background-color: #272727; font-style: italic\"> </span><span style=\"color: #00afaf; text-decoration-color: #00afaf; background-color: #272727; font-weight: bold; font-style: italic\">(0</span><span style=\"color: #00afaf; text-decoration-color: #00afaf; background-color: #272727; font-style: italic\"> segments</span><span style=\"color: #00afaf; text-decoration-color: #00afaf; background-color: #272727; font-weight: bold; font-style: italic\">)&gt;</span><span style=\"color: #00afaf; text-decoration-color: #00afaf; background-color: #272727; font-style: italic\">: Print </span><span style=\"color: #00afaf; text-decoration-color: #00afaf; background-color: #272727; font-weight: bold; font-style: italic\">12</span><span style=\"color: #00afaf; text-decoration-color: #00afaf; background-color: #272727; font-style: italic\"> overlapping layers segments</span>\n",
       "<span style=\"color: #00afaf; text-decoration-color: #00afaf; background-color: #272727; font-style: italic\">  </span><span style=\"color: #00afaf; text-decoration-color: #00afaf; background-color: #272727; font-weight: bold; font-style: italic\">Printer(Bed(0</span><span style=\"color: #00afaf; text-decoration-color: #00afaf; background-color: #272727; font-style: italic\">, </span><span style=\"color: #00afaf; text-decoration-color: #00afaf; background-color: #272727; font-weight: bold; font-style: italic\">0</span><span style=\"color: #00afaf; text-decoration-color: #00afaf; background-color: #272727; font-style: italic\">, ⚓︎</span><span style=\"color: #00afaf; text-decoration-color: #00afaf; background-color: #272727; font-weight: bold; font-style: italic\">{</span><span style=\"color: #00afaf; text-decoration-color: #00afaf; background-color: #272727; font-style: italic\">  </span><span style=\"color: #00afaf; text-decoration-color: #00afaf; background-color: #272727; font-weight: bold; font-style: italic\">0.00</span><span style=\"color: #00afaf; text-decoration-color: #00afaf; background-color: #272727; font-style: italic\">,   </span><span style=\"color: #00afaf; text-decoration-color: #00afaf; background-color: #272727; font-weight: bold; font-style: italic\">0.00</span><span style=\"color: #00afaf; text-decoration-color: #00afaf; background-color: #272727; font-style: italic\">,   </span><span style=\"color: #00afaf; text-decoration-color: #00afaf; background-color: #272727; font-weight: bold; font-style: italic\">0.00})</span><span style=\"color: #00afaf; text-decoration-color: #00afaf; background-color: #272727; font-style: italic\">, </span><span style=\"color: #00afaf; text-decoration-color: #00afaf; background-color: #272727; font-weight: bold; font-style: italic\">Ring(46.58</span><span style=\"color: #00afaf; text-decoration-color: #00afaf; background-color: #272727; font-style: italic\">°, </span><span style=\"color: #00afaf; text-decoration-color: #00afaf; background-color: #272727; font-weight: bold; font-style: italic\">{</span><span style=\"color: #00afaf; text-decoration-color: #00afaf; background-color: #272727; font-style: italic\"> </span><span style=\"color: #00afaf; text-decoration-color: #00afaf; background-color: #272727; font-weight: bold; font-style: italic\">36.00</span><span style=\"color: #00afaf; text-decoration-color: #00afaf; background-color: #272727; font-style: italic\">,  </span><span style=\"color: #00afaf; text-decoration-color: #00afaf; background-color: #272727; font-weight: bold; font-style: italic\">28.00</span><span style=\"color: #00afaf; text-decoration-color: #00afaf; background-color: #272727; font-style: italic\">,   </span><span style=\"color: #00afaf; text-decoration-color: #00afaf; background-color: #272727; font-weight: bold; font-style: italic\">0.00}))</span>\n",
       "</pre>\n"
      ],
      "text/plain": [
       "\n",
       "\u001b[1;3;38;5;37;48;2;39;39;39m<\u001b[0m\u001b[1;3;38;5;37;48;2;39;39;39mStep\u001b[0m\u001b[3;38;5;37;48;2;39;39;39m \u001b[0m\u001b[1;3;38;5;37;48;2;39;39;39m5\u001b[0m\u001b[3;38;5;37;48;2;39;39;39m \u001b[0m\u001b[1;3;38;5;37;48;2;39;39;39m(\u001b[0m\u001b[1;3;38;5;37;48;2;39;39;39m0\u001b[0m\u001b[3;38;5;37;48;2;39;39;39m segments\u001b[0m\u001b[1;3;38;5;37;48;2;39;39;39m)\u001b[0m\u001b[1;3;38;5;37;48;2;39;39;39m>\u001b[0m\u001b[3;38;5;37;48;2;39;39;39m: \u001b[0m\u001b[3;38;5;37;48;2;39;39;39mPrint \u001b[0m\u001b[1;3;38;5;37;48;2;39;39;39m12\u001b[0m\u001b[3;38;5;37;48;2;39;39;39m overlapping layers segments\u001b[0m\n",
       "\u001b[3;38;5;37;48;2;39;39;39m  \u001b[0m\u001b[1;3;38;5;37;48;2;39;39;39mPrinter\u001b[0m\u001b[1;3;38;5;37;48;2;39;39;39m(\u001b[0m\u001b[1;3;38;5;37;48;2;39;39;39mBed\u001b[0m\u001b[1;3;38;5;37;48;2;39;39;39m(\u001b[0m\u001b[1;3;38;5;37;48;2;39;39;39m0\u001b[0m\u001b[3;38;5;37;48;2;39;39;39m, \u001b[0m\u001b[1;3;38;5;37;48;2;39;39;39m0\u001b[0m\u001b[3;38;5;37;48;2;39;39;39m, ⚓︎\u001b[0m\u001b[1;3;38;5;37;48;2;39;39;39m{\u001b[0m\u001b[3;38;5;37;48;2;39;39;39m  \u001b[0m\u001b[1;3;38;5;37;48;2;39;39;39m0.00\u001b[0m\u001b[3;38;5;37;48;2;39;39;39m,   \u001b[0m\u001b[1;3;38;5;37;48;2;39;39;39m0.00\u001b[0m\u001b[3;38;5;37;48;2;39;39;39m,   \u001b[0m\u001b[1;3;38;5;37;48;2;39;39;39m0.00\u001b[0m\u001b[1;3;38;5;37;48;2;39;39;39m}\u001b[0m\u001b[1;3;38;5;37;48;2;39;39;39m)\u001b[0m\u001b[3;38;5;37;48;2;39;39;39m, \u001b[0m\u001b[1;3;38;5;37;48;2;39;39;39mRing\u001b[0m\u001b[1;3;38;5;37;48;2;39;39;39m(\u001b[0m\u001b[1;3;38;5;37;48;2;39;39;39m46.58\u001b[0m\u001b[3;38;5;37;48;2;39;39;39m°, \u001b[0m\u001b[1;3;38;5;37;48;2;39;39;39m{\u001b[0m\u001b[3;38;5;37;48;2;39;39;39m \u001b[0m\u001b[1;3;38;5;37;48;2;39;39;39m36.00\u001b[0m\u001b[3;38;5;37;48;2;39;39;39m,  \u001b[0m\u001b[1;3;38;5;37;48;2;39;39;39m28.00\u001b[0m\u001b[3;38;5;37;48;2;39;39;39m,   \u001b[0m\u001b[1;3;38;5;37;48;2;39;39;39m0.00\u001b[0m\u001b[1;3;38;5;37;48;2;39;39;39m}\u001b[0m\u001b[1;3;38;5;37;48;2;39;39;39m)\u001b[0m\u001b[1;3;38;5;37;48;2;39;39;39m)\u001b[0m\n"
      ]
     },
     "metadata": {},
     "output_type": "display_data"
    },
    {
     "data": {
      "text/html": [
       "<pre style=\"white-space:pre;overflow-x:auto;line-height:normal;font-family:Menlo,'DejaVu Sans Mono',consolas,'Courier New',monospace\"><span style=\"background-color: #272727\">Adding </span><span style=\"color: #008080; text-decoration-color: #008080; background-color: #272727; font-weight: bold\">12</span><span style=\"background-color: #272727\">/</span><span style=\"color: #008080; text-decoration-color: #008080; background-color: #272727; font-weight: bold\">12</span><span style=\"background-color: #272727\"> unprinted gcsegs to Step</span>\n",
       "</pre>\n"
      ],
      "text/plain": [
       "\u001b[48;2;39;39;39mAdding \u001b[0m\u001b[1;36;48;2;39;39;39m12\u001b[0m\u001b[48;2;39;39;39m/\u001b[0m\u001b[1;36;48;2;39;39;39m12\u001b[0m\u001b[48;2;39;39;39m unprinted gcsegs to Step\u001b[0m\n"
      ]
     },
     "metadata": {},
     "output_type": "display_data"
    },
    {
     "data": {
      "text/html": [
       "<pre style=\"white-space:pre;overflow-x:auto;line-height:normal;font-family:Menlo,'DejaVu Sans Mono',consolas,'Courier New',monospace\"><span style=\"color: #808000; text-decoration-color: #808000; background-color: #272727\">---- Adding </span><span style=\"color: #808000; text-decoration-color: #808000; background-color: #272727; font-weight: bold\">21821</span><span style=\"color: #808000; text-decoration-color: #808000; background-color: #272727\"> </span><span style=\"color: #808000; text-decoration-color: #808000; background-color: #272727; font-weight: bold\">(</span><span style=\"color: #808000; text-decoration-color: #808000; background-color: #272727\">n</span><span style=\"color: #808000; text-decoration-color: #808000; background-color: #272727; font-weight: bold\">)</span><span style=\"color: #808000; text-decoration-color: #808000; background-color: #272727\"> to </span><span style=\"color: #808000; text-decoration-color: #808000; background-color: #272727; font-weight: bold\">&lt;Step</span><span style=\"color: #808000; text-decoration-color: #808000; background-color: #272727\"> </span><span style=\"color: #808000; text-decoration-color: #808000; background-color: #272727; font-weight: bold\">5</span><span style=\"color: #808000; text-decoration-color: #808000; background-color: #272727\"> </span><span style=\"color: #808000; text-decoration-color: #808000; background-color: #272727; font-weight: bold\">(</span><span style=\"color: #808000; text-decoration-color: #808000; background-color: #272727; font-weight: bold\">11</span><span style=\"color: #808000; text-decoration-color: #808000; background-color: #272727\"> segments</span><span style=\"color: #808000; text-decoration-color: #808000; background-color: #272727; font-weight: bold\">)&gt;</span><span style=\"color: #808000; text-decoration-color: #808000; background-color: #272727\">: </span><span style=\"color: #00afaf; text-decoration-color: #00afaf; background-color: #272727; font-style: italic\">Print </span><span style=\"color: #00afaf; text-decoration-color: #00afaf; background-color: #272727; font-weight: bold; font-style: italic\">12</span><span style=\"color: #00afaf; text-decoration-color: #00afaf; background-color: #272727; font-style: italic\"> overlapping layers segments</span>\n",
       "<span style=\"color: #808000; text-decoration-color: #808000; background-color: #272727\">  </span><span style=\"color: #808000; text-decoration-color: #808000; background-color: #272727; font-weight: bold\">Printer(Bed(</span><span style=\"color: #808000; text-decoration-color: #808000; background-color: #272727; font-weight: bold\">0</span><span style=\"color: #808000; text-decoration-color: #808000; background-color: #272727\">, </span><span style=\"color: #808000; text-decoration-color: #808000; background-color: #272727; font-weight: bold\">0</span><span style=\"color: #808000; text-decoration-color: #808000; background-color: #272727\">, ⚓︎</span><span style=\"color: #808000; text-decoration-color: #808000; background-color: #272727; font-weight: bold\">{</span><span style=\"color: #808000; text-decoration-color: #808000; background-color: #272727\">  </span><span style=\"color: #808000; text-decoration-color: #808000; background-color: #272727; font-weight: bold\">0.00</span><span style=\"color: #808000; text-decoration-color: #808000; background-color: #272727\">,   </span><span style=\"color: #808000; text-decoration-color: #808000; background-color: #272727; font-weight: bold\">0.00</span><span style=\"color: #808000; text-decoration-color: #808000; background-color: #272727\">,   </span><span style=\"color: #808000; text-decoration-color: #808000; background-color: #272727; font-weight: bold\">0.00</span><span style=\"color: #808000; text-decoration-color: #808000; background-color: #272727; font-weight: bold\">})</span><span style=\"color: #808000; text-decoration-color: #808000; background-color: #272727\">, </span><span style=\"color: #808000; text-decoration-color: #808000; background-color: #272727; font-weight: bold\">Ring(</span><span style=\"color: #808000; text-decoration-color: #808000; background-color: #272727; font-weight: bold\">46.58</span><span style=\"color: #808000; text-decoration-color: #808000; background-color: #272727\">°, </span><span style=\"color: #808000; text-decoration-color: #808000; background-color: #272727; font-weight: bold\">{</span><span style=\"color: #808000; text-decoration-color: #808000; background-color: #272727\"> </span><span style=\"color: #808000; text-decoration-color: #808000; background-color: #272727; font-weight: bold\">36.00</span><span style=\"color: #808000; text-decoration-color: #808000; background-color: #272727\">,  </span><span style=\"color: #808000; text-decoration-color: #808000; background-color: #272727; font-weight: bold\">28.00</span><span style=\"color: #808000; text-decoration-color: #808000; background-color: #272727\">,   </span><span style=\"color: #808000; text-decoration-color: #808000; background-color: #272727; font-weight: bold\">0.00</span><span style=\"color: #808000; text-decoration-color: #808000; background-color: #272727; font-weight: bold\">}))</span><span style=\"color: #808000; text-decoration-color: #808000; background-color: #272727\">:</span>\n",
       "<span style=\"color: #808000; text-decoration-color: #808000; background-color: #272727; font-weight: bold\">&lt;s[</span><span style=\"color: #808000; text-decoration-color: #808000; background-color: #272727; font-weight: bold\">2</span><span style=\"color: #808000; text-decoration-color: #808000; background-color: #272727; font-weight: bold\">]</span><span style=\"color: #808000; text-decoration-color: #808000; background-color: #272727\"> </span><span style=\"color: #808000; text-decoration-color: #808000; background-color: #272727; font-weight: bold\">21821</span><span style=\"color: #808000; text-decoration-color: #808000; background-color: #272727\">:</span><span style=\"color: #808000; text-decoration-color: #808000; background-color: #272727; font-weight: bold\">{</span><span style=\"color: #808000; text-decoration-color: #808000; background-color: #272727\"> </span><span style=\"color: #808000; text-decoration-color: #808000; background-color: #272727; font-weight: bold\">46.83</span><span style=\"color: #808000; text-decoration-color: #808000; background-color: #272727\">,  </span><span style=\"color: #808000; text-decoration-color: #808000; background-color: #272727; font-weight: bold\">46.20</span><span style=\"color: #808000; text-decoration-color: #808000; background-color: #272727\">,  </span><span style=\"color: #808000; text-decoration-color: #808000; background-color: #272727; font-weight: bold\">11.40</span><span style=\"color: #808000; text-decoration-color: #808000; background-color: #272727; font-weight: bold\">}</span><span style=\"color: #808000; text-decoration-color: #808000; background-color: #272727\">←→</span><span style=\"color: #808000; text-decoration-color: #808000; background-color: #272727; font-weight: bold\">21822</span><span style=\"color: #808000; text-decoration-color: #808000; background-color: #272727\">:</span><span style=\"color: #808000; text-decoration-color: #808000; background-color: #272727; font-weight: bold\">{</span><span style=\"color: #808000; text-decoration-color: #808000; background-color: #272727\"> </span><span style=\"color: #808000; text-decoration-color: #808000; background-color: #272727; font-weight: bold\">62.56</span><span style=\"color: #808000; text-decoration-color: #808000; background-color: #272727\">,  </span><span style=\"color: #808000; text-decoration-color: #808000; background-color: #272727; font-weight: bold\">41.60</span><span style=\"color: #808000; text-decoration-color: #808000; background-color: #272727\">,  </span><span style=\"color: #808000; text-decoration-color: #808000; background-color: #272727; font-weight: bold\">11.40</span><span style=\"color: #808000; text-decoration-color: #808000; background-color: #272727; font-weight: bold\">}&gt;</span>\n",
       "<span style=\"color: #808000; text-decoration-color: #808000; background-color: #272727\">----</span>\n",
       "</pre>\n"
      ],
      "text/plain": [
       "\u001b[33;48;2;39;39;39m---- Adding \u001b[0m\u001b[1;33;48;2;39;39;39m21821\u001b[0m\u001b[33;48;2;39;39;39m \u001b[0m\u001b[1;33;48;2;39;39;39m(\u001b[0m\u001b[33;48;2;39;39;39mn\u001b[0m\u001b[1;33;48;2;39;39;39m)\u001b[0m\u001b[33;48;2;39;39;39m to \u001b[0m\u001b[1;33;48;2;39;39;39m<\u001b[0m\u001b[1;33;48;2;39;39;39mStep\u001b[0m\u001b[33;48;2;39;39;39m \u001b[0m\u001b[1;33;48;2;39;39;39m5\u001b[0m\u001b[33;48;2;39;39;39m \u001b[0m\u001b[1;33;48;2;39;39;39m(\u001b[0m\u001b[1;33;48;2;39;39;39m11\u001b[0m\u001b[33;48;2;39;39;39m segments\u001b[0m\u001b[1;33;48;2;39;39;39m)\u001b[0m\u001b[1;33;48;2;39;39;39m>\u001b[0m\u001b[33;48;2;39;39;39m: \u001b[0m\u001b[3;38;5;37;48;2;39;39;39mPrint \u001b[0m\u001b[1;3;38;5;37;48;2;39;39;39m12\u001b[0m\u001b[3;38;5;37;48;2;39;39;39m overlapping layers segments\u001b[0m\n",
       "\u001b[33;48;2;39;39;39m  \u001b[0m\u001b[1;33;48;2;39;39;39mPrinter\u001b[0m\u001b[1;33;48;2;39;39;39m(\u001b[0m\u001b[1;33;48;2;39;39;39mBed\u001b[0m\u001b[1;33;48;2;39;39;39m(\u001b[0m\u001b[1;33;48;2;39;39;39m0\u001b[0m\u001b[33;48;2;39;39;39m, \u001b[0m\u001b[1;33;48;2;39;39;39m0\u001b[0m\u001b[33;48;2;39;39;39m, ⚓︎\u001b[0m\u001b[1;33;48;2;39;39;39m{\u001b[0m\u001b[33;48;2;39;39;39m  \u001b[0m\u001b[1;33;48;2;39;39;39m0.00\u001b[0m\u001b[33;48;2;39;39;39m,   \u001b[0m\u001b[1;33;48;2;39;39;39m0.00\u001b[0m\u001b[33;48;2;39;39;39m,   \u001b[0m\u001b[1;33;48;2;39;39;39m0.00\u001b[0m\u001b[1;33;48;2;39;39;39m}\u001b[0m\u001b[1;33;48;2;39;39;39m)\u001b[0m\u001b[33;48;2;39;39;39m, \u001b[0m\u001b[1;33;48;2;39;39;39mRing\u001b[0m\u001b[1;33;48;2;39;39;39m(\u001b[0m\u001b[1;33;48;2;39;39;39m46.58\u001b[0m\u001b[33;48;2;39;39;39m°, \u001b[0m\u001b[1;33;48;2;39;39;39m{\u001b[0m\u001b[33;48;2;39;39;39m \u001b[0m\u001b[1;33;48;2;39;39;39m36.00\u001b[0m\u001b[33;48;2;39;39;39m,  \u001b[0m\u001b[1;33;48;2;39;39;39m28.00\u001b[0m\u001b[33;48;2;39;39;39m,   \u001b[0m\u001b[1;33;48;2;39;39;39m0.00\u001b[0m\u001b[1;33;48;2;39;39;39m}\u001b[0m\u001b[1;33;48;2;39;39;39m)\u001b[0m\u001b[1;33;48;2;39;39;39m)\u001b[0m\u001b[33;48;2;39;39;39m:\u001b[0m\n",
       "\u001b[1;33;48;2;39;39;39m<\u001b[0m\u001b[1;33;48;2;39;39;39ms\u001b[0m\u001b[1;33;48;2;39;39;39m[\u001b[0m\u001b[1;33;48;2;39;39;39m2\u001b[0m\u001b[1;33;48;2;39;39;39m]\u001b[0m\u001b[33;48;2;39;39;39m \u001b[0m\u001b[1;33;48;2;39;39;39m21821\u001b[0m\u001b[33;48;2;39;39;39m:\u001b[0m\u001b[1;33;48;2;39;39;39m{\u001b[0m\u001b[33;48;2;39;39;39m \u001b[0m\u001b[1;33;48;2;39;39;39m46.83\u001b[0m\u001b[33;48;2;39;39;39m,  \u001b[0m\u001b[1;33;48;2;39;39;39m46.20\u001b[0m\u001b[33;48;2;39;39;39m,  \u001b[0m\u001b[1;33;48;2;39;39;39m11.40\u001b[0m\u001b[1;33;48;2;39;39;39m}\u001b[0m\u001b[33;48;2;39;39;39m←→\u001b[0m\u001b[1;33;48;2;39;39;39m21822\u001b[0m\u001b[33;48;2;39;39;39m:\u001b[0m\u001b[1;33;48;2;39;39;39m{\u001b[0m\u001b[33;48;2;39;39;39m \u001b[0m\u001b[1;33;48;2;39;39;39m62.56\u001b[0m\u001b[33;48;2;39;39;39m,  \u001b[0m\u001b[1;33;48;2;39;39;39m41.60\u001b[0m\u001b[33;48;2;39;39;39m,  \u001b[0m\u001b[1;33;48;2;39;39;39m11.40\u001b[0m\u001b[1;33;48;2;39;39;39m}\u001b[0m\u001b[1;33;48;2;39;39;39m>\u001b[0m\n",
       "\u001b[33;48;2;39;39;39m----\u001b[0m\n"
      ]
     },
     "metadata": {},
     "output_type": "display_data"
    },
    {
     "data": {
      "text/html": [
       "<pre style=\"white-space:pre;overflow-x:auto;line-height:normal;font-family:Menlo,'DejaVu Sans Mono',consolas,'Courier New',monospace\"><span style=\"color: #808000; text-decoration-color: #808000; background-color: #272727\">————</span><span style=\"background-color: #272727\"> Thread </span><span style=\"color: #008080; text-decoration-color: #008080; background-color: #272727; font-weight: bold\">2</span><span style=\"background-color: #272727\">: </span><span style=\"background-color: #272727; font-weight: bold\">&lt;</span><span style=\"color: #000000; text-decoration-color: #000000; background-color: #272727; font-weight: bold\">{</span><span style=\"color: #000000; text-decoration-color: #000000; background-color: #272727\"> </span><span style=\"color: #008080; text-decoration-color: #008080; background-color: #272727; font-weight: bold\">56.08</span><span style=\"color: #000000; text-decoration-color: #000000; background-color: #272727\">,  </span><span style=\"color: #008080; text-decoration-color: #008080; background-color: #272727; font-weight: bold\">43.49</span><span style=\"color: #000000; text-decoration-color: #000000; background-color: #272727\">,  </span><span style=\"color: #008080; text-decoration-color: #008080; background-color: #272727; font-weight: bold\">11.40</span><span style=\"color: #000000; text-decoration-color: #000000; background-color: #272727; font-weight: bold\">}</span><span style=\"color: #000000; text-decoration-color: #000000; background-color: #272727\">←→</span><span style=\"color: #000000; text-decoration-color: #000000; background-color: #272727; font-weight: bold\">{</span><span style=\"color: #000000; text-decoration-color: #000000; background-color: #272727\"> </span><span style=\"color: #008080; text-decoration-color: #008080; background-color: #272727; font-weight: bold\">53.54</span><span style=\"color: #000000; text-decoration-color: #000000; background-color: #272727\">,  </span><span style=\"color: #008080; text-decoration-color: #008080; background-color: #272727; font-weight: bold\">57.63</span><span style=\"color: #000000; text-decoration-color: #000000; background-color: #272727\">,  </span><span style=\"color: #008080; text-decoration-color: #008080; background-color: #272727; font-weight: bold\">11.40</span><span style=\"color: #000000; text-decoration-color: #000000; background-color: #272727; font-weight: bold\">}</span><span style=\"background-color: #272727; font-weight: bold\">&gt;</span><span style=\"background-color: #272727\"> </span><span style=\"color: #808000; text-decoration-color: #808000; background-color: #272727\">————</span>\n",
       "</pre>\n"
      ],
      "text/plain": [
       "\u001b[33;48;2;39;39;39m————\u001b[0m\u001b[48;2;39;39;39m Thread \u001b[0m\u001b[1;36;48;2;39;39;39m2\u001b[0m\u001b[48;2;39;39;39m: \u001b[0m\u001b[1;48;2;39;39;39m<\u001b[0m\u001b[1;39;48;2;39;39;39m{\u001b[0m\u001b[39;48;2;39;39;39m \u001b[0m\u001b[1;36;48;2;39;39;39m56.08\u001b[0m\u001b[39;48;2;39;39;39m,  \u001b[0m\u001b[1;36;48;2;39;39;39m43.49\u001b[0m\u001b[39;48;2;39;39;39m,  \u001b[0m\u001b[1;36;48;2;39;39;39m11.40\u001b[0m\u001b[1;39;48;2;39;39;39m}\u001b[0m\u001b[39;48;2;39;39;39m←→\u001b[0m\u001b[1;39;48;2;39;39;39m{\u001b[0m\u001b[39;48;2;39;39;39m \u001b[0m\u001b[1;36;48;2;39;39;39m53.54\u001b[0m\u001b[39;48;2;39;39;39m,  \u001b[0m\u001b[1;36;48;2;39;39;39m57.63\u001b[0m\u001b[39;48;2;39;39;39m,  \u001b[0m\u001b[1;36;48;2;39;39;39m11.40\u001b[0m\u001b[1;39;48;2;39;39;39m}\u001b[0m\u001b[1;48;2;39;39;39m>\u001b[0m\u001b[48;2;39;39;39m \u001b[0m\u001b[33;48;2;39;39;39m————\u001b[0m\n"
      ]
     },
     "metadata": {},
     "output_type": "display_data"
    },
    {
     "data": {
      "text/html": [
       "<pre style=\"white-space:pre;overflow-x:auto;line-height:normal;font-family:Menlo,'DejaVu Sans Mono',consolas,'Courier New',monospace\">\n",
       "<span style=\"color: #00afaf; text-decoration-color: #00afaf; background-color: #272727; font-weight: bold; font-style: italic\">&lt;Step</span><span style=\"color: #00afaf; text-decoration-color: #00afaf; background-color: #272727; font-style: italic\"> </span><span style=\"color: #00afaf; text-decoration-color: #00afaf; background-color: #272727; font-weight: bold; font-style: italic\">6</span><span style=\"color: #00afaf; text-decoration-color: #00afaf; background-color: #272727; font-style: italic\"> </span><span style=\"color: #00afaf; text-decoration-color: #00afaf; background-color: #272727; font-weight: bold; font-style: italic\">(0</span><span style=\"color: #00afaf; text-decoration-color: #00afaf; background-color: #272727; font-style: italic\"> segments</span><span style=\"color: #00afaf; text-decoration-color: #00afaf; background-color: #272727; font-weight: bold; font-style: italic\">)&gt;</span><span style=\"color: #00afaf; text-decoration-color: #00afaf; background-color: #272727; font-style: italic\">: Move thread to overlap anchor at </span><span style=\"color: #00afaf; text-decoration-color: #00afaf; background-color: #272727; font-weight: bold; font-style: italic\">{</span><span style=\"color: #00afaf; text-decoration-color: #00afaf; background-color: #272727; font-style: italic\"> </span><span style=\"color: #00afaf; text-decoration-color: #00afaf; background-color: #272727; font-weight: bold; font-style: italic\">53.54</span><span style=\"color: #00afaf; text-decoration-color: #00afaf; background-color: #272727; font-style: italic\">,  </span><span style=\"color: #00afaf; text-decoration-color: #00afaf; background-color: #272727; font-weight: bold; font-style: italic\">57.63</span><span style=\"color: #00afaf; text-decoration-color: #00afaf; background-color: #272727; font-style: italic\">,  </span><span style=\"color: #00afaf; text-decoration-color: #00afaf; background-color: #272727; font-weight: bold; font-style: italic\">11.40}</span>\n",
       "<span style=\"color: #00afaf; text-decoration-color: #00afaf; background-color: #272727; font-style: italic\">  </span><span style=\"color: #00afaf; text-decoration-color: #00afaf; background-color: #272727; font-weight: bold; font-style: italic\">Printer(Bed(0</span><span style=\"color: #00afaf; text-decoration-color: #00afaf; background-color: #272727; font-style: italic\">, </span><span style=\"color: #00afaf; text-decoration-color: #00afaf; background-color: #272727; font-weight: bold; font-style: italic\">0</span><span style=\"color: #00afaf; text-decoration-color: #00afaf; background-color: #272727; font-style: italic\">, ⚓︎</span><span style=\"color: #00afaf; text-decoration-color: #00afaf; background-color: #272727; font-weight: bold; font-style: italic\">{</span><span style=\"color: #00afaf; text-decoration-color: #00afaf; background-color: #272727; font-style: italic\">  </span><span style=\"color: #00afaf; text-decoration-color: #00afaf; background-color: #272727; font-weight: bold; font-style: italic\">0.00</span><span style=\"color: #00afaf; text-decoration-color: #00afaf; background-color: #272727; font-style: italic\">,   </span><span style=\"color: #00afaf; text-decoration-color: #00afaf; background-color: #272727; font-weight: bold; font-style: italic\">0.00</span><span style=\"color: #00afaf; text-decoration-color: #00afaf; background-color: #272727; font-style: italic\">,   </span><span style=\"color: #00afaf; text-decoration-color: #00afaf; background-color: #272727; font-weight: bold; font-style: italic\">0.00})</span><span style=\"color: #00afaf; text-decoration-color: #00afaf; background-color: #272727; font-style: italic\">, </span><span style=\"color: #00afaf; text-decoration-color: #00afaf; background-color: #272727; font-weight: bold; font-style: italic\">Ring(46.58</span><span style=\"color: #00afaf; text-decoration-color: #00afaf; background-color: #272727; font-style: italic\">°, </span><span style=\"color: #00afaf; text-decoration-color: #00afaf; background-color: #272727; font-weight: bold; font-style: italic\">{</span><span style=\"color: #00afaf; text-decoration-color: #00afaf; background-color: #272727; font-style: italic\"> </span><span style=\"color: #00afaf; text-decoration-color: #00afaf; background-color: #272727; font-weight: bold; font-style: italic\">36.00</span><span style=\"color: #00afaf; text-decoration-color: #00afaf; background-color: #272727; font-style: italic\">,  </span><span style=\"color: #00afaf; text-decoration-color: #00afaf; background-color: #272727; font-weight: bold; font-style: italic\">28.00</span><span style=\"color: #00afaf; text-decoration-color: #00afaf; background-color: #272727; font-style: italic\">,   </span><span style=\"color: #00afaf; text-decoration-color: #00afaf; background-color: #272727; font-weight: bold; font-style: italic\">0.00}))</span>\n",
       "</pre>\n"
      ],
      "text/plain": [
       "\n",
       "\u001b[1;3;38;5;37;48;2;39;39;39m<\u001b[0m\u001b[1;3;38;5;37;48;2;39;39;39mStep\u001b[0m\u001b[3;38;5;37;48;2;39;39;39m \u001b[0m\u001b[1;3;38;5;37;48;2;39;39;39m6\u001b[0m\u001b[3;38;5;37;48;2;39;39;39m \u001b[0m\u001b[1;3;38;5;37;48;2;39;39;39m(\u001b[0m\u001b[1;3;38;5;37;48;2;39;39;39m0\u001b[0m\u001b[3;38;5;37;48;2;39;39;39m segments\u001b[0m\u001b[1;3;38;5;37;48;2;39;39;39m)\u001b[0m\u001b[1;3;38;5;37;48;2;39;39;39m>\u001b[0m\u001b[3;38;5;37;48;2;39;39;39m: \u001b[0m\u001b[3;38;5;37;48;2;39;39;39mMove thread to overlap anchor at \u001b[0m\u001b[1;3;38;5;37;48;2;39;39;39m{\u001b[0m\u001b[3;38;5;37;48;2;39;39;39m \u001b[0m\u001b[1;3;38;5;37;48;2;39;39;39m53.54\u001b[0m\u001b[3;38;5;37;48;2;39;39;39m,  \u001b[0m\u001b[1;3;38;5;37;48;2;39;39;39m57.63\u001b[0m\u001b[3;38;5;37;48;2;39;39;39m,  \u001b[0m\u001b[1;3;38;5;37;48;2;39;39;39m11.40\u001b[0m\u001b[1;3;38;5;37;48;2;39;39;39m}\u001b[0m\n",
       "\u001b[3;38;5;37;48;2;39;39;39m  \u001b[0m\u001b[1;3;38;5;37;48;2;39;39;39mPrinter\u001b[0m\u001b[1;3;38;5;37;48;2;39;39;39m(\u001b[0m\u001b[1;3;38;5;37;48;2;39;39;39mBed\u001b[0m\u001b[1;3;38;5;37;48;2;39;39;39m(\u001b[0m\u001b[1;3;38;5;37;48;2;39;39;39m0\u001b[0m\u001b[3;38;5;37;48;2;39;39;39m, \u001b[0m\u001b[1;3;38;5;37;48;2;39;39;39m0\u001b[0m\u001b[3;38;5;37;48;2;39;39;39m, ⚓︎\u001b[0m\u001b[1;3;38;5;37;48;2;39;39;39m{\u001b[0m\u001b[3;38;5;37;48;2;39;39;39m  \u001b[0m\u001b[1;3;38;5;37;48;2;39;39;39m0.00\u001b[0m\u001b[3;38;5;37;48;2;39;39;39m,   \u001b[0m\u001b[1;3;38;5;37;48;2;39;39;39m0.00\u001b[0m\u001b[3;38;5;37;48;2;39;39;39m,   \u001b[0m\u001b[1;3;38;5;37;48;2;39;39;39m0.00\u001b[0m\u001b[1;3;38;5;37;48;2;39;39;39m}\u001b[0m\u001b[1;3;38;5;37;48;2;39;39;39m)\u001b[0m\u001b[3;38;5;37;48;2;39;39;39m, \u001b[0m\u001b[1;3;38;5;37;48;2;39;39;39mRing\u001b[0m\u001b[1;3;38;5;37;48;2;39;39;39m(\u001b[0m\u001b[1;3;38;5;37;48;2;39;39;39m46.58\u001b[0m\u001b[3;38;5;37;48;2;39;39;39m°, \u001b[0m\u001b[1;3;38;5;37;48;2;39;39;39m{\u001b[0m\u001b[3;38;5;37;48;2;39;39;39m \u001b[0m\u001b[1;3;38;5;37;48;2;39;39;39m36.00\u001b[0m\u001b[3;38;5;37;48;2;39;39;39m,  \u001b[0m\u001b[1;3;38;5;37;48;2;39;39;39m28.00\u001b[0m\u001b[3;38;5;37;48;2;39;39;39m,   \u001b[0m\u001b[1;3;38;5;37;48;2;39;39;39m0.00\u001b[0m\u001b[1;3;38;5;37;48;2;39;39;39m}\u001b[0m\u001b[1;3;38;5;37;48;2;39;39;39m)\u001b[0m\u001b[1;3;38;5;37;48;2;39;39;39m)\u001b[0m\n"
      ]
     },
     "metadata": {},
     "output_type": "display_data"
    },
    {
     "data": {
      "text/html": [
       "<pre style=\"white-space:pre;overflow-x:auto;line-height:normal;font-family:Menlo,'DejaVu Sans Mono',consolas,'Courier New',monospace\"><span style=\"background-color: #272727\">HalfLine from </span><span style=\"background-color: #272727; font-weight: bold\">{</span><span style=\"background-color: #272727\"> </span><span style=\"color: #008080; text-decoration-color: #008080; background-color: #272727; font-weight: bold\">56.08</span><span style=\"background-color: #272727\">,  </span><span style=\"color: #008080; text-decoration-color: #008080; background-color: #272727; font-weight: bold\">43.49</span><span style=\"background-color: #272727\">,  </span><span style=\"color: #008080; text-decoration-color: #008080; background-color: #272727; font-weight: bold\">11.40</span><span style=\"background-color: #272727; font-weight: bold\">}</span><span style=\"background-color: #272727\"> to </span><span style=\"background-color: #272727; font-weight: bold\">{</span><span style=\"background-color: #272727\"> </span><span style=\"color: #008080; text-decoration-color: #008080; background-color: #272727; font-weight: bold\">53.54</span><span style=\"background-color: #272727\">,  </span><span style=\"color: #008080; text-decoration-color: #008080; background-color: #272727; font-weight: bold\">57.63</span><span style=\"background-color: #272727\">,  </span><span style=\"color: #008080; text-decoration-color: #008080; background-color: #272727; font-weight: bold\">11.40</span><span style=\"background-color: #272727; font-weight: bold\">}</span><span style=\"background-color: #272727\">:</span>\n",
       "<span style=\"background-color: #272727\"> </span><span style=\"color: #800080; text-decoration-color: #800080; background-color: #272727; font-weight: bold\">H</span><span style=\"background-color: #272727; font-weight: bold\">({</span><span style=\"background-color: #272727\"> </span><span style=\"color: #008080; text-decoration-color: #008080; background-color: #272727; font-weight: bold\">56.08</span><span style=\"background-color: #272727\">,  </span><span style=\"color: #008080; text-decoration-color: #008080; background-color: #272727; font-weight: bold\">43.49</span><span style=\"background-color: #272727\">,   </span><span style=\"color: #008080; text-decoration-color: #008080; background-color: #272727; font-weight: bold\">0.00</span><span style=\"background-color: #272727; font-weight: bold\">}</span><span style=\"background-color: #272727\">, </span><span style=\"color: #800080; text-decoration-color: #800080; background-color: #272727; font-weight: bold\">V</span><span style=\"background-color: #272727; font-weight: bold\">(</span><span style=\"color: #008080; text-decoration-color: #008080; background-color: #272727; font-weight: bold\">-2.55</span><span style=\"background-color: #272727\">, </span><span style=\"color: #008080; text-decoration-color: #008080; background-color: #272727; font-weight: bold\">14.14</span><span style=\"background-color: #272727\">, </span><span style=\"color: #008080; text-decoration-color: #008080; background-color: #272727; font-weight: bold\">0.00</span><span style=\"background-color: #272727; font-weight: bold\">))</span>\n",
       "</pre>\n"
      ],
      "text/plain": [
       "\u001b[48;2;39;39;39mHalfLine from \u001b[0m\u001b[1;48;2;39;39;39m{\u001b[0m\u001b[48;2;39;39;39m \u001b[0m\u001b[1;36;48;2;39;39;39m56.08\u001b[0m\u001b[48;2;39;39;39m,  \u001b[0m\u001b[1;36;48;2;39;39;39m43.49\u001b[0m\u001b[48;2;39;39;39m,  \u001b[0m\u001b[1;36;48;2;39;39;39m11.40\u001b[0m\u001b[1;48;2;39;39;39m}\u001b[0m\u001b[48;2;39;39;39m to \u001b[0m\u001b[1;48;2;39;39;39m{\u001b[0m\u001b[48;2;39;39;39m \u001b[0m\u001b[1;36;48;2;39;39;39m53.54\u001b[0m\u001b[48;2;39;39;39m,  \u001b[0m\u001b[1;36;48;2;39;39;39m57.63\u001b[0m\u001b[48;2;39;39;39m,  \u001b[0m\u001b[1;36;48;2;39;39;39m11.40\u001b[0m\u001b[1;48;2;39;39;39m}\u001b[0m\u001b[48;2;39;39;39m:\u001b[0m\n",
       "\u001b[48;2;39;39;39m \u001b[0m\u001b[1;35;48;2;39;39;39mH\u001b[0m\u001b[1;48;2;39;39;39m(\u001b[0m\u001b[1;48;2;39;39;39m{\u001b[0m\u001b[48;2;39;39;39m \u001b[0m\u001b[1;36;48;2;39;39;39m56.08\u001b[0m\u001b[48;2;39;39;39m,  \u001b[0m\u001b[1;36;48;2;39;39;39m43.49\u001b[0m\u001b[48;2;39;39;39m,   \u001b[0m\u001b[1;36;48;2;39;39;39m0.00\u001b[0m\u001b[1;48;2;39;39;39m}\u001b[0m\u001b[48;2;39;39;39m, \u001b[0m\u001b[1;35;48;2;39;39;39mV\u001b[0m\u001b[1;48;2;39;39;39m(\u001b[0m\u001b[1;36;48;2;39;39;39m-2.55\u001b[0m\u001b[48;2;39;39;39m, \u001b[0m\u001b[1;36;48;2;39;39;39m14.14\u001b[0m\u001b[48;2;39;39;39m, \u001b[0m\u001b[1;36;48;2;39;39;39m0.00\u001b[0m\u001b[1;48;2;39;39;39m)\u001b[0m\u001b[1;48;2;39;39;39m)\u001b[0m\n"
      ]
     },
     "metadata": {},
     "output_type": "display_data"
    },
    {
     "data": {
      "text/html": [
       "<pre style=\"white-space:pre;overflow-x:auto;line-height:normal;font-family:Menlo,'DejaVu Sans Mono',consolas,'Courier New',monospace\"><span style=\"color: #008080; text-decoration-color: #008080; background-color: #272727; font-weight: bold\">0</span><span style=\"background-color: #272727\">/</span><span style=\"color: #008080; text-decoration-color: #008080; background-color: #272727; font-weight: bold\">5</span><span style=\"background-color: #272727\"> unprinted segments that don't intersect </span><span style=\"background-color: #272727; font-weight: bold\">(</span><span style=\"background-color: #272727\">anchor→ring trajectory + remaining thread segments</span><span style=\"background-color: #272727; font-weight: bold\">)</span>\n",
       "</pre>\n"
      ],
      "text/plain": [
       "\u001b[1;36;48;2;39;39;39m0\u001b[0m\u001b[48;2;39;39;39m/\u001b[0m\u001b[1;36;48;2;39;39;39m5\u001b[0m\u001b[48;2;39;39;39m unprinted segments that don't intersect \u001b[0m\u001b[1;48;2;39;39;39m(\u001b[0m\u001b[48;2;39;39;39manchor→ring trajectory + remaining thread segments\u001b[0m\u001b[1;48;2;39;39;39m)\u001b[0m\n"
      ]
     },
     "metadata": {},
     "output_type": "display_data"
    },
    {
     "data": {
      "text/html": [
       "<pre style=\"white-space:pre;overflow-x:auto;line-height:normal;font-family:Menlo,'DejaVu Sans Mono',consolas,'Courier New',monospace\"><span style=\"color: #008080; text-decoration-color: #008080; background-color: #272727; font-weight: bold\">5</span><span style=\"background-color: #272727\">/</span><span style=\"color: #008080; text-decoration-color: #008080; background-color: #272727; font-weight: bold\">5</span><span style=\"background-color: #272727\"> unprinted segments that intersect current thread segment</span>\n",
       "</pre>\n"
      ],
      "text/plain": [
       "\u001b[1;36;48;2;39;39;39m5\u001b[0m\u001b[48;2;39;39;39m/\u001b[0m\u001b[1;36;48;2;39;39;39m5\u001b[0m\u001b[48;2;39;39;39m unprinted segments that intersect current thread segment\u001b[0m\n"
      ]
     },
     "metadata": {},
     "output_type": "display_data"
    },
    {
     "data": {
      "text/html": [
       "<pre style=\"white-space:pre;overflow-x:auto;line-height:normal;font-family:Menlo,'DejaVu Sans Mono',consolas,'Courier New',monospace\"><span style=\"color: #008080; text-decoration-color: #008080; background-color: #272727; font-weight: bold\">2</span><span style=\"background-color: #272727\">: Nothing not intersecting thread to print</span>\n",
       "</pre>\n"
      ],
      "text/plain": [
       "\u001b[1;36;48;2;39;39;39m2\u001b[0m\u001b[48;2;39;39;39m: Nothing not intersecting thread to print\u001b[0m\n"
      ]
     },
     "metadata": {},
     "output_type": "display_data"
    },
    {
     "data": {
      "text/html": [
       "<pre style=\"white-space:pre;overflow-x:auto;line-height:normal;font-family:Menlo,'DejaVu Sans Mono',consolas,'Courier New',monospace\">\n",
       "<span style=\"color: #00afaf; text-decoration-color: #00afaf; background-color: #272727; font-weight: bold; font-style: italic\">&lt;Step</span><span style=\"color: #00afaf; text-decoration-color: #00afaf; background-color: #272727; font-style: italic\"> </span><span style=\"color: #00afaf; text-decoration-color: #00afaf; background-color: #272727; font-weight: bold; font-style: italic\">7</span><span style=\"color: #00afaf; text-decoration-color: #00afaf; background-color: #272727; font-style: italic\"> </span><span style=\"color: #00afaf; text-decoration-color: #00afaf; background-color: #272727; font-weight: bold; font-style: italic\">(0</span><span style=\"color: #00afaf; text-decoration-color: #00afaf; background-color: #272727; font-style: italic\"> segments</span><span style=\"color: #00afaf; text-decoration-color: #00afaf; background-color: #272727; font-weight: bold; font-style: italic\">)&gt;</span><span style=\"color: #00afaf; text-decoration-color: #00afaf; background-color: #272727; font-style: italic\">: Print </span><span style=\"color: #00afaf; text-decoration-color: #00afaf; background-color: #272727; font-weight: bold; font-style: italic\">5</span><span style=\"color: #00afaf; text-decoration-color: #00afaf; background-color: #272727; font-style: italic\"> overlapping layers segments</span>\n",
       "<span style=\"color: #00afaf; text-decoration-color: #00afaf; background-color: #272727; font-style: italic\">  </span><span style=\"color: #00afaf; text-decoration-color: #00afaf; background-color: #272727; font-weight: bold; font-style: italic\">Printer(Bed(0</span><span style=\"color: #00afaf; text-decoration-color: #00afaf; background-color: #272727; font-style: italic\">, </span><span style=\"color: #00afaf; text-decoration-color: #00afaf; background-color: #272727; font-weight: bold; font-style: italic\">0</span><span style=\"color: #00afaf; text-decoration-color: #00afaf; background-color: #272727; font-style: italic\">, ⚓︎</span><span style=\"color: #00afaf; text-decoration-color: #00afaf; background-color: #272727; font-weight: bold; font-style: italic\">{</span><span style=\"color: #00afaf; text-decoration-color: #00afaf; background-color: #272727; font-style: italic\">  </span><span style=\"color: #00afaf; text-decoration-color: #00afaf; background-color: #272727; font-weight: bold; font-style: italic\">0.00</span><span style=\"color: #00afaf; text-decoration-color: #00afaf; background-color: #272727; font-style: italic\">,   </span><span style=\"color: #00afaf; text-decoration-color: #00afaf; background-color: #272727; font-weight: bold; font-style: italic\">0.00</span><span style=\"color: #00afaf; text-decoration-color: #00afaf; background-color: #272727; font-style: italic\">,   </span><span style=\"color: #00afaf; text-decoration-color: #00afaf; background-color: #272727; font-weight: bold; font-style: italic\">0.00})</span><span style=\"color: #00afaf; text-decoration-color: #00afaf; background-color: #272727; font-style: italic\">, </span><span style=\"color: #00afaf; text-decoration-color: #00afaf; background-color: #272727; font-weight: bold; font-style: italic\">Ring(86.12</span><span style=\"color: #00afaf; text-decoration-color: #00afaf; background-color: #272727; font-style: italic\">°, </span><span style=\"color: #00afaf; text-decoration-color: #00afaf; background-color: #272727; font-weight: bold; font-style: italic\">{</span><span style=\"color: #00afaf; text-decoration-color: #00afaf; background-color: #272727; font-style: italic\"> </span><span style=\"color: #00afaf; text-decoration-color: #00afaf; background-color: #272727; font-weight: bold; font-style: italic\">36.00</span><span style=\"color: #00afaf; text-decoration-color: #00afaf; background-color: #272727; font-style: italic\">,  </span><span style=\"color: #00afaf; text-decoration-color: #00afaf; background-color: #272727; font-weight: bold; font-style: italic\">28.00</span><span style=\"color: #00afaf; text-decoration-color: #00afaf; background-color: #272727; font-style: italic\">,   </span><span style=\"color: #00afaf; text-decoration-color: #00afaf; background-color: #272727; font-weight: bold; font-style: italic\">0.00}))</span>\n",
       "</pre>\n"
      ],
      "text/plain": [
       "\n",
       "\u001b[1;3;38;5;37;48;2;39;39;39m<\u001b[0m\u001b[1;3;38;5;37;48;2;39;39;39mStep\u001b[0m\u001b[3;38;5;37;48;2;39;39;39m \u001b[0m\u001b[1;3;38;5;37;48;2;39;39;39m7\u001b[0m\u001b[3;38;5;37;48;2;39;39;39m \u001b[0m\u001b[1;3;38;5;37;48;2;39;39;39m(\u001b[0m\u001b[1;3;38;5;37;48;2;39;39;39m0\u001b[0m\u001b[3;38;5;37;48;2;39;39;39m segments\u001b[0m\u001b[1;3;38;5;37;48;2;39;39;39m)\u001b[0m\u001b[1;3;38;5;37;48;2;39;39;39m>\u001b[0m\u001b[3;38;5;37;48;2;39;39;39m: \u001b[0m\u001b[3;38;5;37;48;2;39;39;39mPrint \u001b[0m\u001b[1;3;38;5;37;48;2;39;39;39m5\u001b[0m\u001b[3;38;5;37;48;2;39;39;39m overlapping layers segments\u001b[0m\n",
       "\u001b[3;38;5;37;48;2;39;39;39m  \u001b[0m\u001b[1;3;38;5;37;48;2;39;39;39mPrinter\u001b[0m\u001b[1;3;38;5;37;48;2;39;39;39m(\u001b[0m\u001b[1;3;38;5;37;48;2;39;39;39mBed\u001b[0m\u001b[1;3;38;5;37;48;2;39;39;39m(\u001b[0m\u001b[1;3;38;5;37;48;2;39;39;39m0\u001b[0m\u001b[3;38;5;37;48;2;39;39;39m, \u001b[0m\u001b[1;3;38;5;37;48;2;39;39;39m0\u001b[0m\u001b[3;38;5;37;48;2;39;39;39m, ⚓︎\u001b[0m\u001b[1;3;38;5;37;48;2;39;39;39m{\u001b[0m\u001b[3;38;5;37;48;2;39;39;39m  \u001b[0m\u001b[1;3;38;5;37;48;2;39;39;39m0.00\u001b[0m\u001b[3;38;5;37;48;2;39;39;39m,   \u001b[0m\u001b[1;3;38;5;37;48;2;39;39;39m0.00\u001b[0m\u001b[3;38;5;37;48;2;39;39;39m,   \u001b[0m\u001b[1;3;38;5;37;48;2;39;39;39m0.00\u001b[0m\u001b[1;3;38;5;37;48;2;39;39;39m}\u001b[0m\u001b[1;3;38;5;37;48;2;39;39;39m)\u001b[0m\u001b[3;38;5;37;48;2;39;39;39m, \u001b[0m\u001b[1;3;38;5;37;48;2;39;39;39mRing\u001b[0m\u001b[1;3;38;5;37;48;2;39;39;39m(\u001b[0m\u001b[1;3;38;5;37;48;2;39;39;39m86.12\u001b[0m\u001b[3;38;5;37;48;2;39;39;39m°, \u001b[0m\u001b[1;3;38;5;37;48;2;39;39;39m{\u001b[0m\u001b[3;38;5;37;48;2;39;39;39m \u001b[0m\u001b[1;3;38;5;37;48;2;39;39;39m36.00\u001b[0m\u001b[3;38;5;37;48;2;39;39;39m,  \u001b[0m\u001b[1;3;38;5;37;48;2;39;39;39m28.00\u001b[0m\u001b[3;38;5;37;48;2;39;39;39m,   \u001b[0m\u001b[1;3;38;5;37;48;2;39;39;39m0.00\u001b[0m\u001b[1;3;38;5;37;48;2;39;39;39m}\u001b[0m\u001b[1;3;38;5;37;48;2;39;39;39m)\u001b[0m\u001b[1;3;38;5;37;48;2;39;39;39m)\u001b[0m\n"
      ]
     },
     "metadata": {},
     "output_type": "display_data"
    },
    {
     "data": {
      "text/html": [
       "<pre style=\"white-space:pre;overflow-x:auto;line-height:normal;font-family:Menlo,'DejaVu Sans Mono',consolas,'Courier New',monospace\"><span style=\"background-color: #272727\">Adding </span><span style=\"color: #008080; text-decoration-color: #008080; background-color: #272727; font-weight: bold\">5</span><span style=\"background-color: #272727\">/</span><span style=\"color: #008080; text-decoration-color: #008080; background-color: #272727; font-weight: bold\">5</span><span style=\"background-color: #272727\"> unprinted gcsegs to Step</span>\n",
       "</pre>\n"
      ],
      "text/plain": [
       "\u001b[48;2;39;39;39mAdding \u001b[0m\u001b[1;36;48;2;39;39;39m5\u001b[0m\u001b[48;2;39;39;39m/\u001b[0m\u001b[1;36;48;2;39;39;39m5\u001b[0m\u001b[48;2;39;39;39m unprinted gcsegs to Step\u001b[0m\n"
      ]
     },
     "metadata": {},
     "output_type": "display_data"
    },
    {
     "data": {
      "text/html": [
       "<pre style=\"white-space:pre;overflow-x:auto;line-height:normal;font-family:Menlo,'DejaVu Sans Mono',consolas,'Courier New',monospace\"><span style=\"color: #808000; text-decoration-color: #808000; background-color: #272727\">Done with thread for this layer</span><span style=\"background-color: #272727\">; </span><span style=\"color: #008080; text-decoration-color: #008080; background-color: #272727; font-weight: bold\">0</span><span style=\"background-color: #272727\"> gcode lines left</span>\n",
       "</pre>\n"
      ],
      "text/plain": [
       "\u001b[33;48;2;39;39;39mDone with thread for this layer\u001b[0m\u001b[48;2;39;39;39m; \u001b[0m\u001b[1;36;48;2;39;39;39m0\u001b[0m\u001b[48;2;39;39;39m gcode lines left\u001b[0m\n"
      ]
     },
     "metadata": {},
     "output_type": "display_data"
    }
   ],
   "source": [
    "stepsobj = t.route_layer(thread_geom, start_layer)"
   ]
  },
  {
   "cell_type": "code",
   "execution_count": 8,
   "id": "043287bf-9624-4df7-9a71-3111d3740afc",
   "metadata": {},
   "outputs": [
    {
     "data": {
      "text/html": [
       "<pre style=\"white-space:pre;overflow-x:auto;line-height:normal;font-family:Menlo,'DejaVu Sans Mono',consolas,'Courier New',monospace\"><span style=\"color: #800000; text-decoration-color: #800000; background-color: #272727\">————— START STEP </span><span style=\"color: #800000; text-decoration-color: #800000; background-color: #272727; font-weight: bold\">0</span><span style=\"color: #800000; text-decoration-color: #800000; background-color: #272727\">: Move thread to avoid </span><span style=\"color: #800000; text-decoration-color: #800000; background-color: #272727; font-weight: bold\">280</span><span style=\"color: #800000; text-decoration-color: #800000; background-color: #272727\">/</span><span style=\"color: #800000; text-decoration-color: #800000; background-color: #272727; font-weight: bold\">298</span><span style=\"color: #800000; text-decoration-color: #800000; background-color: #272727\"> segments of non-intersecting geometry —————</span>\n",
       "</pre>\n"
      ],
      "text/plain": [
       "\u001b[31;48;2;39;39;39m————— START STEP \u001b[0m\u001b[1;31;48;2;39;39;39m0\u001b[0m\u001b[31;48;2;39;39;39m: Move thread to avoid \u001b[0m\u001b[1;31;48;2;39;39;39m280\u001b[0m\u001b[31;48;2;39;39;39m/\u001b[0m\u001b[1;31;48;2;39;39;39m298\u001b[0m\u001b[31;48;2;39;39;39m segments of non-intersecting geometry —————\u001b[0m\n"
      ]
     },
     "metadata": {},
     "output_type": "display_data"
    },
    {
     "data": {
      "text/html": [
       "<pre style=\"white-space:pre;overflow-x:auto;line-height:normal;font-family:Menlo,'DejaVu Sans Mono',consolas,'Courier New',monospace\"><span style=\"color: #800000; text-decoration-color: #800000; background-color: #272727\">————— START STEP </span><span style=\"color: #800000; text-decoration-color: #800000; background-color: #272727; font-weight: bold\">1</span><span style=\"color: #800000; text-decoration-color: #800000; background-color: #272727\">: Print non-intersecting geometry —————</span>\n",
       "</pre>\n"
      ],
      "text/plain": [
       "\u001b[31;48;2;39;39;39m————— START STEP \u001b[0m\u001b[1;31;48;2;39;39;39m1\u001b[0m\u001b[31;48;2;39;39;39m: Print non-intersecting geometry —————\u001b[0m\n"
      ]
     },
     "metadata": {},
     "output_type": "display_data"
    },
    {
     "data": {
      "text/html": [
       "<pre style=\"white-space:pre;overflow-x:auto;line-height:normal;font-family:Menlo,'DejaVu Sans Mono',consolas,'Courier New',monospace\"><span style=\"background-color: #272727\">new line from </span><span style=\"color: #008080; text-decoration-color: #008080; background-color: #272727; font-weight: bold\">21768</span>\n",
       "</pre>\n"
      ],
      "text/plain": [
       "\u001b[48;2;39;39;39mnew line from \u001b[0m\u001b[1;36;48;2;39;39;39m21768\u001b[0m\n"
      ]
     },
     "metadata": {},
     "output_type": "display_data"
    },
    {
     "data": {
      "text/html": [
       "<pre style=\"white-space:pre;overflow-x:auto;line-height:normal;font-family:Menlo,'DejaVu Sans Mono',consolas,'Courier New',monospace\"><span style=\"background-color: #272727\">new line from </span><span style=\"color: #008080; text-decoration-color: #008080; background-color: #272727; font-weight: bold\">21772</span>\n",
       "</pre>\n"
      ],
      "text/plain": [
       "\u001b[48;2;39;39;39mnew line from \u001b[0m\u001b[1;36;48;2;39;39;39m21772\u001b[0m\n"
      ]
     },
     "metadata": {},
     "output_type": "display_data"
    },
    {
     "data": {
      "text/html": [
       "<pre style=\"white-space:pre;overflow-x:auto;line-height:normal;font-family:Menlo,'DejaVu Sans Mono',consolas,'Courier New',monospace\"><span style=\"background-color: #272727\">new line from </span><span style=\"color: #008080; text-decoration-color: #008080; background-color: #272727; font-weight: bold\">21797</span>\n",
       "</pre>\n"
      ],
      "text/plain": [
       "\u001b[48;2;39;39;39mnew line from \u001b[0m\u001b[1;36;48;2;39;39;39m21797\u001b[0m\n"
      ]
     },
     "metadata": {},
     "output_type": "display_data"
    },
    {
     "data": {
      "text/html": [
       "<pre style=\"white-space:pre;overflow-x:auto;line-height:normal;font-family:Menlo,'DejaVu Sans Mono',consolas,'Courier New',monospace\"><span style=\"background-color: #272727\">new line from </span><span style=\"color: #008080; text-decoration-color: #008080; background-color: #272727; font-weight: bold\">21816</span>\n",
       "</pre>\n"
      ],
      "text/plain": [
       "\u001b[48;2;39;39;39mnew line from \u001b[0m\u001b[1;36;48;2;39;39;39m21816\u001b[0m\n"
      ]
     },
     "metadata": {},
     "output_type": "display_data"
    },
    {
     "data": {
      "text/html": [
       "<pre style=\"white-space:pre;overflow-x:auto;line-height:normal;font-family:Menlo,'DejaVu Sans Mono',consolas,'Courier New',monospace\"><span style=\"background-color: #272727\">new line from </span><span style=\"color: #008080; text-decoration-color: #008080; background-color: #272727; font-weight: bold\">21822</span>\n",
       "</pre>\n"
      ],
      "text/plain": [
       "\u001b[48;2;39;39;39mnew line from \u001b[0m\u001b[1;36;48;2;39;39;39m21822\u001b[0m\n"
      ]
     },
     "metadata": {},
     "output_type": "display_data"
    },
    {
     "data": {
      "text/html": [
       "<pre style=\"white-space:pre;overflow-x:auto;line-height:normal;font-family:Menlo,'DejaVu Sans Mono',consolas,'Courier New',monospace\"><span style=\"background-color: #272727\">new line from </span><span style=\"color: #008080; text-decoration-color: #008080; background-color: #272727; font-weight: bold\">21849</span>\n",
       "</pre>\n"
      ],
      "text/plain": [
       "\u001b[48;2;39;39;39mnew line from \u001b[0m\u001b[1;36;48;2;39;39;39m21849\u001b[0m\n"
      ]
     },
     "metadata": {},
     "output_type": "display_data"
    },
    {
     "data": {
      "text/html": [
       "<pre style=\"white-space:pre;overflow-x:auto;line-height:normal;font-family:Menlo,'DejaVu Sans Mono',consolas,'Courier New',monospace\"><span style=\"background-color: #272727\">  new step line: G0 F9000 X34.</span><span style=\"color: #008080; text-decoration-color: #008080; background-color: #272727; font-weight: bold\">183</span><span style=\"background-color: #272727\"> Y63.</span><span style=\"color: #008080; text-decoration-color: #008080; background-color: #272727; font-weight: bold\">644</span><span style=\"background-color: #272727\"> ; </span><span style=\"background-color: #272727; font-weight: bold\">[]</span><span style=\"background-color: #272727\"> ; ---- fake inter-step move from </span><span style=\"color: #008080; text-decoration-color: #008080; background-color: #272727; font-weight: bold\">21591</span>\n",
       "</pre>\n"
      ],
      "text/plain": [
       "\u001b[48;2;39;39;39m  new step line: G0 F9000 X34.\u001b[0m\u001b[1;36;48;2;39;39;39m183\u001b[0m\u001b[48;2;39;39;39m Y63.\u001b[0m\u001b[1;36;48;2;39;39;39m644\u001b[0m\u001b[48;2;39;39;39m ; \u001b[0m\u001b[1;48;2;39;39;39m[\u001b[0m\u001b[1;48;2;39;39;39m]\u001b[0m\u001b[48;2;39;39;39m ; ---- fake inter-step move from \u001b[0m\u001b[1;36;48;2;39;39;39m21591\u001b[0m\n"
      ]
     },
     "metadata": {},
     "output_type": "display_data"
    },
    {
     "data": {
      "text/html": [
       "<pre style=\"white-space:pre;overflow-x:auto;line-height:normal;font-family:Menlo,'DejaVu Sans Mono',consolas,'Courier New',monospace\"><span style=\"color: #800000; text-decoration-color: #800000; background-color: #272727\">————— START STEP </span><span style=\"color: #800000; text-decoration-color: #800000; background-color: #272727; font-weight: bold\">2</span><span style=\"color: #800000; text-decoration-color: #800000; background-color: #272727\">: Move thread to overlap anchor at </span><span style=\"color: #800000; text-decoration-color: #800000; background-color: #272727; font-weight: bold\">{</span><span style=\"color: #800000; text-decoration-color: #800000; background-color: #272727\"> </span><span style=\"color: #800000; text-decoration-color: #800000; background-color: #272727; font-weight: bold\">33.99</span><span style=\"color: #800000; text-decoration-color: #800000; background-color: #272727\">,  </span><span style=\"color: #800000; text-decoration-color: #800000; background-color: #272727; font-weight: bold\">17.24</span><span style=\"color: #800000; text-decoration-color: #800000; background-color: #272727\">,  </span><span style=\"color: #800000; text-decoration-color: #800000; background-color: #272727; font-weight: bold\">11.40</span><span style=\"color: #800000; text-decoration-color: #800000; background-color: #272727; font-weight: bold\">}</span><span style=\"color: #800000; text-decoration-color: #800000; background-color: #272727\"> —————</span>\n",
       "</pre>\n"
      ],
      "text/plain": [
       "\u001b[31;48;2;39;39;39m————— START STEP \u001b[0m\u001b[1;31;48;2;39;39;39m2\u001b[0m\u001b[31;48;2;39;39;39m: Move thread to overlap anchor at \u001b[0m\u001b[1;31;48;2;39;39;39m{\u001b[0m\u001b[31;48;2;39;39;39m \u001b[0m\u001b[1;31;48;2;39;39;39m33.99\u001b[0m\u001b[31;48;2;39;39;39m,  \u001b[0m\u001b[1;31;48;2;39;39;39m17.24\u001b[0m\u001b[31;48;2;39;39;39m,  \u001b[0m\u001b[1;31;48;2;39;39;39m11.40\u001b[0m\u001b[1;31;48;2;39;39;39m}\u001b[0m\u001b[31;48;2;39;39;39m —————\u001b[0m\n"
      ]
     },
     "metadata": {},
     "output_type": "display_data"
    },
    {
     "data": {
      "text/html": [
       "<pre style=\"white-space:pre;overflow-x:auto;line-height:normal;font-family:Menlo,'DejaVu Sans Mono',consolas,'Courier New',monospace\"><span style=\"background-color: #272727\">--- Saver exit: extruder_no: T0 ; </span><span style=\"background-color: #272727; font-weight: bold\">[]</span><span style=\"background-color: #272727\"> ; Switch to main extruder -&gt; </span>\n",
       "<span style=\"background-color: #272727\">extrusion_mode: M82 ; </span><span style=\"background-color: #272727; font-weight: bold\">[]</span><span style=\"background-color: #272727\"> ; Set relative extrusion mode -&gt; </span>\n",
       "<span style=\"background-color: #272727\">---</span>\n",
       "</pre>\n"
      ],
      "text/plain": [
       "\u001b[48;2;39;39;39m--- Saver exit: extruder_no: T0 ; \u001b[0m\u001b[1;48;2;39;39;39m[\u001b[0m\u001b[1;48;2;39;39;39m]\u001b[0m\u001b[48;2;39;39;39m ; Switch to main extruder -> \u001b[0m\n",
       "\u001b[48;2;39;39;39mextrusion_mode: M82 ; \u001b[0m\u001b[1;48;2;39;39;39m[\u001b[0m\u001b[1;48;2;39;39;39m]\u001b[0m\u001b[48;2;39;39;39m ; Set relative extrusion mode -> \u001b[0m\n",
       "\u001b[48;2;39;39;39m---\u001b[0m\n"
      ]
     },
     "metadata": {},
     "output_type": "display_data"
    },
    {
     "data": {
      "text/html": [
       "<pre style=\"white-space:pre;overflow-x:auto;line-height:normal;font-family:Menlo,'DejaVu Sans Mono',consolas,'Courier New',monospace\"><span style=\"color: #800000; text-decoration-color: #800000; background-color: #272727\">————— START STEP </span><span style=\"color: #800000; text-decoration-color: #800000; background-color: #272727; font-weight: bold\">3</span><span style=\"color: #800000; text-decoration-color: #800000; background-color: #272727\">: Print </span><span style=\"color: #800000; text-decoration-color: #800000; background-color: #272727; font-weight: bold\">1</span><span style=\"color: #800000; text-decoration-color: #800000; background-color: #272727\"> overlapping layers segments —————</span>\n",
       "</pre>\n"
      ],
      "text/plain": [
       "\u001b[31;48;2;39;39;39m————— START STEP \u001b[0m\u001b[1;31;48;2;39;39;39m3\u001b[0m\u001b[31;48;2;39;39;39m: Print \u001b[0m\u001b[1;31;48;2;39;39;39m1\u001b[0m\u001b[31;48;2;39;39;39m overlapping layers segments —————\u001b[0m\n"
      ]
     },
     "metadata": {},
     "output_type": "display_data"
    },
    {
     "data": {
      "text/html": [
       "<pre style=\"white-space:pre;overflow-x:auto;line-height:normal;font-family:Menlo,'DejaVu Sans Mono',consolas,'Courier New',monospace\"><span style=\"background-color: #272727\">new line from </span><span style=\"color: #008080; text-decoration-color: #008080; background-color: #272727; font-weight: bold\">21796</span>\n",
       "</pre>\n"
      ],
      "text/plain": [
       "\u001b[48;2;39;39;39mnew line from \u001b[0m\u001b[1;36;48;2;39;39;39m21796\u001b[0m\n"
      ]
     },
     "metadata": {},
     "output_type": "display_data"
    },
    {
     "data": {
      "text/html": [
       "<pre style=\"white-space:pre;overflow-x:auto;line-height:normal;font-family:Menlo,'DejaVu Sans Mono',consolas,'Courier New',monospace\"><span style=\"background-color: #272727\">  new step line: G0 X35.</span><span style=\"color: #008080; text-decoration-color: #008080; background-color: #272727; font-weight: bold\">304</span><span style=\"background-color: #272727\"> Y16.</span><span style=\"color: #008080; text-decoration-color: #008080; background-color: #272727; font-weight: bold\">857</span><span style=\"background-color: #272727\"> ; </span><span style=\"background-color: #272727; font-weight: bold\">[]</span><span style=\"background-color: #272727\"> ; ---- fake inter-step move from </span><span style=\"color: #008080; text-decoration-color: #008080; background-color: #272727; font-weight: bold\">21796</span>\n",
       "</pre>\n"
      ],
      "text/plain": [
       "\u001b[48;2;39;39;39m  new step line: G0 X35.\u001b[0m\u001b[1;36;48;2;39;39;39m304\u001b[0m\u001b[48;2;39;39;39m Y16.\u001b[0m\u001b[1;36;48;2;39;39;39m857\u001b[0m\u001b[48;2;39;39;39m ; \u001b[0m\u001b[1;48;2;39;39;39m[\u001b[0m\u001b[1;48;2;39;39;39m]\u001b[0m\u001b[48;2;39;39;39m ; ---- fake inter-step move from \u001b[0m\u001b[1;36;48;2;39;39;39m21796\u001b[0m\n"
      ]
     },
     "metadata": {},
     "output_type": "display_data"
    },
    {
     "data": {
      "text/html": [
       "<pre style=\"white-space:pre;overflow-x:auto;line-height:normal;font-family:Menlo,'DejaVu Sans Mono',consolas,'Courier New',monospace\"><span style=\"color: #800000; text-decoration-color: #800000; background-color: #272727\">————— START STEP </span><span style=\"color: #800000; text-decoration-color: #800000; background-color: #272727; font-weight: bold\">4</span><span style=\"color: #800000; text-decoration-color: #800000; background-color: #272727\">: Move thread to overlap anchor at </span><span style=\"color: #800000; text-decoration-color: #800000; background-color: #272727; font-weight: bold\">{</span><span style=\"color: #800000; text-decoration-color: #800000; background-color: #272727\"> </span><span style=\"color: #800000; text-decoration-color: #800000; background-color: #272727; font-weight: bold\">56.08</span><span style=\"color: #800000; text-decoration-color: #800000; background-color: #272727\">,  </span><span style=\"color: #800000; text-decoration-color: #800000; background-color: #272727; font-weight: bold\">43.49</span><span style=\"color: #800000; text-decoration-color: #800000; background-color: #272727\">,  </span><span style=\"color: #800000; text-decoration-color: #800000; background-color: #272727; font-weight: bold\">11.40</span><span style=\"color: #800000; text-decoration-color: #800000; background-color: #272727; font-weight: bold\">}</span><span style=\"color: #800000; text-decoration-color: #800000; background-color: #272727\"> —————</span>\n",
       "</pre>\n"
      ],
      "text/plain": [
       "\u001b[31;48;2;39;39;39m————— START STEP \u001b[0m\u001b[1;31;48;2;39;39;39m4\u001b[0m\u001b[31;48;2;39;39;39m: Move thread to overlap anchor at \u001b[0m\u001b[1;31;48;2;39;39;39m{\u001b[0m\u001b[31;48;2;39;39;39m \u001b[0m\u001b[1;31;48;2;39;39;39m56.08\u001b[0m\u001b[31;48;2;39;39;39m,  \u001b[0m\u001b[1;31;48;2;39;39;39m43.49\u001b[0m\u001b[31;48;2;39;39;39m,  \u001b[0m\u001b[1;31;48;2;39;39;39m11.40\u001b[0m\u001b[1;31;48;2;39;39;39m}\u001b[0m\u001b[31;48;2;39;39;39m —————\u001b[0m\n"
      ]
     },
     "metadata": {},
     "output_type": "display_data"
    },
    {
     "data": {
      "text/html": [
       "<pre style=\"white-space:pre;overflow-x:auto;line-height:normal;font-family:Menlo,'DejaVu Sans Mono',consolas,'Courier New',monospace\"><span style=\"background-color: #272727\">--- Saver exit: extruder_no: T0 ; </span><span style=\"background-color: #272727; font-weight: bold\">[]</span><span style=\"background-color: #272727\"> ; Switch to main extruder -&gt; </span>\n",
       "<span style=\"background-color: #272727\">extrusion_mode: M82 ; </span><span style=\"background-color: #272727; font-weight: bold\">[]</span><span style=\"background-color: #272727\"> ; Set relative extrusion mode -&gt; </span>\n",
       "<span style=\"background-color: #272727\">---</span>\n",
       "</pre>\n"
      ],
      "text/plain": [
       "\u001b[48;2;39;39;39m--- Saver exit: extruder_no: T0 ; \u001b[0m\u001b[1;48;2;39;39;39m[\u001b[0m\u001b[1;48;2;39;39;39m]\u001b[0m\u001b[48;2;39;39;39m ; Switch to main extruder -> \u001b[0m\n",
       "\u001b[48;2;39;39;39mextrusion_mode: M82 ; \u001b[0m\u001b[1;48;2;39;39;39m[\u001b[0m\u001b[1;48;2;39;39;39m]\u001b[0m\u001b[48;2;39;39;39m ; Set relative extrusion mode -> \u001b[0m\n",
       "\u001b[48;2;39;39;39m---\u001b[0m\n"
      ]
     },
     "metadata": {},
     "output_type": "display_data"
    },
    {
     "data": {
      "text/html": [
       "<pre style=\"white-space:pre;overflow-x:auto;line-height:normal;font-family:Menlo,'DejaVu Sans Mono',consolas,'Courier New',monospace\"><span style=\"color: #800000; text-decoration-color: #800000; background-color: #272727\">————— START STEP </span><span style=\"color: #800000; text-decoration-color: #800000; background-color: #272727; font-weight: bold\">5</span><span style=\"color: #800000; text-decoration-color: #800000; background-color: #272727\">: Print </span><span style=\"color: #800000; text-decoration-color: #800000; background-color: #272727; font-weight: bold\">12</span><span style=\"color: #800000; text-decoration-color: #800000; background-color: #272727\"> overlapping layers segments —————</span>\n",
       "</pre>\n"
      ],
      "text/plain": [
       "\u001b[31;48;2;39;39;39m————— START STEP \u001b[0m\u001b[1;31;48;2;39;39;39m5\u001b[0m\u001b[31;48;2;39;39;39m: Print \u001b[0m\u001b[1;31;48;2;39;39;39m12\u001b[0m\u001b[31;48;2;39;39;39m overlapping layers segments —————\u001b[0m\n"
      ]
     },
     "metadata": {},
     "output_type": "display_data"
    },
    {
     "data": {
      "text/html": [
       "<pre style=\"white-space:pre;overflow-x:auto;line-height:normal;font-family:Menlo,'DejaVu Sans Mono',consolas,'Courier New',monospace\"><span style=\"background-color: #272727\">new line from </span><span style=\"color: #008080; text-decoration-color: #008080; background-color: #272727; font-weight: bold\">21821</span>\n",
       "</pre>\n"
      ],
      "text/plain": [
       "\u001b[48;2;39;39;39mnew line from \u001b[0m\u001b[1;36;48;2;39;39;39m21821\u001b[0m\n"
      ]
     },
     "metadata": {},
     "output_type": "display_data"
    },
    {
     "data": {
      "text/html": [
       "<pre style=\"white-space:pre;overflow-x:auto;line-height:normal;font-family:Menlo,'DejaVu Sans Mono',consolas,'Courier New',monospace\"><span style=\"background-color: #272727\">new line from </span><span style=\"color: #008080; text-decoration-color: #008080; background-color: #272727; font-weight: bold\">21848</span>\n",
       "</pre>\n"
      ],
      "text/plain": [
       "\u001b[48;2;39;39;39mnew line from \u001b[0m\u001b[1;36;48;2;39;39;39m21848\u001b[0m\n"
      ]
     },
     "metadata": {},
     "output_type": "display_data"
    },
    {
     "data": {
      "text/html": [
       "<pre style=\"white-space:pre;overflow-x:auto;line-height:normal;font-family:Menlo,'DejaVu Sans Mono',consolas,'Courier New',monospace\"><span style=\"background-color: #272727\">  new step line: G0 X46.</span><span style=\"color: #008080; text-decoration-color: #008080; background-color: #272727; font-weight: bold\">829</span><span style=\"background-color: #272727\"> Y46.</span><span style=\"color: #008080; text-decoration-color: #008080; background-color: #272727; font-weight: bold\">202</span><span style=\"background-color: #272727\"> ; </span><span style=\"background-color: #272727; font-weight: bold\">[]</span><span style=\"background-color: #272727\"> ; ---- fake inter-step move from </span><span style=\"color: #008080; text-decoration-color: #008080; background-color: #272727; font-weight: bold\">21821</span>\n",
       "</pre>\n"
      ],
      "text/plain": [
       "\u001b[48;2;39;39;39m  new step line: G0 X46.\u001b[0m\u001b[1;36;48;2;39;39;39m829\u001b[0m\u001b[48;2;39;39;39m Y46.\u001b[0m\u001b[1;36;48;2;39;39;39m202\u001b[0m\u001b[48;2;39;39;39m ; \u001b[0m\u001b[1;48;2;39;39;39m[\u001b[0m\u001b[1;48;2;39;39;39m]\u001b[0m\u001b[48;2;39;39;39m ; ---- fake inter-step move from \u001b[0m\u001b[1;36;48;2;39;39;39m21821\u001b[0m\n"
      ]
     },
     "metadata": {},
     "output_type": "display_data"
    },
    {
     "data": {
      "text/html": [
       "<pre style=\"white-space:pre;overflow-x:auto;line-height:normal;font-family:Menlo,'DejaVu Sans Mono',consolas,'Courier New',monospace\"><span style=\"color: #800000; text-decoration-color: #800000; background-color: #272727\">————— START STEP </span><span style=\"color: #800000; text-decoration-color: #800000; background-color: #272727; font-weight: bold\">6</span><span style=\"color: #800000; text-decoration-color: #800000; background-color: #272727\">: Move thread to overlap anchor at </span><span style=\"color: #800000; text-decoration-color: #800000; background-color: #272727; font-weight: bold\">{</span><span style=\"color: #800000; text-decoration-color: #800000; background-color: #272727\"> </span><span style=\"color: #800000; text-decoration-color: #800000; background-color: #272727; font-weight: bold\">53.54</span><span style=\"color: #800000; text-decoration-color: #800000; background-color: #272727\">,  </span><span style=\"color: #800000; text-decoration-color: #800000; background-color: #272727; font-weight: bold\">57.63</span><span style=\"color: #800000; text-decoration-color: #800000; background-color: #272727\">,  </span><span style=\"color: #800000; text-decoration-color: #800000; background-color: #272727; font-weight: bold\">11.40</span><span style=\"color: #800000; text-decoration-color: #800000; background-color: #272727; font-weight: bold\">}</span><span style=\"color: #800000; text-decoration-color: #800000; background-color: #272727\"> —————</span>\n",
       "</pre>\n"
      ],
      "text/plain": [
       "\u001b[31;48;2;39;39;39m————— START STEP \u001b[0m\u001b[1;31;48;2;39;39;39m6\u001b[0m\u001b[31;48;2;39;39;39m: Move thread to overlap anchor at \u001b[0m\u001b[1;31;48;2;39;39;39m{\u001b[0m\u001b[31;48;2;39;39;39m \u001b[0m\u001b[1;31;48;2;39;39;39m53.54\u001b[0m\u001b[31;48;2;39;39;39m,  \u001b[0m\u001b[1;31;48;2;39;39;39m57.63\u001b[0m\u001b[31;48;2;39;39;39m,  \u001b[0m\u001b[1;31;48;2;39;39;39m11.40\u001b[0m\u001b[1;31;48;2;39;39;39m}\u001b[0m\u001b[31;48;2;39;39;39m —————\u001b[0m\n"
      ]
     },
     "metadata": {},
     "output_type": "display_data"
    },
    {
     "data": {
      "text/html": [
       "<pre style=\"white-space:pre;overflow-x:auto;line-height:normal;font-family:Menlo,'DejaVu Sans Mono',consolas,'Courier New',monospace\"><span style=\"background-color: #272727\">--- Saver exit: extruder_no: T0 ; </span><span style=\"background-color: #272727; font-weight: bold\">[]</span><span style=\"background-color: #272727\"> ; Switch to main extruder -&gt; </span>\n",
       "<span style=\"background-color: #272727\">extrusion_mode: M82 ; </span><span style=\"background-color: #272727; font-weight: bold\">[]</span><span style=\"background-color: #272727\"> ; Set relative extrusion mode -&gt; </span>\n",
       "<span style=\"background-color: #272727\">---</span>\n",
       "</pre>\n"
      ],
      "text/plain": [
       "\u001b[48;2;39;39;39m--- Saver exit: extruder_no: T0 ; \u001b[0m\u001b[1;48;2;39;39;39m[\u001b[0m\u001b[1;48;2;39;39;39m]\u001b[0m\u001b[48;2;39;39;39m ; Switch to main extruder -> \u001b[0m\n",
       "\u001b[48;2;39;39;39mextrusion_mode: M82 ; \u001b[0m\u001b[1;48;2;39;39;39m[\u001b[0m\u001b[1;48;2;39;39;39m]\u001b[0m\u001b[48;2;39;39;39m ; Set relative extrusion mode -> \u001b[0m\n",
       "\u001b[48;2;39;39;39m---\u001b[0m\n"
      ]
     },
     "metadata": {},
     "output_type": "display_data"
    },
    {
     "data": {
      "text/html": [
       "<pre style=\"white-space:pre;overflow-x:auto;line-height:normal;font-family:Menlo,'DejaVu Sans Mono',consolas,'Courier New',monospace\"><span style=\"color: #800000; text-decoration-color: #800000; background-color: #272727\">————— START STEP </span><span style=\"color: #800000; text-decoration-color: #800000; background-color: #272727; font-weight: bold\">7</span><span style=\"color: #800000; text-decoration-color: #800000; background-color: #272727\">: Print </span><span style=\"color: #800000; text-decoration-color: #800000; background-color: #272727; font-weight: bold\">5</span><span style=\"color: #800000; text-decoration-color: #800000; background-color: #272727\"> overlapping layers segments —————</span>\n",
       "</pre>\n"
      ],
      "text/plain": [
       "\u001b[31;48;2;39;39;39m————— START STEP \u001b[0m\u001b[1;31;48;2;39;39;39m7\u001b[0m\u001b[31;48;2;39;39;39m: Print \u001b[0m\u001b[1;31;48;2;39;39;39m5\u001b[0m\u001b[31;48;2;39;39;39m overlapping layers segments —————\u001b[0m\n"
      ]
     },
     "metadata": {},
     "output_type": "display_data"
    },
    {
     "data": {
      "text/html": [
       "<pre style=\"white-space:pre;overflow-x:auto;line-height:normal;font-family:Menlo,'DejaVu Sans Mono',consolas,'Courier New',monospace\"><span style=\"background-color: #272727\">new line from </span><span style=\"color: #008080; text-decoration-color: #008080; background-color: #272727; font-weight: bold\">21767</span>\n",
       "</pre>\n"
      ],
      "text/plain": [
       "\u001b[48;2;39;39;39mnew line from \u001b[0m\u001b[1;36;48;2;39;39;39m21767\u001b[0m\n"
      ]
     },
     "metadata": {},
     "output_type": "display_data"
    },
    {
     "data": {
      "text/html": [
       "<pre style=\"white-space:pre;overflow-x:auto;line-height:normal;font-family:Menlo,'DejaVu Sans Mono',consolas,'Courier New',monospace\"><span style=\"background-color: #272727\">new line from </span><span style=\"color: #008080; text-decoration-color: #008080; background-color: #272727; font-weight: bold\">21771</span>\n",
       "</pre>\n"
      ],
      "text/plain": [
       "\u001b[48;2;39;39;39mnew line from \u001b[0m\u001b[1;36;48;2;39;39;39m21771\u001b[0m\n"
      ]
     },
     "metadata": {},
     "output_type": "display_data"
    },
    {
     "data": {
      "text/html": [
       "<pre style=\"white-space:pre;overflow-x:auto;line-height:normal;font-family:Menlo,'DejaVu Sans Mono',consolas,'Courier New',monospace\"><span style=\"background-color: #272727\">new line from </span><span style=\"color: #008080; text-decoration-color: #008080; background-color: #272727; font-weight: bold\">21815</span>\n",
       "</pre>\n"
      ],
      "text/plain": [
       "\u001b[48;2;39;39;39mnew line from \u001b[0m\u001b[1;36;48;2;39;39;39m21815\u001b[0m\n"
      ]
     },
     "metadata": {},
     "output_type": "display_data"
    },
    {
     "data": {
      "text/html": [
       "<pre style=\"white-space:pre;overflow-x:auto;line-height:normal;font-family:Menlo,'DejaVu Sans Mono',consolas,'Courier New',monospace\"><span style=\"background-color: #272727\">  new step line: G0 X61.</span><span style=\"color: #008080; text-decoration-color: #008080; background-color: #272727; font-weight: bold\">032</span><span style=\"background-color: #272727\"> Y57.</span><span style=\"color: #008080; text-decoration-color: #008080; background-color: #272727; font-weight: bold\">893</span><span style=\"background-color: #272727\"> ; </span><span style=\"background-color: #272727; font-weight: bold\">[]</span><span style=\"background-color: #272727\"> ; ---- fake inter-step move from </span><span style=\"color: #008080; text-decoration-color: #008080; background-color: #272727; font-weight: bold\">21767</span>\n",
       "</pre>\n"
      ],
      "text/plain": [
       "\u001b[48;2;39;39;39m  new step line: G0 X61.\u001b[0m\u001b[1;36;48;2;39;39;39m032\u001b[0m\u001b[48;2;39;39;39m Y57.\u001b[0m\u001b[1;36;48;2;39;39;39m893\u001b[0m\u001b[48;2;39;39;39m ; \u001b[0m\u001b[1;48;2;39;39;39m[\u001b[0m\u001b[1;48;2;39;39;39m]\u001b[0m\u001b[48;2;39;39;39m ; ---- fake inter-step move from \u001b[0m\u001b[1;36;48;2;39;39;39m21767\u001b[0m\n"
      ]
     },
     "metadata": {},
     "output_type": "display_data"
    }
   ],
   "source": [
    "allgc = t.steps.gcode()"
   ]
  },
  {
   "cell_type": "code",
   "execution_count": 11,
   "id": "51076cbe-7a64-4fbd-8c26-f607a3d74b50",
   "metadata": {},
   "outputs": [
    {
     "data": {
      "text/plain": [
       "{}"
      ]
     },
     "execution_count": 11,
     "metadata": {},
     "output_type": "execute_result"
    }
   ],
   "source": [
    "dupcount([l.lineno for l in allgc if isinstance(l.lineno, int)])"
   ]
  },
  {
   "cell_type": "code",
   "execution_count": null,
   "id": "b1956ea8-64aa-4744-9763-14b2e3ec96d4",
   "metadata": {},
   "outputs": [],
   "source": [
    "len(set([l.lineno for l in start_layer.lines])), len(allgc), len([l for l in allgc if not l.fake])"
   ]
  },
  {
   "cell_type": "code",
   "execution_count": null,
   "id": "a4f4863c-2c3a-4fa1-8869-ba3056cf3764",
   "metadata": {},
   "outputs": [],
   "source": [
    "[l for l in allgc if not l.fake and l.lineno not in start_layer.lines]"
   ]
  },
  {
   "cell_type": "code",
   "execution_count": 23,
   "id": "3ab1eca1",
   "metadata": {},
   "outputs": [
    {
     "name": "stdout",
     "output_type": "stream",
     "text": [
      "G1 E-21.505 F8000 ; [] ; Ring move from 0.00° to 21.50°\n",
      "G1 E-25.079 F8000 ; [] ; Ring move from 21.50° to 46.58°\n",
      "G1 E-39.538 F8000 ; [] ; Ring move from 46.58° to 86.12°\n"
     ]
    }
   ],
   "source": [
    "with open('/tmp/steps.gcode', 'w') as f:\n",
    "    f.write('\\n'.join(util.construct_lines_rel2abs(allgc)[0]))"
   ]
  },
  {
   "cell_type": "code",
   "execution_count": null,
   "id": "7073a685-c46b-46a9-83c7-1f093dcd5311",
   "metadata": {},
   "outputs": [],
   "source": [
    "### Problem: there are repeated line numbers, such as 21821"
   ]
  },
  {
   "cell_type": "code",
   "execution_count": null,
   "id": "223fc047-9099-436c-acaf-d012a13ff882",
   "metadata": {},
   "outputs": [],
   "source": [
    "stepsobj.steps[1].gcsegs"
   ]
  },
  {
   "cell_type": "code",
   "execution_count": null,
   "id": "bc9b3149",
   "metadata": {},
   "outputs": [],
   "source": [
    "_.printed"
   ]
  },
  {
   "cell_type": "code",
   "execution_count": null,
   "id": "b9ab7d62-5e6e-4a38-b98f-56e77f3bea2d",
   "metadata": {},
   "outputs": [],
   "source": [
    "stepsobj.steps[5].gcode()[-1]"
   ]
  },
  {
   "cell_type": "code",
   "execution_count": null,
   "id": "03ea600f-7235-4ae9-8086-dd62c987b385",
   "metadata": {},
   "outputs": [],
   "source": [
    "stepsobj.steps[6].gcode()"
   ]
  },
  {
   "cell_type": "code",
   "execution_count": null,
   "id": "42844c90-826f-4087-ba40-c9b47785a7cf",
   "metadata": {},
   "outputs": [],
   "source": [
    "find(stepsobj.steps[5].gcode(), lambda l:l.is_xymove(), rev=True)"
   ]
  },
  {
   "cell_type": "code",
   "execution_count": null,
   "id": "b0f8f550",
   "metadata": {
    "tags": []
   },
   "outputs": [],
   "source": [
    "stepsobj.plot()"
   ]
  },
  {
   "cell_type": "code",
   "execution_count": null,
   "id": "819e7f58",
   "metadata": {},
   "outputs": [],
   "source": [
    "segs = stepsobj.steps[1].gcsegs\n",
    "pairs = [(s1,s2) for (s1,s2) in zip(segs[:-1], segs[1:]) if s2.gc_lines.first.lineno - s1.gc_lines.last.lineno > 2]\n",
    "pairs"
   ]
  },
  {
   "cell_type": "code",
   "execution_count": null,
   "id": "680a2290",
   "metadata": {},
   "outputs": [],
   "source": [
    "s = [seg for step in stepsobj.steps for seg in step.gcsegs if 21880 in seg.gc_lines]\n",
    "s"
   ]
  },
  {
   "cell_type": "code",
   "execution_count": null,
   "id": "08704a9a",
   "metadata": {},
   "outputs": [],
   "source": [
    "print(s[0], '\\n', s[0].gc_lines)"
   ]
  },
  {
   "cell_type": "code",
   "execution_count": null,
   "id": "9fdf6869",
   "metadata": {},
   "outputs": [],
   "source": [
    "segs.sort(key=lambda s:s.gc_lines.first.lineno)\n",
    "for seg1, seg2 in zip(segs[:-1], segs[1:]):\n",
    "    s1l = seg1.gc_lines.last.lineno\n",
    "    s2f = seg2.gc_lines.first.lineno\n",
    "    if s1l < 21800 or s2f > 21900:\n",
    "        continue\n",
    "    print((seg1.gc_lines.first.lineno, seg1.gc_lines.last.lineno),\n",
    "          (seg2.gc_lines.first.lineno, seg2.gc_lines.last.lineno),\n",
    "         ' = ', s2f-s1l)"
   ]
  },
  {
   "cell_type": "code",
   "execution_count": null,
   "id": "095b8780",
   "metadata": {},
   "outputs": [],
   "source": [
    "gcl = gcline.GCLines(g.lines)"
   ]
  },
  {
   "cell_type": "code",
   "execution_count": null,
   "id": "cb17d027",
   "metadata": {},
   "outputs": [],
   "source": [
    "gcl[21875:21880]"
   ]
  },
  {
   "cell_type": "code",
   "execution_count": null,
   "id": "e358c9e8",
   "metadata": {},
   "outputs": [],
   "source": [
    "gcline.GCLine(comment='hello').lineno"
   ]
  },
  {
   "cell_type": "code",
   "execution_count": null,
   "id": "5b69ee51",
   "metadata": {},
   "outputs": [],
   "source": [
    "import rich\n",
    "rich.terminal_theme.DEFAULT_TERMINAL_THEME = rich.terminal_theme.MONOKAI"
   ]
  },
  {
   "cell_type": "code",
   "execution_count": null,
   "id": "6a637f1a",
   "metadata": {},
   "outputs": [],
   "source": [
    "fig = go.Figure()\n",
    "t.printer.bed.plot(fig)\n",
    "start_layer.plot(fig, only_outline=False)\n",
    "fig.add_trace(go.Scatter(**geometry_helpers.segs_xy(\n",
    "\t#*t.steps.flat_thread,\n",
    "\t*thread_geom,\n",
    "\t**threader.Step.style['thread'])))\n",
    "t.printer.ring.plot(fig)\n",
    "\n",
    "fig.update_layout(template='plotly_dark',# autosize=False,\n",
    "\t\tyaxis={'scaleanchor':'x', 'scaleratio':1, 'constrain':'domain'},\n",
    "\t\tmargin=dict(l=0, r=20, b=0, t=0, pad=0),\n",
    "\t\tshowlegend=False,)\n",
    "fig.show()"
   ]
  },
  {
   "cell_type": "code",
   "execution_count": null,
   "id": "6f611381",
   "metadata": {},
   "outputs": [],
   "source": [
    "###### seg0 = list(start_layer.model_isecs.keys())[3]\n",
    "start_layer.model_isecs[seg0]"
   ]
  },
  {
   "cell_type": "code",
   "execution_count": null,
   "id": "1f491b81",
   "metadata": {},
   "outputs": [],
   "source": [
    "stepsobj.steps[1].printer.thread_seg"
   ]
  },
  {
   "cell_type": "code",
   "execution_count": null,
   "id": "b88da5e4",
   "metadata": {},
   "outputs": [],
   "source": [
    "id(stepsobj.steps[0].printer)"
   ]
  },
  {
   "cell_type": "code",
   "execution_count": null,
   "id": "ad3f90a6",
   "metadata": {},
   "outputs": [],
   "source": [
    "id(stepsobj.steps[0].printer)"
   ]
  },
  {
   "cell_type": "code",
   "execution_count": null,
   "id": "2856931c",
   "metadata": {},
   "outputs": [],
   "source": [
    "ring0 = stepsobj.steps[0].printer.ring\n",
    "ring1 = copy(ring0)\n",
    "ring0, ring1"
   ]
  },
  {
   "cell_type": "code",
   "execution_count": null,
   "id": "b4624094",
   "metadata": {},
   "outputs": [],
   "source": [
    "ring1.set_angle(0)\n",
    "ring0, ring1"
   ]
  },
  {
   "cell_type": "code",
   "execution_count": null,
   "id": "97a93f96",
   "metadata": {},
   "outputs": [],
   "source": [
    "id(ring0), id(ring1)"
   ]
  },
  {
   "cell_type": "code",
   "execution_count": null,
   "id": "67903668",
   "metadata": {},
   "outputs": [],
   "source": [
    "fig = go.Figure()\n",
    "stepsobj49.steps[5].plot_gcsegments(fig)\n",
    "fig.update_layout(template='plotly_dark',# autosize=False,\n",
    "\t\tyaxis={'scaleanchor':'x', 'scaleratio':1, 'constrain':'domain'},\n",
    "\t\tmargin=dict(l=0, r=20, b=0, t=40, pad=0),\n",
    "\t\tshowlegend=False,)\n",
    "\n",
    "fig.show('notebook')"
   ]
  },
  {
   "cell_type": "code",
   "execution_count": null,
   "id": "de69b373",
   "metadata": {},
   "outputs": [],
   "source": [
    "stepsobj49.steps[5].gcsegs[-1].gc_lines[14922]"
   ]
  },
  {
   "cell_type": "code",
   "execution_count": null,
   "id": "1e631f99",
   "metadata": {},
   "outputs": [],
   "source": [
    "g.lines[14920:14925]"
   ]
  },
  {
   "cell_type": "code",
   "execution_count": null,
   "id": "fc432143",
   "metadata": {},
   "outputs": [],
   "source": [
    "stepsobj49.steps[2].printer.ring.initial_angle, stepsobj49.steps[2].printer.ring.angle"
   ]
  },
  {
   "cell_type": "code",
   "execution_count": null,
   "id": "6a184c2b",
   "metadata": {},
   "outputs": [],
   "source": [
    "gc = stepsobj49.gcode()\n",
    "with open('/tmp/l49.gcode', 'w') as f:\n",
    "\tf.write(gc.construct())"
   ]
  },
  {
   "cell_type": "code",
   "execution_count": null,
   "id": "24af6476",
   "metadata": {},
   "outputs": [],
   "source": [
    "g.layers[49]"
   ]
  },
  {
   "cell_type": "code",
   "execution_count": null,
   "id": "11b273ba",
   "metadata": {},
   "outputs": [],
   "source": [
    "ogc = g.layers[49].lines\n",
    "rprint(ogc.summary())\n",
    "sorted(ogc[set(gc._index.keys()).difference(ogc._index.keys())])"
   ]
  },
  {
   "cell_type": "code",
   "execution_count": null,
   "id": "1bd70623",
   "metadata": {},
   "outputs": [],
   "source": [
    "stepsobj49.steps[1].gcsegs[-1].gc_lines"
   ]
  },
  {
   "cell_type": "code",
   "execution_count": null,
   "id": "ed666172",
   "metadata": {},
   "outputs": [],
   "source": [
    "stepsobj50 = t.route_layer(thread_geom, g.layers[50])\n",
    "stepsobj50.plot(g.layers[49])"
   ]
  },
  {
   "cell_type": "code",
   "execution_count": null,
   "id": "0bbed388",
   "metadata": {},
   "outputs": [],
   "source": [
    "stepsobj60 = t.route_layer(thread_geom, g.layers[60])\n",
    "stepsobj60.plot()"
   ]
  },
  {
   "cell_type": "code",
   "execution_count": null,
   "id": "9ee45695",
   "metadata": {},
   "outputs": [],
   "source": [
    "fig = go.Figure()\n",
    "layer = g.layers[49]\n",
    "layer.plot(fig, ['green'], ['green'], only_outline=False)\n",
    "\n",
    "thread = layer.flatten_thread(thread_geom)\n",
    "layer.intersect_model(thread)\n",
    "\n",
    "fig.add_trace(go.Scatter(**geometry_helpers.segs_xy(*thread,\n",
    "\tmarker_size=8,\n",
    "\tline=dict(color='red', dash='dot', width=4))))\n",
    "\n",
    "newthread = layer.anchor_snap(thread)\n",
    "\n",
    "fig.add_trace(go.Scatter(**geometry_helpers.segs_xy(*newthread,\n",
    "\tmarker=dict(color='lightblue', size=8),\n",
    "\tline=dict(color='yellow', dash='dot', width=1))))\n",
    "\n",
    "fig.update_layout(template='plotly_dark',# autosize=False,\n",
    "\t\tyaxis={'scaleanchor':'x', 'scaleratio':1, 'constrain':'domain'},\n",
    "\t\tmargin=dict(l=0, r=20, b=0, t=40, pad=0),\n",
    "\t\tshowlegend=False,\n",
    ")\n",
    "\n",
    "fig.show('notebook')"
   ]
  },
  {
   "cell_type": "code",
   "execution_count": null,
   "id": "718fd388",
   "metadata": {},
   "outputs": [],
   "source": [
    "for seg, color in zip(thread_geom, plotly.colors.qualitative.Set2):\n",
    "\tfig.add_trace(go.Scatter3d(**geometry_helpers.segs_xyz(seg, mode='lines',\n",
    "\t\tline=dict(color=color, dash='dot', width=4))))\n",
    "\n",
    "fig.update_layout(template='plotly_dark',# autosize=False,\n",
    "\t\tyaxis={'scaleanchor':'x', 'scaleratio':1, 'constrain':'domain'},\n",
    "\t\tmargin=dict(l=0, r=20, b=0, t=40, pad=0),\n",
    "\t\tshowlegend=False,\n",
    ")\n",
    "fig.update_scenes(\n",
    "\t\tcamera=dict(\n",
    "\t\t\tprojection={'type': 'orthographic'},\n",
    "\t\t\t# eye={'x': 0, 'y': 1, 'z': 0},\n",
    "\t\t),\n",
    ")\n",
    "\n",
    "fig.show('notebook')"
   ]
  },
  {
   "cell_type": "code",
   "execution_count": null,
   "id": "9e3330a8",
   "metadata": {},
   "outputs": [],
   "source": [
    "fig = go.Figure()\n",
    "layer = g.layers[49]\n",
    "layer.plot(fig, ['green'], ['green'], only_outline=False)\n",
    "\n",
    "thread = layer.flatten_thread(thread_geom)\n",
    "layer.intersect_model(thread)\n",
    "\n",
    "fig.add_trace(go.Scatter(**geometry_helpers.segs_xy(*thread,\n",
    "\tmarker_size=8,\n",
    "\tline=dict(color='red', dash='dot', width=4))))\n",
    "\n",
    "newthread = layer.anchor_snap(thread)\n",
    "\n",
    "fig.add_trace(go.Scatter(**geometry_helpers.segs_xy(*newthread,\n",
    "\tmarker=dict(color='lightblue', size=8),\n",
    "\tline=dict(color='yellow', dash='dot', width=1))))\n",
    "\n",
    "fig.update_layout(template='plotly_dark',# autosize=False,\n",
    "\t\tyaxis={'scaleanchor':'x', 'scaleratio':1, 'constrain':'domain'},\n",
    "\t\tmargin=dict(l=0, r=20, b=0, t=40, pad=0),\n",
    "\t\tshowlegend=False,\n",
    ")\n",
    "\n",
    "fig.show('notebook')"
   ]
  },
  {
   "cell_type": "code",
   "execution_count": null,
   "id": "73c72c4c",
   "metadata": {},
   "outputs": [],
   "source": [
    "import zipfile\n",
    "import xml.etree.ElementTree as ET\n",
    "import numpy as np\n",
    "\n",
    "namespace = {\n",
    "\t\t\"3mf\": \"http://schemas.microsoft.com/3dmanufacturing/core/2015/02\",\n",
    "\t\t\"m\"  : \"http://schemas.microsoft.com/3dmanufacturing/material/2015/02\"\n",
    "}\n",
    "\n",
    "filename = '/Users/dan/data/projects/research/thread_printer/stl/test2/Smaller complex shape v1 - cura.3mf'\n",
    "archive = zipfile.ZipFile(filename, \"r\")\n",
    "mfroot = ET.parse(archive.open(\"3D/3dmodel.model\"))"
   ]
  },
  {
   "cell_type": "code",
   "execution_count": null,
   "id": "09e63a96",
   "metadata": {},
   "outputs": [],
   "source": [
    "mins = [float( 'inf')]*3\n",
    "maxs = [float('-inf')]*3\n",
    "for vertex in mfroot.findall(\"./3mf:resources/3mf:object/3mf:mesh/3mf:vertices/3mf:vertex\", namespace):\n",
    "\tvals = list(map(float, [vertex.get(a) for a in 'xyz']))\n",
    "\tmins = [min(old, new) for old, new in zip(mins, vals)]\n",
    "\tmaxs = [max(old, new) for old, new in zip(maxs, vals)]\n",
    "mins, maxs"
   ]
  },
  {
   "cell_type": "code",
   "execution_count": null,
   "id": "826a9c65",
   "metadata": {},
   "outputs": [],
   "source": [
    "import zipfile\n",
    "import xml.etree.ElementTree as ET\n",
    "import numpy as np\n",
    "\n",
    "namespace = {\n",
    "\t\t\"3mf\": \"http://schemas.microsoft.com/3dmanufacturing/core/2015/02\",\n",
    "\t\t\"m\"  : \"http://schemas.microsoft.com/3dmanufacturing/material/2015/02\"\n",
    "}\n",
    "\n",
    "filename = '/Users/dan/data/projects/research/thread_printer/stl/test2/Smaller complex shape v1 - cura.3mf'\n",
    "archive = zipfile.ZipFile(filename, \"r\")\n",
    "mfroot = ET.parse(archive.open(\"3D/3dmodel.model\"))"
   ]
  },
  {
   "cell_type": "code",
   "execution_count": null,
   "id": "ce33ced5",
   "metadata": {},
   "outputs": [],
   "source": [
    "mins = [float( 'inf')]*3\n",
    "maxs = [float('-inf')]*3\n",
    "for vertex in mfroot.findall(\"./3mf:resources/3mf:object/3mf:mesh/3mf:vertices/3mf:vertex\", namespace):\n",
    "\tvals = list(map(float, [vertex.get(a) for a in 'xyz']))\n",
    "\tmins = [min(old, new) for old, new in zip(mins, vals)]\n",
    "\tmaxs = [max(old, new) for old, new in zip(maxs, vals)]\n",
    "mins, maxs"
   ]
  },
  {
   "cell_type": "code",
   "execution_count": null,
   "id": "aeeb683c",
   "metadata": {},
   "outputs": [],
   "source": [
    "np.vstack([threadstart, threadstart3mf, gthreadstart, tp[0]])"
   ]
  },
  {
   "cell_type": "code",
   "execution_count": null,
   "id": "49df8332",
   "metadata": {},
   "outputs": [],
   "source": [
    "verts3mf = np.unique(objects[2][::500,:2], axis=0)\n",
    "tp_cent_trans = tp_cent + obj_bb[2]['tr'] + obj_bb[3]['tr'] - [0, 5.75, 0]\n",
    "\n",
    "fig_t = go.Figure()\n",
    "\n",
    "#GCode\n",
    "start_layer.plot(fig_t, only_outline=False)\n",
    "\n",
    "#Translated object from 3MF\n",
    "trans_3mf = (objects[1] + obj_bb[3]['tr'])[::10,:2]\n",
    "fig_t.add_trace(go.Scatter(name='trans_3mf', x=trans_3mf[:,0], y=trans_3mf[:,1], mode='markers'))\n",
    "\n",
    "# fig_t.add_trace(go.Scatter(name='tp', x=tp[:,0], y=tp[:,1]))\n",
    "# fig_t.add_trace(go.Scatter(name='tp_cent', x=tp_cent[:,0], y=tp_cent[:,1]))\n",
    "# fig_t.add_trace(go.Scatter(name='verts3mf', x=verts3mf[:,0], y=verts3mf[:,1], mode='markers'))\n",
    "fig_t.add_trace(go.Scatter(name='tp_cent_trans', x=tp_cent_trans[:,0], y=tp_cent_trans[:,1]))\n",
    "\n",
    "\n",
    "fig_t.update_layout(template='plotly_dark',# autosize=False,\n",
    "\t\tyaxis={'scaleanchor':'x', 'scaleratio':1, 'constrain':'domain'},\n",
    "\t\tmargin=dict(l=0, r=20, b=0, t=0, pad=0),\n",
    "\t\tshowlegend=False,)\n",
    "fig_t.show('notebook')"
   ]
  }
 ],
 "metadata": {
  "kernelspec": {
   "display_name": "Python 3 (ipykernel)",
   "language": "python",
   "name": "python3"
  },
  "language_info": {
   "codemirror_mode": {
    "name": "ipython",
    "version": 3
   },
   "file_extension": ".py",
   "mimetype": "text/x-python",
   "name": "python",
   "nbconvert_exporter": "python",
   "pygments_lexer": "ipython3",
   "version": "3.10.6"
  }
 },
 "nbformat": 4,
 "nbformat_minor": 5
}

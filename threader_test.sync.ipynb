{
 "cells": [
  {
   "cell_type": "code",
   "execution_count": 1,
   "id": "01b03ab6-abfa-4ee4-bd7a-753a45f9ba3a",
   "metadata": {
    "tags": [
     "curr"
    ]
   },
   "outputs": [
    {
     "data": {
      "text/html": [
       "<pre style=\"white-space:pre;overflow-x:auto;line-height:normal;font-family:Menlo,'DejaVu Sans Mono',consolas,'Courier New',monospace\">reload threader\n",
       "</pre>\n"
      ],
      "text/plain": [
       "reload threader\n"
      ]
     },
     "metadata": {},
     "output_type": "display_data"
    },
    {
     "name": "stdout",
     "output_type": "stream",
     "text": [
      "The autoreload extension is already loaded. To reload it, use:\n",
      "  %reload_ext autoreload\n"
     ]
    }
   ],
   "source": [
    "import pickle\n",
    "import plotly.graph_objects as go\n",
    "from copy import copy, deepcopy\n",
    "from pprint import pprint\n",
    "from Geometry3D import Point, distance, HalfLine, Plane\n",
    "import Geometry3D\n",
    "import gcline\n",
    "from importlib import reload\n",
    "\n",
    "#import numpy as np\n",
    "#suppress scientific notation\n",
    "#np.set_printoptions(suppress=True, precision=8)\n",
    "#import parsers.cura4\n",
    "#from parsers import cura4\n",
    "\n",
    "import threader, geometry_helpers, gcode, gcline, tlayer, util, cura4layer, lablogging, rich_output_handler, logger, plot_styles\n",
    "from geometry_helpers import GPoint\n",
    "from threader import Threader\n",
    "from tlayer import TLayer\n",
    "from util import find, GCodeException\n",
    "from danutil import dupcount\n",
    "import plot_helpers, plotting, plot_styles\n",
    "from plotting import plot_steps\n",
    "import geometry.utils\n",
    "\n",
    "#Attempt to reload modules automatically\n",
    "%load_ext autoreload\n",
    "%autoreload 2"
   ]
  },
  {
   "cell_type": "code",
   "execution_count": null,
   "id": "d54642d0",
   "metadata": {},
   "outputs": [],
   "source": [
    "#Fusion: smaller complex shape v1\n",
    "gcode_file = '/Users/dan/r/thread_printer/stl/test2/Smaller complex shape - cura.gcode'\n",
    "cura_project = '/Users/dan/r/thread_printer/stl/test2/Smaller complex shape - cura.3mf'\n",
    "# From cura4.parse_3mf(cura_project) so I don't have to run that every time\n",
    "thread_transform = np.array([39.26039839, 46.27034378, 23.87050056])\n",
    "#See thread_from_fusion.py to get thread path\n",
    "tpath = [\n",
    "\t\t([33.7300, 17.1077, 11.4653], [56.0477, 43.4545, 11.4653]),\n",
    "\t\t([56.0477, 43.4545, 11.4653], [53.2410, 59.2656, 11.4653]),\n",
    "\t\t([53.2410, 59.2656, 11.4653], [26.9901, 69.3288, 42.0560]),\n",
    "\t\t([26.9901, 69.3288, 42.0560], [26.9901, 69.3288, 47.7410]),\n",
    "]"
   ]
  },
  {
   "cell_type": "code",
   "execution_count": 2,
   "id": "cb8882c5-04a7-4d51-9cd2-0011313976ed",
   "metadata": {
    "tags": [
     "curr"
    ]
   },
   "outputs": [],
   "source": [
    "gcode_file = '/Users/dan/r/thread_printer/stl/test3/Router test-cura5.gcode'\n",
    "cura_project = '/Users/dan/r/thread_printer/stl/test3/Router test-cura5.3mf'\n",
    "#thread_transform = np.array([27.43560219, 27.43383789,  5.0])\n",
    "tpath = [\n",
    "\t([18.2689, 14.9338, 3.3333], [18.2689, 36.6005, 3.3333]),\n",
    "\t([18.2689, 36.6005, 3.3333], [36.6023, 36.6005, 3.3333]),\n",
    "\t([36.6023, 36.6005, 3.3333], [36.6023, 18.2672, 3.3333]),\n",
    "\t([36.6023, 18.2672, 3.3333], [21.6023, 18.2672, 3.3333]),\n",
    "\t([21.6023, 18.2672, 3.3333], [21.6023, 21.6005, 6.6667]),\n",
    "\t([21.6023, 21.6005, 6.6667], [21.6023, 36.6005, 6.6667]),\n",
    "\t([21.6023, 36.6005, 6.6667], [33.2689, 36.6005, 6.6667]),\n",
    "\t([33.2689, 36.6005, 6.6667], [33.2689, 21.6005, 6.6667])\n",
    "]"
   ]
  },
  {
   "cell_type": "code",
   "execution_count": null,
   "id": "f7ba65e1",
   "metadata": {},
   "outputs": [],
   "source": [
    "thread_transform = cura4.parse_3mf(cura_project)\n",
    "thread_transform"
   ]
  },
  {
   "cell_type": "code",
   "execution_count": 6,
   "id": "2978611a",
   "metadata": {
    "tags": [
     "curr"
    ]
   },
   "outputs": [],
   "source": [
    "#tpath = np.array(tpath)\n",
    "\n",
    "#Do it this way so I can add transform if needed\n",
    "#tpath = np.insert(tpath, 0, [[0,0,0], tpath[0,0]], axis=0)\n",
    "\n",
    "#Temporary fix for TODO in cura4.parse3mf\n",
    "#thread_transform[2] = 0\n",
    "\n",
    "g = gcode.GcodeFile(gcode_file, layer_class=TLayer)\n",
    "t = Threader(g)\n",
    "\n",
    "#start_layer = next(layer for layer in g.layers if (layer.z + layer.layer_height) >= tpath[0][1][2])\n",
    "#start_layer = g.layers[56]\n",
    "\n",
    "thread_geom = list([geometry_helpers.GSegment(GPoint(*s), GPoint(*e)) for s,e in tpath])"
   ]
  },
  {
   "cell_type": "code",
   "execution_count": 7,
   "id": "c43a383f-ff69-4e2b-9307-e55b42a45f0e",
   "metadata": {
    "tags": [
     "curr"
    ]
   },
   "outputs": [
    {
     "data": {
      "application/vnd.jupyter.widget-view+json": {
       "model_id": "6df9087f0ff74a72a5dc29ec99e38a74",
       "version_major": 2,
       "version_minor": 0
      },
      "text/plain": [
       "Accordion()"
      ]
     },
     "metadata": {},
     "output_type": "display_data"
    },
    {
     "data": {
      "text/html": [
       "<pre style=\"white-space:pre;overflow-x:auto;line-height:normal;font-family:Menlo,'DejaVu Sans Mono',consolas,'Courier New',monospace\">Route <span style=\"color: #58d1eb; text-decoration-color: #58d1eb; font-weight: bold\">8</span>-segment thread through layer:\n",
       " <span style=\"font-weight: bold\">&lt;</span><span style=\"color: #f4005f; text-decoration-color: #f4005f; font-weight: bold\">Layer</span><span style=\"color: #d9d9d9; text-decoration-color: #d9d9d9\"> </span><span style=\"color: #58d1eb; text-decoration-color: #58d1eb; font-weight: bold\">16</span><span style=\"color: #d9d9d9; text-decoration-color: #d9d9d9\"> at </span><span style=\"color: #fd971f; text-decoration-color: #fd971f\">Z</span><span style=\"color: #d9d9d9; text-decoration-color: #d9d9d9\">=</span><span style=\"color: #58d1eb; text-decoration-color: #58d1eb; font-weight: bold\">3.4</span><span style=\"color: #d9d9d9; text-decoration-color: #d9d9d9\">;</span>\n",
       "<span style=\"color: #d9d9d9; text-decoration-color: #d9d9d9\">  corners: </span><span style=\"color: #d9d9d9; text-decoration-color: #d9d9d9; font-weight: bold\">((</span><span style=\"color: #58d1eb; text-decoration-color: #58d1eb; font-weight: bold\">15.136</span><span style=\"color: #d9d9d9; text-decoration-color: #d9d9d9\">, </span><span style=\"color: #58d1eb; text-decoration-color: #58d1eb; font-weight: bold\">15.134</span><span style=\"color: #d9d9d9; text-decoration-color: #d9d9d9; font-weight: bold\">)</span><span style=\"color: #d9d9d9; text-decoration-color: #d9d9d9\">, </span><span style=\"color: #d9d9d9; text-decoration-color: #d9d9d9; font-weight: bold\">(</span><span style=\"color: #58d1eb; text-decoration-color: #58d1eb; font-weight: bold\">39.736</span><span style=\"color: #d9d9d9; text-decoration-color: #d9d9d9\">, </span><span style=\"color: #58d1eb; text-decoration-color: #58d1eb; font-weight: bold\">39.734</span><span style=\"color: #d9d9d9; text-decoration-color: #d9d9d9; font-weight: bold\">))</span><span style=\"color: #d9d9d9; text-decoration-color: #d9d9d9\">;</span>\n",
       "<span style=\"color: #d9d9d9; text-decoration-color: #d9d9d9\">  </span><span style=\"color: #58d1eb; text-decoration-color: #58d1eb; font-weight: bold\">236</span><span style=\"color: #d9d9d9; text-decoration-color: #d9d9d9\"> lines</span><span style=\"font-weight: bold\">&gt;</span>\n",
       "        <span style=\"color: #58d1eb; text-decoration-color: #58d1eb; font-weight: bold\">0</span>. <span style=\"font-weight: bold\">&lt;</span><span style=\"color: #d9d9d9; text-decoration-color: #d9d9d9; font-weight: bold\">{</span><span style=\"color: #d9d9d9; text-decoration-color: #d9d9d9\"> </span><span style=\"color: #58d1eb; text-decoration-color: #58d1eb; font-weight: bold\">18.27</span><span style=\"color: #d9d9d9; text-decoration-color: #d9d9d9\">,  </span><span style=\"color: #58d1eb; text-decoration-color: #58d1eb; font-weight: bold\">14.93</span><span style=\"color: #d9d9d9; text-decoration-color: #d9d9d9\">,   </span><span style=\"color: #58d1eb; text-decoration-color: #58d1eb; font-weight: bold\">3.33</span><span style=\"color: #d9d9d9; text-decoration-color: #d9d9d9; font-weight: bold\">}</span><span style=\"color: #d9d9d9; text-decoration-color: #d9d9d9\">←→</span><span style=\"color: #d9d9d9; text-decoration-color: #d9d9d9; font-weight: bold\">{</span><span style=\"color: #d9d9d9; text-decoration-color: #d9d9d9\"> </span><span style=\"color: #58d1eb; text-decoration-color: #58d1eb; font-weight: bold\">18.27</span><span style=\"color: #d9d9d9; text-decoration-color: #d9d9d9\">,  </span><span style=\"color: #58d1eb; text-decoration-color: #58d1eb; font-weight: bold\">36.60</span><span style=\"color: #d9d9d9; text-decoration-color: #d9d9d9\">,   </span><span style=\"color: #58d1eb; text-decoration-color: #58d1eb; font-weight: bold\">3.33</span><span style=\"color: #d9d9d9; text-decoration-color: #d9d9d9; font-weight: bold\">}</span><span style=\"color: #d9d9d9; text-decoration-color: #d9d9d9\"> </span><span style=\"color: #d9d9d9; text-decoration-color: #d9d9d9; font-weight: bold\">(</span><span style=\"color: #58d1eb; text-decoration-color: #58d1eb; font-weight: bold\">21.67</span><span style=\"color: #d9d9d9; text-decoration-color: #d9d9d9\"> mm</span><span style=\"color: #d9d9d9; text-decoration-color: #d9d9d9; font-weight: bold\">)</span><span style=\"font-weight: bold\">&gt;</span>\n",
       "        <span style=\"color: #58d1eb; text-decoration-color: #58d1eb; font-weight: bold\">1</span>. <span style=\"font-weight: bold\">&lt;</span><span style=\"color: #d9d9d9; text-decoration-color: #d9d9d9; font-weight: bold\">{</span><span style=\"color: #d9d9d9; text-decoration-color: #d9d9d9\"> </span><span style=\"color: #58d1eb; text-decoration-color: #58d1eb; font-weight: bold\">18.27</span><span style=\"color: #d9d9d9; text-decoration-color: #d9d9d9\">,  </span><span style=\"color: #58d1eb; text-decoration-color: #58d1eb; font-weight: bold\">36.60</span><span style=\"color: #d9d9d9; text-decoration-color: #d9d9d9\">,   </span><span style=\"color: #58d1eb; text-decoration-color: #58d1eb; font-weight: bold\">3.33</span><span style=\"color: #d9d9d9; text-decoration-color: #d9d9d9; font-weight: bold\">}</span><span style=\"color: #d9d9d9; text-decoration-color: #d9d9d9\">←→</span><span style=\"color: #d9d9d9; text-decoration-color: #d9d9d9; font-weight: bold\">{</span><span style=\"color: #d9d9d9; text-decoration-color: #d9d9d9\"> </span><span style=\"color: #58d1eb; text-decoration-color: #58d1eb; font-weight: bold\">36.60</span><span style=\"color: #d9d9d9; text-decoration-color: #d9d9d9\">,  </span><span style=\"color: #58d1eb; text-decoration-color: #58d1eb; font-weight: bold\">36.60</span><span style=\"color: #d9d9d9; text-decoration-color: #d9d9d9\">,   </span><span style=\"color: #58d1eb; text-decoration-color: #58d1eb; font-weight: bold\">3.33</span><span style=\"color: #d9d9d9; text-decoration-color: #d9d9d9; font-weight: bold\">}</span><span style=\"color: #d9d9d9; text-decoration-color: #d9d9d9\"> </span><span style=\"color: #d9d9d9; text-decoration-color: #d9d9d9; font-weight: bold\">(</span><span style=\"color: #58d1eb; text-decoration-color: #58d1eb; font-weight: bold\">18.33</span><span style=\"color: #d9d9d9; text-decoration-color: #d9d9d9\"> mm</span><span style=\"color: #d9d9d9; text-decoration-color: #d9d9d9; font-weight: bold\">)</span><span style=\"font-weight: bold\">&gt;</span>\n",
       "        <span style=\"color: #58d1eb; text-decoration-color: #58d1eb; font-weight: bold\">2</span>. <span style=\"font-weight: bold\">&lt;</span><span style=\"color: #d9d9d9; text-decoration-color: #d9d9d9; font-weight: bold\">{</span><span style=\"color: #d9d9d9; text-decoration-color: #d9d9d9\"> </span><span style=\"color: #58d1eb; text-decoration-color: #58d1eb; font-weight: bold\">36.60</span><span style=\"color: #d9d9d9; text-decoration-color: #d9d9d9\">,  </span><span style=\"color: #58d1eb; text-decoration-color: #58d1eb; font-weight: bold\">36.60</span><span style=\"color: #d9d9d9; text-decoration-color: #d9d9d9\">,   </span><span style=\"color: #58d1eb; text-decoration-color: #58d1eb; font-weight: bold\">3.33</span><span style=\"color: #d9d9d9; text-decoration-color: #d9d9d9; font-weight: bold\">}</span><span style=\"color: #d9d9d9; text-decoration-color: #d9d9d9\">←→</span><span style=\"color: #d9d9d9; text-decoration-color: #d9d9d9; font-weight: bold\">{</span><span style=\"color: #d9d9d9; text-decoration-color: #d9d9d9\"> </span><span style=\"color: #58d1eb; text-decoration-color: #58d1eb; font-weight: bold\">36.60</span><span style=\"color: #d9d9d9; text-decoration-color: #d9d9d9\">,  </span><span style=\"color: #58d1eb; text-decoration-color: #58d1eb; font-weight: bold\">18.27</span><span style=\"color: #d9d9d9; text-decoration-color: #d9d9d9\">,   </span><span style=\"color: #58d1eb; text-decoration-color: #58d1eb; font-weight: bold\">3.33</span><span style=\"color: #d9d9d9; text-decoration-color: #d9d9d9; font-weight: bold\">}</span><span style=\"color: #d9d9d9; text-decoration-color: #d9d9d9\"> </span><span style=\"color: #d9d9d9; text-decoration-color: #d9d9d9; font-weight: bold\">(</span><span style=\"color: #58d1eb; text-decoration-color: #58d1eb; font-weight: bold\">18.33</span><span style=\"color: #d9d9d9; text-decoration-color: #d9d9d9\"> mm</span><span style=\"color: #d9d9d9; text-decoration-color: #d9d9d9; font-weight: bold\">)</span><span style=\"font-weight: bold\">&gt;</span>\n",
       "        <span style=\"color: #58d1eb; text-decoration-color: #58d1eb; font-weight: bold\">3</span>. <span style=\"font-weight: bold\">&lt;</span><span style=\"color: #d9d9d9; text-decoration-color: #d9d9d9; font-weight: bold\">{</span><span style=\"color: #d9d9d9; text-decoration-color: #d9d9d9\"> </span><span style=\"color: #58d1eb; text-decoration-color: #58d1eb; font-weight: bold\">36.60</span><span style=\"color: #d9d9d9; text-decoration-color: #d9d9d9\">,  </span><span style=\"color: #58d1eb; text-decoration-color: #58d1eb; font-weight: bold\">18.27</span><span style=\"color: #d9d9d9; text-decoration-color: #d9d9d9\">,   </span><span style=\"color: #58d1eb; text-decoration-color: #58d1eb; font-weight: bold\">3.33</span><span style=\"color: #d9d9d9; text-decoration-color: #d9d9d9; font-weight: bold\">}</span><span style=\"color: #d9d9d9; text-decoration-color: #d9d9d9\">←→</span><span style=\"color: #d9d9d9; text-decoration-color: #d9d9d9; font-weight: bold\">{</span><span style=\"color: #d9d9d9; text-decoration-color: #d9d9d9\"> </span><span style=\"color: #58d1eb; text-decoration-color: #58d1eb; font-weight: bold\">21.60</span><span style=\"color: #d9d9d9; text-decoration-color: #d9d9d9\">,  </span><span style=\"color: #58d1eb; text-decoration-color: #58d1eb; font-weight: bold\">18.27</span><span style=\"color: #d9d9d9; text-decoration-color: #d9d9d9\">,   </span><span style=\"color: #58d1eb; text-decoration-color: #58d1eb; font-weight: bold\">3.33</span><span style=\"color: #d9d9d9; text-decoration-color: #d9d9d9; font-weight: bold\">}</span><span style=\"color: #d9d9d9; text-decoration-color: #d9d9d9\"> </span><span style=\"color: #d9d9d9; text-decoration-color: #d9d9d9; font-weight: bold\">(</span><span style=\"color: #58d1eb; text-decoration-color: #58d1eb; font-weight: bold\">15.00</span><span style=\"color: #d9d9d9; text-decoration-color: #d9d9d9\"> mm</span><span style=\"color: #d9d9d9; text-decoration-color: #d9d9d9; font-weight: bold\">)</span><span style=\"font-weight: bold\">&gt;</span>\n",
       "        <span style=\"color: #58d1eb; text-decoration-color: #58d1eb; font-weight: bold\">4</span>. <span style=\"font-weight: bold\">&lt;</span><span style=\"color: #d9d9d9; text-decoration-color: #d9d9d9; font-weight: bold\">{</span><span style=\"color: #d9d9d9; text-decoration-color: #d9d9d9\"> </span><span style=\"color: #58d1eb; text-decoration-color: #58d1eb; font-weight: bold\">21.60</span><span style=\"color: #d9d9d9; text-decoration-color: #d9d9d9\">,  </span><span style=\"color: #58d1eb; text-decoration-color: #58d1eb; font-weight: bold\">18.27</span><span style=\"color: #d9d9d9; text-decoration-color: #d9d9d9\">,   </span><span style=\"color: #58d1eb; text-decoration-color: #58d1eb; font-weight: bold\">3.33</span><span style=\"color: #d9d9d9; text-decoration-color: #d9d9d9; font-weight: bold\">}</span><span style=\"color: #d9d9d9; text-decoration-color: #d9d9d9\">←→</span><span style=\"color: #d9d9d9; text-decoration-color: #d9d9d9; font-weight: bold\">{</span><span style=\"color: #d9d9d9; text-decoration-color: #d9d9d9\"> </span><span style=\"color: #58d1eb; text-decoration-color: #58d1eb; font-weight: bold\">21.60</span><span style=\"color: #d9d9d9; text-decoration-color: #d9d9d9\">,  </span><span style=\"color: #58d1eb; text-decoration-color: #58d1eb; font-weight: bold\">21.60</span><span style=\"color: #d9d9d9; text-decoration-color: #d9d9d9\">,   </span><span style=\"color: #58d1eb; text-decoration-color: #58d1eb; font-weight: bold\">6.67</span><span style=\"color: #d9d9d9; text-decoration-color: #d9d9d9; font-weight: bold\">}</span><span style=\"color: #d9d9d9; text-decoration-color: #d9d9d9\"> </span><span style=\"color: #d9d9d9; text-decoration-color: #d9d9d9; font-weight: bold\">(</span><span style=\"color: #58d1eb; text-decoration-color: #58d1eb; font-weight: bold\">4.71</span><span style=\"color: #d9d9d9; text-decoration-color: #d9d9d9\"> mm</span><span style=\"color: #d9d9d9; text-decoration-color: #d9d9d9; font-weight: bold\">)</span><span style=\"font-weight: bold\">&gt;</span>\n",
       "        <span style=\"color: #58d1eb; text-decoration-color: #58d1eb; font-weight: bold\">5</span>. <span style=\"font-weight: bold\">&lt;</span><span style=\"color: #d9d9d9; text-decoration-color: #d9d9d9; font-weight: bold\">{</span><span style=\"color: #d9d9d9; text-decoration-color: #d9d9d9\"> </span><span style=\"color: #58d1eb; text-decoration-color: #58d1eb; font-weight: bold\">21.60</span><span style=\"color: #d9d9d9; text-decoration-color: #d9d9d9\">,  </span><span style=\"color: #58d1eb; text-decoration-color: #58d1eb; font-weight: bold\">21.60</span><span style=\"color: #d9d9d9; text-decoration-color: #d9d9d9\">,   </span><span style=\"color: #58d1eb; text-decoration-color: #58d1eb; font-weight: bold\">6.67</span><span style=\"color: #d9d9d9; text-decoration-color: #d9d9d9; font-weight: bold\">}</span><span style=\"color: #d9d9d9; text-decoration-color: #d9d9d9\">←→</span><span style=\"color: #d9d9d9; text-decoration-color: #d9d9d9; font-weight: bold\">{</span><span style=\"color: #d9d9d9; text-decoration-color: #d9d9d9\"> </span><span style=\"color: #58d1eb; text-decoration-color: #58d1eb; font-weight: bold\">21.60</span><span style=\"color: #d9d9d9; text-decoration-color: #d9d9d9\">,  </span><span style=\"color: #58d1eb; text-decoration-color: #58d1eb; font-weight: bold\">36.60</span><span style=\"color: #d9d9d9; text-decoration-color: #d9d9d9\">,   </span><span style=\"color: #58d1eb; text-decoration-color: #58d1eb; font-weight: bold\">6.67</span><span style=\"color: #d9d9d9; text-decoration-color: #d9d9d9; font-weight: bold\">}</span><span style=\"color: #d9d9d9; text-decoration-color: #d9d9d9\"> </span><span style=\"color: #d9d9d9; text-decoration-color: #d9d9d9; font-weight: bold\">(</span><span style=\"color: #58d1eb; text-decoration-color: #58d1eb; font-weight: bold\">15.00</span><span style=\"color: #d9d9d9; text-decoration-color: #d9d9d9\"> mm</span><span style=\"color: #d9d9d9; text-decoration-color: #d9d9d9; font-weight: bold\">)</span><span style=\"font-weight: bold\">&gt;</span>\n",
       "        <span style=\"color: #58d1eb; text-decoration-color: #58d1eb; font-weight: bold\">6</span>. <span style=\"font-weight: bold\">&lt;</span><span style=\"color: #d9d9d9; text-decoration-color: #d9d9d9; font-weight: bold\">{</span><span style=\"color: #d9d9d9; text-decoration-color: #d9d9d9\"> </span><span style=\"color: #58d1eb; text-decoration-color: #58d1eb; font-weight: bold\">21.60</span><span style=\"color: #d9d9d9; text-decoration-color: #d9d9d9\">,  </span><span style=\"color: #58d1eb; text-decoration-color: #58d1eb; font-weight: bold\">36.60</span><span style=\"color: #d9d9d9; text-decoration-color: #d9d9d9\">,   </span><span style=\"color: #58d1eb; text-decoration-color: #58d1eb; font-weight: bold\">6.67</span><span style=\"color: #d9d9d9; text-decoration-color: #d9d9d9; font-weight: bold\">}</span><span style=\"color: #d9d9d9; text-decoration-color: #d9d9d9\">←→</span><span style=\"color: #d9d9d9; text-decoration-color: #d9d9d9; font-weight: bold\">{</span><span style=\"color: #d9d9d9; text-decoration-color: #d9d9d9\"> </span><span style=\"color: #58d1eb; text-decoration-color: #58d1eb; font-weight: bold\">33.27</span><span style=\"color: #d9d9d9; text-decoration-color: #d9d9d9\">,  </span><span style=\"color: #58d1eb; text-decoration-color: #58d1eb; font-weight: bold\">36.60</span><span style=\"color: #d9d9d9; text-decoration-color: #d9d9d9\">,   </span><span style=\"color: #58d1eb; text-decoration-color: #58d1eb; font-weight: bold\">6.67</span><span style=\"color: #d9d9d9; text-decoration-color: #d9d9d9; font-weight: bold\">}</span><span style=\"color: #d9d9d9; text-decoration-color: #d9d9d9\"> </span><span style=\"color: #d9d9d9; text-decoration-color: #d9d9d9; font-weight: bold\">(</span><span style=\"color: #58d1eb; text-decoration-color: #58d1eb; font-weight: bold\">11.67</span><span style=\"color: #d9d9d9; text-decoration-color: #d9d9d9\"> mm</span><span style=\"color: #d9d9d9; text-decoration-color: #d9d9d9; font-weight: bold\">)</span><span style=\"font-weight: bold\">&gt;</span>\n",
       "        <span style=\"color: #58d1eb; text-decoration-color: #58d1eb; font-weight: bold\">7</span>. <span style=\"font-weight: bold\">&lt;</span><span style=\"color: #d9d9d9; text-decoration-color: #d9d9d9; font-weight: bold\">{</span><span style=\"color: #d9d9d9; text-decoration-color: #d9d9d9\"> </span><span style=\"color: #58d1eb; text-decoration-color: #58d1eb; font-weight: bold\">33.27</span><span style=\"color: #d9d9d9; text-decoration-color: #d9d9d9\">,  </span><span style=\"color: #58d1eb; text-decoration-color: #58d1eb; font-weight: bold\">36.60</span><span style=\"color: #d9d9d9; text-decoration-color: #d9d9d9\">,   </span><span style=\"color: #58d1eb; text-decoration-color: #58d1eb; font-weight: bold\">6.67</span><span style=\"color: #d9d9d9; text-decoration-color: #d9d9d9; font-weight: bold\">}</span><span style=\"color: #d9d9d9; text-decoration-color: #d9d9d9\">←→</span><span style=\"color: #d9d9d9; text-decoration-color: #d9d9d9; font-weight: bold\">{</span><span style=\"color: #d9d9d9; text-decoration-color: #d9d9d9\"> </span><span style=\"color: #58d1eb; text-decoration-color: #58d1eb; font-weight: bold\">33.27</span><span style=\"color: #d9d9d9; text-decoration-color: #d9d9d9\">,  </span><span style=\"color: #58d1eb; text-decoration-color: #58d1eb; font-weight: bold\">21.60</span><span style=\"color: #d9d9d9; text-decoration-color: #d9d9d9\">,   </span><span style=\"color: #58d1eb; text-decoration-color: #58d1eb; font-weight: bold\">6.67</span><span style=\"color: #d9d9d9; text-decoration-color: #d9d9d9; font-weight: bold\">}</span><span style=\"color: #d9d9d9; text-decoration-color: #d9d9d9\"> </span><span style=\"color: #d9d9d9; text-decoration-color: #d9d9d9; font-weight: bold\">(</span><span style=\"color: #58d1eb; text-decoration-color: #58d1eb; font-weight: bold\">15.00</span><span style=\"color: #d9d9d9; text-decoration-color: #d9d9d9\"> mm</span><span style=\"color: #d9d9d9; text-decoration-color: #d9d9d9; font-weight: bold\">)</span><span style=\"font-weight: bold\">&gt;</span>\n",
       "</pre>"
      ],
      "text/plain": [
       "<IPython.core.display.HTML object>"
      ]
     },
     "metadata": {},
     "output_type": "display_data"
    },
    {
     "data": {
      "text/html": [
       "<pre style=\"white-space:pre;overflow-x:auto;line-height:normal;font-family:Menlo,'DejaVu Sans Mono',consolas,'Courier New',monospace\"><span style=\"color: #58d1eb; text-decoration-color: #58d1eb; font-weight: bold\">5</span>. <span style=\"font-weight: bold\">&lt;</span><span style=\"color: #d9d9d9; text-decoration-color: #d9d9d9; font-weight: bold\">{</span><span style=\"color: #d9d9d9; text-decoration-color: #d9d9d9\"> </span><span style=\"color: #58d1eb; text-decoration-color: #58d1eb; font-weight: bold\">21.60</span><span style=\"color: #d9d9d9; text-decoration-color: #d9d9d9\">,  </span><span style=\"color: #58d1eb; text-decoration-color: #58d1eb; font-weight: bold\">21.60</span><span style=\"color: #d9d9d9; text-decoration-color: #d9d9d9\">,   </span><span style=\"color: #58d1eb; text-decoration-color: #58d1eb; font-weight: bold\">6.67</span><span style=\"color: #d9d9d9; text-decoration-color: #d9d9d9; font-weight: bold\">}</span><span style=\"color: #d9d9d9; text-decoration-color: #d9d9d9\">←→</span><span style=\"color: #d9d9d9; text-decoration-color: #d9d9d9; font-weight: bold\">{</span><span style=\"color: #d9d9d9; text-decoration-color: #d9d9d9\"> </span><span style=\"color: #58d1eb; text-decoration-color: #58d1eb; font-weight: bold\">21.60</span><span style=\"color: #d9d9d9; text-decoration-color: #d9d9d9\">,  </span><span style=\"color: #58d1eb; text-decoration-color: #58d1eb; font-weight: bold\">36.60</span><span style=\"color: #d9d9d9; text-decoration-color: #d9d9d9\">,   </span><span style=\"color: #58d1eb; text-decoration-color: #58d1eb; font-weight: bold\">6.67</span><span style=\"color: #d9d9d9; text-decoration-color: #d9d9d9; font-weight: bold\">}</span><span style=\"color: #d9d9d9; text-decoration-color: #d9d9d9\"> </span><span style=\"color: #d9d9d9; text-decoration-color: #d9d9d9; font-weight: bold\">(</span><span style=\"color: #58d1eb; text-decoration-color: #58d1eb; font-weight: bold\">15.00</span><span style=\"color: #d9d9d9; text-decoration-color: #d9d9d9\"> mm</span><span style=\"color: #d9d9d9; text-decoration-color: #d9d9d9; font-weight: bold\">)</span><span style=\"font-weight: bold\">&gt;</span> endpoints not in layer\n",
       "</pre>"
      ],
      "text/plain": [
       "<IPython.core.display.HTML object>"
      ]
     },
     "metadata": {},
     "output_type": "display_data"
    },
    {
     "data": {
      "text/html": [
       "<pre style=\"white-space:pre;overflow-x:auto;line-height:normal;font-family:Menlo,'DejaVu Sans Mono',consolas,'Courier New',monospace\"><span style=\"color: #58d1eb; text-decoration-color: #58d1eb; font-weight: bold\">6</span>. <span style=\"font-weight: bold\">&lt;</span><span style=\"color: #d9d9d9; text-decoration-color: #d9d9d9; font-weight: bold\">{</span><span style=\"color: #d9d9d9; text-decoration-color: #d9d9d9\"> </span><span style=\"color: #58d1eb; text-decoration-color: #58d1eb; font-weight: bold\">21.60</span><span style=\"color: #d9d9d9; text-decoration-color: #d9d9d9\">,  </span><span style=\"color: #58d1eb; text-decoration-color: #58d1eb; font-weight: bold\">36.60</span><span style=\"color: #d9d9d9; text-decoration-color: #d9d9d9\">,   </span><span style=\"color: #58d1eb; text-decoration-color: #58d1eb; font-weight: bold\">6.67</span><span style=\"color: #d9d9d9; text-decoration-color: #d9d9d9; font-weight: bold\">}</span><span style=\"color: #d9d9d9; text-decoration-color: #d9d9d9\">←→</span><span style=\"color: #d9d9d9; text-decoration-color: #d9d9d9; font-weight: bold\">{</span><span style=\"color: #d9d9d9; text-decoration-color: #d9d9d9\"> </span><span style=\"color: #58d1eb; text-decoration-color: #58d1eb; font-weight: bold\">33.27</span><span style=\"color: #d9d9d9; text-decoration-color: #d9d9d9\">,  </span><span style=\"color: #58d1eb; text-decoration-color: #58d1eb; font-weight: bold\">36.60</span><span style=\"color: #d9d9d9; text-decoration-color: #d9d9d9\">,   </span><span style=\"color: #58d1eb; text-decoration-color: #58d1eb; font-weight: bold\">6.67</span><span style=\"color: #d9d9d9; text-decoration-color: #d9d9d9; font-weight: bold\">}</span><span style=\"color: #d9d9d9; text-decoration-color: #d9d9d9\"> </span><span style=\"color: #d9d9d9; text-decoration-color: #d9d9d9; font-weight: bold\">(</span><span style=\"color: #58d1eb; text-decoration-color: #58d1eb; font-weight: bold\">11.67</span><span style=\"color: #d9d9d9; text-decoration-color: #d9d9d9\"> mm</span><span style=\"color: #d9d9d9; text-decoration-color: #d9d9d9; font-weight: bold\">)</span><span style=\"font-weight: bold\">&gt;</span> endpoints not in layer\n",
       "</pre>"
      ],
      "text/plain": [
       "<IPython.core.display.HTML object>"
      ]
     },
     "metadata": {},
     "output_type": "display_data"
    },
    {
     "data": {
      "text/html": [
       "<pre style=\"white-space:pre;overflow-x:auto;line-height:normal;font-family:Menlo,'DejaVu Sans Mono',consolas,'Courier New',monospace\"><span style=\"color: #58d1eb; text-decoration-color: #58d1eb; font-weight: bold\">7</span>. <span style=\"font-weight: bold\">&lt;</span><span style=\"color: #d9d9d9; text-decoration-color: #d9d9d9; font-weight: bold\">{</span><span style=\"color: #d9d9d9; text-decoration-color: #d9d9d9\"> </span><span style=\"color: #58d1eb; text-decoration-color: #58d1eb; font-weight: bold\">33.27</span><span style=\"color: #d9d9d9; text-decoration-color: #d9d9d9\">,  </span><span style=\"color: #58d1eb; text-decoration-color: #58d1eb; font-weight: bold\">36.60</span><span style=\"color: #d9d9d9; text-decoration-color: #d9d9d9\">,   </span><span style=\"color: #58d1eb; text-decoration-color: #58d1eb; font-weight: bold\">6.67</span><span style=\"color: #d9d9d9; text-decoration-color: #d9d9d9; font-weight: bold\">}</span><span style=\"color: #d9d9d9; text-decoration-color: #d9d9d9\">←→</span><span style=\"color: #d9d9d9; text-decoration-color: #d9d9d9; font-weight: bold\">{</span><span style=\"color: #d9d9d9; text-decoration-color: #d9d9d9\"> </span><span style=\"color: #58d1eb; text-decoration-color: #58d1eb; font-weight: bold\">33.27</span><span style=\"color: #d9d9d9; text-decoration-color: #d9d9d9\">,  </span><span style=\"color: #58d1eb; text-decoration-color: #58d1eb; font-weight: bold\">21.60</span><span style=\"color: #d9d9d9; text-decoration-color: #d9d9d9\">,   </span><span style=\"color: #58d1eb; text-decoration-color: #58d1eb; font-weight: bold\">6.67</span><span style=\"color: #d9d9d9; text-decoration-color: #d9d9d9; font-weight: bold\">}</span><span style=\"color: #d9d9d9; text-decoration-color: #d9d9d9\"> </span><span style=\"color: #d9d9d9; text-decoration-color: #d9d9d9; font-weight: bold\">(</span><span style=\"color: #58d1eb; text-decoration-color: #58d1eb; font-weight: bold\">15.00</span><span style=\"color: #d9d9d9; text-decoration-color: #d9d9d9\"> mm</span><span style=\"color: #d9d9d9; text-decoration-color: #d9d9d9; font-weight: bold\">)</span><span style=\"font-weight: bold\">&gt;</span> endpoints not in layer\n",
       "</pre>"
      ],
      "text/plain": [
       "<IPython.core.display.HTML object>"
      ]
     },
     "metadata": {},
     "output_type": "display_data"
    },
    {
     "data": {
      "text/html": [
       "<pre style=\"white-space:pre;overflow-x:auto;line-height:normal;font-family:Menlo,'DejaVu Sans Mono',consolas,'Courier New',monospace\">\n",
       "Flattened thread:\n",
       "  <span style=\"color: #58d1eb; text-decoration-color: #58d1eb; font-weight: bold\">0</span>. <span style=\"font-weight: bold\">&lt;</span><span style=\"color: #d9d9d9; text-decoration-color: #d9d9d9; font-weight: bold\">{</span><span style=\"color: #d9d9d9; text-decoration-color: #d9d9d9\"> </span><span style=\"color: #58d1eb; text-decoration-color: #58d1eb; font-weight: bold\">18.27</span><span style=\"color: #d9d9d9; text-decoration-color: #d9d9d9\">,  </span><span style=\"color: #58d1eb; text-decoration-color: #58d1eb; font-weight: bold\">14.93</span><span style=\"color: #d9d9d9; text-decoration-color: #d9d9d9\">,   </span><span style=\"color: #58d1eb; text-decoration-color: #58d1eb; font-weight: bold\">3.40</span><span style=\"color: #d9d9d9; text-decoration-color: #d9d9d9; font-weight: bold\">}</span><span style=\"color: #d9d9d9; text-decoration-color: #d9d9d9\">←→</span><span style=\"color: #d9d9d9; text-decoration-color: #d9d9d9; font-weight: bold\">{</span><span style=\"color: #d9d9d9; text-decoration-color: #d9d9d9\"> </span><span style=\"color: #58d1eb; text-decoration-color: #58d1eb; font-weight: bold\">18.27</span><span style=\"color: #d9d9d9; text-decoration-color: #d9d9d9\">,  </span><span style=\"color: #58d1eb; text-decoration-color: #58d1eb; font-weight: bold\">36.60</span><span style=\"color: #d9d9d9; text-decoration-color: #d9d9d9\">,   </span><span style=\"color: #58d1eb; text-decoration-color: #58d1eb; font-weight: bold\">3.40</span><span style=\"color: #d9d9d9; text-decoration-color: #d9d9d9; font-weight: bold\">}</span><span style=\"color: #d9d9d9; text-decoration-color: #d9d9d9\"> </span><span style=\"color: #d9d9d9; text-decoration-color: #d9d9d9; font-weight: bold\">(</span><span style=\"color: #58d1eb; text-decoration-color: #58d1eb; font-weight: bold\">21.67</span><span style=\"color: #d9d9d9; text-decoration-color: #d9d9d9\"> mm</span><span style=\"color: #d9d9d9; text-decoration-color: #d9d9d9; font-weight: bold\">)</span><span style=\"font-weight: bold\">&gt;</span>\n",
       "  <span style=\"color: #58d1eb; text-decoration-color: #58d1eb; font-weight: bold\">1</span>. <span style=\"font-weight: bold\">&lt;</span><span style=\"color: #d9d9d9; text-decoration-color: #d9d9d9; font-weight: bold\">{</span><span style=\"color: #d9d9d9; text-decoration-color: #d9d9d9\"> </span><span style=\"color: #58d1eb; text-decoration-color: #58d1eb; font-weight: bold\">18.27</span><span style=\"color: #d9d9d9; text-decoration-color: #d9d9d9\">,  </span><span style=\"color: #58d1eb; text-decoration-color: #58d1eb; font-weight: bold\">36.60</span><span style=\"color: #d9d9d9; text-decoration-color: #d9d9d9\">,   </span><span style=\"color: #58d1eb; text-decoration-color: #58d1eb; font-weight: bold\">3.40</span><span style=\"color: #d9d9d9; text-decoration-color: #d9d9d9; font-weight: bold\">}</span><span style=\"color: #d9d9d9; text-decoration-color: #d9d9d9\">←→</span><span style=\"color: #d9d9d9; text-decoration-color: #d9d9d9; font-weight: bold\">{</span><span style=\"color: #d9d9d9; text-decoration-color: #d9d9d9\"> </span><span style=\"color: #58d1eb; text-decoration-color: #58d1eb; font-weight: bold\">36.60</span><span style=\"color: #d9d9d9; text-decoration-color: #d9d9d9\">,  </span><span style=\"color: #58d1eb; text-decoration-color: #58d1eb; font-weight: bold\">36.60</span><span style=\"color: #d9d9d9; text-decoration-color: #d9d9d9\">,   </span><span style=\"color: #58d1eb; text-decoration-color: #58d1eb; font-weight: bold\">3.40</span><span style=\"color: #d9d9d9; text-decoration-color: #d9d9d9; font-weight: bold\">}</span><span style=\"color: #d9d9d9; text-decoration-color: #d9d9d9\"> </span><span style=\"color: #d9d9d9; text-decoration-color: #d9d9d9; font-weight: bold\">(</span><span style=\"color: #58d1eb; text-decoration-color: #58d1eb; font-weight: bold\">18.33</span><span style=\"color: #d9d9d9; text-decoration-color: #d9d9d9\"> mm</span><span style=\"color: #d9d9d9; text-decoration-color: #d9d9d9; font-weight: bold\">)</span><span style=\"font-weight: bold\">&gt;</span>\n",
       "  <span style=\"color: #58d1eb; text-decoration-color: #58d1eb; font-weight: bold\">2</span>. <span style=\"font-weight: bold\">&lt;</span><span style=\"color: #d9d9d9; text-decoration-color: #d9d9d9; font-weight: bold\">{</span><span style=\"color: #d9d9d9; text-decoration-color: #d9d9d9\"> </span><span style=\"color: #58d1eb; text-decoration-color: #58d1eb; font-weight: bold\">36.60</span><span style=\"color: #d9d9d9; text-decoration-color: #d9d9d9\">,  </span><span style=\"color: #58d1eb; text-decoration-color: #58d1eb; font-weight: bold\">36.60</span><span style=\"color: #d9d9d9; text-decoration-color: #d9d9d9\">,   </span><span style=\"color: #58d1eb; text-decoration-color: #58d1eb; font-weight: bold\">3.40</span><span style=\"color: #d9d9d9; text-decoration-color: #d9d9d9; font-weight: bold\">}</span><span style=\"color: #d9d9d9; text-decoration-color: #d9d9d9\">←→</span><span style=\"color: #d9d9d9; text-decoration-color: #d9d9d9; font-weight: bold\">{</span><span style=\"color: #d9d9d9; text-decoration-color: #d9d9d9\"> </span><span style=\"color: #58d1eb; text-decoration-color: #58d1eb; font-weight: bold\">36.60</span><span style=\"color: #d9d9d9; text-decoration-color: #d9d9d9\">,  </span><span style=\"color: #58d1eb; text-decoration-color: #58d1eb; font-weight: bold\">18.27</span><span style=\"color: #d9d9d9; text-decoration-color: #d9d9d9\">,   </span><span style=\"color: #58d1eb; text-decoration-color: #58d1eb; font-weight: bold\">3.40</span><span style=\"color: #d9d9d9; text-decoration-color: #d9d9d9; font-weight: bold\">}</span><span style=\"color: #d9d9d9; text-decoration-color: #d9d9d9\"> </span><span style=\"color: #d9d9d9; text-decoration-color: #d9d9d9; font-weight: bold\">(</span><span style=\"color: #58d1eb; text-decoration-color: #58d1eb; font-weight: bold\">18.33</span><span style=\"color: #d9d9d9; text-decoration-color: #d9d9d9\"> mm</span><span style=\"color: #d9d9d9; text-decoration-color: #d9d9d9; font-weight: bold\">)</span><span style=\"font-weight: bold\">&gt;</span>\n",
       "  <span style=\"color: #58d1eb; text-decoration-color: #58d1eb; font-weight: bold\">3</span>. <span style=\"font-weight: bold\">&lt;</span><span style=\"color: #d9d9d9; text-decoration-color: #d9d9d9; font-weight: bold\">{</span><span style=\"color: #d9d9d9; text-decoration-color: #d9d9d9\"> </span><span style=\"color: #58d1eb; text-decoration-color: #58d1eb; font-weight: bold\">36.60</span><span style=\"color: #d9d9d9; text-decoration-color: #d9d9d9\">,  </span><span style=\"color: #58d1eb; text-decoration-color: #58d1eb; font-weight: bold\">18.27</span><span style=\"color: #d9d9d9; text-decoration-color: #d9d9d9\">,   </span><span style=\"color: #58d1eb; text-decoration-color: #58d1eb; font-weight: bold\">3.40</span><span style=\"color: #d9d9d9; text-decoration-color: #d9d9d9; font-weight: bold\">}</span><span style=\"color: #d9d9d9; text-decoration-color: #d9d9d9\">←→</span><span style=\"color: #d9d9d9; text-decoration-color: #d9d9d9; font-weight: bold\">{</span><span style=\"color: #d9d9d9; text-decoration-color: #d9d9d9\"> </span><span style=\"color: #58d1eb; text-decoration-color: #58d1eb; font-weight: bold\">21.60</span><span style=\"color: #d9d9d9; text-decoration-color: #d9d9d9\">,  </span><span style=\"color: #58d1eb; text-decoration-color: #58d1eb; font-weight: bold\">18.27</span><span style=\"color: #d9d9d9; text-decoration-color: #d9d9d9\">,   </span><span style=\"color: #58d1eb; text-decoration-color: #58d1eb; font-weight: bold\">3.40</span><span style=\"color: #d9d9d9; text-decoration-color: #d9d9d9; font-weight: bold\">}</span><span style=\"color: #d9d9d9; text-decoration-color: #d9d9d9\"> </span><span style=\"color: #d9d9d9; text-decoration-color: #d9d9d9; font-weight: bold\">(</span><span style=\"color: #58d1eb; text-decoration-color: #58d1eb; font-weight: bold\">15.00</span><span style=\"color: #d9d9d9; text-decoration-color: #d9d9d9\"> mm</span><span style=\"color: #d9d9d9; text-decoration-color: #d9d9d9; font-weight: bold\">)</span><span style=\"font-weight: bold\">&gt;</span>\n",
       "  <span style=\"color: #58d1eb; text-decoration-color: #58d1eb; font-weight: bold\">4</span>. <span style=\"font-weight: bold\">&lt;</span><span style=\"color: #d9d9d9; text-decoration-color: #d9d9d9; font-weight: bold\">{</span><span style=\"color: #d9d9d9; text-decoration-color: #d9d9d9\"> </span><span style=\"color: #58d1eb; text-decoration-color: #58d1eb; font-weight: bold\">21.60</span><span style=\"color: #d9d9d9; text-decoration-color: #d9d9d9\">,  </span><span style=\"color: #58d1eb; text-decoration-color: #58d1eb; font-weight: bold\">18.27</span><span style=\"color: #d9d9d9; text-decoration-color: #d9d9d9\">,   </span><span style=\"color: #58d1eb; text-decoration-color: #58d1eb; font-weight: bold\">3.40</span><span style=\"color: #d9d9d9; text-decoration-color: #d9d9d9; font-weight: bold\">}</span><span style=\"color: #d9d9d9; text-decoration-color: #d9d9d9\">←→</span><span style=\"color: #d9d9d9; text-decoration-color: #d9d9d9; font-weight: bold\">{</span><span style=\"color: #d9d9d9; text-decoration-color: #d9d9d9\"> </span><span style=\"color: #58d1eb; text-decoration-color: #58d1eb; font-weight: bold\">21.60</span><span style=\"color: #d9d9d9; text-decoration-color: #d9d9d9\">,  </span><span style=\"color: #58d1eb; text-decoration-color: #58d1eb; font-weight: bold\">18.43</span><span style=\"color: #d9d9d9; text-decoration-color: #d9d9d9\">,   </span><span style=\"color: #58d1eb; text-decoration-color: #58d1eb; font-weight: bold\">3.40</span><span style=\"color: #d9d9d9; text-decoration-color: #d9d9d9; font-weight: bold\">}</span><span style=\"color: #d9d9d9; text-decoration-color: #d9d9d9\"> </span><span style=\"color: #d9d9d9; text-decoration-color: #d9d9d9; font-weight: bold\">(</span><span style=\"color: #58d1eb; text-decoration-color: #58d1eb; font-weight: bold\">0.17</span><span style=\"color: #d9d9d9; text-decoration-color: #d9d9d9\"> mm</span><span style=\"color: #d9d9d9; text-decoration-color: #d9d9d9; font-weight: bold\">)</span><span style=\"font-weight: bold\">&gt;</span>\n",
       "</pre>"
      ],
      "text/plain": [
       "<IPython.core.display.HTML object>"
      ]
     },
     "metadata": {},
     "output_type": "display_data"
    },
    {
     "data": {
      "text/html": [
       "<pre style=\"white-space:pre;overflow-x:auto;line-height:2;font-family:Menlo,'DejaVu Sans Mono',consolas,'Courier New',monospace\">+++++ START ANCHOR: <span style=\"font-weight: bold\">{</span>  <span style=\"color: #58d1eb; text-decoration-color: #58d1eb; font-weight: bold\">0.00</span>,   <span style=\"color: #58d1eb; text-decoration-color: #58d1eb; font-weight: bold\">0.00</span>,   <span style=\"color: #58d1eb; text-decoration-color: #58d1eb; font-weight: bold\">3.40</span><span style=\"font-weight: bold\">}</span>\n",
       "</pre>"
      ],
      "text/plain": [
       "<IPython.core.display.HTML object>"
      ]
     },
     "metadata": {},
     "output_type": "display_data"
    },
    {
     "data": {
      "text/html": [
       "<pre style=\"white-space:pre;overflow-x:auto;line-height:2;font-family:Menlo,'DejaVu Sans Mono',consolas,'Courier New',monospace\">Added start anchor seg: <span style=\"font-weight: bold\">&lt;</span><span style=\"color: #d9d9d9; text-decoration-color: #d9d9d9; font-weight: bold\">{</span><span style=\"color: #d9d9d9; text-decoration-color: #d9d9d9\">  </span><span style=\"color: #58d1eb; text-decoration-color: #58d1eb; font-weight: bold\">0.00</span><span style=\"color: #d9d9d9; text-decoration-color: #d9d9d9\">,   </span><span style=\"color: #58d1eb; text-decoration-color: #58d1eb; font-weight: bold\">0.00</span><span style=\"color: #d9d9d9; text-decoration-color: #d9d9d9\">,   </span><span style=\"color: #58d1eb; text-decoration-color: #58d1eb; font-weight: bold\">3.40</span><span style=\"color: #d9d9d9; text-decoration-color: #d9d9d9; font-weight: bold\">}</span><span style=\"color: #d9d9d9; text-decoration-color: #d9d9d9\">←→</span><span style=\"color: #d9d9d9; text-decoration-color: #d9d9d9; font-weight: bold\">{</span><span style=\"color: #d9d9d9; text-decoration-color: #d9d9d9\"> </span><span style=\"color: #58d1eb; text-decoration-color: #58d1eb; font-weight: bold\">18.27</span><span style=\"color: #d9d9d9; text-decoration-color: #d9d9d9\">,  </span><span style=\"color: #58d1eb; text-decoration-color: #58d1eb; font-weight: bold\">14.93</span><span style=\"color: #d9d9d9; text-decoration-color: #d9d9d9\">,   </span><span style=\"color: #58d1eb; text-decoration-color: #58d1eb; font-weight: bold\">3.40</span><span style=\"color: #d9d9d9; text-decoration-color: #d9d9d9; font-weight: bold\">}</span><span style=\"color: #d9d9d9; text-decoration-color: #d9d9d9\"> </span><span style=\"color: #d9d9d9; text-decoration-color: #d9d9d9; font-weight: bold\">(</span><span style=\"color: #58d1eb; text-decoration-color: #58d1eb; font-weight: bold\">23.60</span><span style=\"color: #d9d9d9; text-decoration-color: #d9d9d9\"> mm</span><span style=\"color: #d9d9d9; text-decoration-color: #d9d9d9; font-weight: bold\">)</span><span style=\"font-weight: bold\">&gt;</span>\n",
       "</pre>"
      ],
      "text/plain": [
       "<IPython.core.display.HTML object>"
      ]
     },
     "metadata": {},
     "output_type": "display_data"
    },
    {
     "data": {
      "text/html": [
       "<pre style=\"white-space:pre;overflow-x:auto;line-height:normal;font-family:Menlo,'DejaVu Sans Mono',consolas,'Courier New',monospace\">Snapped thread:\n",
       "  <span style=\"color: #58d1eb; text-decoration-color: #58d1eb; font-weight: bold\">0</span>. Old: <span style=\"font-weight: bold\">&lt;</span><span style=\"color: #d9d9d9; text-decoration-color: #d9d9d9; font-weight: bold\">{</span><span style=\"color: #d9d9d9; text-decoration-color: #d9d9d9\">  </span><span style=\"color: #58d1eb; text-decoration-color: #58d1eb; font-weight: bold\">0.00</span><span style=\"color: #d9d9d9; text-decoration-color: #d9d9d9\">,   </span><span style=\"color: #58d1eb; text-decoration-color: #58d1eb; font-weight: bold\">0.00</span><span style=\"color: #d9d9d9; text-decoration-color: #d9d9d9\">,   </span><span style=\"color: #58d1eb; text-decoration-color: #58d1eb; font-weight: bold\">3.40</span><span style=\"color: #d9d9d9; text-decoration-color: #d9d9d9; font-weight: bold\">}</span><span style=\"color: #d9d9d9; text-decoration-color: #d9d9d9\">←→</span><span style=\"color: #d9d9d9; text-decoration-color: #d9d9d9; font-weight: bold\">{</span><span style=\"color: #d9d9d9; text-decoration-color: #d9d9d9\"> </span><span style=\"color: #58d1eb; text-decoration-color: #58d1eb; font-weight: bold\">18.27</span><span style=\"color: #d9d9d9; text-decoration-color: #d9d9d9\">,  </span><span style=\"color: #58d1eb; text-decoration-color: #58d1eb; font-weight: bold\">14.93</span><span style=\"color: #d9d9d9; text-decoration-color: #d9d9d9\">,   </span><span style=\"color: #58d1eb; text-decoration-color: #58d1eb; font-weight: bold\">3.40</span><span style=\"color: #d9d9d9; text-decoration-color: #d9d9d9; font-weight: bold\">}</span><span style=\"color: #d9d9d9; text-decoration-color: #d9d9d9\"> </span><span style=\"color: #d9d9d9; text-decoration-color: #d9d9d9; font-weight: bold\">(</span><span style=\"color: #58d1eb; text-decoration-color: #58d1eb; font-weight: bold\">23.60</span><span style=\"color: #d9d9d9; text-decoration-color: #d9d9d9\"> mm</span><span style=\"color: #d9d9d9; text-decoration-color: #d9d9d9; font-weight: bold\">)</span><span style=\"font-weight: bold\">&gt;</span>\n",
       "     New: <span style=\"font-weight: bold\">&lt;</span><span style=\"color: #d9d9d9; text-decoration-color: #d9d9d9; font-weight: bold\">{</span><span style=\"color: #d9d9d9; text-decoration-color: #d9d9d9\">  </span><span style=\"color: #58d1eb; text-decoration-color: #58d1eb; font-weight: bold\">0.00</span><span style=\"color: #d9d9d9; text-decoration-color: #d9d9d9\">,   </span><span style=\"color: #58d1eb; text-decoration-color: #58d1eb; font-weight: bold\">0.00</span><span style=\"color: #d9d9d9; text-decoration-color: #d9d9d9\">,   </span><span style=\"color: #58d1eb; text-decoration-color: #58d1eb; font-weight: bold\">3.40</span><span style=\"color: #d9d9d9; text-decoration-color: #d9d9d9; font-weight: bold\">}</span><span style=\"color: #d9d9d9; text-decoration-color: #d9d9d9\">←→</span><span style=\"color: #d9d9d9; text-decoration-color: #d9d9d9; font-weight: bold\">{</span><span style=\"color: #d9d9d9; text-decoration-color: #d9d9d9\"> </span><span style=\"color: #58d1eb; text-decoration-color: #58d1eb; font-weight: bold\">18.27</span><span style=\"color: #d9d9d9; text-decoration-color: #d9d9d9\">,  </span><span style=\"color: #58d1eb; text-decoration-color: #58d1eb; font-weight: bold\">15.13</span><span style=\"color: #d9d9d9; text-decoration-color: #d9d9d9\">,   </span><span style=\"color: #58d1eb; text-decoration-color: #58d1eb; font-weight: bold\">3.40</span><span style=\"color: #d9d9d9; text-decoration-color: #d9d9d9; font-weight: bold\">}</span><span style=\"color: #d9d9d9; text-decoration-color: #d9d9d9\"> </span><span style=\"color: #d9d9d9; text-decoration-color: #d9d9d9; font-weight: bold\">(</span><span style=\"color: #58d1eb; text-decoration-color: #58d1eb; font-weight: bold\">23.72</span><span style=\"color: #d9d9d9; text-decoration-color: #d9d9d9\"> mm</span><span style=\"color: #d9d9d9; text-decoration-color: #d9d9d9; font-weight: bold\">)</span><span style=\"font-weight: bold\">&gt;</span> →<span style=\"font-weight: bold\">(</span><span style=\"color: #58d1eb; text-decoration-color: #58d1eb; font-weight: bold\">0.2002</span> mm<span style=\"font-weight: bold\">)</span>\n",
       "  <span style=\"color: #58d1eb; text-decoration-color: #58d1eb; font-weight: bold\">1</span>. Old: <span style=\"font-weight: bold\">&lt;</span><span style=\"color: #d9d9d9; text-decoration-color: #d9d9d9; font-weight: bold\">{</span><span style=\"color: #d9d9d9; text-decoration-color: #d9d9d9\"> </span><span style=\"color: #58d1eb; text-decoration-color: #58d1eb; font-weight: bold\">18.27</span><span style=\"color: #d9d9d9; text-decoration-color: #d9d9d9\">,  </span><span style=\"color: #58d1eb; text-decoration-color: #58d1eb; font-weight: bold\">15.13</span><span style=\"color: #d9d9d9; text-decoration-color: #d9d9d9\">,   </span><span style=\"color: #58d1eb; text-decoration-color: #58d1eb; font-weight: bold\">3.40</span><span style=\"color: #d9d9d9; text-decoration-color: #d9d9d9; font-weight: bold\">}</span><span style=\"color: #d9d9d9; text-decoration-color: #d9d9d9\">←→</span><span style=\"color: #d9d9d9; text-decoration-color: #d9d9d9; font-weight: bold\">{</span><span style=\"color: #d9d9d9; text-decoration-color: #d9d9d9\"> </span><span style=\"color: #58d1eb; text-decoration-color: #58d1eb; font-weight: bold\">18.27</span><span style=\"color: #d9d9d9; text-decoration-color: #d9d9d9\">,  </span><span style=\"color: #58d1eb; text-decoration-color: #58d1eb; font-weight: bold\">36.60</span><span style=\"color: #d9d9d9; text-decoration-color: #d9d9d9\">,   </span><span style=\"color: #58d1eb; text-decoration-color: #58d1eb; font-weight: bold\">3.40</span><span style=\"color: #d9d9d9; text-decoration-color: #d9d9d9; font-weight: bold\">}</span><span style=\"color: #d9d9d9; text-decoration-color: #d9d9d9\"> </span><span style=\"color: #d9d9d9; text-decoration-color: #d9d9d9; font-weight: bold\">(</span><span style=\"color: #58d1eb; text-decoration-color: #58d1eb; font-weight: bold\">21.47</span><span style=\"color: #d9d9d9; text-decoration-color: #d9d9d9\"> mm</span><span style=\"color: #d9d9d9; text-decoration-color: #d9d9d9; font-weight: bold\">)</span><span style=\"font-weight: bold\">&gt;</span>\n",
       "     New: <span style=\"font-weight: bold\">&lt;</span><span style=\"color: #d9d9d9; text-decoration-color: #d9d9d9; font-weight: bold\">{</span><span style=\"color: #d9d9d9; text-decoration-color: #d9d9d9\"> </span><span style=\"color: #58d1eb; text-decoration-color: #58d1eb; font-weight: bold\">18.27</span><span style=\"color: #d9d9d9; text-decoration-color: #d9d9d9\">,  </span><span style=\"color: #58d1eb; text-decoration-color: #58d1eb; font-weight: bold\">15.13</span><span style=\"color: #d9d9d9; text-decoration-color: #d9d9d9\">,   </span><span style=\"color: #58d1eb; text-decoration-color: #58d1eb; font-weight: bold\">3.40</span><span style=\"color: #d9d9d9; text-decoration-color: #d9d9d9; font-weight: bold\">}</span><span style=\"color: #d9d9d9; text-decoration-color: #d9d9d9\">←→</span><span style=\"color: #d9d9d9; text-decoration-color: #d9d9d9; font-weight: bold\">{</span><span style=\"color: #d9d9d9; text-decoration-color: #d9d9d9\"> </span><span style=\"color: #58d1eb; text-decoration-color: #58d1eb; font-weight: bold\">18.27</span><span style=\"color: #d9d9d9; text-decoration-color: #d9d9d9\">,  </span><span style=\"color: #58d1eb; text-decoration-color: #58d1eb; font-weight: bold\">36.60</span><span style=\"color: #d9d9d9; text-decoration-color: #d9d9d9\">,   </span><span style=\"color: #58d1eb; text-decoration-color: #58d1eb; font-weight: bold\">3.40</span><span style=\"color: #d9d9d9; text-decoration-color: #d9d9d9; font-weight: bold\">}</span><span style=\"color: #d9d9d9; text-decoration-color: #d9d9d9\"> </span><span style=\"color: #d9d9d9; text-decoration-color: #d9d9d9; font-weight: bold\">(</span><span style=\"color: #58d1eb; text-decoration-color: #58d1eb; font-weight: bold\">21.47</span><span style=\"color: #d9d9d9; text-decoration-color: #d9d9d9\"> mm</span><span style=\"color: #d9d9d9; text-decoration-color: #d9d9d9; font-weight: bold\">)</span><span style=\"font-weight: bold\">&gt;</span> →<span style=\"font-weight: bold\">(</span><span style=\"color: #58d1eb; text-decoration-color: #58d1eb; font-weight: bold\">0.0017</span> mm<span style=\"font-weight: bold\">)</span>\n",
       "  <span style=\"color: #58d1eb; text-decoration-color: #58d1eb; font-weight: bold\">2</span>. Old: <span style=\"font-weight: bold\">&lt;</span><span style=\"color: #d9d9d9; text-decoration-color: #d9d9d9; font-weight: bold\">{</span><span style=\"color: #d9d9d9; text-decoration-color: #d9d9d9\"> </span><span style=\"color: #58d1eb; text-decoration-color: #58d1eb; font-weight: bold\">18.27</span><span style=\"color: #d9d9d9; text-decoration-color: #d9d9d9\">,  </span><span style=\"color: #58d1eb; text-decoration-color: #58d1eb; font-weight: bold\">36.60</span><span style=\"color: #d9d9d9; text-decoration-color: #d9d9d9\">,   </span><span style=\"color: #58d1eb; text-decoration-color: #58d1eb; font-weight: bold\">3.40</span><span style=\"color: #d9d9d9; text-decoration-color: #d9d9d9; font-weight: bold\">}</span><span style=\"color: #d9d9d9; text-decoration-color: #d9d9d9\">←→</span><span style=\"color: #d9d9d9; text-decoration-color: #d9d9d9; font-weight: bold\">{</span><span style=\"color: #d9d9d9; text-decoration-color: #d9d9d9\"> </span><span style=\"color: #58d1eb; text-decoration-color: #58d1eb; font-weight: bold\">36.60</span><span style=\"color: #d9d9d9; text-decoration-color: #d9d9d9\">,  </span><span style=\"color: #58d1eb; text-decoration-color: #58d1eb; font-weight: bold\">36.60</span><span style=\"color: #d9d9d9; text-decoration-color: #d9d9d9\">,   </span><span style=\"color: #58d1eb; text-decoration-color: #58d1eb; font-weight: bold\">3.40</span><span style=\"color: #d9d9d9; text-decoration-color: #d9d9d9; font-weight: bold\">}</span><span style=\"color: #d9d9d9; text-decoration-color: #d9d9d9\"> </span><span style=\"color: #d9d9d9; text-decoration-color: #d9d9d9; font-weight: bold\">(</span><span style=\"color: #58d1eb; text-decoration-color: #58d1eb; font-weight: bold\">18.33</span><span style=\"color: #d9d9d9; text-decoration-color: #d9d9d9\"> mm</span><span style=\"color: #d9d9d9; text-decoration-color: #d9d9d9; font-weight: bold\">)</span><span style=\"font-weight: bold\">&gt;</span>\n",
       "     New: <span style=\"font-weight: bold\">&lt;</span><span style=\"color: #d9d9d9; text-decoration-color: #d9d9d9; font-weight: bold\">{</span><span style=\"color: #d9d9d9; text-decoration-color: #d9d9d9\"> </span><span style=\"color: #58d1eb; text-decoration-color: #58d1eb; font-weight: bold\">18.27</span><span style=\"color: #d9d9d9; text-decoration-color: #d9d9d9\">,  </span><span style=\"color: #58d1eb; text-decoration-color: #58d1eb; font-weight: bold\">36.60</span><span style=\"color: #d9d9d9; text-decoration-color: #d9d9d9\">,   </span><span style=\"color: #58d1eb; text-decoration-color: #58d1eb; font-weight: bold\">3.40</span><span style=\"color: #d9d9d9; text-decoration-color: #d9d9d9; font-weight: bold\">}</span><span style=\"color: #d9d9d9; text-decoration-color: #d9d9d9\">←→</span><span style=\"color: #d9d9d9; text-decoration-color: #d9d9d9; font-weight: bold\">{</span><span style=\"color: #d9d9d9; text-decoration-color: #d9d9d9\"> </span><span style=\"color: #58d1eb; text-decoration-color: #58d1eb; font-weight: bold\">36.60</span><span style=\"color: #d9d9d9; text-decoration-color: #d9d9d9\">,  </span><span style=\"color: #58d1eb; text-decoration-color: #58d1eb; font-weight: bold\">36.60</span><span style=\"color: #d9d9d9; text-decoration-color: #d9d9d9\">,   </span><span style=\"color: #58d1eb; text-decoration-color: #58d1eb; font-weight: bold\">3.40</span><span style=\"color: #d9d9d9; text-decoration-color: #d9d9d9; font-weight: bold\">}</span><span style=\"color: #d9d9d9; text-decoration-color: #d9d9d9\"> </span><span style=\"color: #d9d9d9; text-decoration-color: #d9d9d9; font-weight: bold\">(</span><span style=\"color: #58d1eb; text-decoration-color: #58d1eb; font-weight: bold\">18.33</span><span style=\"color: #d9d9d9; text-decoration-color: #d9d9d9\"> mm</span><span style=\"color: #d9d9d9; text-decoration-color: #d9d9d9; font-weight: bold\">)</span><span style=\"font-weight: bold\">&gt;</span> →<span style=\"font-weight: bold\">(</span><span style=\"color: #58d1eb; text-decoration-color: #58d1eb; font-weight: bold\">0.0001</span> mm<span style=\"font-weight: bold\">)</span>\n",
       "  <span style=\"color: #58d1eb; text-decoration-color: #58d1eb; font-weight: bold\">3</span>. Old: <span style=\"font-weight: bold\">&lt;</span><span style=\"color: #d9d9d9; text-decoration-color: #d9d9d9; font-weight: bold\">{</span><span style=\"color: #d9d9d9; text-decoration-color: #d9d9d9\"> </span><span style=\"color: #58d1eb; text-decoration-color: #58d1eb; font-weight: bold\">36.60</span><span style=\"color: #d9d9d9; text-decoration-color: #d9d9d9\">,  </span><span style=\"color: #58d1eb; text-decoration-color: #58d1eb; font-weight: bold\">36.60</span><span style=\"color: #d9d9d9; text-decoration-color: #d9d9d9\">,   </span><span style=\"color: #58d1eb; text-decoration-color: #58d1eb; font-weight: bold\">3.40</span><span style=\"color: #d9d9d9; text-decoration-color: #d9d9d9; font-weight: bold\">}</span><span style=\"color: #d9d9d9; text-decoration-color: #d9d9d9\">←→</span><span style=\"color: #d9d9d9; text-decoration-color: #d9d9d9; font-weight: bold\">{</span><span style=\"color: #d9d9d9; text-decoration-color: #d9d9d9\"> </span><span style=\"color: #58d1eb; text-decoration-color: #58d1eb; font-weight: bold\">36.60</span><span style=\"color: #d9d9d9; text-decoration-color: #d9d9d9\">,  </span><span style=\"color: #58d1eb; text-decoration-color: #58d1eb; font-weight: bold\">18.27</span><span style=\"color: #d9d9d9; text-decoration-color: #d9d9d9\">,   </span><span style=\"color: #58d1eb; text-decoration-color: #58d1eb; font-weight: bold\">3.40</span><span style=\"color: #d9d9d9; text-decoration-color: #d9d9d9; font-weight: bold\">}</span><span style=\"color: #d9d9d9; text-decoration-color: #d9d9d9\"> </span><span style=\"color: #d9d9d9; text-decoration-color: #d9d9d9; font-weight: bold\">(</span><span style=\"color: #58d1eb; text-decoration-color: #58d1eb; font-weight: bold\">18.33</span><span style=\"color: #d9d9d9; text-decoration-color: #d9d9d9\"> mm</span><span style=\"color: #d9d9d9; text-decoration-color: #d9d9d9; font-weight: bold\">)</span><span style=\"font-weight: bold\">&gt;</span>\n",
       "     New: <span style=\"font-weight: bold\">&lt;</span><span style=\"color: #d9d9d9; text-decoration-color: #d9d9d9; font-weight: bold\">{</span><span style=\"color: #d9d9d9; text-decoration-color: #d9d9d9\"> </span><span style=\"color: #58d1eb; text-decoration-color: #58d1eb; font-weight: bold\">36.60</span><span style=\"color: #d9d9d9; text-decoration-color: #d9d9d9\">,  </span><span style=\"color: #58d1eb; text-decoration-color: #58d1eb; font-weight: bold\">36.60</span><span style=\"color: #d9d9d9; text-decoration-color: #d9d9d9\">,   </span><span style=\"color: #58d1eb; text-decoration-color: #58d1eb; font-weight: bold\">3.40</span><span style=\"color: #d9d9d9; text-decoration-color: #d9d9d9; font-weight: bold\">}</span><span style=\"color: #d9d9d9; text-decoration-color: #d9d9d9\">←→</span><span style=\"color: #d9d9d9; text-decoration-color: #d9d9d9; font-weight: bold\">{</span><span style=\"color: #d9d9d9; text-decoration-color: #d9d9d9\"> </span><span style=\"color: #58d1eb; text-decoration-color: #58d1eb; font-weight: bold\">36.60</span><span style=\"color: #d9d9d9; text-decoration-color: #d9d9d9\">,  </span><span style=\"color: #58d1eb; text-decoration-color: #58d1eb; font-weight: bold\">18.27</span><span style=\"color: #d9d9d9; text-decoration-color: #d9d9d9\">,   </span><span style=\"color: #58d1eb; text-decoration-color: #58d1eb; font-weight: bold\">3.40</span><span style=\"color: #d9d9d9; text-decoration-color: #d9d9d9; font-weight: bold\">}</span><span style=\"color: #d9d9d9; text-decoration-color: #d9d9d9\"> </span><span style=\"color: #d9d9d9; text-decoration-color: #d9d9d9; font-weight: bold\">(</span><span style=\"color: #58d1eb; text-decoration-color: #58d1eb; font-weight: bold\">18.33</span><span style=\"color: #d9d9d9; text-decoration-color: #d9d9d9\"> mm</span><span style=\"color: #d9d9d9; text-decoration-color: #d9d9d9; font-weight: bold\">)</span><span style=\"font-weight: bold\">&gt;</span> →<span style=\"font-weight: bold\">(</span><span style=\"color: #58d1eb; text-decoration-color: #58d1eb; font-weight: bold\">0.0013</span> mm<span style=\"font-weight: bold\">)</span>\n",
       "  <span style=\"color: #58d1eb; text-decoration-color: #58d1eb; font-weight: bold\">4</span>. Old: <span style=\"font-weight: bold\">&lt;</span><span style=\"color: #d9d9d9; text-decoration-color: #d9d9d9; font-weight: bold\">{</span><span style=\"color: #d9d9d9; text-decoration-color: #d9d9d9\"> </span><span style=\"color: #58d1eb; text-decoration-color: #58d1eb; font-weight: bold\">36.60</span><span style=\"color: #d9d9d9; text-decoration-color: #d9d9d9\">,  </span><span style=\"color: #58d1eb; text-decoration-color: #58d1eb; font-weight: bold\">18.27</span><span style=\"color: #d9d9d9; text-decoration-color: #d9d9d9\">,   </span><span style=\"color: #58d1eb; text-decoration-color: #58d1eb; font-weight: bold\">3.40</span><span style=\"color: #d9d9d9; text-decoration-color: #d9d9d9; font-weight: bold\">}</span><span style=\"color: #d9d9d9; text-decoration-color: #d9d9d9\">←→</span><span style=\"color: #d9d9d9; text-decoration-color: #d9d9d9; font-weight: bold\">{</span><span style=\"color: #d9d9d9; text-decoration-color: #d9d9d9\"> </span><span style=\"color: #58d1eb; text-decoration-color: #58d1eb; font-weight: bold\">21.60</span><span style=\"color: #d9d9d9; text-decoration-color: #d9d9d9\">,  </span><span style=\"color: #58d1eb; text-decoration-color: #58d1eb; font-weight: bold\">18.27</span><span style=\"color: #d9d9d9; text-decoration-color: #d9d9d9\">,   </span><span style=\"color: #58d1eb; text-decoration-color: #58d1eb; font-weight: bold\">3.40</span><span style=\"color: #d9d9d9; text-decoration-color: #d9d9d9; font-weight: bold\">}</span><span style=\"color: #d9d9d9; text-decoration-color: #d9d9d9\"> </span><span style=\"color: #d9d9d9; text-decoration-color: #d9d9d9; font-weight: bold\">(</span><span style=\"color: #58d1eb; text-decoration-color: #58d1eb; font-weight: bold\">15.00</span><span style=\"color: #d9d9d9; text-decoration-color: #d9d9d9\"> mm</span><span style=\"color: #d9d9d9; text-decoration-color: #d9d9d9; font-weight: bold\">)</span><span style=\"font-weight: bold\">&gt;</span>\n",
       "     New: <span style=\"font-weight: bold\">&lt;</span><span style=\"color: #d9d9d9; text-decoration-color: #d9d9d9; font-weight: bold\">{</span><span style=\"color: #d9d9d9; text-decoration-color: #d9d9d9\"> </span><span style=\"color: #58d1eb; text-decoration-color: #58d1eb; font-weight: bold\">36.60</span><span style=\"color: #d9d9d9; text-decoration-color: #d9d9d9\">,  </span><span style=\"color: #58d1eb; text-decoration-color: #58d1eb; font-weight: bold\">18.27</span><span style=\"color: #d9d9d9; text-decoration-color: #d9d9d9\">,   </span><span style=\"color: #58d1eb; text-decoration-color: #58d1eb; font-weight: bold\">3.40</span><span style=\"color: #d9d9d9; text-decoration-color: #d9d9d9; font-weight: bold\">}</span><span style=\"color: #d9d9d9; text-decoration-color: #d9d9d9\">←→</span><span style=\"color: #d9d9d9; text-decoration-color: #d9d9d9; font-weight: bold\">{</span><span style=\"color: #d9d9d9; text-decoration-color: #d9d9d9\"> </span><span style=\"color: #58d1eb; text-decoration-color: #58d1eb; font-weight: bold\">21.60</span><span style=\"color: #d9d9d9; text-decoration-color: #d9d9d9\">,  </span><span style=\"color: #58d1eb; text-decoration-color: #58d1eb; font-weight: bold\">18.27</span><span style=\"color: #d9d9d9; text-decoration-color: #d9d9d9\">,   </span><span style=\"color: #58d1eb; text-decoration-color: #58d1eb; font-weight: bold\">3.40</span><span style=\"color: #d9d9d9; text-decoration-color: #d9d9d9; font-weight: bold\">}</span><span style=\"color: #d9d9d9; text-decoration-color: #d9d9d9\"> </span><span style=\"color: #d9d9d9; text-decoration-color: #d9d9d9; font-weight: bold\">(</span><span style=\"color: #58d1eb; text-decoration-color: #58d1eb; font-weight: bold\">15.00</span><span style=\"color: #d9d9d9; text-decoration-color: #d9d9d9\"> mm</span><span style=\"color: #d9d9d9; text-decoration-color: #d9d9d9; font-weight: bold\">)</span><span style=\"font-weight: bold\">&gt;</span> →<span style=\"font-weight: bold\">(</span><span style=\"color: #58d1eb; text-decoration-color: #58d1eb; font-weight: bold\">0.0004</span> mm<span style=\"font-weight: bold\">)</span>\n",
       "  <span style=\"color: #58d1eb; text-decoration-color: #58d1eb; font-weight: bold\">5</span>. Old: <span style=\"font-weight: bold\">&lt;</span><span style=\"color: #d9d9d9; text-decoration-color: #d9d9d9; font-weight: bold\">{</span><span style=\"color: #d9d9d9; text-decoration-color: #d9d9d9\"> </span><span style=\"color: #58d1eb; text-decoration-color: #58d1eb; font-weight: bold\">21.60</span><span style=\"color: #d9d9d9; text-decoration-color: #d9d9d9\">,  </span><span style=\"color: #58d1eb; text-decoration-color: #58d1eb; font-weight: bold\">18.27</span><span style=\"color: #d9d9d9; text-decoration-color: #d9d9d9\">,   </span><span style=\"color: #58d1eb; text-decoration-color: #58d1eb; font-weight: bold\">3.40</span><span style=\"color: #d9d9d9; text-decoration-color: #d9d9d9; font-weight: bold\">}</span><span style=\"color: #d9d9d9; text-decoration-color: #d9d9d9\">←→</span><span style=\"color: #d9d9d9; text-decoration-color: #d9d9d9; font-weight: bold\">{</span><span style=\"color: #d9d9d9; text-decoration-color: #d9d9d9\"> </span><span style=\"color: #58d1eb; text-decoration-color: #58d1eb; font-weight: bold\">21.60</span><span style=\"color: #d9d9d9; text-decoration-color: #d9d9d9\">,  </span><span style=\"color: #58d1eb; text-decoration-color: #58d1eb; font-weight: bold\">18.43</span><span style=\"color: #d9d9d9; text-decoration-color: #d9d9d9\">,   </span><span style=\"color: #58d1eb; text-decoration-color: #58d1eb; font-weight: bold\">3.40</span><span style=\"color: #d9d9d9; text-decoration-color: #d9d9d9; font-weight: bold\">}</span><span style=\"color: #d9d9d9; text-decoration-color: #d9d9d9\"> </span><span style=\"color: #d9d9d9; text-decoration-color: #d9d9d9; font-weight: bold\">(</span><span style=\"color: #58d1eb; text-decoration-color: #58d1eb; font-weight: bold\">0.17</span><span style=\"color: #d9d9d9; text-decoration-color: #d9d9d9\"> mm</span><span style=\"color: #d9d9d9; text-decoration-color: #d9d9d9; font-weight: bold\">)</span><span style=\"font-weight: bold\">&gt;</span>\n",
       "     New: <span style=\"font-weight: bold\">&lt;</span><span style=\"color: #d9d9d9; text-decoration-color: #d9d9d9; font-weight: bold\">{</span><span style=\"color: #d9d9d9; text-decoration-color: #d9d9d9\"> </span><span style=\"color: #58d1eb; text-decoration-color: #58d1eb; font-weight: bold\">21.60</span><span style=\"color: #d9d9d9; text-decoration-color: #d9d9d9\">,  </span><span style=\"color: #58d1eb; text-decoration-color: #58d1eb; font-weight: bold\">18.27</span><span style=\"color: #d9d9d9; text-decoration-color: #d9d9d9\">,   </span><span style=\"color: #58d1eb; text-decoration-color: #58d1eb; font-weight: bold\">3.40</span><span style=\"color: #d9d9d9; text-decoration-color: #d9d9d9; font-weight: bold\">}</span><span style=\"color: #d9d9d9; text-decoration-color: #d9d9d9\">←→</span><span style=\"color: #d9d9d9; text-decoration-color: #d9d9d9; font-weight: bold\">{</span><span style=\"color: #d9d9d9; text-decoration-color: #d9d9d9\"> </span><span style=\"color: #58d1eb; text-decoration-color: #58d1eb; font-weight: bold\">21.52</span><span style=\"color: #d9d9d9; text-decoration-color: #d9d9d9\">,  </span><span style=\"color: #58d1eb; text-decoration-color: #58d1eb; font-weight: bold\">18.35</span><span style=\"color: #d9d9d9; text-decoration-color: #d9d9d9\">,   </span><span style=\"color: #58d1eb; text-decoration-color: #58d1eb; font-weight: bold\">3.40</span><span style=\"color: #d9d9d9; text-decoration-color: #d9d9d9; font-weight: bold\">}</span><span style=\"color: #d9d9d9; text-decoration-color: #d9d9d9\"> </span><span style=\"color: #d9d9d9; text-decoration-color: #d9d9d9; font-weight: bold\">(</span><span style=\"color: #58d1eb; text-decoration-color: #58d1eb; font-weight: bold\">0.12</span><span style=\"color: #d9d9d9; text-decoration-color: #d9d9d9\"> mm</span><span style=\"color: #d9d9d9; text-decoration-color: #d9d9d9; font-weight: bold\">)</span><span style=\"font-weight: bold\">&gt;</span> →<span style=\"font-weight: bold\">(</span><span style=\"color: #58d1eb; text-decoration-color: #58d1eb; font-weight: bold\">0.1182</span> mm<span style=\"font-weight: bold\">)</span>\n",
       "</pre>"
      ],
      "text/plain": [
       "<IPython.core.display.HTML object>"
      ]
     },
     "metadata": {},
     "output_type": "display_data"
    },
    {
     "data": {
      "text/html": [
       "<pre style=\"white-space:pre;overflow-x:auto;line-height:2;font-family:Menlo,'DejaVu Sans Mono',consolas,'Courier New',monospace\">Dropped <span style=\"color: #58d1eb; text-decoration-color: #58d1eb; font-weight: bold\">1</span> thread segs due to being shorter than <span style=\"color: #58d1eb; text-decoration-color: #58d1eb; font-weight: bold\">1</span> mm\n",
       "</pre>"
      ],
      "text/plain": [
       "<IPython.core.display.HTML object>"
      ]
     },
     "metadata": {},
     "output_type": "display_data"
    },
    {
     "data": {
      "text/html": [
       "<pre style=\"white-space:pre;overflow-x:auto;line-height:normal;font-family:Menlo,'DejaVu Sans Mono',consolas,'Courier New',monospace\"><span style=\"color: #58d1eb; text-decoration-color: #58d1eb; font-weight: bold\">5</span> thread segments in this layer:\n",
       "  <span style=\"color: #58d1eb; text-decoration-color: #58d1eb; font-weight: bold\">0</span>. <span style=\"font-weight: bold\">&lt;</span><span style=\"color: #d9d9d9; text-decoration-color: #d9d9d9; font-weight: bold\">{</span><span style=\"color: #d9d9d9; text-decoration-color: #d9d9d9\">  </span><span style=\"color: #58d1eb; text-decoration-color: #58d1eb; font-weight: bold\">0.00</span><span style=\"color: #d9d9d9; text-decoration-color: #d9d9d9\">,   </span><span style=\"color: #58d1eb; text-decoration-color: #58d1eb; font-weight: bold\">0.00</span><span style=\"color: #d9d9d9; text-decoration-color: #d9d9d9\">,   </span><span style=\"color: #58d1eb; text-decoration-color: #58d1eb; font-weight: bold\">3.40</span><span style=\"color: #d9d9d9; text-decoration-color: #d9d9d9; font-weight: bold\">}</span><span style=\"color: #d9d9d9; text-decoration-color: #d9d9d9\">←→</span><span style=\"color: #d9d9d9; text-decoration-color: #d9d9d9; font-weight: bold\">{</span><span style=\"color: #d9d9d9; text-decoration-color: #d9d9d9\"> </span><span style=\"color: #58d1eb; text-decoration-color: #58d1eb; font-weight: bold\">18.27</span><span style=\"color: #d9d9d9; text-decoration-color: #d9d9d9\">,  </span><span style=\"color: #58d1eb; text-decoration-color: #58d1eb; font-weight: bold\">15.13</span><span style=\"color: #d9d9d9; text-decoration-color: #d9d9d9\">,   </span><span style=\"color: #58d1eb; text-decoration-color: #58d1eb; font-weight: bold\">3.40</span><span style=\"color: #d9d9d9; text-decoration-color: #d9d9d9; font-weight: bold\">}</span><span style=\"color: #d9d9d9; text-decoration-color: #d9d9d9\"> </span><span style=\"color: #d9d9d9; text-decoration-color: #d9d9d9; font-weight: bold\">(</span><span style=\"color: #58d1eb; text-decoration-color: #58d1eb; font-weight: bold\">23.72</span><span style=\"color: #d9d9d9; text-decoration-color: #d9d9d9\"> mm</span><span style=\"color: #d9d9d9; text-decoration-color: #d9d9d9; font-weight: bold\">)</span><span style=\"font-weight: bold\">&gt;</span> <span style=\"font-weight: bold\">(</span><span style=\"color: #58d1eb; text-decoration-color: #58d1eb; font-weight: bold\">23.72</span> mm<span style=\"font-weight: bold\">)</span>\n",
       "  <span style=\"color: #58d1eb; text-decoration-color: #58d1eb; font-weight: bold\">1</span>. <span style=\"font-weight: bold\">&lt;</span><span style=\"color: #d9d9d9; text-decoration-color: #d9d9d9; font-weight: bold\">{</span><span style=\"color: #d9d9d9; text-decoration-color: #d9d9d9\"> </span><span style=\"color: #58d1eb; text-decoration-color: #58d1eb; font-weight: bold\">18.27</span><span style=\"color: #d9d9d9; text-decoration-color: #d9d9d9\">,  </span><span style=\"color: #58d1eb; text-decoration-color: #58d1eb; font-weight: bold\">15.13</span><span style=\"color: #d9d9d9; text-decoration-color: #d9d9d9\">,   </span><span style=\"color: #58d1eb; text-decoration-color: #58d1eb; font-weight: bold\">3.40</span><span style=\"color: #d9d9d9; text-decoration-color: #d9d9d9; font-weight: bold\">}</span><span style=\"color: #d9d9d9; text-decoration-color: #d9d9d9\">←→</span><span style=\"color: #d9d9d9; text-decoration-color: #d9d9d9; font-weight: bold\">{</span><span style=\"color: #d9d9d9; text-decoration-color: #d9d9d9\"> </span><span style=\"color: #58d1eb; text-decoration-color: #58d1eb; font-weight: bold\">18.27</span><span style=\"color: #d9d9d9; text-decoration-color: #d9d9d9\">,  </span><span style=\"color: #58d1eb; text-decoration-color: #58d1eb; font-weight: bold\">36.60</span><span style=\"color: #d9d9d9; text-decoration-color: #d9d9d9\">,   </span><span style=\"color: #58d1eb; text-decoration-color: #58d1eb; font-weight: bold\">3.40</span><span style=\"color: #d9d9d9; text-decoration-color: #d9d9d9; font-weight: bold\">}</span><span style=\"color: #d9d9d9; text-decoration-color: #d9d9d9\"> </span><span style=\"color: #d9d9d9; text-decoration-color: #d9d9d9; font-weight: bold\">(</span><span style=\"color: #58d1eb; text-decoration-color: #58d1eb; font-weight: bold\">21.47</span><span style=\"color: #d9d9d9; text-decoration-color: #d9d9d9\"> mm</span><span style=\"color: #d9d9d9; text-decoration-color: #d9d9d9; font-weight: bold\">)</span><span style=\"font-weight: bold\">&gt;</span> <span style=\"font-weight: bold\">(</span><span style=\"color: #58d1eb; text-decoration-color: #58d1eb; font-weight: bold\">21.47</span> mm<span style=\"font-weight: bold\">)</span>\n",
       "  <span style=\"color: #58d1eb; text-decoration-color: #58d1eb; font-weight: bold\">2</span>. <span style=\"font-weight: bold\">&lt;</span><span style=\"color: #d9d9d9; text-decoration-color: #d9d9d9; font-weight: bold\">{</span><span style=\"color: #d9d9d9; text-decoration-color: #d9d9d9\"> </span><span style=\"color: #58d1eb; text-decoration-color: #58d1eb; font-weight: bold\">18.27</span><span style=\"color: #d9d9d9; text-decoration-color: #d9d9d9\">,  </span><span style=\"color: #58d1eb; text-decoration-color: #58d1eb; font-weight: bold\">36.60</span><span style=\"color: #d9d9d9; text-decoration-color: #d9d9d9\">,   </span><span style=\"color: #58d1eb; text-decoration-color: #58d1eb; font-weight: bold\">3.40</span><span style=\"color: #d9d9d9; text-decoration-color: #d9d9d9; font-weight: bold\">}</span><span style=\"color: #d9d9d9; text-decoration-color: #d9d9d9\">←→</span><span style=\"color: #d9d9d9; text-decoration-color: #d9d9d9; font-weight: bold\">{</span><span style=\"color: #d9d9d9; text-decoration-color: #d9d9d9\"> </span><span style=\"color: #58d1eb; text-decoration-color: #58d1eb; font-weight: bold\">36.60</span><span style=\"color: #d9d9d9; text-decoration-color: #d9d9d9\">,  </span><span style=\"color: #58d1eb; text-decoration-color: #58d1eb; font-weight: bold\">36.60</span><span style=\"color: #d9d9d9; text-decoration-color: #d9d9d9\">,   </span><span style=\"color: #58d1eb; text-decoration-color: #58d1eb; font-weight: bold\">3.40</span><span style=\"color: #d9d9d9; text-decoration-color: #d9d9d9; font-weight: bold\">}</span><span style=\"color: #d9d9d9; text-decoration-color: #d9d9d9\"> </span><span style=\"color: #d9d9d9; text-decoration-color: #d9d9d9; font-weight: bold\">(</span><span style=\"color: #58d1eb; text-decoration-color: #58d1eb; font-weight: bold\">18.33</span><span style=\"color: #d9d9d9; text-decoration-color: #d9d9d9\"> mm</span><span style=\"color: #d9d9d9; text-decoration-color: #d9d9d9; font-weight: bold\">)</span><span style=\"font-weight: bold\">&gt;</span> <span style=\"font-weight: bold\">(</span><span style=\"color: #58d1eb; text-decoration-color: #58d1eb; font-weight: bold\">18.33</span> mm<span style=\"font-weight: bold\">)</span>\n",
       "  <span style=\"color: #58d1eb; text-decoration-color: #58d1eb; font-weight: bold\">3</span>. <span style=\"font-weight: bold\">&lt;</span><span style=\"color: #d9d9d9; text-decoration-color: #d9d9d9; font-weight: bold\">{</span><span style=\"color: #d9d9d9; text-decoration-color: #d9d9d9\"> </span><span style=\"color: #58d1eb; text-decoration-color: #58d1eb; font-weight: bold\">36.60</span><span style=\"color: #d9d9d9; text-decoration-color: #d9d9d9\">,  </span><span style=\"color: #58d1eb; text-decoration-color: #58d1eb; font-weight: bold\">36.60</span><span style=\"color: #d9d9d9; text-decoration-color: #d9d9d9\">,   </span><span style=\"color: #58d1eb; text-decoration-color: #58d1eb; font-weight: bold\">3.40</span><span style=\"color: #d9d9d9; text-decoration-color: #d9d9d9; font-weight: bold\">}</span><span style=\"color: #d9d9d9; text-decoration-color: #d9d9d9\">←→</span><span style=\"color: #d9d9d9; text-decoration-color: #d9d9d9; font-weight: bold\">{</span><span style=\"color: #d9d9d9; text-decoration-color: #d9d9d9\"> </span><span style=\"color: #58d1eb; text-decoration-color: #58d1eb; font-weight: bold\">36.60</span><span style=\"color: #d9d9d9; text-decoration-color: #d9d9d9\">,  </span><span style=\"color: #58d1eb; text-decoration-color: #58d1eb; font-weight: bold\">18.27</span><span style=\"color: #d9d9d9; text-decoration-color: #d9d9d9\">,   </span><span style=\"color: #58d1eb; text-decoration-color: #58d1eb; font-weight: bold\">3.40</span><span style=\"color: #d9d9d9; text-decoration-color: #d9d9d9; font-weight: bold\">}</span><span style=\"color: #d9d9d9; text-decoration-color: #d9d9d9\"> </span><span style=\"color: #d9d9d9; text-decoration-color: #d9d9d9; font-weight: bold\">(</span><span style=\"color: #58d1eb; text-decoration-color: #58d1eb; font-weight: bold\">18.33</span><span style=\"color: #d9d9d9; text-decoration-color: #d9d9d9\"> mm</span><span style=\"color: #d9d9d9; text-decoration-color: #d9d9d9; font-weight: bold\">)</span><span style=\"font-weight: bold\">&gt;</span> <span style=\"font-weight: bold\">(</span><span style=\"color: #58d1eb; text-decoration-color: #58d1eb; font-weight: bold\">18.33</span> mm<span style=\"font-weight: bold\">)</span>\n",
       "  <span style=\"color: #58d1eb; text-decoration-color: #58d1eb; font-weight: bold\">4</span>. <span style=\"font-weight: bold\">&lt;</span><span style=\"color: #d9d9d9; text-decoration-color: #d9d9d9; font-weight: bold\">{</span><span style=\"color: #d9d9d9; text-decoration-color: #d9d9d9\"> </span><span style=\"color: #58d1eb; text-decoration-color: #58d1eb; font-weight: bold\">36.60</span><span style=\"color: #d9d9d9; text-decoration-color: #d9d9d9\">,  </span><span style=\"color: #58d1eb; text-decoration-color: #58d1eb; font-weight: bold\">18.27</span><span style=\"color: #d9d9d9; text-decoration-color: #d9d9d9\">,   </span><span style=\"color: #58d1eb; text-decoration-color: #58d1eb; font-weight: bold\">3.40</span><span style=\"color: #d9d9d9; text-decoration-color: #d9d9d9; font-weight: bold\">}</span><span style=\"color: #d9d9d9; text-decoration-color: #d9d9d9\">←→</span><span style=\"color: #d9d9d9; text-decoration-color: #d9d9d9; font-weight: bold\">{</span><span style=\"color: #d9d9d9; text-decoration-color: #d9d9d9\"> </span><span style=\"color: #58d1eb; text-decoration-color: #58d1eb; font-weight: bold\">21.60</span><span style=\"color: #d9d9d9; text-decoration-color: #d9d9d9\">,  </span><span style=\"color: #58d1eb; text-decoration-color: #58d1eb; font-weight: bold\">18.27</span><span style=\"color: #d9d9d9; text-decoration-color: #d9d9d9\">,   </span><span style=\"color: #58d1eb; text-decoration-color: #58d1eb; font-weight: bold\">3.40</span><span style=\"color: #d9d9d9; text-decoration-color: #d9d9d9; font-weight: bold\">}</span><span style=\"color: #d9d9d9; text-decoration-color: #d9d9d9\"> </span><span style=\"color: #d9d9d9; text-decoration-color: #d9d9d9; font-weight: bold\">(</span><span style=\"color: #58d1eb; text-decoration-color: #58d1eb; font-weight: bold\">15.00</span><span style=\"color: #d9d9d9; text-decoration-color: #d9d9d9\"> mm</span><span style=\"color: #d9d9d9; text-decoration-color: #d9d9d9; font-weight: bold\">)</span><span style=\"font-weight: bold\">&gt;</span> <span style=\"font-weight: bold\">(</span><span style=\"color: #58d1eb; text-decoration-color: #58d1eb; font-weight: bold\">15.00</span> mm<span style=\"font-weight: bold\">)</span>\n",
       "</pre>"
      ],
      "text/plain": [
       "<IPython.core.display.HTML object>"
      ]
     },
     "metadata": {},
     "output_type": "display_data"
    },
    {
     "data": {
      "text/html": [
       "<pre style=\"white-space:pre;overflow-x:auto;line-height:normal;font-family:Menlo,'DejaVu Sans Mono',consolas,'Courier New',monospace\">Anchors fixed by segments: <span style=\"font-weight: bold\">{</span>\n",
       "    <span style=\"font-weight: bold\">{</span>  <span style=\"color: #58d1eb; text-decoration-color: #58d1eb; font-weight: bold\">0.00</span>,   <span style=\"color: #58d1eb; text-decoration-color: #58d1eb; font-weight: bold\">0.00</span>,   <span style=\"color: #58d1eb; text-decoration-color: #58d1eb; font-weight: bold\">3.40</span><span style=\"font-weight: bold\">}</span>: <span style=\"color: #f4005f; text-decoration-color: #f4005f; font-weight: bold\">set</span><span style=\"font-weight: bold\">()</span>,\n",
       "    <span style=\"font-weight: bold\">{</span> <span style=\"color: #58d1eb; text-decoration-color: #58d1eb; font-weight: bold\">18.27</span>,  <span style=\"color: #58d1eb; text-decoration-color: #58d1eb; font-weight: bold\">15.13</span>,   <span style=\"color: #58d1eb; text-decoration-color: #58d1eb; font-weight: bold\">3.40</span><span style=\"font-weight: bold\">}</span>: <span style=\"font-weight: bold\">{</span>\n",
       "        <span style=\"font-weight: bold\">&lt;</span><span style=\"color: #f4005f; text-decoration-color: #f4005f; font-weight: bold\">s</span><span style=\"color: #d9d9d9; text-decoration-color: #d9d9d9; font-weight: bold\">[</span><span style=\"color: #d9d9d9; text-decoration-color: #d9d9d9\"> </span><span style=\"color: #58d1eb; text-decoration-color: #58d1eb; font-weight: bold\">2</span><span style=\"color: #d9d9d9; text-decoration-color: #d9d9d9; font-weight: bold\">]</span><span style=\"color: #d9d9d9; text-decoration-color: #d9d9d9\"> </span><span style=\"color: #58d1eb; text-decoration-color: #58d1eb; font-weight: bold\">4507</span><span style=\"color: #d9d9d9; text-decoration-color: #d9d9d9\">:</span><span style=\"color: #d9d9d9; text-decoration-color: #d9d9d9; font-weight: bold\">{</span><span style=\"color: #d9d9d9; text-decoration-color: #d9d9d9\"> </span><span style=\"color: #58d1eb; text-decoration-color: #58d1eb; font-weight: bold\">24.74</span><span style=\"color: #d9d9d9; text-decoration-color: #d9d9d9\">,  </span><span style=\"color: #58d1eb; text-decoration-color: #58d1eb; font-weight: bold\">15.13</span><span style=\"color: #d9d9d9; text-decoration-color: #d9d9d9\">,   </span><span style=\"color: #58d1eb; text-decoration-color: #58d1eb; font-weight: bold\">3.40</span><span style=\"color: #d9d9d9; text-decoration-color: #d9d9d9; font-weight: bold\">}</span><span style=\"color: #d9d9d9; text-decoration-color: #d9d9d9\">←→</span><span style=\"color: #58d1eb; text-decoration-color: #58d1eb; font-weight: bold\">4508</span><span style=\"color: #d9d9d9; text-decoration-color: #d9d9d9\">:</span><span style=\"color: #d9d9d9; text-decoration-color: #d9d9d9; font-weight: bold\">{</span><span style=\"color: #d9d9d9; text-decoration-color: #d9d9d9\"> </span><span style=\"color: #58d1eb; text-decoration-color: #58d1eb; font-weight: bold\">15.14</span><span style=\"color: #d9d9d9; text-decoration-color: #d9d9d9\">,  </span><span style=\"color: #58d1eb; text-decoration-color: #58d1eb; font-weight: bold\">15.13</span><span style=\"color: #d9d9d9; text-decoration-color: #d9d9d9\">,   </span><span style=\"color: #58d1eb; text-decoration-color: #58d1eb; font-weight: bold\">3.40</span><span style=\"color: #d9d9d9; text-decoration-color: #d9d9d9; font-weight: bold\">}</span><span style=\"color: #d9d9d9; text-decoration-color: #d9d9d9\"> </span><span style=\"color: #d9d9d9; text-decoration-color: #d9d9d9; font-weight: bold\">(</span><span style=\"color: #58d1eb; text-decoration-color: #58d1eb; font-weight: bold\">9.60</span><span style=\"color: #d9d9d9; text-decoration-color: #d9d9d9\"> mm</span><span style=\"color: #d9d9d9; text-decoration-color: #d9d9d9; font-weight: bold\">)</span><span style=\"font-weight: bold\">&gt;</span>\n",
       "    <span style=\"font-weight: bold\">}</span>,\n",
       "    <span style=\"font-weight: bold\">{</span> <span style=\"color: #58d1eb; text-decoration-color: #58d1eb; font-weight: bold\">18.27</span>,  <span style=\"color: #58d1eb; text-decoration-color: #58d1eb; font-weight: bold\">36.60</span>,   <span style=\"color: #58d1eb; text-decoration-color: #58d1eb; font-weight: bold\">3.40</span><span style=\"font-weight: bold\">}</span>: <span style=\"font-weight: bold\">{</span>\n",
       "        <span style=\"font-weight: bold\">&lt;</span><span style=\"color: #f4005f; text-decoration-color: #f4005f; font-weight: bold\">s</span><span style=\"color: #d9d9d9; text-decoration-color: #d9d9d9; font-weight: bold\">[</span><span style=\"color: #d9d9d9; text-decoration-color: #d9d9d9\"> </span><span style=\"color: #58d1eb; text-decoration-color: #58d1eb; font-weight: bold\">4</span><span style=\"color: #d9d9d9; text-decoration-color: #d9d9d9; font-weight: bold\">]</span><span style=\"color: #d9d9d9; text-decoration-color: #d9d9d9\"> </span><span style=\"color: #58d1eb; text-decoration-color: #58d1eb; font-weight: bold\">4720</span><span style=\"color: #d9d9d9; text-decoration-color: #d9d9d9\">:</span><span style=\"color: #d9d9d9; text-decoration-color: #d9d9d9; font-weight: bold\">{</span><span style=\"color: #d9d9d9; text-decoration-color: #d9d9d9\"> </span><span style=\"color: #58d1eb; text-decoration-color: #58d1eb; font-weight: bold\">15.62</span><span style=\"color: #d9d9d9; text-decoration-color: #d9d9d9\">,  </span><span style=\"color: #58d1eb; text-decoration-color: #58d1eb; font-weight: bold\">39.25</span><span style=\"color: #d9d9d9; text-decoration-color: #d9d9d9\">,   </span><span style=\"color: #58d1eb; text-decoration-color: #58d1eb; font-weight: bold\">3.40</span><span style=\"color: #d9d9d9; text-decoration-color: #d9d9d9; font-weight: bold\">}</span><span style=\"color: #d9d9d9; text-decoration-color: #d9d9d9\">←→</span><span style=\"color: #58d1eb; text-decoration-color: #58d1eb; font-weight: bold\">4721</span><span style=\"color: #d9d9d9; text-decoration-color: #d9d9d9\">:</span><span style=\"color: #d9d9d9; text-decoration-color: #d9d9d9; font-weight: bold\">{</span><span style=\"color: #d9d9d9; text-decoration-color: #d9d9d9\"> </span><span style=\"color: #58d1eb; text-decoration-color: #58d1eb; font-weight: bold\">24.25</span><span style=\"color: #d9d9d9; text-decoration-color: #d9d9d9\">,  </span><span style=\"color: #58d1eb; text-decoration-color: #58d1eb; font-weight: bold\">30.61</span><span style=\"color: #d9d9d9; text-decoration-color: #d9d9d9\">,   </span><span style=\"color: #58d1eb; text-decoration-color: #58d1eb; font-weight: bold\">3.40</span><span style=\"color: #d9d9d9; text-decoration-color: #d9d9d9; font-weight: bold\">}</span><span style=\"color: #d9d9d9; text-decoration-color: #d9d9d9\"> </span><span style=\"color: #d9d9d9; text-decoration-color: #d9d9d9; font-weight: bold\">(</span><span style=\"color: #58d1eb; text-decoration-color: #58d1eb; font-weight: bold\">12.22</span><span style=\"color: #d9d9d9; text-decoration-color: #d9d9d9\"> mm</span><span style=\"color: #d9d9d9; text-decoration-color: #d9d9d9; font-weight: bold\">)</span><span style=\"font-weight: bold\">&gt;</span>\n",
       "    <span style=\"font-weight: bold\">}</span>,\n",
       "    <span style=\"font-weight: bold\">{</span> <span style=\"color: #58d1eb; text-decoration-color: #58d1eb; font-weight: bold\">36.60</span>,  <span style=\"color: #58d1eb; text-decoration-color: #58d1eb; font-weight: bold\">36.60</span>,   <span style=\"color: #58d1eb; text-decoration-color: #58d1eb; font-weight: bold\">3.40</span><span style=\"font-weight: bold\">}</span>: <span style=\"font-weight: bold\">{</span>\n",
       "        <span style=\"font-weight: bold\">&lt;</span><span style=\"color: #f4005f; text-decoration-color: #f4005f; font-weight: bold\">s</span><span style=\"color: #d9d9d9; text-decoration-color: #d9d9d9; font-weight: bold\">[</span><span style=\"color: #d9d9d9; text-decoration-color: #d9d9d9\"> </span><span style=\"color: #58d1eb; text-decoration-color: #58d1eb; font-weight: bold\">3</span><span style=\"color: #d9d9d9; text-decoration-color: #d9d9d9; font-weight: bold\">]</span><span style=\"color: #d9d9d9; text-decoration-color: #d9d9d9\"> </span><span style=\"color: #58d1eb; text-decoration-color: #58d1eb; font-weight: bold\">4627</span><span style=\"color: #d9d9d9; text-decoration-color: #d9d9d9\">:</span><span style=\"color: #d9d9d9; text-decoration-color: #d9d9d9; font-weight: bold\">{</span><span style=\"color: #d9d9d9; text-decoration-color: #d9d9d9\"> </span><span style=\"color: #58d1eb; text-decoration-color: #58d1eb; font-weight: bold\">39.26</span><span style=\"color: #d9d9d9; text-decoration-color: #d9d9d9\">,  </span><span style=\"color: #58d1eb; text-decoration-color: #58d1eb; font-weight: bold\">39.25</span><span style=\"color: #d9d9d9; text-decoration-color: #d9d9d9\">,   </span><span style=\"color: #58d1eb; text-decoration-color: #58d1eb; font-weight: bold\">3.40</span><span style=\"color: #d9d9d9; text-decoration-color: #d9d9d9; font-weight: bold\">}</span><span style=\"color: #d9d9d9; text-decoration-color: #d9d9d9\">←→</span><span style=\"color: #58d1eb; text-decoration-color: #58d1eb; font-weight: bold\">4629</span><span style=\"color: #d9d9d9; text-decoration-color: #d9d9d9\">:</span><span style=\"color: #d9d9d9; text-decoration-color: #d9d9d9; font-weight: bold\">{</span><span style=\"color: #d9d9d9; text-decoration-color: #d9d9d9\"> </span><span style=\"color: #58d1eb; text-decoration-color: #58d1eb; font-weight: bold\">30.61</span><span style=\"color: #d9d9d9; text-decoration-color: #d9d9d9\">,  </span><span style=\"color: #58d1eb; text-decoration-color: #58d1eb; font-weight: bold\">30.61</span><span style=\"color: #d9d9d9; text-decoration-color: #d9d9d9\">,   </span><span style=\"color: #58d1eb; text-decoration-color: #58d1eb; font-weight: bold\">3.40</span><span style=\"color: #d9d9d9; text-decoration-color: #d9d9d9; font-weight: bold\">}</span><span style=\"color: #d9d9d9; text-decoration-color: #d9d9d9\"> </span><span style=\"color: #d9d9d9; text-decoration-color: #d9d9d9; font-weight: bold\">(</span><span style=\"color: #58d1eb; text-decoration-color: #58d1eb; font-weight: bold\">12.22</span><span style=\"color: #d9d9d9; text-decoration-color: #d9d9d9\"> mm</span><span style=\"color: #d9d9d9; text-decoration-color: #d9d9d9; font-weight: bold\">)</span><span style=\"font-weight: bold\">&gt;</span>\n",
       "    <span style=\"font-weight: bold\">}</span>,\n",
       "    <span style=\"font-weight: bold\">{</span> <span style=\"color: #58d1eb; text-decoration-color: #58d1eb; font-weight: bold\">36.60</span>,  <span style=\"color: #58d1eb; text-decoration-color: #58d1eb; font-weight: bold\">18.27</span>,   <span style=\"color: #58d1eb; text-decoration-color: #58d1eb; font-weight: bold\">3.40</span><span style=\"font-weight: bold\">}</span>: <span style=\"font-weight: bold\">{</span>\n",
       "        <span style=\"font-weight: bold\">&lt;</span><span style=\"color: #f4005f; text-decoration-color: #f4005f; font-weight: bold\">s</span><span style=\"color: #d9d9d9; text-decoration-color: #d9d9d9; font-weight: bold\">[</span><span style=\"color: #d9d9d9; text-decoration-color: #d9d9d9\"> </span><span style=\"color: #58d1eb; text-decoration-color: #58d1eb; font-weight: bold\">4</span><span style=\"color: #d9d9d9; text-decoration-color: #d9d9d9; font-weight: bold\">]</span><span style=\"color: #d9d9d9; text-decoration-color: #d9d9d9\"> </span><span style=\"color: #58d1eb; text-decoration-color: #58d1eb; font-weight: bold\">4604</span><span style=\"color: #d9d9d9; text-decoration-color: #d9d9d9\">:</span><span style=\"color: #d9d9d9; text-decoration-color: #d9d9d9; font-weight: bold\">{</span><span style=\"color: #d9d9d9; text-decoration-color: #d9d9d9\"> </span><span style=\"color: #58d1eb; text-decoration-color: #58d1eb; font-weight: bold\">30.61</span><span style=\"color: #d9d9d9; text-decoration-color: #d9d9d9\">,  </span><span style=\"color: #58d1eb; text-decoration-color: #58d1eb; font-weight: bold\">24.25</span><span style=\"color: #d9d9d9; text-decoration-color: #d9d9d9\">,   </span><span style=\"color: #58d1eb; text-decoration-color: #58d1eb; font-weight: bold\">3.40</span><span style=\"color: #d9d9d9; text-decoration-color: #d9d9d9; font-weight: bold\">}</span><span style=\"color: #d9d9d9; text-decoration-color: #d9d9d9\">←→</span><span style=\"color: #58d1eb; text-decoration-color: #58d1eb; font-weight: bold\">4605</span><span style=\"color: #d9d9d9; text-decoration-color: #d9d9d9\">:</span><span style=\"color: #d9d9d9; text-decoration-color: #d9d9d9; font-weight: bold\">{</span><span style=\"color: #d9d9d9; text-decoration-color: #d9d9d9\"> </span><span style=\"color: #58d1eb; text-decoration-color: #58d1eb; font-weight: bold\">39.26</span><span style=\"color: #d9d9d9; text-decoration-color: #d9d9d9\">,  </span><span style=\"color: #58d1eb; text-decoration-color: #58d1eb; font-weight: bold\">15.61</span><span style=\"color: #d9d9d9; text-decoration-color: #d9d9d9\">,   </span><span style=\"color: #58d1eb; text-decoration-color: #58d1eb; font-weight: bold\">3.40</span><span style=\"color: #d9d9d9; text-decoration-color: #d9d9d9; font-weight: bold\">}</span><span style=\"color: #d9d9d9; text-decoration-color: #d9d9d9\"> </span><span style=\"color: #d9d9d9; text-decoration-color: #d9d9d9; font-weight: bold\">(</span><span style=\"color: #58d1eb; text-decoration-color: #58d1eb; font-weight: bold\">12.22</span><span style=\"color: #d9d9d9; text-decoration-color: #d9d9d9\"> mm</span><span style=\"color: #d9d9d9; text-decoration-color: #d9d9d9; font-weight: bold\">)</span><span style=\"font-weight: bold\">&gt;</span>\n",
       "    <span style=\"font-weight: bold\">}</span>,\n",
       "    <span style=\"font-weight: bold\">{</span> <span style=\"color: #58d1eb; text-decoration-color: #58d1eb; font-weight: bold\">21.60</span>,  <span style=\"color: #58d1eb; text-decoration-color: #58d1eb; font-weight: bold\">18.27</span>,   <span style=\"color: #58d1eb; text-decoration-color: #58d1eb; font-weight: bold\">3.40</span><span style=\"font-weight: bold\">}</span>: <span style=\"font-weight: bold\">{</span>\n",
       "        <span style=\"font-weight: bold\">&lt;</span><span style=\"color: #f4005f; text-decoration-color: #f4005f; font-weight: bold\">s</span><span style=\"color: #d9d9d9; text-decoration-color: #d9d9d9; font-weight: bold\">[</span><span style=\"color: #d9d9d9; text-decoration-color: #d9d9d9\"> </span><span style=\"color: #58d1eb; text-decoration-color: #58d1eb; font-weight: bold\">4</span><span style=\"color: #d9d9d9; text-decoration-color: #d9d9d9; font-weight: bold\">]</span><span style=\"color: #d9d9d9; text-decoration-color: #d9d9d9\"> </span><span style=\"color: #58d1eb; text-decoration-color: #58d1eb; font-weight: bold\">4546</span><span style=\"color: #d9d9d9; text-decoration-color: #d9d9d9\">:</span><span style=\"color: #d9d9d9; text-decoration-color: #d9d9d9; font-weight: bold\">{</span><span style=\"color: #d9d9d9; text-decoration-color: #d9d9d9\"> </span><span style=\"color: #58d1eb; text-decoration-color: #58d1eb; font-weight: bold\">15.62</span><span style=\"color: #d9d9d9; text-decoration-color: #d9d9d9\">,  </span><span style=\"color: #58d1eb; text-decoration-color: #58d1eb; font-weight: bold\">24.25</span><span style=\"color: #d9d9d9; text-decoration-color: #d9d9d9\">,   </span><span style=\"color: #58d1eb; text-decoration-color: #58d1eb; font-weight: bold\">3.40</span><span style=\"color: #d9d9d9; text-decoration-color: #d9d9d9; font-weight: bold\">}</span><span style=\"color: #d9d9d9; text-decoration-color: #d9d9d9\">←→</span><span style=\"color: #58d1eb; text-decoration-color: #58d1eb; font-weight: bold\">4547</span><span style=\"color: #d9d9d9; text-decoration-color: #d9d9d9\">:</span><span style=\"color: #d9d9d9; text-decoration-color: #d9d9d9; font-weight: bold\">{</span><span style=\"color: #d9d9d9; text-decoration-color: #d9d9d9\"> </span><span style=\"color: #58d1eb; text-decoration-color: #58d1eb; font-weight: bold\">24.25</span><span style=\"color: #d9d9d9; text-decoration-color: #d9d9d9\">,  </span><span style=\"color: #58d1eb; text-decoration-color: #58d1eb; font-weight: bold\">15.61</span><span style=\"color: #d9d9d9; text-decoration-color: #d9d9d9\">,   </span><span style=\"color: #58d1eb; text-decoration-color: #58d1eb; font-weight: bold\">3.40</span><span style=\"color: #d9d9d9; text-decoration-color: #d9d9d9; font-weight: bold\">}</span><span style=\"color: #d9d9d9; text-decoration-color: #d9d9d9\"> </span><span style=\"color: #d9d9d9; text-decoration-color: #d9d9d9; font-weight: bold\">(</span><span style=\"color: #58d1eb; text-decoration-color: #58d1eb; font-weight: bold\">12.22</span><span style=\"color: #d9d9d9; text-decoration-color: #d9d9d9\"> mm</span><span style=\"color: #d9d9d9; text-decoration-color: #d9d9d9; font-weight: bold\">)</span><span style=\"font-weight: bold\">&gt;</span>\n",
       "    <span style=\"font-weight: bold\">}</span>\n",
       "<span style=\"font-weight: bold\">}</span>\n",
       "</pre>"
      ],
      "text/plain": [
       "<IPython.core.display.HTML object>"
      ]
     },
     "metadata": {},
     "output_type": "display_data"
    },
    {
     "data": {
      "text/html": [
       "<pre style=\"white-space:pre;overflow-x:auto;line-height:2;font-family:Menlo,'DejaVu Sans Mono',consolas,'Courier New',monospace\"><span style=\"color: #fd971f; text-decoration-color: #fd971f\">————</span> Start <span style=\"color: #fd971f; text-decoration-color: #fd971f\">————</span>\n",
       "</pre>"
      ],
      "text/plain": [
       "<IPython.core.display.HTML object>"
      ]
     },
     "metadata": {},
     "output_type": "display_data"
    },
    {
     "data": {
      "text/html": [
       "<pre style=\"white-space:pre;overflow-x:auto;line-height:2;font-family:Menlo,'DejaVu Sans Mono',consolas,'Courier New',monospace\">Layer has <span style=\"color: #58d1eb; text-decoration-color: #58d1eb; font-weight: bold\">88</span> unprinted extruding segments,with <span style=\"color: #58d1eb; text-decoration-color: #58d1eb; font-weight: bold\">37</span> not intersecting thread path.\n",
       "</pre>"
      ],
      "text/plain": [
       "<IPython.core.display.HTML object>"
      ]
     },
     "metadata": {},
     "output_type": "display_data"
    },
    {
     "data": {
      "text/html": [
       "<pre style=\"white-space:pre;overflow-x:auto;line-height:normal;font-family:Menlo,'DejaVu Sans Mono',consolas,'Courier New',monospace\">\n",
       " <span style=\"font-weight: bold\">&lt;</span><span style=\"color: #f4005f; text-decoration-color: #f4005f; font-weight: bold\">Step</span><span style=\"color: #d9d9d9; text-decoration-color: #d9d9d9\"> </span><span style=\"color: #58d1eb; text-decoration-color: #58d1eb; font-weight: bold\">0</span><span style=\"color: #d9d9d9; text-decoration-color: #d9d9d9\"> </span><span style=\"color: #00afaf; text-decoration-color: #00afaf; font-style: italic\">Move thread to avoid </span><span style=\"color: #00afaf; text-decoration-color: #00afaf; font-weight: bold; font-style: italic\">37</span><span style=\"color: #00afaf; text-decoration-color: #00afaf; font-style: italic\"> segments</span><span style=\"font-weight: bold\">&gt;</span>\n",
       "</pre>"
      ],
      "text/plain": [
       "<IPython.core.display.HTML object>"
      ]
     },
     "metadata": {},
     "output_type": "display_data"
    },
    {
     "data": {
      "text/html": [
       "<pre style=\"white-space:pre;overflow-x:auto;line-height:2;font-family:Menlo,'DejaVu Sans Mono',consolas,'Courier New',monospace\"><span style=\"color: #58d1eb; text-decoration-color: #58d1eb; font-weight: bold\">0</span> intersections: <span style=\"color: #f4005f; text-decoration-color: #f4005f; font-weight: bold\">set</span><span style=\"font-weight: bold\">()</span>\n",
       "</pre>"
      ],
      "text/plain": [
       "<IPython.core.display.HTML object>"
      ]
     },
     "metadata": {},
     "output_type": "display_data"
    },
    {
     "data": {
      "text/html": [
       "<pre style=\"white-space:pre;overflow-x:auto;line-height:normal;font-family:Menlo,'DejaVu Sans Mono',consolas,'Courier New',monospace\">\n",
       " <span style=\"font-weight: bold\">&lt;</span><span style=\"color: #f4005f; text-decoration-color: #f4005f; font-weight: bold\">Step</span><span style=\"color: #d9d9d9; text-decoration-color: #d9d9d9\"> </span><span style=\"color: #58d1eb; text-decoration-color: #58d1eb; font-weight: bold\">1</span><span style=\"color: #d9d9d9; text-decoration-color: #d9d9d9\"> </span><span style=\"color: #00afaf; text-decoration-color: #00afaf; font-style: italic\">Print </span><span style=\"color: #00afaf; text-decoration-color: #00afaf; font-weight: bold; font-style: italic\">37</span><span style=\"color: #00afaf; text-decoration-color: #00afaf; font-style: italic\"> segments thread doesn't intersect</span><span style=\"font-weight: bold\">&gt;</span>\n",
       "</pre>"
      ],
      "text/plain": [
       "<IPython.core.display.HTML object>"
      ]
     },
     "metadata": {},
     "output_type": "display_data"
    },
    {
     "data": {
      "text/html": [
       "<pre style=\"white-space:pre;overflow-x:auto;line-height:2;font-family:Menlo,'DejaVu Sans Mono',consolas,'Courier New',monospace\">Adding <span style=\"color: #58d1eb; text-decoration-color: #58d1eb; font-weight: bold\">37</span>/<span style=\"color: #58d1eb; text-decoration-color: #58d1eb; font-weight: bold\">37</span> unprinted gcsegs to Step\n",
       "</pre>"
      ],
      "text/plain": [
       "<IPython.core.display.HTML object>"
      ]
     },
     "metadata": {},
     "output_type": "display_data"
    },
    {
     "data": {
      "text/html": [
       "<pre style=\"white-space:pre;overflow-x:auto;line-height:2;font-family:Menlo,'DejaVu Sans Mono',consolas,'Courier New',monospace\"><span style=\"color: #f4005f; text-decoration-color: #f4005f\">———</span> Now process <span style=\"color: #58d1eb; text-decoration-color: #58d1eb; font-weight: bold\">5</span> thread segments <span style=\"color: #f4005f; text-decoration-color: #f4005f\">———</span>\n",
       "</pre>"
      ],
      "text/plain": [
       "<IPython.core.display.HTML object>"
      ]
     },
     "metadata": {},
     "output_type": "display_data"
    },
    {
     "data": {
      "text/html": [
       "<pre style=\"white-space:pre;overflow-x:auto;line-height:2;font-family:Menlo,'DejaVu Sans Mono',consolas,'Courier New',monospace\"><span style=\"color: #fd971f; text-decoration-color: #fd971f\">————</span> Thread <span style=\"color: #58d1eb; text-decoration-color: #58d1eb; font-weight: bold\">0</span>: <span style=\"font-weight: bold\">&lt;</span><span style=\"color: #d9d9d9; text-decoration-color: #d9d9d9; font-weight: bold\">{</span><span style=\"color: #d9d9d9; text-decoration-color: #d9d9d9\">  </span><span style=\"color: #58d1eb; text-decoration-color: #58d1eb; font-weight: bold\">0.00</span><span style=\"color: #d9d9d9; text-decoration-color: #d9d9d9\">,   </span><span style=\"color: #58d1eb; text-decoration-color: #58d1eb; font-weight: bold\">0.00</span><span style=\"color: #d9d9d9; text-decoration-color: #d9d9d9\">,   </span><span style=\"color: #58d1eb; text-decoration-color: #58d1eb; font-weight: bold\">3.40</span><span style=\"color: #d9d9d9; text-decoration-color: #d9d9d9; font-weight: bold\">}</span><span style=\"color: #d9d9d9; text-decoration-color: #d9d9d9\">←→</span><span style=\"color: #d9d9d9; text-decoration-color: #d9d9d9; font-weight: bold\">{</span><span style=\"color: #d9d9d9; text-decoration-color: #d9d9d9\"> </span><span style=\"color: #58d1eb; text-decoration-color: #58d1eb; font-weight: bold\">18.27</span><span style=\"color: #d9d9d9; text-decoration-color: #d9d9d9\">,  </span><span style=\"color: #58d1eb; text-decoration-color: #58d1eb; font-weight: bold\">15.13</span><span style=\"color: #d9d9d9; text-decoration-color: #d9d9d9\">,   </span><span style=\"color: #58d1eb; text-decoration-color: #58d1eb; font-weight: bold\">3.40</span><span style=\"color: #d9d9d9; text-decoration-color: #d9d9d9; font-weight: bold\">}</span><span style=\"color: #d9d9d9; text-decoration-color: #d9d9d9\"> </span><span style=\"color: #d9d9d9; text-decoration-color: #d9d9d9; font-weight: bold\">(</span><span style=\"color: #58d1eb; text-decoration-color: #58d1eb; font-weight: bold\">23.72</span><span style=\"color: #d9d9d9; text-decoration-color: #d9d9d9\"> mm</span><span style=\"color: #d9d9d9; text-decoration-color: #d9d9d9; font-weight: bold\">)</span><span style=\"font-weight: bold\">&gt;</span> <span style=\"color: #fd971f; text-decoration-color: #fd971f\">————</span>\n",
       "</pre>"
      ],
      "text/plain": [
       "<IPython.core.display.HTML object>"
      ]
     },
     "metadata": {},
     "output_type": "display_data"
    },
    {
     "data": {
      "text/html": [
       "<pre style=\"white-space:pre;overflow-x:auto;line-height:normal;font-family:Menlo,'DejaVu Sans Mono',consolas,'Courier New',monospace\">\n",
       " <span style=\"font-weight: bold\">&lt;</span><span style=\"color: #f4005f; text-decoration-color: #f4005f; font-weight: bold\">Step</span><span style=\"color: #d9d9d9; text-decoration-color: #d9d9d9\"> </span><span style=\"color: #58d1eb; text-decoration-color: #58d1eb; font-weight: bold\">2</span><span style=\"color: #d9d9d9; text-decoration-color: #d9d9d9\"> </span><span style=\"color: #00afaf; text-decoration-color: #00afaf; font-style: italic\">Move thread to overlap anchor at </span><span style=\"color: #00afaf; text-decoration-color: #00afaf; font-weight: bold; font-style: italic\">{</span><span style=\"color: #00afaf; text-decoration-color: #00afaf; font-style: italic\"> </span><span style=\"color: #00afaf; text-decoration-color: #00afaf; font-weight: bold; font-style: italic\">18.27</span><span style=\"color: #00afaf; text-decoration-color: #00afaf; font-style: italic\">,  </span><span style=\"color: #00afaf; text-decoration-color: #00afaf; font-weight: bold; font-style: italic\">15.13</span><span style=\"color: #00afaf; text-decoration-color: #00afaf; font-style: italic\">,   </span><span style=\"color: #00afaf; text-decoration-color: #00afaf; font-weight: bold; font-style: italic\">3.40}</span><span style=\"font-weight: bold\">&gt;</span>\n",
       "</pre>"
      ],
      "text/plain": [
       "<IPython.core.display.HTML object>"
      ]
     },
     "metadata": {},
     "output_type": "display_data"
    },
    {
     "data": {
      "text/html": [
       "<pre style=\"white-space:pre;overflow-x:auto;line-height:2;font-family:Menlo,'DejaVu Sans Mono',consolas,'Courier New',monospace\">thread_intersect set new anchor to <span style=\"font-weight: bold\">{</span> <span style=\"color: #58d1eb; text-decoration-color: #58d1eb; font-weight: bold\">18.27</span>,  <span style=\"color: #58d1eb; text-decoration-color: #58d1eb; font-weight: bold\">15.13</span>,   <span style=\"color: #58d1eb; text-decoration-color: #58d1eb; font-weight: bold\">3.40</span><span style=\"font-weight: bold\">}</span>\n",
       "</pre>"
      ],
      "text/plain": [
       "<IPython.core.display.HTML object>"
      ]
     },
     "metadata": {},
     "output_type": "display_data"
    },
    {
     "data": {
      "text/html": [
       "<pre style=\"white-space:pre;overflow-x:auto;line-height:normal;font-family:Menlo,'DejaVu Sans Mono',consolas,'Courier New',monospace\">\n",
       " <span style=\"font-weight: bold\">&lt;</span><span style=\"color: #f4005f; text-decoration-color: #f4005f; font-weight: bold\">Step</span><span style=\"color: #d9d9d9; text-decoration-color: #d9d9d9\"> </span><span style=\"color: #58d1eb; text-decoration-color: #58d1eb; font-weight: bold\">3</span><span style=\"color: #d9d9d9; text-decoration-color: #d9d9d9\"> </span><span style=\"color: #00afaf; text-decoration-color: #00afaf; font-style: italic\">Print </span><span style=\"color: #00afaf; text-decoration-color: #00afaf; font-weight: bold; font-style: italic\">1</span><span style=\"color: #00afaf; text-decoration-color: #00afaf; font-style: italic\"> segment to fix anchor</span><span style=\"font-weight: bold\">&gt;</span>\n",
       "</pre>"
      ],
      "text/plain": [
       "<IPython.core.display.HTML object>"
      ]
     },
     "metadata": {},
     "output_type": "display_data"
    },
    {
     "data": {
      "text/html": [
       "<pre style=\"white-space:pre;overflow-x:auto;line-height:2;font-family:Menlo,'DejaVu Sans Mono',consolas,'Courier New',monospace\">Adding <span style=\"color: #58d1eb; text-decoration-color: #58d1eb; font-weight: bold\">1</span>/<span style=\"color: #58d1eb; text-decoration-color: #58d1eb; font-weight: bold\">1</span> unprinted gcsegs to Step\n",
       "</pre>"
      ],
      "text/plain": [
       "<IPython.core.display.HTML object>"
      ]
     },
     "metadata": {},
     "output_type": "display_data"
    },
    {
     "data": {
      "text/html": [
       "<pre style=\"white-space:pre;overflow-x:auto;line-height:2;font-family:Menlo,'DejaVu Sans Mono',consolas,'Courier New',monospace\"><span style=\"color: #58d1eb; text-decoration-color: #58d1eb; font-weight: bold\">0</span> unprinted segments intersecting this thread segment\n",
       "</pre>"
      ],
      "text/plain": [
       "<IPython.core.display.HTML object>"
      ]
     },
     "metadata": {},
     "output_type": "display_data"
    },
    {
     "data": {
      "text/html": [
       "<pre style=\"white-space:pre;overflow-x:auto;line-height:2;font-family:Menlo,'DejaVu Sans Mono',consolas,'Courier New',monospace\"><span style=\"color: #58d1eb; text-decoration-color: #58d1eb; font-weight: bold\">50</span> unprinted segments intersecting future thread segments\n",
       "</pre>"
      ],
      "text/plain": [
       "<IPython.core.display.HTML object>"
      ]
     },
     "metadata": {},
     "output_type": "display_data"
    },
    {
     "data": {
      "text/html": [
       "<pre style=\"white-space:pre;overflow-x:auto;line-height:2;font-family:Menlo,'DejaVu Sans Mono',consolas,'Courier New',monospace\"><span style=\"color: #fd971f; text-decoration-color: #fd971f\">————</span> Thread <span style=\"color: #58d1eb; text-decoration-color: #58d1eb; font-weight: bold\">1</span>: <span style=\"font-weight: bold\">&lt;</span><span style=\"color: #d9d9d9; text-decoration-color: #d9d9d9; font-weight: bold\">{</span><span style=\"color: #d9d9d9; text-decoration-color: #d9d9d9\"> </span><span style=\"color: #58d1eb; text-decoration-color: #58d1eb; font-weight: bold\">18.27</span><span style=\"color: #d9d9d9; text-decoration-color: #d9d9d9\">,  </span><span style=\"color: #58d1eb; text-decoration-color: #58d1eb; font-weight: bold\">15.13</span><span style=\"color: #d9d9d9; text-decoration-color: #d9d9d9\">,   </span><span style=\"color: #58d1eb; text-decoration-color: #58d1eb; font-weight: bold\">3.40</span><span style=\"color: #d9d9d9; text-decoration-color: #d9d9d9; font-weight: bold\">}</span><span style=\"color: #d9d9d9; text-decoration-color: #d9d9d9\">←→</span><span style=\"color: #d9d9d9; text-decoration-color: #d9d9d9; font-weight: bold\">{</span><span style=\"color: #d9d9d9; text-decoration-color: #d9d9d9\"> </span><span style=\"color: #58d1eb; text-decoration-color: #58d1eb; font-weight: bold\">18.27</span><span style=\"color: #d9d9d9; text-decoration-color: #d9d9d9\">,  </span><span style=\"color: #58d1eb; text-decoration-color: #58d1eb; font-weight: bold\">36.60</span><span style=\"color: #d9d9d9; text-decoration-color: #d9d9d9\">,   </span><span style=\"color: #58d1eb; text-decoration-color: #58d1eb; font-weight: bold\">3.40</span><span style=\"color: #d9d9d9; text-decoration-color: #d9d9d9; font-weight: bold\">}</span><span style=\"color: #d9d9d9; text-decoration-color: #d9d9d9\"> </span><span style=\"color: #d9d9d9; text-decoration-color: #d9d9d9; font-weight: bold\">(</span><span style=\"color: #58d1eb; text-decoration-color: #58d1eb; font-weight: bold\">21.47</span><span style=\"color: #d9d9d9; text-decoration-color: #d9d9d9\"> mm</span><span style=\"color: #d9d9d9; text-decoration-color: #d9d9d9; font-weight: bold\">)</span><span style=\"font-weight: bold\">&gt;</span> <span style=\"color: #fd971f; text-decoration-color: #fd971f\">————</span>\n",
       "</pre>"
      ],
      "text/plain": [
       "<IPython.core.display.HTML object>"
      ]
     },
     "metadata": {},
     "output_type": "display_data"
    },
    {
     "data": {
      "text/html": [
       "<pre style=\"white-space:pre;overflow-x:auto;line-height:normal;font-family:Menlo,'DejaVu Sans Mono',consolas,'Courier New',monospace\">\n",
       " <span style=\"font-weight: bold\">&lt;</span><span style=\"color: #f4005f; text-decoration-color: #f4005f; font-weight: bold\">Step</span><span style=\"color: #d9d9d9; text-decoration-color: #d9d9d9\"> </span><span style=\"color: #58d1eb; text-decoration-color: #58d1eb; font-weight: bold\">4</span><span style=\"color: #d9d9d9; text-decoration-color: #d9d9d9\"> </span><span style=\"color: #00afaf; text-decoration-color: #00afaf; font-style: italic\">Move thread to overlap anchor at </span><span style=\"color: #00afaf; text-decoration-color: #00afaf; font-weight: bold; font-style: italic\">{</span><span style=\"color: #00afaf; text-decoration-color: #00afaf; font-style: italic\"> </span><span style=\"color: #00afaf; text-decoration-color: #00afaf; font-weight: bold; font-style: italic\">18.27</span><span style=\"color: #00afaf; text-decoration-color: #00afaf; font-style: italic\">,  </span><span style=\"color: #00afaf; text-decoration-color: #00afaf; font-weight: bold; font-style: italic\">36.60</span><span style=\"color: #00afaf; text-decoration-color: #00afaf; font-style: italic\">,   </span><span style=\"color: #00afaf; text-decoration-color: #00afaf; font-weight: bold; font-style: italic\">3.40}</span><span style=\"font-weight: bold\">&gt;</span>\n",
       "</pre>"
      ],
      "text/plain": [
       "<IPython.core.display.HTML object>"
      ]
     },
     "metadata": {},
     "output_type": "display_data"
    },
    {
     "data": {
      "text/html": [
       "<pre style=\"white-space:pre;overflow-x:auto;line-height:2;font-family:Menlo,'DejaVu Sans Mono',consolas,'Courier New',monospace\">thread_intersect set new anchor to <span style=\"font-weight: bold\">{</span> <span style=\"color: #58d1eb; text-decoration-color: #58d1eb; font-weight: bold\">18.27</span>,  <span style=\"color: #58d1eb; text-decoration-color: #58d1eb; font-weight: bold\">36.60</span>,   <span style=\"color: #58d1eb; text-decoration-color: #58d1eb; font-weight: bold\">3.40</span><span style=\"font-weight: bold\">}</span>\n",
       "</pre>"
      ],
      "text/plain": [
       "<IPython.core.display.HTML object>"
      ]
     },
     "metadata": {},
     "output_type": "display_data"
    },
    {
     "data": {
      "text/html": [
       "<pre style=\"white-space:pre;overflow-x:auto;line-height:normal;font-family:Menlo,'DejaVu Sans Mono',consolas,'Courier New',monospace\">\n",
       " <span style=\"font-weight: bold\">&lt;</span><span style=\"color: #f4005f; text-decoration-color: #f4005f; font-weight: bold\">Step</span><span style=\"color: #d9d9d9; text-decoration-color: #d9d9d9\"> </span><span style=\"color: #58d1eb; text-decoration-color: #58d1eb; font-weight: bold\">5</span><span style=\"color: #d9d9d9; text-decoration-color: #d9d9d9\"> </span><span style=\"color: #00afaf; text-decoration-color: #00afaf; font-style: italic\">Print </span><span style=\"color: #00afaf; text-decoration-color: #00afaf; font-weight: bold; font-style: italic\">1</span><span style=\"color: #00afaf; text-decoration-color: #00afaf; font-style: italic\"> segment to fix anchor</span><span style=\"font-weight: bold\">&gt;</span>\n",
       "</pre>"
      ],
      "text/plain": [
       "<IPython.core.display.HTML object>"
      ]
     },
     "metadata": {},
     "output_type": "display_data"
    },
    {
     "data": {
      "text/html": [
       "<pre style=\"white-space:pre;overflow-x:auto;line-height:2;font-family:Menlo,'DejaVu Sans Mono',consolas,'Courier New',monospace\">Adding <span style=\"color: #58d1eb; text-decoration-color: #58d1eb; font-weight: bold\">1</span>/<span style=\"color: #58d1eb; text-decoration-color: #58d1eb; font-weight: bold\">1</span> unprinted gcsegs to Step\n",
       "</pre>"
      ],
      "text/plain": [
       "<IPython.core.display.HTML object>"
      ]
     },
     "metadata": {},
     "output_type": "display_data"
    },
    {
     "data": {
      "text/html": [
       "<pre style=\"white-space:pre;overflow-x:auto;line-height:2;font-family:Menlo,'DejaVu Sans Mono',consolas,'Courier New',monospace\"><span style=\"color: #58d1eb; text-decoration-color: #58d1eb; font-weight: bold\">18</span> unprinted segments intersecting this thread segment\n",
       "</pre>"
      ],
      "text/plain": [
       "<IPython.core.display.HTML object>"
      ]
     },
     "metadata": {},
     "output_type": "display_data"
    },
    {
     "data": {
      "text/html": [
       "<pre style=\"white-space:pre;overflow-x:auto;line-height:2;font-family:Menlo,'DejaVu Sans Mono',consolas,'Courier New',monospace\"><span style=\"color: #58d1eb; text-decoration-color: #58d1eb; font-weight: bold\">36</span> unprinted segments intersecting future thread segments\n",
       "</pre>"
      ],
      "text/plain": [
       "<IPython.core.display.HTML object>"
      ]
     },
     "metadata": {},
     "output_type": "display_data"
    },
    {
     "data": {
      "text/html": [
       "<pre style=\"white-space:pre;overflow-x:auto;line-height:normal;font-family:Menlo,'DejaVu Sans Mono',consolas,'Courier New',monospace\">\n",
       " <span style=\"font-weight: bold\">&lt;</span><span style=\"color: #f4005f; text-decoration-color: #f4005f; font-weight: bold\">Step</span><span style=\"color: #d9d9d9; text-decoration-color: #d9d9d9\"> </span><span style=\"color: #58d1eb; text-decoration-color: #58d1eb; font-weight: bold\">6</span><span style=\"color: #d9d9d9; text-decoration-color: #d9d9d9\"> </span><span style=\"color: #00afaf; text-decoration-color: #00afaf; font-style: italic\">Move thread to avoid </span><span style=\"color: #00afaf; text-decoration-color: #00afaf; font-weight: bold; font-style: italic\">13</span><span style=\"color: #00afaf; text-decoration-color: #00afaf; font-style: italic\"> segments</span><span style=\"font-weight: bold\">&gt;</span>\n",
       "</pre>"
      ],
      "text/plain": [
       "<IPython.core.display.HTML object>"
      ]
     },
     "metadata": {},
     "output_type": "display_data"
    },
    {
     "data": {
      "text/html": [
       "<pre style=\"white-space:pre;overflow-x:auto;line-height:2;font-family:Menlo,'DejaVu Sans Mono',consolas,'Courier New',monospace\"><span style=\"color: #58d1eb; text-decoration-color: #58d1eb; font-weight: bold\">0</span> intersections: <span style=\"color: #f4005f; text-decoration-color: #f4005f; font-weight: bold\">set</span><span style=\"font-weight: bold\">()</span>\n",
       "</pre>"
      ],
      "text/plain": [
       "<IPython.core.display.HTML object>"
      ]
     },
     "metadata": {},
     "output_type": "display_data"
    },
    {
     "data": {
      "text/html": [
       "<pre style=\"white-space:pre;overflow-x:auto;line-height:normal;font-family:Menlo,'DejaVu Sans Mono',consolas,'Courier New',monospace\">\n",
       " <span style=\"font-weight: bold\">&lt;</span><span style=\"color: #f4005f; text-decoration-color: #f4005f; font-weight: bold\">Step</span><span style=\"color: #d9d9d9; text-decoration-color: #d9d9d9\"> </span><span style=\"color: #58d1eb; text-decoration-color: #58d1eb; font-weight: bold\">7</span><span style=\"color: #d9d9d9; text-decoration-color: #d9d9d9\"> </span><span style=\"color: #00afaf; text-decoration-color: #00afaf; font-style: italic\">Print </span><span style=\"color: #00afaf; text-decoration-color: #00afaf; font-weight: bold; font-style: italic\">13</span><span style=\"color: #00afaf; text-decoration-color: #00afaf; font-style: italic\"> segments thread doesn't intersect</span><span style=\"font-weight: bold\">&gt;</span>\n",
       "</pre>"
      ],
      "text/plain": [
       "<IPython.core.display.HTML object>"
      ]
     },
     "metadata": {},
     "output_type": "display_data"
    },
    {
     "data": {
      "text/html": [
       "<pre style=\"white-space:pre;overflow-x:auto;line-height:2;font-family:Menlo,'DejaVu Sans Mono',consolas,'Courier New',monospace\">Adding <span style=\"color: #58d1eb; text-decoration-color: #58d1eb; font-weight: bold\">13</span>/<span style=\"color: #58d1eb; text-decoration-color: #58d1eb; font-weight: bold\">13</span> unprinted gcsegs to Step\n",
       "</pre>"
      ],
      "text/plain": [
       "<IPython.core.display.HTML object>"
      ]
     },
     "metadata": {},
     "output_type": "display_data"
    },
    {
     "data": {
      "text/html": [
       "<pre style=\"white-space:pre;overflow-x:auto;line-height:2;font-family:Menlo,'DejaVu Sans Mono',consolas,'Courier New',monospace\"><span style=\"color: #fd971f; text-decoration-color: #fd971f\">————</span> Thread <span style=\"color: #58d1eb; text-decoration-color: #58d1eb; font-weight: bold\">2</span>: <span style=\"font-weight: bold\">&lt;</span><span style=\"color: #d9d9d9; text-decoration-color: #d9d9d9; font-weight: bold\">{</span><span style=\"color: #d9d9d9; text-decoration-color: #d9d9d9\"> </span><span style=\"color: #58d1eb; text-decoration-color: #58d1eb; font-weight: bold\">18.27</span><span style=\"color: #d9d9d9; text-decoration-color: #d9d9d9\">,  </span><span style=\"color: #58d1eb; text-decoration-color: #58d1eb; font-weight: bold\">36.60</span><span style=\"color: #d9d9d9; text-decoration-color: #d9d9d9\">,   </span><span style=\"color: #58d1eb; text-decoration-color: #58d1eb; font-weight: bold\">3.40</span><span style=\"color: #d9d9d9; text-decoration-color: #d9d9d9; font-weight: bold\">}</span><span style=\"color: #d9d9d9; text-decoration-color: #d9d9d9\">←→</span><span style=\"color: #d9d9d9; text-decoration-color: #d9d9d9; font-weight: bold\">{</span><span style=\"color: #d9d9d9; text-decoration-color: #d9d9d9\"> </span><span style=\"color: #58d1eb; text-decoration-color: #58d1eb; font-weight: bold\">36.60</span><span style=\"color: #d9d9d9; text-decoration-color: #d9d9d9\">,  </span><span style=\"color: #58d1eb; text-decoration-color: #58d1eb; font-weight: bold\">36.60</span><span style=\"color: #d9d9d9; text-decoration-color: #d9d9d9\">,   </span><span style=\"color: #58d1eb; text-decoration-color: #58d1eb; font-weight: bold\">3.40</span><span style=\"color: #d9d9d9; text-decoration-color: #d9d9d9; font-weight: bold\">}</span><span style=\"color: #d9d9d9; text-decoration-color: #d9d9d9\"> </span><span style=\"color: #d9d9d9; text-decoration-color: #d9d9d9; font-weight: bold\">(</span><span style=\"color: #58d1eb; text-decoration-color: #58d1eb; font-weight: bold\">18.33</span><span style=\"color: #d9d9d9; text-decoration-color: #d9d9d9\"> mm</span><span style=\"color: #d9d9d9; text-decoration-color: #d9d9d9; font-weight: bold\">)</span><span style=\"font-weight: bold\">&gt;</span> <span style=\"color: #fd971f; text-decoration-color: #fd971f\">————</span>\n",
       "</pre>"
      ],
      "text/plain": [
       "<IPython.core.display.HTML object>"
      ]
     },
     "metadata": {},
     "output_type": "display_data"
    },
    {
     "data": {
      "text/html": [
       "<pre style=\"white-space:pre;overflow-x:auto;line-height:normal;font-family:Menlo,'DejaVu Sans Mono',consolas,'Courier New',monospace\">\n",
       " <span style=\"font-weight: bold\">&lt;</span><span style=\"color: #f4005f; text-decoration-color: #f4005f; font-weight: bold\">Step</span><span style=\"color: #d9d9d9; text-decoration-color: #d9d9d9\"> </span><span style=\"color: #58d1eb; text-decoration-color: #58d1eb; font-weight: bold\">8</span><span style=\"color: #d9d9d9; text-decoration-color: #d9d9d9\"> </span><span style=\"color: #00afaf; text-decoration-color: #00afaf; font-style: italic\">Move thread to overlap anchor at </span><span style=\"color: #00afaf; text-decoration-color: #00afaf; font-weight: bold; font-style: italic\">{</span><span style=\"color: #00afaf; text-decoration-color: #00afaf; font-style: italic\"> </span><span style=\"color: #00afaf; text-decoration-color: #00afaf; font-weight: bold; font-style: italic\">36.60</span><span style=\"color: #00afaf; text-decoration-color: #00afaf; font-style: italic\">,  </span><span style=\"color: #00afaf; text-decoration-color: #00afaf; font-weight: bold; font-style: italic\">36.60</span><span style=\"color: #00afaf; text-decoration-color: #00afaf; font-style: italic\">,   </span><span style=\"color: #00afaf; text-decoration-color: #00afaf; font-weight: bold; font-style: italic\">3.40}</span><span style=\"font-weight: bold\">&gt;</span>\n",
       "</pre>"
      ],
      "text/plain": [
       "<IPython.core.display.HTML object>"
      ]
     },
     "metadata": {},
     "output_type": "display_data"
    },
    {
     "data": {
      "text/html": [
       "<pre style=\"white-space:pre;overflow-x:auto;line-height:2;font-family:Menlo,'DejaVu Sans Mono',consolas,'Courier New',monospace\">thread_intersect set new anchor to <span style=\"font-weight: bold\">{</span> <span style=\"color: #58d1eb; text-decoration-color: #58d1eb; font-weight: bold\">36.60</span>,  <span style=\"color: #58d1eb; text-decoration-color: #58d1eb; font-weight: bold\">36.60</span>,   <span style=\"color: #58d1eb; text-decoration-color: #58d1eb; font-weight: bold\">3.40</span><span style=\"font-weight: bold\">}</span>\n",
       "</pre>"
      ],
      "text/plain": [
       "<IPython.core.display.HTML object>"
      ]
     },
     "metadata": {},
     "output_type": "display_data"
    },
    {
     "data": {
      "text/html": [
       "<pre style=\"white-space:pre;overflow-x:auto;line-height:normal;font-family:Menlo,'DejaVu Sans Mono',consolas,'Courier New',monospace\">\n",
       " <span style=\"font-weight: bold\">&lt;</span><span style=\"color: #f4005f; text-decoration-color: #f4005f; font-weight: bold\">Step</span><span style=\"color: #d9d9d9; text-decoration-color: #d9d9d9\"> </span><span style=\"color: #58d1eb; text-decoration-color: #58d1eb; font-weight: bold\">9</span><span style=\"color: #d9d9d9; text-decoration-color: #d9d9d9\"> </span><span style=\"color: #00afaf; text-decoration-color: #00afaf; font-style: italic\">Print </span><span style=\"color: #00afaf; text-decoration-color: #00afaf; font-weight: bold; font-style: italic\">1</span><span style=\"color: #00afaf; text-decoration-color: #00afaf; font-style: italic\"> segment to fix anchor</span><span style=\"font-weight: bold\">&gt;</span>\n",
       "</pre>"
      ],
      "text/plain": [
       "<IPython.core.display.HTML object>"
      ]
     },
     "metadata": {},
     "output_type": "display_data"
    },
    {
     "data": {
      "text/html": [
       "<pre style=\"white-space:pre;overflow-x:auto;line-height:2;font-family:Menlo,'DejaVu Sans Mono',consolas,'Courier New',monospace\">Adding <span style=\"color: #58d1eb; text-decoration-color: #58d1eb; font-weight: bold\">1</span>/<span style=\"color: #58d1eb; text-decoration-color: #58d1eb; font-weight: bold\">1</span> unprinted gcsegs to Step\n",
       "</pre>"
      ],
      "text/plain": [
       "<IPython.core.display.HTML object>"
      ]
     },
     "metadata": {},
     "output_type": "display_data"
    },
    {
     "data": {
      "text/html": [
       "<pre style=\"white-space:pre;overflow-x:auto;line-height:2;font-family:Menlo,'DejaVu Sans Mono',consolas,'Courier New',monospace\"><span style=\"color: #58d1eb; text-decoration-color: #58d1eb; font-weight: bold\">14</span> unprinted segments intersecting this thread segment\n",
       "</pre>"
      ],
      "text/plain": [
       "<IPython.core.display.HTML object>"
      ]
     },
     "metadata": {},
     "output_type": "display_data"
    },
    {
     "data": {
      "text/html": [
       "<pre style=\"white-space:pre;overflow-x:auto;line-height:2;font-family:Menlo,'DejaVu Sans Mono',consolas,'Courier New',monospace\"><span style=\"color: #58d1eb; text-decoration-color: #58d1eb; font-weight: bold\">24</span> unprinted segments intersecting future thread segments\n",
       "</pre>"
      ],
      "text/plain": [
       "<IPython.core.display.HTML object>"
      ]
     },
     "metadata": {},
     "output_type": "display_data"
    },
    {
     "data": {
      "text/html": [
       "<pre style=\"white-space:pre;overflow-x:auto;line-height:normal;font-family:Menlo,'DejaVu Sans Mono',consolas,'Courier New',monospace\">\n",
       " <span style=\"font-weight: bold\">&lt;</span><span style=\"color: #f4005f; text-decoration-color: #f4005f; font-weight: bold\">Step</span><span style=\"color: #d9d9d9; text-decoration-color: #d9d9d9\"> </span><span style=\"color: #58d1eb; text-decoration-color: #58d1eb; font-weight: bold\">10</span><span style=\"color: #d9d9d9; text-decoration-color: #d9d9d9\"> </span><span style=\"color: #00afaf; text-decoration-color: #00afaf; font-style: italic\">Move thread to avoid </span><span style=\"color: #00afaf; text-decoration-color: #00afaf; font-weight: bold; font-style: italic\">11</span><span style=\"color: #00afaf; text-decoration-color: #00afaf; font-style: italic\"> segments</span><span style=\"font-weight: bold\">&gt;</span>\n",
       "</pre>"
      ],
      "text/plain": [
       "<IPython.core.display.HTML object>"
      ]
     },
     "metadata": {},
     "output_type": "display_data"
    },
    {
     "data": {
      "text/html": [
       "<pre style=\"white-space:pre;overflow-x:auto;line-height:2;font-family:Menlo,'DejaVu Sans Mono',consolas,'Courier New',monospace\"><span style=\"color: #58d1eb; text-decoration-color: #58d1eb; font-weight: bold\">0</span> intersections: <span style=\"color: #f4005f; text-decoration-color: #f4005f; font-weight: bold\">set</span><span style=\"font-weight: bold\">()</span>\n",
       "</pre>"
      ],
      "text/plain": [
       "<IPython.core.display.HTML object>"
      ]
     },
     "metadata": {},
     "output_type": "display_data"
    },
    {
     "data": {
      "text/html": [
       "<pre style=\"white-space:pre;overflow-x:auto;line-height:normal;font-family:Menlo,'DejaVu Sans Mono',consolas,'Courier New',monospace\">\n",
       " <span style=\"font-weight: bold\">&lt;</span><span style=\"color: #f4005f; text-decoration-color: #f4005f; font-weight: bold\">Step</span><span style=\"color: #d9d9d9; text-decoration-color: #d9d9d9\"> </span><span style=\"color: #58d1eb; text-decoration-color: #58d1eb; font-weight: bold\">11</span><span style=\"color: #d9d9d9; text-decoration-color: #d9d9d9\"> </span><span style=\"color: #00afaf; text-decoration-color: #00afaf; font-style: italic\">Print </span><span style=\"color: #00afaf; text-decoration-color: #00afaf; font-weight: bold; font-style: italic\">11</span><span style=\"color: #00afaf; text-decoration-color: #00afaf; font-style: italic\"> segments thread doesn't intersect</span><span style=\"font-weight: bold\">&gt;</span>\n",
       "</pre>"
      ],
      "text/plain": [
       "<IPython.core.display.HTML object>"
      ]
     },
     "metadata": {},
     "output_type": "display_data"
    },
    {
     "data": {
      "text/html": [
       "<pre style=\"white-space:pre;overflow-x:auto;line-height:2;font-family:Menlo,'DejaVu Sans Mono',consolas,'Courier New',monospace\">Adding <span style=\"color: #58d1eb; text-decoration-color: #58d1eb; font-weight: bold\">11</span>/<span style=\"color: #58d1eb; text-decoration-color: #58d1eb; font-weight: bold\">11</span> unprinted gcsegs to Step\n",
       "</pre>"
      ],
      "text/plain": [
       "<IPython.core.display.HTML object>"
      ]
     },
     "metadata": {},
     "output_type": "display_data"
    },
    {
     "data": {
      "text/html": [
       "<pre style=\"white-space:pre;overflow-x:auto;line-height:2;font-family:Menlo,'DejaVu Sans Mono',consolas,'Courier New',monospace\"><span style=\"color: #fd971f; text-decoration-color: #fd971f\">————</span> Thread <span style=\"color: #58d1eb; text-decoration-color: #58d1eb; font-weight: bold\">3</span>: <span style=\"font-weight: bold\">&lt;</span><span style=\"color: #d9d9d9; text-decoration-color: #d9d9d9; font-weight: bold\">{</span><span style=\"color: #d9d9d9; text-decoration-color: #d9d9d9\"> </span><span style=\"color: #58d1eb; text-decoration-color: #58d1eb; font-weight: bold\">36.60</span><span style=\"color: #d9d9d9; text-decoration-color: #d9d9d9\">,  </span><span style=\"color: #58d1eb; text-decoration-color: #58d1eb; font-weight: bold\">36.60</span><span style=\"color: #d9d9d9; text-decoration-color: #d9d9d9\">,   </span><span style=\"color: #58d1eb; text-decoration-color: #58d1eb; font-weight: bold\">3.40</span><span style=\"color: #d9d9d9; text-decoration-color: #d9d9d9; font-weight: bold\">}</span><span style=\"color: #d9d9d9; text-decoration-color: #d9d9d9\">←→</span><span style=\"color: #d9d9d9; text-decoration-color: #d9d9d9; font-weight: bold\">{</span><span style=\"color: #d9d9d9; text-decoration-color: #d9d9d9\"> </span><span style=\"color: #58d1eb; text-decoration-color: #58d1eb; font-weight: bold\">36.60</span><span style=\"color: #d9d9d9; text-decoration-color: #d9d9d9\">,  </span><span style=\"color: #58d1eb; text-decoration-color: #58d1eb; font-weight: bold\">18.27</span><span style=\"color: #d9d9d9; text-decoration-color: #d9d9d9\">,   </span><span style=\"color: #58d1eb; text-decoration-color: #58d1eb; font-weight: bold\">3.40</span><span style=\"color: #d9d9d9; text-decoration-color: #d9d9d9; font-weight: bold\">}</span><span style=\"color: #d9d9d9; text-decoration-color: #d9d9d9\"> </span><span style=\"color: #d9d9d9; text-decoration-color: #d9d9d9; font-weight: bold\">(</span><span style=\"color: #58d1eb; text-decoration-color: #58d1eb; font-weight: bold\">18.33</span><span style=\"color: #d9d9d9; text-decoration-color: #d9d9d9\"> mm</span><span style=\"color: #d9d9d9; text-decoration-color: #d9d9d9; font-weight: bold\">)</span><span style=\"font-weight: bold\">&gt;</span> <span style=\"color: #fd971f; text-decoration-color: #fd971f\">————</span>\n",
       "</pre>"
      ],
      "text/plain": [
       "<IPython.core.display.HTML object>"
      ]
     },
     "metadata": {},
     "output_type": "display_data"
    },
    {
     "data": {
      "text/html": [
       "<pre style=\"white-space:pre;overflow-x:auto;line-height:normal;font-family:Menlo,'DejaVu Sans Mono',consolas,'Courier New',monospace\">\n",
       " <span style=\"font-weight: bold\">&lt;</span><span style=\"color: #f4005f; text-decoration-color: #f4005f; font-weight: bold\">Step</span><span style=\"color: #d9d9d9; text-decoration-color: #d9d9d9\"> </span><span style=\"color: #58d1eb; text-decoration-color: #58d1eb; font-weight: bold\">12</span><span style=\"color: #d9d9d9; text-decoration-color: #d9d9d9\"> </span><span style=\"color: #00afaf; text-decoration-color: #00afaf; font-style: italic\">Move thread to overlap anchor at </span><span style=\"color: #00afaf; text-decoration-color: #00afaf; font-weight: bold; font-style: italic\">{</span><span style=\"color: #00afaf; text-decoration-color: #00afaf; font-style: italic\"> </span><span style=\"color: #00afaf; text-decoration-color: #00afaf; font-weight: bold; font-style: italic\">36.60</span><span style=\"color: #00afaf; text-decoration-color: #00afaf; font-style: italic\">,  </span><span style=\"color: #00afaf; text-decoration-color: #00afaf; font-weight: bold; font-style: italic\">18.27</span><span style=\"color: #00afaf; text-decoration-color: #00afaf; font-style: italic\">,   </span><span style=\"color: #00afaf; text-decoration-color: #00afaf; font-weight: bold; font-style: italic\">3.40}</span><span style=\"font-weight: bold\">&gt;</span>\n",
       "</pre>"
      ],
      "text/plain": [
       "<IPython.core.display.HTML object>"
      ]
     },
     "metadata": {},
     "output_type": "display_data"
    },
    {
     "data": {
      "text/html": [
       "<pre style=\"white-space:pre;overflow-x:auto;line-height:2;font-family:Menlo,'DejaVu Sans Mono',consolas,'Courier New',monospace\">thread_intersect set new anchor to <span style=\"font-weight: bold\">{</span> <span style=\"color: #58d1eb; text-decoration-color: #58d1eb; font-weight: bold\">36.60</span>,  <span style=\"color: #58d1eb; text-decoration-color: #58d1eb; font-weight: bold\">18.27</span>,   <span style=\"color: #58d1eb; text-decoration-color: #58d1eb; font-weight: bold\">3.40</span><span style=\"font-weight: bold\">}</span>\n",
       "</pre>"
      ],
      "text/plain": [
       "<IPython.core.display.HTML object>"
      ]
     },
     "metadata": {},
     "output_type": "display_data"
    },
    {
     "data": {
      "text/html": [
       "<pre style=\"white-space:pre;overflow-x:auto;line-height:normal;font-family:Menlo,'DejaVu Sans Mono',consolas,'Courier New',monospace\">\n",
       " <span style=\"font-weight: bold\">&lt;</span><span style=\"color: #f4005f; text-decoration-color: #f4005f; font-weight: bold\">Step</span><span style=\"color: #d9d9d9; text-decoration-color: #d9d9d9\"> </span><span style=\"color: #58d1eb; text-decoration-color: #58d1eb; font-weight: bold\">13</span><span style=\"color: #d9d9d9; text-decoration-color: #d9d9d9\"> </span><span style=\"color: #00afaf; text-decoration-color: #00afaf; font-style: italic\">Print </span><span style=\"color: #00afaf; text-decoration-color: #00afaf; font-weight: bold; font-style: italic\">1</span><span style=\"color: #00afaf; text-decoration-color: #00afaf; font-style: italic\"> segment to fix anchor</span><span style=\"font-weight: bold\">&gt;</span>\n",
       "</pre>"
      ],
      "text/plain": [
       "<IPython.core.display.HTML object>"
      ]
     },
     "metadata": {},
     "output_type": "display_data"
    },
    {
     "data": {
      "text/html": [
       "<pre style=\"white-space:pre;overflow-x:auto;line-height:2;font-family:Menlo,'DejaVu Sans Mono',consolas,'Courier New',monospace\">Adding <span style=\"color: #58d1eb; text-decoration-color: #58d1eb; font-weight: bold\">1</span>/<span style=\"color: #58d1eb; text-decoration-color: #58d1eb; font-weight: bold\">1</span> unprinted gcsegs to Step\n",
       "</pre>"
      ],
      "text/plain": [
       "<IPython.core.display.HTML object>"
      ]
     },
     "metadata": {},
     "output_type": "display_data"
    },
    {
     "data": {
      "text/html": [
       "<pre style=\"white-space:pre;overflow-x:auto;line-height:2;font-family:Menlo,'DejaVu Sans Mono',consolas,'Courier New',monospace\"><span style=\"color: #58d1eb; text-decoration-color: #58d1eb; font-weight: bold\">14</span> unprinted segments intersecting this thread segment\n",
       "</pre>"
      ],
      "text/plain": [
       "<IPython.core.display.HTML object>"
      ]
     },
     "metadata": {},
     "output_type": "display_data"
    },
    {
     "data": {
      "text/html": [
       "<pre style=\"white-space:pre;overflow-x:auto;line-height:2;font-family:Menlo,'DejaVu Sans Mono',consolas,'Courier New',monospace\"><span style=\"color: #58d1eb; text-decoration-color: #58d1eb; font-weight: bold\">12</span> unprinted segments intersecting future thread segments\n",
       "</pre>"
      ],
      "text/plain": [
       "<IPython.core.display.HTML object>"
      ]
     },
     "metadata": {},
     "output_type": "display_data"
    },
    {
     "data": {
      "text/html": [
       "<pre style=\"white-space:pre;overflow-x:auto;line-height:normal;font-family:Menlo,'DejaVu Sans Mono',consolas,'Courier New',monospace\">\n",
       " <span style=\"font-weight: bold\">&lt;</span><span style=\"color: #f4005f; text-decoration-color: #f4005f; font-weight: bold\">Step</span><span style=\"color: #d9d9d9; text-decoration-color: #d9d9d9\"> </span><span style=\"color: #58d1eb; text-decoration-color: #58d1eb; font-weight: bold\">14</span><span style=\"color: #d9d9d9; text-decoration-color: #d9d9d9\"> </span><span style=\"color: #00afaf; text-decoration-color: #00afaf; font-style: italic\">Move thread to avoid </span><span style=\"color: #00afaf; text-decoration-color: #00afaf; font-weight: bold; font-style: italic\">11</span><span style=\"color: #00afaf; text-decoration-color: #00afaf; font-style: italic\"> segments</span><span style=\"font-weight: bold\">&gt;</span>\n",
       "</pre>"
      ],
      "text/plain": [
       "<IPython.core.display.HTML object>"
      ]
     },
     "metadata": {},
     "output_type": "display_data"
    },
    {
     "data": {
      "text/html": [
       "<pre style=\"white-space:pre;overflow-x:auto;line-height:2;font-family:Menlo,'DejaVu Sans Mono',consolas,'Courier New',monospace\"><span style=\"color: #58d1eb; text-decoration-color: #58d1eb; font-weight: bold\">0</span> intersections: <span style=\"color: #f4005f; text-decoration-color: #f4005f; font-weight: bold\">set</span><span style=\"font-weight: bold\">()</span>\n",
       "</pre>"
      ],
      "text/plain": [
       "<IPython.core.display.HTML object>"
      ]
     },
     "metadata": {},
     "output_type": "display_data"
    },
    {
     "data": {
      "text/html": [
       "<pre style=\"white-space:pre;overflow-x:auto;line-height:normal;font-family:Menlo,'DejaVu Sans Mono',consolas,'Courier New',monospace\">\n",
       " <span style=\"font-weight: bold\">&lt;</span><span style=\"color: #f4005f; text-decoration-color: #f4005f; font-weight: bold\">Step</span><span style=\"color: #d9d9d9; text-decoration-color: #d9d9d9\"> </span><span style=\"color: #58d1eb; text-decoration-color: #58d1eb; font-weight: bold\">15</span><span style=\"color: #d9d9d9; text-decoration-color: #d9d9d9\"> </span><span style=\"color: #00afaf; text-decoration-color: #00afaf; font-style: italic\">Print </span><span style=\"color: #00afaf; text-decoration-color: #00afaf; font-weight: bold; font-style: italic\">11</span><span style=\"color: #00afaf; text-decoration-color: #00afaf; font-style: italic\"> segments thread doesn't intersect</span><span style=\"font-weight: bold\">&gt;</span>\n",
       "</pre>"
      ],
      "text/plain": [
       "<IPython.core.display.HTML object>"
      ]
     },
     "metadata": {},
     "output_type": "display_data"
    },
    {
     "data": {
      "text/html": [
       "<pre style=\"white-space:pre;overflow-x:auto;line-height:2;font-family:Menlo,'DejaVu Sans Mono',consolas,'Courier New',monospace\">Adding <span style=\"color: #58d1eb; text-decoration-color: #58d1eb; font-weight: bold\">11</span>/<span style=\"color: #58d1eb; text-decoration-color: #58d1eb; font-weight: bold\">11</span> unprinted gcsegs to Step\n",
       "</pre>"
      ],
      "text/plain": [
       "<IPython.core.display.HTML object>"
      ]
     },
     "metadata": {},
     "output_type": "display_data"
    },
    {
     "data": {
      "text/html": [
       "<pre style=\"white-space:pre;overflow-x:auto;line-height:2;font-family:Menlo,'DejaVu Sans Mono',consolas,'Courier New',monospace\"><span style=\"color: #fd971f; text-decoration-color: #fd971f\">————</span> Thread <span style=\"color: #58d1eb; text-decoration-color: #58d1eb; font-weight: bold\">4</span>: <span style=\"font-weight: bold\">&lt;</span><span style=\"color: #d9d9d9; text-decoration-color: #d9d9d9; font-weight: bold\">{</span><span style=\"color: #d9d9d9; text-decoration-color: #d9d9d9\"> </span><span style=\"color: #58d1eb; text-decoration-color: #58d1eb; font-weight: bold\">36.60</span><span style=\"color: #d9d9d9; text-decoration-color: #d9d9d9\">,  </span><span style=\"color: #58d1eb; text-decoration-color: #58d1eb; font-weight: bold\">18.27</span><span style=\"color: #d9d9d9; text-decoration-color: #d9d9d9\">,   </span><span style=\"color: #58d1eb; text-decoration-color: #58d1eb; font-weight: bold\">3.40</span><span style=\"color: #d9d9d9; text-decoration-color: #d9d9d9; font-weight: bold\">}</span><span style=\"color: #d9d9d9; text-decoration-color: #d9d9d9\">←→</span><span style=\"color: #d9d9d9; text-decoration-color: #d9d9d9; font-weight: bold\">{</span><span style=\"color: #d9d9d9; text-decoration-color: #d9d9d9\"> </span><span style=\"color: #58d1eb; text-decoration-color: #58d1eb; font-weight: bold\">21.60</span><span style=\"color: #d9d9d9; text-decoration-color: #d9d9d9\">,  </span><span style=\"color: #58d1eb; text-decoration-color: #58d1eb; font-weight: bold\">18.27</span><span style=\"color: #d9d9d9; text-decoration-color: #d9d9d9\">,   </span><span style=\"color: #58d1eb; text-decoration-color: #58d1eb; font-weight: bold\">3.40</span><span style=\"color: #d9d9d9; text-decoration-color: #d9d9d9; font-weight: bold\">}</span><span style=\"color: #d9d9d9; text-decoration-color: #d9d9d9\"> </span><span style=\"color: #d9d9d9; text-decoration-color: #d9d9d9; font-weight: bold\">(</span><span style=\"color: #58d1eb; text-decoration-color: #58d1eb; font-weight: bold\">15.00</span><span style=\"color: #d9d9d9; text-decoration-color: #d9d9d9\"> mm</span><span style=\"color: #d9d9d9; text-decoration-color: #d9d9d9; font-weight: bold\">)</span><span style=\"font-weight: bold\">&gt;</span> <span style=\"color: #fd971f; text-decoration-color: #fd971f\">————</span>\n",
       "</pre>"
      ],
      "text/plain": [
       "<IPython.core.display.HTML object>"
      ]
     },
     "metadata": {},
     "output_type": "display_data"
    },
    {
     "data": {
      "text/html": [
       "<pre style=\"white-space:pre;overflow-x:auto;line-height:normal;font-family:Menlo,'DejaVu Sans Mono',consolas,'Courier New',monospace\">\n",
       " <span style=\"font-weight: bold\">&lt;</span><span style=\"color: #f4005f; text-decoration-color: #f4005f; font-weight: bold\">Step</span><span style=\"color: #d9d9d9; text-decoration-color: #d9d9d9\"> </span><span style=\"color: #58d1eb; text-decoration-color: #58d1eb; font-weight: bold\">16</span><span style=\"color: #d9d9d9; text-decoration-color: #d9d9d9\"> </span><span style=\"color: #00afaf; text-decoration-color: #00afaf; font-style: italic\">Move thread to overlap anchor at </span><span style=\"color: #00afaf; text-decoration-color: #00afaf; font-weight: bold; font-style: italic\">{</span><span style=\"color: #00afaf; text-decoration-color: #00afaf; font-style: italic\"> </span><span style=\"color: #00afaf; text-decoration-color: #00afaf; font-weight: bold; font-style: italic\">21.60</span><span style=\"color: #00afaf; text-decoration-color: #00afaf; font-style: italic\">,  </span><span style=\"color: #00afaf; text-decoration-color: #00afaf; font-weight: bold; font-style: italic\">18.27</span><span style=\"color: #00afaf; text-decoration-color: #00afaf; font-style: italic\">,   </span><span style=\"color: #00afaf; text-decoration-color: #00afaf; font-weight: bold; font-style: italic\">3.40}</span><span style=\"font-weight: bold\">&gt;</span>\n",
       "</pre>"
      ],
      "text/plain": [
       "<IPython.core.display.HTML object>"
      ]
     },
     "metadata": {},
     "output_type": "display_data"
    },
    {
     "data": {
      "text/html": [
       "<pre style=\"white-space:pre;overflow-x:auto;line-height:2;font-family:Menlo,'DejaVu Sans Mono',consolas,'Courier New',monospace\">thread_intersect set new anchor to <span style=\"font-weight: bold\">{</span> <span style=\"color: #58d1eb; text-decoration-color: #58d1eb; font-weight: bold\">21.60</span>,  <span style=\"color: #58d1eb; text-decoration-color: #58d1eb; font-weight: bold\">18.27</span>,   <span style=\"color: #58d1eb; text-decoration-color: #58d1eb; font-weight: bold\">3.40</span><span style=\"font-weight: bold\">}</span>\n",
       "</pre>"
      ],
      "text/plain": [
       "<IPython.core.display.HTML object>"
      ]
     },
     "metadata": {},
     "output_type": "display_data"
    },
    {
     "data": {
      "text/html": [
       "<pre style=\"white-space:pre;overflow-x:auto;line-height:normal;font-family:Menlo,'DejaVu Sans Mono',consolas,'Courier New',monospace\">\n",
       " <span style=\"font-weight: bold\">&lt;</span><span style=\"color: #f4005f; text-decoration-color: #f4005f; font-weight: bold\">Step</span><span style=\"color: #d9d9d9; text-decoration-color: #d9d9d9\"> </span><span style=\"color: #58d1eb; text-decoration-color: #58d1eb; font-weight: bold\">17</span><span style=\"color: #d9d9d9; text-decoration-color: #d9d9d9\"> </span><span style=\"color: #00afaf; text-decoration-color: #00afaf; font-style: italic\">Print </span><span style=\"color: #00afaf; text-decoration-color: #00afaf; font-weight: bold; font-style: italic\">1</span><span style=\"color: #00afaf; text-decoration-color: #00afaf; font-style: italic\"> segment to fix anchor</span><span style=\"font-weight: bold\">&gt;</span>\n",
       "</pre>"
      ],
      "text/plain": [
       "<IPython.core.display.HTML object>"
      ]
     },
     "metadata": {},
     "output_type": "display_data"
    },
    {
     "data": {
      "text/html": [
       "<pre style=\"white-space:pre;overflow-x:auto;line-height:2;font-family:Menlo,'DejaVu Sans Mono',consolas,'Courier New',monospace\">Adding <span style=\"color: #58d1eb; text-decoration-color: #58d1eb; font-weight: bold\">1</span>/<span style=\"color: #58d1eb; text-decoration-color: #58d1eb; font-weight: bold\">1</span> unprinted gcsegs to Step\n",
       "</pre>"
      ],
      "text/plain": [
       "<IPython.core.display.HTML object>"
      ]
     },
     "metadata": {},
     "output_type": "display_data"
    },
    {
     "data": {
      "text/html": [
       "<pre style=\"white-space:pre;overflow-x:auto;line-height:2;font-family:Menlo,'DejaVu Sans Mono',consolas,'Courier New',monospace\"><span style=\"color: #58d1eb; text-decoration-color: #58d1eb; font-weight: bold\">11</span> unprinted segments intersecting this thread segment\n",
       "</pre>"
      ],
      "text/plain": [
       "<IPython.core.display.HTML object>"
      ]
     },
     "metadata": {},
     "output_type": "display_data"
    },
    {
     "data": {
      "text/html": [
       "<pre style=\"white-space:pre;overflow-x:auto;line-height:2;font-family:Menlo,'DejaVu Sans Mono',consolas,'Courier New',monospace\"><span style=\"color: #58d1eb; text-decoration-color: #58d1eb; font-weight: bold\">0</span> unprinted segments intersecting future thread segments\n",
       "</pre>"
      ],
      "text/plain": [
       "<IPython.core.display.HTML object>"
      ]
     },
     "metadata": {},
     "output_type": "display_data"
    },
    {
     "data": {
      "text/html": [
       "<pre style=\"white-space:pre;overflow-x:auto;line-height:normal;font-family:Menlo,'DejaVu Sans Mono',consolas,'Courier New',monospace\">\n",
       " <span style=\"font-weight: bold\">&lt;</span><span style=\"color: #f4005f; text-decoration-color: #f4005f; font-weight: bold\">Step</span><span style=\"color: #d9d9d9; text-decoration-color: #d9d9d9\"> </span><span style=\"color: #58d1eb; text-decoration-color: #58d1eb; font-weight: bold\">18</span><span style=\"color: #d9d9d9; text-decoration-color: #d9d9d9\"> </span><span style=\"color: #00afaf; text-decoration-color: #00afaf; font-style: italic\">Move thread to avoid </span><span style=\"color: #00afaf; text-decoration-color: #00afaf; font-weight: bold; font-style: italic\">11</span><span style=\"color: #00afaf; text-decoration-color: #00afaf; font-style: italic\"> segments</span><span style=\"font-weight: bold\">&gt;</span>\n",
       "</pre>"
      ],
      "text/plain": [
       "<IPython.core.display.HTML object>"
      ]
     },
     "metadata": {},
     "output_type": "display_data"
    },
    {
     "data": {
      "text/html": [
       "<pre style=\"white-space:pre;overflow-x:auto;line-height:2;font-family:Menlo,'DejaVu Sans Mono',consolas,'Courier New',monospace\"><span style=\"color: #58d1eb; text-decoration-color: #58d1eb; font-weight: bold\">0</span> intersections: <span style=\"color: #f4005f; text-decoration-color: #f4005f; font-weight: bold\">set</span><span style=\"font-weight: bold\">()</span>\n",
       "</pre>"
      ],
      "text/plain": [
       "<IPython.core.display.HTML object>"
      ]
     },
     "metadata": {},
     "output_type": "display_data"
    },
    {
     "data": {
      "text/html": [
       "<pre style=\"white-space:pre;overflow-x:auto;line-height:normal;font-family:Menlo,'DejaVu Sans Mono',consolas,'Courier New',monospace\">\n",
       " <span style=\"font-weight: bold\">&lt;</span><span style=\"color: #f4005f; text-decoration-color: #f4005f; font-weight: bold\">Step</span><span style=\"color: #d9d9d9; text-decoration-color: #d9d9d9\"> </span><span style=\"color: #58d1eb; text-decoration-color: #58d1eb; font-weight: bold\">19</span><span style=\"color: #d9d9d9; text-decoration-color: #d9d9d9\"> </span><span style=\"color: #00afaf; text-decoration-color: #00afaf; font-style: italic\">Print </span><span style=\"color: #00afaf; text-decoration-color: #00afaf; font-weight: bold; font-style: italic\">11</span><span style=\"color: #00afaf; text-decoration-color: #00afaf; font-style: italic\"> segments thread doesn't intersect</span><span style=\"font-weight: bold\">&gt;</span>\n",
       "</pre>"
      ],
      "text/plain": [
       "<IPython.core.display.HTML object>"
      ]
     },
     "metadata": {},
     "output_type": "display_data"
    },
    {
     "data": {
      "text/html": [
       "<pre style=\"white-space:pre;overflow-x:auto;line-height:2;font-family:Menlo,'DejaVu Sans Mono',consolas,'Courier New',monospace\">Adding <span style=\"color: #58d1eb; text-decoration-color: #58d1eb; font-weight: bold\">11</span>/<span style=\"color: #58d1eb; text-decoration-color: #58d1eb; font-weight: bold\">11</span> unprinted gcsegs to Step\n",
       "</pre>"
      ],
      "text/plain": [
       "<IPython.core.display.HTML object>"
      ]
     },
     "metadata": {},
     "output_type": "display_data"
    },
    {
     "data": {
      "text/html": [
       "<pre style=\"white-space:pre;overflow-x:auto;line-height:2;font-family:Menlo,'DejaVu Sans Mono',consolas,'Courier New',monospace\"><span style=\"color: #fd971f; text-decoration-color: #fd971f\">Done routing this layer</span>; <span style=\"color: #58d1eb; text-decoration-color: #58d1eb; font-weight: bold\">0</span> gcode lines left\n",
       "</pre>"
      ],
      "text/plain": [
       "<IPython.core.display.HTML object>"
      ]
     },
     "metadata": {},
     "output_type": "display_data"
    },
    {
     "data": {
      "text/html": [
       "<pre style=\"white-space:pre;overflow-x:auto;line-height:2;font-family:Menlo,'DejaVu Sans Mono',consolas,'Courier New',monospace\">Printer state: <span style=\"color: #f4005f; text-decoration-color: #f4005f; font-weight: bold\">Printer</span><span style=\"font-weight: bold\">(</span>⚓︎<span style=\"font-weight: bold\">{</span> <span style=\"color: #58d1eb; text-decoration-color: #58d1eb; font-weight: bold\">21.60</span>,  <span style=\"color: #58d1eb; text-decoration-color: #58d1eb; font-weight: bold\">18.27</span>,   <span style=\"color: #58d1eb; text-decoration-color: #58d1eb; font-weight: bold\">3.40</span><span style=\"font-weight: bold\">}</span>, ⌾ <span style=\"color: #58d1eb; text-decoration-color: #58d1eb; font-weight: bold\">-173.96</span>°<span style=\"font-weight: bold\">)</span>\n",
       "</pre>"
      ],
      "text/plain": [
       "<IPython.core.display.HTML object>"
      ]
     },
     "metadata": {},
     "output_type": "display_data"
    }
   ],
   "source": [
    "t.route_model(thread_geom, end_layer=17)"
   ]
  },
  {
   "cell_type": "code",
   "execution_count": 9,
   "id": "78e4bf24-84bd-43bc-bfc5-5da158e7ceab",
   "metadata": {},
   "outputs": [
    {
     "ename": "IndexError",
     "evalue": "list index out of range",
     "output_type": "error",
     "traceback": [
      "\u001b[0;31m---------------------------------------------------------------------------\u001b[0m",
      "\u001b[0;31mIndexError\u001b[0m                                Traceback (most recent call last)",
      "Cell \u001b[0;32mIn [9], line 5\u001b[0m\n\u001b[1;32m      1\u001b[0m l \u001b[38;5;241m=\u001b[39m \u001b[38;5;241m32\u001b[39m\n\u001b[1;32m      2\u001b[0m \u001b[38;5;66;03m#reload(plot_styles)\u001b[39;00m\n\u001b[1;32m      3\u001b[0m \u001b[38;5;66;03m#reload(plotting)\u001b[39;00m\n\u001b[1;32m      4\u001b[0m \u001b[38;5;66;03m#plotting.styles = plot_styles.styles\u001b[39;00m\n\u001b[0;32m----> 5\u001b[0m plotting\u001b[38;5;241m.\u001b[39mplot_steps(\u001b[43mt\u001b[49m\u001b[38;5;241;43m.\u001b[39;49m\u001b[43mlayer_steps\u001b[49m\u001b[43m[\u001b[49m\u001b[43ml\u001b[49m\u001b[43m]\u001b[49m, prev_layer\u001b[38;5;241m=\u001b[39mg\u001b[38;5;241m.\u001b[39mlayers[l\u001b[38;5;241m-\u001b[39m\u001b[38;5;241m1\u001b[39m], prev_layer_only_outline\u001b[38;5;241m=\u001b[39m\u001b[38;5;28;01mFalse\u001b[39;00m)\n",
      "\u001b[0;31mIndexError\u001b[0m: list index out of range"
     ]
    }
   ],
   "source": [
    "l = 32\n",
    "#reload(plot_styles)\n",
    "#reload(plotting)\n",
    "#plotting.styles = plot_styles.styles\n",
    "plotting.plot_steps(t.layer_steps[l], prev_layer=g.layers[l-1], prev_layer_only_outline=False)"
   ]
  },
  {
   "cell_type": "code",
   "execution_count": 8,
   "id": "953dba9b-9d5d-4169-9a73-f27d7949d0af",
   "metadata": {},
   "outputs": [
    {
     "data": {
      "text/html": [
       "<pre style=\"white-space:pre;overflow-x:auto;line-height:2;font-family:Menlo,'DejaVu Sans Mono',consolas,'Courier New',monospace\"><span style=\"color: #f4005f; text-decoration-color: #f4005f\">————— START STEP </span><span style=\"color: #f4005f; text-decoration-color: #f4005f; font-weight: bold\">1</span><span style=\"color: #f4005f; text-decoration-color: #f4005f\">: Print </span><span style=\"color: #f4005f; text-decoration-color: #f4005f; font-weight: bold\">37</span><span style=\"color: #f4005f; text-decoration-color: #f4005f\"> segments thread doesn't intersect —————</span>\n",
       "</pre>"
      ],
      "text/plain": [
       "<IPython.core.display.HTML object>"
      ]
     },
     "metadata": {},
     "output_type": "display_data"
    },
    {
     "data": {
      "text/html": [
       "<pre style=\"white-space:pre;overflow-x:auto;line-height:2;font-family:Menlo,'DejaVu Sans Mono',consolas,'Courier New',monospace\">new line from <span style=\"color: #58d1eb; text-decoration-color: #58d1eb; font-weight: bold\">4502</span>\n",
       "</pre>"
      ],
      "text/plain": [
       "<IPython.core.display.HTML object>"
      ]
     },
     "metadata": {},
     "output_type": "display_data"
    },
    {
     "data": {
      "text/html": [
       "<pre style=\"white-space:pre;overflow-x:auto;line-height:2;font-family:Menlo,'DejaVu Sans Mono',consolas,'Courier New',monospace\">new line from <span style=\"color: #58d1eb; text-decoration-color: #58d1eb; font-weight: bold\">4508</span>\n",
       "</pre>"
      ],
      "text/plain": [
       "<IPython.core.display.HTML object>"
      ]
     },
     "metadata": {},
     "output_type": "display_data"
    },
    {
     "data": {
      "text/html": [
       "<pre style=\"white-space:pre;overflow-x:auto;line-height:2;font-family:Menlo,'DejaVu Sans Mono',consolas,'Courier New',monospace\">new line from <span style=\"color: #58d1eb; text-decoration-color: #58d1eb; font-weight: bold\">4619</span>\n",
       "</pre>"
      ],
      "text/plain": [
       "<IPython.core.display.HTML object>"
      ]
     },
     "metadata": {},
     "output_type": "display_data"
    },
    {
     "data": {
      "text/html": [
       "<pre style=\"white-space:pre;overflow-x:auto;line-height:2;font-family:Menlo,'DejaVu Sans Mono',consolas,'Courier New',monospace\">new line from <span style=\"color: #58d1eb; text-decoration-color: #58d1eb; font-weight: bold\">4625</span>\n",
       "</pre>"
      ],
      "text/plain": [
       "<IPython.core.display.HTML object>"
      ]
     },
     "metadata": {},
     "output_type": "display_data"
    },
    {
     "data": {
      "text/html": [
       "<pre style=\"white-space:pre;overflow-x:auto;line-height:2;font-family:Menlo,'DejaVu Sans Mono',consolas,'Courier New',monospace\">new line from <span style=\"color: #58d1eb; text-decoration-color: #58d1eb; font-weight: bold\">4676</span>\n",
       "</pre>"
      ],
      "text/plain": [
       "<IPython.core.display.HTML object>"
      ]
     },
     "metadata": {},
     "output_type": "display_data"
    },
    {
     "data": {
      "text/html": [
       "<pre style=\"white-space:pre;overflow-x:auto;line-height:2;font-family:Menlo,'DejaVu Sans Mono',consolas,'Courier New',monospace\">new line from <span style=\"color: #58d1eb; text-decoration-color: #58d1eb; font-weight: bold\">4682</span>\n",
       "</pre>"
      ],
      "text/plain": [
       "<IPython.core.display.HTML object>"
      ]
     },
     "metadata": {},
     "output_type": "display_data"
    },
    {
     "data": {
      "text/plain": [
       "[G0 X15.536 Y15.534 ; [] ---- Fake move from 4502,\n",
       " [4503] G1 X15.536 Y24.334 E420.28914 ; [4503],\n",
       " G0 X15.136 Y15.134 ; [] ---- Skipped 4504–4508; fake move from 4508,\n",
       " [4509] G1 X15.136 Y24.734 E421.53972 ; [4509],\n",
       " [4514] G0 F9000 X15.806 Y15.804 ; [4514],\n",
       " [4515] G0 X15.836 Y17.465 ; [4515],\n",
       " [4516] G0 X15.615 Y17.465 ; [4516],\n",
       " [4517] G1 F3000 X17.467 Y15.613 E422.35253 ; [4517],\n",
       " [4520] G0 F9000 X24.255 Y22.402 ; [4520],\n",
       " [4521] G1 F3000 X22.403 Y24.253 E422.73957 ; [4521],\n",
       " [4530] G0 F9000 X24.255 Y20.139 ; [4530],\n",
       " [4531] G1 F3000 X20.141 Y24.253 E423.62008 ; [4531],\n",
       " [4538] G0 F9000 X22.403 Y15.614 ; [4538],\n",
       " [4539] G1 F3000 X24.255 Y17.465 E424.20061 ; [4539],\n",
       " [4542] G0 F9000 X17.466 Y24.253 ; [4542],\n",
       " [4543] G1 F3000 X15.615 Y22.402 E424.58761 ; [4543],\n",
       " [4548] G0 F9000 X23.736 Y16.016 ; [4548],\n",
       " [4549] G1 F1500 E418.49396 ; [4549],\n",
       " [4550] ; [4550] MESH:Router test.3mf(4),\n",
       " [4551] G0 F9000 X24.516 Y24.064 ; [4551],\n",
       " [4552] G0 X25.601 Y24.064 ; [4552],\n",
       " [4553] G0 X29.271 Y24.064 ; [4553],\n",
       " [4554] G0 X30.356 Y24.064 ; [4554],\n",
       " [4555] G0 X39.066 Y24.064 ; [4555],\n",
       " [4556] G1 F1500 E424.99396 ; [4556],\n",
       " [4557] G0 F9000 X39.336 Y24.334 ; [4557],\n",
       " [4558] ; [4558] TYPE:WALL-INNER,\n",
       " [4559] G1 F1500 X39.336 Y15.534 E425.28665 ; [4559],\n",
       " [4560] G1 X30.536 Y15.534 E425.57934 ; [4560],\n",
       " [4563] G0 F9000 X39.736 Y24.734 ; [4563],\n",
       " [4564] ; [4564] TYPE:WALL-OUTER,\n",
       " [4565] G1 F1500 X39.736 Y15.134 E426.48401 ; [4565],\n",
       " [4566] G1 X30.136 Y15.134 E426.80331 ; [4566],\n",
       " [4572] G0 F9000 X30.806 Y15.804 ; [4572],\n",
       " [4573] G0 X30.836 Y17.464 ; [4573],\n",
       " [4574] G0 X30.615 Y17.464 ; [4574],\n",
       " [4575] G1 F3000 X32.466 Y15.613 E427.93537 ; [4575],\n",
       " [4578] G0 F9000 X39.255 Y22.401 ; [4578],\n",
       " [4579] G1 F3000 X37.403 Y24.253 E428.32246 ; [4579],\n",
       " [4586] G0 F9000 X35.141 Y15.613 ; [4586],\n",
       " [4587] G1 F3000 X39.255 Y19.728 E429.0095 ; [4587],\n",
       " [4590] G0 F9000 X34.73 Y24.253 ; [4590],\n",
       " [4591] G1 F3000 X30.614 Y20.138 E429.39662 ; [4591],\n",
       " [4596] G0 F9000 X37.403 Y15.613 ; [4596],\n",
       " [4597] G1 F3000 X39.255 Y17.465 E429.78368 ; [4597],\n",
       " [4600] G0 F9000 X32.467 Y24.253 ; [4600],\n",
       " [4601] G1 F3000 X30.614 Y22.401 E430.1708 ; [4601],\n",
       " [4606] G0 F9000 X38.736 Y16.016 ; [4606],\n",
       " [4607] G1 F1500 E424.07722 ; [4607],\n",
       " [4608] ; [4608] MESH:Router test.3mf(2),\n",
       " [4609] G0 F9000 X39.066 Y24.514 ; [4609],\n",
       " [4610] G0 X39.066 Y25.599 ; [4610],\n",
       " [4611] G0 X39.066 Y29.269 ; [4611],\n",
       " [4612] G0 X39.066 Y30.354 ; [4612],\n",
       " [4613] G0 X39.066 Y39.064 ; [4613],\n",
       " [4614] G1 F1500 E430.57722 ; [4614],\n",
       " [4615] G0 F9000 X39.336 Y39.334 ; [4615],\n",
       " [4616] ; [4616] TYPE:WALL-INNER,\n",
       " [4617] G1 F1500 X39.336 Y30.534 E430.86991 ; [4617],\n",
       " G0 X30.536 Y39.334 ; [] ---- Skipped 4618–4619; fake move from 4619,\n",
       " [4620] G1 X39.336 Y39.334 E431.74798 ; [4620],\n",
       " [4621] G0 F9000 X39.736 Y39.734 ; [4621],\n",
       " [4622] ; [4622] TYPE:WALL-OUTER,\n",
       " [4623] G1 F1500 X39.736 Y30.134 E432.06728 ; [4623],\n",
       " G0 X30.136 Y39.734 ; [] ---- Skipped 4624–4625; fake move from 4625,\n",
       " [4626] G1 X39.736 Y39.734 E433.02517 ; [4626],\n",
       " [4630] G0 F9000 X30.806 Y30.804 ; [4630],\n",
       " [4631] G0 X30.836 Y32.464 ; [4631],\n",
       " [4632] G0 X30.616 Y32.464 ; [4632],\n",
       " [4633] G1 F3000 X32.466 Y30.614 E433.51856 ; [4633],\n",
       " [4636] G0 F9000 X39.255 Y37.402 ; [4636],\n",
       " [4637] G1 F3000 X37.403 Y39.253 E433.90558 ; [4637],\n",
       " [4640] G0 F9000 X30.836 Y32.876 ; [4640],\n",
       " [4641] G0 X30.836 Y34.727 ; [4641],\n",
       " [4642] G0 X30.616 Y34.727 ; [4642],\n",
       " [4643] G1 F3000 X34.729 Y30.614 E434.39895 ; [4643],\n",
       " [4646] G0 F9000 X39.255 Y35.139 ; [4646],\n",
       " [4647] G1 F3000 X35.141 Y39.253 E434.78597 ; [4647],\n",
       " [4654] G0 F9000 X37.403 Y30.614 ; [4654],\n",
       " [4655] G1 F3000 X39.255 Y32.465 E435.36643 ; [4655],\n",
       " [4658] G0 F9000 X32.466 Y39.252 ; [4658],\n",
       " [4659] G1 F3000 X30.615 Y37.402 E435.75343 ; [4659],\n",
       " G0 X15.536 Y30.534 ; [] ---- Skipped 4660–4676; fake move from 4676,\n",
       " [4677] G1 X15.536 Y39.334 E437.03782 ; [4677],\n",
       " [4678] G1 X24.336 Y39.334 E437.33051 ; [4678],\n",
       " G0 X15.136 Y30.134 ; [] ---- Skipped 4679–4682; fake move from 4682,\n",
       " [4683] G1 X15.136 Y39.734 E438.2884 ; [4683],\n",
       " [4684] G1 X24.736 Y39.734 E438.6077 ; [4684],\n",
       " [4688] G0 F9000 X15.806 Y30.804 ; [4688],\n",
       " [4689] G0 X15.836 Y32.464 ; [4689],\n",
       " [4690] G0 X15.615 Y32.464 ; [4690],\n",
       " [4691] G1 F3000 X17.467 Y30.612 E439.10121 ; [4691],\n",
       " [4694] G0 F9000 X24.255 Y37.4 ; [4694],\n",
       " [4695] G1 F3000 X22.403 Y39.253 E439.4883 ; [4695],\n",
       " [4702] G0 F9000 X20.141 Y30.613 ; [4702],\n",
       " [4703] G1 F3000 X24.255 Y34.728 E440.17532 ; [4703],\n",
       " [4706] G0 F9000 X19.729 Y39.252 ; [4706],\n",
       " [4707] G1 F3000 X15.615 Y35.138 E440.56239 ; [4707],\n",
       " [4712] G0 F9000 X22.403 Y30.613 ; [4712],\n",
       " [4713] G1 F3000 X24.255 Y32.465 E440.94951 ; [4713],\n",
       " [4716] G0 F9000 X17.466 Y39.252 ; [4716],\n",
       " [4717] G1 F3000 X15.615 Y37.401 E441.33657 ; [4717]]"
      ]
     },
     "execution_count": 8,
     "metadata": {},
     "output_type": "execute_result"
    }
   ],
   "source": [
    "step = t.layer_steps[16].steps[1]\n",
    "step.gcode()"
   ]
  },
  {
   "cell_type": "code",
   "execution_count": null,
   "id": "f308eebe-3873-4762-ad95-64c9451cffa6",
   "metadata": {},
   "outputs": [],
   "source": []
  }
 ],
 "metadata": {
  "kernelspec": {
   "display_name": "Python 3 (ipykernel)",
   "language": "python",
   "name": "python3"
  },
  "language_info": {
   "codemirror_mode": {
    "name": "ipython",
    "version": 3
   },
   "file_extension": ".py",
   "mimetype": "text/x-python",
   "name": "python",
   "nbconvert_exporter": "python",
   "pygments_lexer": "ipython3",
   "version": "3.10.7"
  },
  "toc-showtags": true
 },
 "nbformat": 4,
 "nbformat_minor": 5
}

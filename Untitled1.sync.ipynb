{
 "cells": [
  {
   "cell_type": "code",
   "execution_count": 102,
   "metadata": {},
   "outputs": [
    {
     "data": {
      "text/html": [
       "        <script type=\"text/javascript\">\n",
       "        window.PlotlyConfig = {MathJaxConfig: 'local'};\n",
       "        if (window.MathJax) {MathJax.Hub.Config({SVG: {font: \"STIX-Web\"}});}\n",
       "        if (typeof require !== 'undefined') {\n",
       "        require.undef(\"plotly\");\n",
       "        requirejs.config({\n",
       "            paths: {\n",
       "                'plotly': ['https://cdn.plot.ly/plotly-2.8.3.min']\n",
       "            }\n",
       "        });\n",
       "        require(['plotly'], function(Plotly) {\n",
       "            window._Plotly = Plotly;\n",
       "        });\n",
       "        }\n",
       "        </script>\n",
       "        "
      ]
     },
     "metadata": {},
     "output_type": "display_data"
    }
   ],
   "source": [
    "# Imports\n",
    "import pickle\n",
    "import numpy as np\n",
    "import thread, gcode, gclayer\n",
    "from Geometry3D import Segment, Point, intersection, Renderer\n",
    "from parsers import cura4\n",
    "from importlib import reload\n",
    "from plotly.subplots import make_subplots\n",
    "import plotly.graph_objects as go\n",
    "from plotly.offline import plot, iplot, init_notebook_mode\n",
    "from IPython.core.display import display, HTML\n",
    "init_notebook_mode(connected=True)\n",
    "\n",
    "#suppress scientific notation\n",
    "np.set_printoptions(suppress=True, precision=2)"
   ]
  },
  {
   "cell_type": "code",
   "execution_count": null,
   "metadata": {},
   "outputs": [],
   "source": [
    "#turn off autosave since we sync from vim\n",
    "%autosave 0"
   ]
  },
  {
   "cell_type": "code",
   "execution_count": 26,
   "metadata": {},
   "outputs": [],
   "source": [
    "def page_wide():\n",
    "\tdisplay(HTML(\n",
    "\t\"\"\"\n",
    "\t<style>\n",
    "\t\t.container { width:100% !important; }\n",
    "\t\t.output_result { max-width:100% !important; }\n",
    "\t\t.prompt { min-width:0 !important; }\n",
    "\t\t.run_this_cell { padding:0 !important; }\n",
    "\t\t.modebar { padding-right: 250px !important; }\n",
    "\t</style>\n",
    "\t\"\"\"))"
   ]
  },
  {
   "cell_type": "code",
   "execution_count": 3,
   "metadata": {},
   "outputs": [
    {
     "data": {
      "text/plain": [
       "<module 'gclayer' from '/Users/dan/data/projects/python_gcode/gclayer.py'>"
      ]
     },
     "execution_count": 3,
     "metadata": {},
     "output_type": "execute_result"
    }
   ],
   "source": [
    "reload(thread); reload(gcode); reload(cura4); reload(gclayer)"
   ]
  },
  {
   "cell_type": "code",
   "execution_count": 4,
   "metadata": {},
   "outputs": [],
   "source": [
    "g = gcode.GcodeFile('/Users/dan/r/thread_printer/stl/test1/main_body.gcode')\n",
    "thread.layers_to_geom(g)"
   ]
  },
  {
   "cell_type": "code",
   "execution_count": 5,
   "metadata": {
    "lines_to_next_cell": 1
   },
   "outputs": [],
   "source": [
    "#units from fusion are always in cm, so we need to convert to mm\n",
    "tpath = np.array(pickle.load(open('/Users/dan/r/thread_printer/stl/test1/thread_from_fusion.pickle', 'rb'))) * 10\n",
    "thread_transform = [131.164, 110.421, 0]\n",
    "tpath += [thread_transform, thread_transform]\n",
    "thread_geom = [Segment(Point(*s), Point(*e)) for s,e in tpath]"
   ]
  },
  {
   "cell_type": "code",
   "execution_count": 21,
   "metadata": {
    "lines_to_next_cell": 1
   },
   "outputs": [],
   "source": [
    "def xyz(*args, **kwargs):\n",
    "\t\"\"\"Separate the x, y, and z attributes of the arguments into separate lists.\n",
    "\tReturn a dict with those as well as any kwargs.\"\"\"\n",
    "\tx, y, z = [], [], []\n",
    "\tfor a in args:\n",
    "\t\tx.append(a.x if a is not None else None)\n",
    "\t\ty.append(a.y if a is not None else None)\n",
    "\t\tz.append(a.z if a is not None else None)\n",
    "\treturn dict(x=x, y=y, z=z, **kwargs)\n",
    "\n",
    "\n",
    "def xy(*segs, **kwargs):\n",
    "\td = xyz(*segs, **kwargs)\n",
    "\tdel(d['z'])\n",
    "\treturn d\n",
    "\n",
    "\n",
    "def seg_xyz(*segs, **kwargs):\n",
    "\t#Plot gcode segments. The 'None' makes a break in a line so we can use\n",
    "\t# just one add_trace() call.\n",
    "\tx, y, z = [], [], []\n",
    "\tfor s in segs:\n",
    "\t\tx.extend([s.start_point.x, s.end_point.x, None])\n",
    "\t\ty.extend([s.start_point.y, s.end_point.y, None])\n",
    "\t\tz.extend([s.start_point.z, s.end_point.z, None])\n",
    "\treturn dict(x=x, y=y, z=z, **kwargs)\n",
    "\n",
    "\n",
    "def seg_xy(*segs, **kwargs):\n",
    "\td = seg_xyz(*segs, **kwargs)\n",
    "\tdel(d['z'])\n",
    "\treturn d\n",
    "\n",
    "\n",
    "def fig_del_by_names(fig, *names):\n",
    "\t\"\"\"Remove the trace with the name from the fig.\"\"\"\n",
    "\tfignames = set([d.name for d in fig.data])\n",
    "\tfignames.difference_update(names)\n",
    "\tfig.data = [d for d in fig.data if d.name in fignames]"
   ]
  },
  {
   "cell_type": "code",
   "execution_count": 61,
   "metadata": {},
   "outputs": [
    {
     "ename": "SyntaxError",
     "evalue": "invalid syntax (1118945246.py, line 38)",
     "output_type": "error",
     "traceback": [
      "\u001b[0;36m  File \u001b[0;32m\"/var/folders/8w/xm0kqz715ld0yxmz9v2rjb9h0000gp/T/ipykernel_20851/1118945246.py\"\u001b[0;36m, line \u001b[0;32m38\u001b[0m\n\u001b[0;31m    fig.update_layout(template='plotly_dark', autosize=False,\u001b[0m\n\u001b[0m    ^\u001b[0m\n\u001b[0;31mSyntaxError\u001b[0m\u001b[0;31m:\u001b[0m invalid syntax\n"
     ]
    }
   ],
   "source": [
    "def plot_layer(layer, thread_geom=[]):\n",
    "\tfig = go.FigureWidget()\n",
    "\n",
    "\tfig.add_trace(go.Scatter3d(**seg_xyz(\n",
    "\t\t\t*layer.geometry.segments,\n",
    "\t\t\tmode='lines',\n",
    "\t\t\tline={'color': 'green'})))\n",
    "\n",
    "\tif thread_geom:\n",
    "\t\t#Plot the thread\n",
    "\t\tfig.add_trace(go.Scatter3d(**seg_xyz(\n",
    "\t\t\t*thread_geom,\n",
    "\t\t\tmode='lines',\n",
    "\t\t\tline={'color':'white', 'dash':'dot', 'width':3})))\n",
    "\n",
    "\t\tintersections = thread.intersect_thread(thread_geom, layer)\n",
    "\t\tfor seg,enter,exit,gclines in intersections:\n",
    "\t\t\tif enter and exit:\n",
    "\t\t\t\tkwargs = xyz(enter, exit, mode='lines')\n",
    "\t\t\telif enter or exit:\n",
    "\t\t\t\tpoint = enter or exit\n",
    "\t\t\t\tkwargs = xyz(point, mode='markers')\n",
    "\t\t\telse:\n",
    "\t\t\t\tkwargs = xyz(seg.start_point, seg.end_point, mode='lines')\n",
    "\n",
    "\t\t\tfig.add_trace(go.Scatter3d(\n",
    "\t\t\t\tmarker={'color':'yellow', 'size':4},\n",
    "\t\t\t\tline={'color':'yellow', 'width':8},\n",
    "\t\t\t\t**kwargs,\n",
    "\t\t\t))\n",
    "\n",
    "\t\t\tif gclines:\n",
    "\t\t\t\tfig.add_trace(go.Scatter3d(**seg_xyz(\n",
    "\t\t\t\t\t*gclines,\n",
    "\t\t\t\t\tmode='lines',\n",
    "\t\t\t\t\tline={'color':'yellow', 'width': 2},\n",
    "\t\t\t\t)))\n",
    "\n",
    "\tfig.update_layout(template='plotly_dark',# autosize=False,\n",
    "\t\t\tscene_aspectmode='data',\n",
    "\t\twidth=750, height=750, margin=dict(l=0, r=20, b=0, t=0, pad=0),\n",
    "\t\t)\n",
    "\t#fig.show('notebook')\n",
    "\n",
    "\treturn fig, intersections"
   ]
  },
  {
   "cell_type": "code",
   "execution_count": null,
   "metadata": {},
   "outputs": [],
   "source": [
    "page_wide()\n",
    "fig, ii = plot_layer(g.layers[49], thread_geom)\n",
    "fig"
   ]
  },
  {
   "cell_type": "code",
   "execution_count": 41,
   "metadata": {},
   "outputs": [
    {
     "data": {
      "text/plain": [
       "'\\n#Plot top/bottom planes for the layer\\nxx = list(filter(None, x)); yy = list(filter(None, y))\\nzz = g.layers[53].z - 0.2\\nfig.add_trace(go.Mesh3d(\\n\\t\\tx=[min(xx), min(xx), max(xx), max(xx)],\\n\\t\\ty=[min(yy), max(yy), max(yy), min(yy)],\\n\\t\\tz=[zz,\\t\\t zz,\\t\\t zz,\\t\\t zz],\\n\\t\\topacity=.5))\\nzz = g.layers[53].z + 0.2\\nfig.add_trace(go.Mesh3d(\\n\\t\\tx=[min(xx), min(xx), max(xx), max(xx)],\\n\\t\\ty=[min(yy), max(yy), max(yy), min(yy)],\\n\\t\\tz=[zz,\\t\\t zz,\\t\\t zz,\\t\\t zz],\\n\\t\\topacity=.5))\\n'"
      ]
     },
     "execution_count": 41,
     "metadata": {},
     "output_type": "execute_result"
    }
   ],
   "source": [
    "# seg,enter,exit,gclines \n",
    "fig.add_trace(go.Scatter3d(**seg_xyz(ii[0][0], *ii[0][3], mode='lines', line={'color':'red'})));"
   ]
  },
  {
   "cell_type": "code",
   "execution_count": null,
   "metadata": {
    "lines_to_next_cell": 1
   },
   "outputs": [],
   "source": [
    "from copy import deepcopy"
   ]
  },
  {
   "cell_type": "code",
   "execution_count": 99,
   "metadata": {
    "lines_to_next_cell": 2
   },
   "outputs": [],
   "source": [
    "def plot_steps(layer, thread_geom):\n",
    "\t#Separate the layer lines that do (intersected_gc) and don't (gc_segs)\n",
    "\t# intersect the thread in this layer\n",
    "\tgc_segs = set(layer.geometry.segments)\n",
    "\tintersections = thread.intersect_thread(thread_geom, layer)\n",
    "\tintersected_gc = set(sum([i[3] for i in intersections], []))\n",
    "\tgc_segs.difference_update(intersected_gc)\n",
    "\tgc_segs = list(gc_segs)\n",
    "\n",
    "\tframes = []\n",
    "\n",
    "\t#List of traces to show in all frames\n",
    "\talways_show = []\n",
    "\n",
    "\t# gcode segments that no thread intersects should always be shown\n",
    "\talways_show.append(go.Scatter(**seg_xy(\n",
    "\t\t*gc_segs, name='gc_segs', mode='lines', line_color='green')))\n",
    "\n",
    "\t#First frame is gcode + thread; assume the start_point of the first thread\n",
    "\t# segment is the thread anchor point on the bed. Put the thread away from the\n",
    "\t# model to begin with.\n",
    "\tanchor = thread_geom[0].start_point\n",
    "\tframes.append(always_show + [\n",
    "\t\tgo.Scatter(**seg_xy(Segment(anchor, Point(anchor.x, layer.extents()[1][1], 0)),\n",
    "\t\tname='th_traj', mode='lines', line=dict(color='red', dash='dot', width=3)))])\n",
    "\n",
    "\t#Now generate the frames of the animation:\n",
    "\t# 1. Rotate the thread from its current anchor point to overlap the gcode segment that\n",
    "\t#    should capture it.\n",
    "\t# 2. Draw the gcode segment that will capture it.\n",
    "\t# 3. Store the new anchor point for the thread.\n",
    "\t# Each frame should show updates of the previous.\n",
    "\tfor seg,enter,exit,gclines in intersections:\n",
    "\t\t#If there's no intersection with layer geometry, just show the thread segment\n",
    "\t\tif not (enter or exit or gclines):\n",
    "\t\t\tlayer_thread = go.Scatter(**seg_xy(seg,\n",
    "\t\t\t\tname='th_traj', mode='lines', line={'color':'red', 'dash':'dot', 'width':3}))\n",
    "\t\t\tframes.append(always_show + [layer_thread])\n",
    "\t\t\tcontinue\n",
    "\n",
    "\t\t#The gcode segments that this thread segment intersects in this layer\n",
    "\t\tisec_gcode = go.Scatter(**seg_xy(*gclines,\n",
    "\t\t\tname='isec_gcode', mode='lines', line_color='yellow'))\n",
    "\n",
    "\t\t#The thread segment itself (either a line if captured or points if entering/exiting)\n",
    "\t\tif enter and exit:\n",
    "\t\t\tpoint = enter\n",
    "\t\t\tkwargs = xy(enter, exit, mode='lines')\n",
    "\t\telif enter or exit:\n",
    "\t\t\tpoint = enter or exit\n",
    "\t\t\tkwargs = xy(point, mode='markers')\n",
    "\t\telse:\n",
    "\t\t\tpoint = seg.start_point\n",
    "\t\t\tkwargs = seg_xy(seg, mode='lines')\n",
    "\t\tlayer_thread = go.Scatter(\n",
    "\t\t\tname='layer_thread',\n",
    "\t\t\tmarker={'color':'yellow', 'size':4},\n",
    "\t\t\tline={'color':'yellow', 'width':8},\n",
    "\t\t\t**kwargs)\n",
    "\n",
    "\t\t#The representation of the actual thread trajectory, from anchor to thread carrier\n",
    "\t\tth_traj = go.Scatter(xy(anchor, point, name='th_traj', mode='lines',\n",
    "\t\t\tline={'color':'white', 'dash':'dot', 'width':3}))\n",
    "\n",
    "\t\tframes.append(always_show + [layer_thread])\n",
    "\t\tframes.append(always_show + [th_traj])\n",
    "\t\tframes.append(always_show + [isec_gcode])\n",
    "\n",
    "\t\t#Going forward, always show the placed gcode\n",
    "\t\tisec_gcode_new = go.Scatter(**seg_xy(*gclines, mode='lines', line_color='green'))\n",
    "\t\talways_show.append(isec_gcode_new)\n",
    "\n",
    "\t\tframes.append(always_show + [th_traj])\n",
    "\n",
    "\tfig = frames2subplots(frames)\n",
    "\tfig.update_layout(template='plotly_dark',# autosize=False,\n",
    "\t\t\tscene_aspectmode='data',\n",
    "\t\twidth=750, height=750, margin=dict(l=0, r=20, b=0, t=0, pad=0),\n",
    "\t\t)\n",
    "\treturn fig\n",
    "\n",
    "\t#Set up the figure\n",
    "\t(xm, ym), (xM, yM) = layer.extents()\n",
    "\tpage_wide()\n",
    "\tframes = [go.Frame(data=f) for f in frames]\n",
    "\tfig = go.Figure(\n",
    "\t\tdata = always_show,\n",
    "\t\t layout = go.Layout(\n",
    "\t\t\tscene_aspectmode='data',\n",
    "\t\t\txaxis={'range': [xm, xM], 'autorange': False},\n",
    "\t\t\tyaxis={'range': [ym, yM], 'autorange': False},\n",
    "\t\t \tupdatemenus=[{\n",
    "\t\t \t\t'type':'buttons',\n",
    "\t\t \t\t'buttons':[{'label':'Play', 'method':'animate',\n",
    "\t\t\t\t\t'args':[None, {'transition':{'duration':0}}]}]}],\n",
    "\t\t \ttemplate='plotly_dark', autosize=False,\n",
    "\t\t \twidth=750, margin=dict(l=0, r=20, b=0, t=0, pad=0),\n",
    "\t\t ),\n",
    "\t\tframes = frames\n",
    "\t)\n",
    "\n",
    "\treturn fig"
   ]
  },
  {
   "cell_type": "code",
   "execution_count": 100,
   "metadata": {},
   "outputs": [],
   "source": [
    "def frames2subplots(frames):\n",
    "\tfig = make_subplots(rows=len(frames))\n",
    "\tfor i,frame in enumerate(frames):\n",
    "\t\tfig.add_trace(frame, row=i+1, col=1)\n",
    "\treturn fig"
   ]
  },
  {
   "cell_type": "code",
   "execution_count": 103,
   "metadata": {},
   "outputs": [
    {
     "ename": "ValueError",
     "evalue": "\n    Invalid element(s) received for the 'data' property of \n        Invalid elements include: [[Scatter({\n    'line': {'color': 'green'},\n    'mode': 'lines',\n    'name': 'gc_segs',\n    'x': [138.585, 137.983, None, ..., 131.84, 130.671, None],\n    'y': [119.21, 118.138, None, ..., 114.815, 114.773, None]\n}), Scatter({\n    'line': {'color': 'red', 'dash': 'dot', 'width': 3},\n    'mode': 'lines',\n    'name': 'th_traj',\n    'x': [50.142739941868626, 50.142739941868626, None],\n    'y': [74.73576405075856, 160.231, None]\n})]]\n\n    The 'data' property is a tuple of trace instances\n    that may be specified as:\n      - A list or tuple of trace instances\n        (e.g. [Scatter(...), Bar(...)])\n      - A single trace instance\n        (e.g. Scatter(...), Bar(...), etc.)\n      - A list or tuple of dicts of string/value properties where:\n        - The 'type' property specifies the trace type\n            One of: ['bar', 'barpolar', 'box', 'candlestick',\n                     'carpet', 'choropleth', 'choroplethmapbox',\n                     'cone', 'contour', 'contourcarpet',\n                     'densitymapbox', 'funnel', 'funnelarea',\n                     'heatmap', 'heatmapgl', 'histogram',\n                     'histogram2d', 'histogram2dcontour', 'icicle',\n                     'image', 'indicator', 'isosurface', 'mesh3d',\n                     'ohlc', 'parcats', 'parcoords', 'pie',\n                     'pointcloud', 'sankey', 'scatter',\n                     'scatter3d', 'scattercarpet', 'scattergeo',\n                     'scattergl', 'scattermapbox', 'scatterpolar',\n                     'scatterpolargl', 'scattersmith',\n                     'scatterternary', 'splom', 'streamtube',\n                     'sunburst', 'surface', 'table', 'treemap',\n                     'violin', 'volume', 'waterfall']\n\n        - All remaining properties are passed to the constructor of\n          the specified trace type\n\n        (e.g. [{'type': 'scatter', ...}, {'type': 'bar, ...}])",
     "output_type": "error",
     "traceback": [
      "\u001b[0;31m---------------------------------------------------------------------------\u001b[0m",
      "\u001b[0;31mValueError\u001b[0m                                Traceback (most recent call last)",
      "\u001b[0;32m/var/folders/8w/xm0kqz715ld0yxmz9v2rjb9h0000gp/T/ipykernel_31596/2643419965.py\u001b[0m in \u001b[0;36m<module>\u001b[0;34m\u001b[0m\n\u001b[0;32m----> 1\u001b[0;31m \u001b[0mfig\u001b[0m \u001b[0;34m=\u001b[0m \u001b[0mplot_steps\u001b[0m\u001b[0;34m(\u001b[0m\u001b[0mg\u001b[0m\u001b[0;34m.\u001b[0m\u001b[0mlayers\u001b[0m\u001b[0;34m[\u001b[0m\u001b[0;36m49\u001b[0m\u001b[0;34m]\u001b[0m\u001b[0;34m,\u001b[0m \u001b[0mthread_geom\u001b[0m\u001b[0;34m)\u001b[0m\u001b[0;34m\u001b[0m\u001b[0;34m\u001b[0m\u001b[0m\n\u001b[0m\u001b[1;32m      2\u001b[0m \u001b[0mfig\u001b[0m\u001b[0;34m.\u001b[0m\u001b[0mshow\u001b[0m\u001b[0;34m(\u001b[0m\u001b[0;34m'notebook'\u001b[0m\u001b[0;34m)\u001b[0m\u001b[0;34m\u001b[0m\u001b[0;34m\u001b[0m\u001b[0m\n",
      "\u001b[0;32m/var/folders/8w/xm0kqz715ld0yxmz9v2rjb9h0000gp/T/ipykernel_31596/1014331980.py\u001b[0m in \u001b[0;36mplot_steps\u001b[0;34m(layer, thread_geom)\u001b[0m\n\u001b[1;32m     73\u001b[0m                 \u001b[0mframes\u001b[0m\u001b[0;34m.\u001b[0m\u001b[0mappend\u001b[0m\u001b[0;34m(\u001b[0m\u001b[0malways_show\u001b[0m \u001b[0;34m+\u001b[0m \u001b[0;34m[\u001b[0m\u001b[0mth_traj\u001b[0m\u001b[0;34m]\u001b[0m\u001b[0;34m)\u001b[0m\u001b[0;34m\u001b[0m\u001b[0;34m\u001b[0m\u001b[0m\n\u001b[1;32m     74\u001b[0m \u001b[0;34m\u001b[0m\u001b[0m\n\u001b[0;32m---> 75\u001b[0;31m         \u001b[0mfig\u001b[0m \u001b[0;34m=\u001b[0m \u001b[0mframes2subplots\u001b[0m\u001b[0;34m(\u001b[0m\u001b[0mframes\u001b[0m\u001b[0;34m)\u001b[0m\u001b[0;34m\u001b[0m\u001b[0;34m\u001b[0m\u001b[0m\n\u001b[0m\u001b[1;32m     76\u001b[0m \tfig.update_layout(template='plotly_dark',# autosize=False,\n\u001b[1;32m     77\u001b[0m                         \u001b[0mscene_aspectmode\u001b[0m\u001b[0;34m=\u001b[0m\u001b[0;34m'data'\u001b[0m\u001b[0;34m,\u001b[0m\u001b[0;34m\u001b[0m\u001b[0;34m\u001b[0m\u001b[0m\n",
      "\u001b[0;32m/var/folders/8w/xm0kqz715ld0yxmz9v2rjb9h0000gp/T/ipykernel_31596/790923763.py\u001b[0m in \u001b[0;36mframes2subplots\u001b[0;34m(frames)\u001b[0m\n\u001b[1;32m      2\u001b[0m         \u001b[0mfig\u001b[0m \u001b[0;34m=\u001b[0m \u001b[0mmake_subplots\u001b[0m\u001b[0;34m(\u001b[0m\u001b[0mrows\u001b[0m\u001b[0;34m=\u001b[0m\u001b[0mlen\u001b[0m\u001b[0;34m(\u001b[0m\u001b[0mframes\u001b[0m\u001b[0;34m)\u001b[0m\u001b[0;34m)\u001b[0m\u001b[0;34m\u001b[0m\u001b[0;34m\u001b[0m\u001b[0m\n\u001b[1;32m      3\u001b[0m         \u001b[0;32mfor\u001b[0m \u001b[0mi\u001b[0m\u001b[0;34m,\u001b[0m\u001b[0mframe\u001b[0m \u001b[0;32min\u001b[0m \u001b[0menumerate\u001b[0m\u001b[0;34m(\u001b[0m\u001b[0mframes\u001b[0m\u001b[0;34m)\u001b[0m\u001b[0;34m:\u001b[0m\u001b[0;34m\u001b[0m\u001b[0;34m\u001b[0m\u001b[0m\n\u001b[0;32m----> 4\u001b[0;31m                 \u001b[0mfig\u001b[0m\u001b[0;34m.\u001b[0m\u001b[0madd_trace\u001b[0m\u001b[0;34m(\u001b[0m\u001b[0mframe\u001b[0m\u001b[0;34m,\u001b[0m \u001b[0mrow\u001b[0m\u001b[0;34m=\u001b[0m\u001b[0mi\u001b[0m\u001b[0;34m+\u001b[0m\u001b[0;36m1\u001b[0m\u001b[0;34m,\u001b[0m \u001b[0mcol\u001b[0m\u001b[0;34m=\u001b[0m\u001b[0;36m1\u001b[0m\u001b[0;34m)\u001b[0m\u001b[0;34m\u001b[0m\u001b[0;34m\u001b[0m\u001b[0m\n\u001b[0m\u001b[1;32m      5\u001b[0m         \u001b[0;32mreturn\u001b[0m \u001b[0mfig\u001b[0m\u001b[0;34m\u001b[0m\u001b[0;34m\u001b[0m\u001b[0m\n",
      "\u001b[0;32m/usr/local/lib/python3.9/site-packages/plotly/basedatatypes.py\u001b[0m in \u001b[0;36madd_trace\u001b[0;34m(self, trace, row, col, secondary_y, exclude_empty_subplots)\u001b[0m\n\u001b[1;32m   2097\u001b[0m             \u001b[0;32mreturn\u001b[0m \u001b[0mself\u001b[0m\u001b[0;34m\u001b[0m\u001b[0;34m\u001b[0m\u001b[0m\n\u001b[1;32m   2098\u001b[0m \u001b[0;34m\u001b[0m\u001b[0m\n\u001b[0;32m-> 2099\u001b[0;31m         return self.add_traces(\n\u001b[0m\u001b[1;32m   2100\u001b[0m             \u001b[0mdata\u001b[0m\u001b[0;34m=\u001b[0m\u001b[0;34m[\u001b[0m\u001b[0mtrace\u001b[0m\u001b[0;34m]\u001b[0m\u001b[0;34m,\u001b[0m\u001b[0;34m\u001b[0m\u001b[0;34m\u001b[0m\u001b[0m\n\u001b[1;32m   2101\u001b[0m             \u001b[0mrows\u001b[0m\u001b[0;34m=\u001b[0m\u001b[0;34m[\u001b[0m\u001b[0mrow\u001b[0m\u001b[0;34m]\u001b[0m \u001b[0;32mif\u001b[0m \u001b[0mrow\u001b[0m \u001b[0;32mis\u001b[0m \u001b[0;32mnot\u001b[0m \u001b[0;32mNone\u001b[0m \u001b[0;32melse\u001b[0m \u001b[0;32mNone\u001b[0m\u001b[0;34m,\u001b[0m\u001b[0;34m\u001b[0m\u001b[0;34m\u001b[0m\u001b[0m\n",
      "\u001b[0;32m/usr/local/lib/python3.9/site-packages/plotly/basedatatypes.py\u001b[0m in \u001b[0;36madd_traces\u001b[0;34m(self, data, rows, cols, secondary_ys, exclude_empty_subplots)\u001b[0m\n\u001b[1;32m   2181\u001b[0m \u001b[0;34m\u001b[0m\u001b[0m\n\u001b[1;32m   2182\u001b[0m         \u001b[0;31m# Validate traces\u001b[0m\u001b[0;34m\u001b[0m\u001b[0;34m\u001b[0m\u001b[0m\n\u001b[0;32m-> 2183\u001b[0;31m         \u001b[0mdata\u001b[0m \u001b[0;34m=\u001b[0m \u001b[0mself\u001b[0m\u001b[0;34m.\u001b[0m\u001b[0m_data_validator\u001b[0m\u001b[0;34m.\u001b[0m\u001b[0mvalidate_coerce\u001b[0m\u001b[0;34m(\u001b[0m\u001b[0mdata\u001b[0m\u001b[0;34m)\u001b[0m\u001b[0;34m\u001b[0m\u001b[0;34m\u001b[0m\u001b[0m\n\u001b[0m\u001b[1;32m   2184\u001b[0m \u001b[0;34m\u001b[0m\u001b[0m\n\u001b[1;32m   2185\u001b[0m         \u001b[0;31m# Set trace indexes\u001b[0m\u001b[0;34m\u001b[0m\u001b[0;34m\u001b[0m\u001b[0m\n",
      "\u001b[0;32m/usr/local/lib/python3.9/site-packages/_plotly_utils/basevalidators.py\u001b[0m in \u001b[0;36mvalidate_coerce\u001b[0;34m(self, v, skip_invalid, _validate)\u001b[0m\n\u001b[1;32m   2692\u001b[0m \u001b[0;34m\u001b[0m\u001b[0m\n\u001b[1;32m   2693\u001b[0m             \u001b[0;32mif\u001b[0m \u001b[0minvalid_els\u001b[0m\u001b[0;34m:\u001b[0m\u001b[0;34m\u001b[0m\u001b[0;34m\u001b[0m\u001b[0m\n\u001b[0;32m-> 2694\u001b[0;31m                 \u001b[0mself\u001b[0m\u001b[0;34m.\u001b[0m\u001b[0mraise_invalid_elements\u001b[0m\u001b[0;34m(\u001b[0m\u001b[0minvalid_els\u001b[0m\u001b[0;34m)\u001b[0m\u001b[0;34m\u001b[0m\u001b[0;34m\u001b[0m\u001b[0m\n\u001b[0m\u001b[1;32m   2695\u001b[0m \u001b[0;34m\u001b[0m\u001b[0m\n\u001b[1;32m   2696\u001b[0m             \u001b[0mv\u001b[0m \u001b[0;34m=\u001b[0m \u001b[0mto_scalar_or_list\u001b[0m\u001b[0;34m(\u001b[0m\u001b[0mres\u001b[0m\u001b[0;34m)\u001b[0m\u001b[0;34m\u001b[0m\u001b[0;34m\u001b[0m\u001b[0m\n",
      "\u001b[0;32m/usr/local/lib/python3.9/site-packages/_plotly_utils/basevalidators.py\u001b[0m in \u001b[0;36mraise_invalid_elements\u001b[0;34m(self, invalid_els)\u001b[0m\n\u001b[1;32m    303\u001b[0m     \u001b[0;32mdef\u001b[0m \u001b[0mraise_invalid_elements\u001b[0m\u001b[0;34m(\u001b[0m\u001b[0mself\u001b[0m\u001b[0;34m,\u001b[0m \u001b[0minvalid_els\u001b[0m\u001b[0;34m)\u001b[0m\u001b[0;34m:\u001b[0m\u001b[0;34m\u001b[0m\u001b[0;34m\u001b[0m\u001b[0m\n\u001b[1;32m    304\u001b[0m         \u001b[0;32mif\u001b[0m \u001b[0minvalid_els\u001b[0m\u001b[0;34m:\u001b[0m\u001b[0;34m\u001b[0m\u001b[0;34m\u001b[0m\u001b[0m\n\u001b[0;32m--> 305\u001b[0;31m             raise ValueError(\n\u001b[0m\u001b[1;32m    306\u001b[0m                 \"\"\"\n\u001b[1;32m    307\u001b[0m     \u001b[0mInvalid\u001b[0m \u001b[0melement\u001b[0m\u001b[0;34m(\u001b[0m\u001b[0ms\u001b[0m\u001b[0;34m)\u001b[0m \u001b[0mreceived\u001b[0m \u001b[0;32mfor\u001b[0m \u001b[0mthe\u001b[0m \u001b[0;34m'{name}'\u001b[0m \u001b[0mproperty\u001b[0m \u001b[0mof\u001b[0m \u001b[0;34m{\u001b[0m\u001b[0mpname\u001b[0m\u001b[0;34m}\u001b[0m\u001b[0;34m\u001b[0m\u001b[0;34m\u001b[0m\u001b[0m\n",
      "\u001b[0;31mValueError\u001b[0m: \n    Invalid element(s) received for the 'data' property of \n        Invalid elements include: [[Scatter({\n    'line': {'color': 'green'},\n    'mode': 'lines',\n    'name': 'gc_segs',\n    'x': [138.585, 137.983, None, ..., 131.84, 130.671, None],\n    'y': [119.21, 118.138, None, ..., 114.815, 114.773, None]\n}), Scatter({\n    'line': {'color': 'red', 'dash': 'dot', 'width': 3},\n    'mode': 'lines',\n    'name': 'th_traj',\n    'x': [50.142739941868626, 50.142739941868626, None],\n    'y': [74.73576405075856, 160.231, None]\n})]]\n\n    The 'data' property is a tuple of trace instances\n    that may be specified as:\n      - A list or tuple of trace instances\n        (e.g. [Scatter(...), Bar(...)])\n      - A single trace instance\n        (e.g. Scatter(...), Bar(...), etc.)\n      - A list or tuple of dicts of string/value properties where:\n        - The 'type' property specifies the trace type\n            One of: ['bar', 'barpolar', 'box', 'candlestick',\n                     'carpet', 'choropleth', 'choroplethmapbox',\n                     'cone', 'contour', 'contourcarpet',\n                     'densitymapbox', 'funnel', 'funnelarea',\n                     'heatmap', 'heatmapgl', 'histogram',\n                     'histogram2d', 'histogram2dcontour', 'icicle',\n                     'image', 'indicator', 'isosurface', 'mesh3d',\n                     'ohlc', 'parcats', 'parcoords', 'pie',\n                     'pointcloud', 'sankey', 'scatter',\n                     'scatter3d', 'scattercarpet', 'scattergeo',\n                     'scattergl', 'scattermapbox', 'scatterpolar',\n                     'scatterpolargl', 'scattersmith',\n                     'scatterternary', 'splom', 'streamtube',\n                     'sunburst', 'surface', 'table', 'treemap',\n                     'violin', 'volume', 'waterfall']\n\n        - All remaining properties are passed to the constructor of\n          the specified trace type\n\n        (e.g. [{'type': 'scatter', ...}, {'type': 'bar, ...}])"
     ]
    }
   ],
   "source": [
    "fig = plot_steps(g.layers[49], thread_geom)\n",
    "fig.show('notebook')"
   ]
  }
 ],
 "metadata": {
  "jupytext": {
   "formats": "ipynb,py:percent"
  },
  "kernelspec": {
   "display_name": "Python 3 (ipykernel)",
   "language": "python",
   "name": "python3"
  },
  "language_info": {
   "codemirror_mode": {
    "name": "ipython",
    "version": 3
   },
   "file_extension": ".py",
   "mimetype": "text/x-python",
   "name": "python",
   "nbconvert_exporter": "python",
   "pygments_lexer": "ipython3",
   "version": "3.9.9"
  }
 },
 "nbformat": 4,
 "nbformat_minor": 4
}

{
 "cells": [
  {
   "cell_type": "code",
   "execution_count": 1,
   "metadata": {},
   "outputs": [],
   "source": [
    "#%pylab\n",
    "import pickle\n",
    "import numpy as np\n",
    "import thread, gcode, gclayer\n",
    "from Geometry3D import Segment, Point, intersection, Renderer\n",
    "from parsers import cura4\n",
    "from importlib import reload\n",
    "import plotly.graph_objects as go\n",
    "from plotly.offline import plot, iplot, init_notebook_mode\n",
    "from IPython.core.display import display, HTML\n",
    "init_notebook_mode(connected=True)\n",
    "\n",
    "#suppress scientific notation\n",
    "np.set_printoptions(suppress=True, precision=2)"
   ]
  },
  {
   "cell_type": "code",
   "execution_count": 26,
   "metadata": {},
   "outputs": [],
   "source": [
    "def page_wide():\n",
    "\tdisplay(HTML(\n",
    "\t\"\"\"\n",
    "\t<style>\n",
    "\t\t.container { width:100% !important; }\n",
    "\t\t.output_result { max-width:100% !important; }\n",
    "\t\t.prompt { min-width:0 !important; }\n",
    "\t\t.run_this_cell { padding:0 !important; }\n",
    "\t\t.modebar { padding-right: 250px !important; }\n",
    "\t</style>\n",
    "\t\"\"\"))"
   ]
  },
  {
   "cell_type": "code",
   "execution_count": 3,
   "metadata": {},
   "outputs": [
    {
     "data": {
      "text/plain": [
       "<module 'gclayer' from '/Users/dan/data/projects/python_gcode/gclayer.py'>"
      ]
     },
     "execution_count": 3,
     "metadata": {},
     "output_type": "execute_result"
    }
   ],
   "source": [
    "reload(thread); reload(gcode); reload(cura4); reload(gclayer)"
   ]
  },
  {
   "cell_type": "code",
   "execution_count": 4,
   "metadata": {},
   "outputs": [],
   "source": [
    "g = gcode.GcodeFile('/Users/dan/r/thread_printer/stl/test1/main_body.gcode')\n",
    "thread.layers_to_geom(g)"
   ]
  },
  {
   "cell_type": "code",
   "execution_count": 5,
   "metadata": {
    "lines_to_next_cell": 1
   },
   "outputs": [],
   "source": [
    "#units from fusion are always in cm, so we need to convert to mm\n",
    "tpath = np.array(pickle.load(open('/Users/dan/r/thread_printer/stl/test1/thread_from_fusion.pickle', 'rb'))) * 10\n",
    "thread_transform = [131.164, 110.421, 0]\n",
    "tpath += [thread_transform, thread_transform]\n",
    "thread_geom = [Segment(Point(*s), Point(*e)) for s,e in tpath]"
   ]
  },
  {
   "cell_type": "code",
   "execution_count": 21,
   "metadata": {
    "lines_to_next_cell": 1
   },
   "outputs": [],
   "source": [
    "def xyz(*args, **kwargs):\n",
    "\t\"\"\"Separate the x, y, and z attributes of the arguments into separate lists.\n",
    "\tReturn a dict with those as well as any kwargs.\"\"\"\n",
    "\tx, y, z = [], [], []\n",
    "\tfor a in args:\n",
    "\t\tx.append(a.x if a is not None else None)\n",
    "\t\ty.append(a.y if a is not None else None)\n",
    "\t\tz.append(a.z if a is not None else None)\n",
    "\treturn dict(x=x, y=y, z=z, **kwargs)\n",
    "\n",
    "\n",
    "def seg_xyz(*segs, **kwargs):\n",
    "\t#Plot gcode segments. The 'None' makes a break in a line so we can use\n",
    "\t# just one add_trace() call.\n",
    "\tx, y, z = [], [], []\n",
    "\tfor s in segs:\n",
    "\t\tx.extend([s.start_point.x, s.end_point.x, None])\n",
    "\t\ty.extend([s.start_point.y, s.end_point.y, None])\n",
    "\t\tz.extend([s.start_point.z, s.end_point.z, None])\n",
    "\treturn dict(x=x, y=y, z=z, **kwargs)"
   ]
  },
  {
   "cell_type": "code",
   "execution_count": 61,
   "metadata": {},
   "outputs": [
    {
     "ename": "SyntaxError",
     "evalue": "invalid syntax (1118945246.py, line 38)",
     "output_type": "error",
     "traceback": [
      "\u001b[0;36m  File \u001b[0;32m\"/var/folders/8w/xm0kqz715ld0yxmz9v2rjb9h0000gp/T/ipykernel_20851/1118945246.py\"\u001b[0;36m, line \u001b[0;32m38\u001b[0m\n\u001b[0;31m    fig.update_layout(template='plotly_dark', autosize=False,\u001b[0m\n\u001b[0m    ^\u001b[0m\n\u001b[0;31mSyntaxError\u001b[0m\u001b[0;31m:\u001b[0m invalid syntax\n"
     ]
    }
   ],
   "source": [
    "def plot_layer(layer, thread_geom):\n",
    "\tfig = go.Figure()\n",
    "\n",
    "\tfig.add_trace(go.Scatter3d(**seg_xyz(\n",
    "\t\t\t*layer.geometry.segments,\n",
    "\t\t\tmode='lines',\n",
    "\t\t\tline={'color': 'green'})))\n",
    "\n",
    "\tif thread_geom:\n",
    "\t\t#Plot the thread\n",
    "\t\tfig.add_trace(go.Scatter3d(**seg_xyz(\n",
    "\t\t\t*thread_geom,\n",
    "\t\t\tmode='lines',\n",
    "\t\t\tline={'color':'white', 'dash':'dot', 'width':3})))\n",
    "\n",
    "\t\tfor seg,enter,exit,gclines in thread.intersect_thread(thread_geom, layer):\n",
    "\t\t\tif enter and exit:\n",
    "\t\t\t\tkwargs = xyz(enter, exit, mode='lines')\n",
    "\t\t\telif enter or exit:\n",
    "\t\t\t\tpoint = enter or exit\n",
    "\t\t\t\tkwargs = xyz(point, mode='markers')\n",
    "\t\t\telse:\n",
    "\t\t\t\tkwargs = xyz(seg.start_point, seg.end_point, mode='lines')\n",
    "\n",
    "\t\t\tfig.add_trace(go.Scatter3d(\n",
    "\t\t\t\tmarker={'color':'yellow', 'size':4},\n",
    "\t\t\t\tline={'color':'yellow', 'width':8},\n",
    "\t\t\t\t**kwargs,\n",
    "\t\t\t))\n",
    "\n",
    "\t\t\tif gclines:\n",
    "\t\t\t\tfig.add_trace(go.Scatter3d(**seg_xyz(\n",
    "\t\t\t\t\t*gclines,\n",
    "\t\t\t\t\tmode='lines',\n",
    "\t\t\t\t\tline={'color':'yellow', 'width': 2},\n",
    "\t\t\t\t))\n",
    "\n",
    "\tfig.update_layout(template='plotly_dark', autosize=False,\n",
    "\t\tscene_aspectmode='cube',\n",
    "\t\twidth=750, height=750, margin=dict(l=0, r=20, b=0, t=0, pad=0))\n",
    "\tfig.show('notebook')"
   ]
  },
  {
   "cell_type": "code",
   "execution_count": null,
   "metadata": {
    "lines_to_next_cell": 2
   },
   "outputs": [],
   "source": [
    "page_wide()\n",
    "#plot_layer(g.layers[49], thread_geom)\n",
    "plot_layer(g.layers[53], [])"
   ]
  },
  {
   "cell_type": "code",
   "execution_count": 41,
   "metadata": {},
   "outputs": [
    {
     "data": {
      "text/plain": [
       "'\\n#Plot top/bottom planes for the layer\\nxx = list(filter(None, x)); yy = list(filter(None, y))\\nzz = g.layers[53].z - 0.2\\nfig.add_trace(go.Mesh3d(\\n\\t\\tx=[min(xx), min(xx), max(xx), max(xx)],\\n\\t\\ty=[min(yy), max(yy), max(yy), min(yy)],\\n\\t\\tz=[zz,\\t\\t zz,\\t\\t zz,\\t\\t zz],\\n\\t\\topacity=.5))\\nzz = g.layers[53].z + 0.2\\nfig.add_trace(go.Mesh3d(\\n\\t\\tx=[min(xx), min(xx), max(xx), max(xx)],\\n\\t\\ty=[min(yy), max(yy), max(yy), min(yy)],\\n\\t\\tz=[zz,\\t\\t zz,\\t\\t zz,\\t\\t zz],\\n\\t\\topacity=.5))\\n'"
      ]
     },
     "execution_count": 41,
     "metadata": {},
     "output_type": "execute_result"
    }
   ],
   "source": [
    "\n",
    "\t\"\"\"\n",
    "\t#Plot top/bottom planes for the layer\n",
    "\txx = list(filter(None, x)); yy = list(filter(None, y))\n",
    "\tzz = g.layers[53].z - 0.2\n",
    "\tfig.add_trace(go.Mesh3d(\n",
    "\t\t\tx=[min(xx), min(xx), max(xx), max(xx)],\n",
    "\t\t\ty=[min(yy), max(yy), max(yy), min(yy)],\n",
    "\t\t\tz=[zz,\t\t zz,\t\t zz,\t\t zz],\n",
    "\t\t\topacity=.5))\n",
    "\tzz = g.layers[53].z + 0.2\n",
    "\tfig.add_trace(go.Mesh3d(\n",
    "\t\t\tx=[min(xx), min(xx), max(xx), max(xx)],\n",
    "\t\t\ty=[min(yy), max(yy), max(yy), min(yy)],\n",
    "\t\t\tz=[zz,\t\t zz,\t\t zz,\t\t zz],\n",
    "\t\t\topacity=.5))\n",
    "\"\"\""
   ]
  }
 ],
 "metadata": {
  "jupytext": {
   "formats": "ipynb,py:percent"
  },
  "kernelspec": {
   "display_name": "Python 3 (ipykernel)",
   "language": "python",
   "name": "python3"
  },
  "language_info": {
   "codemirror_mode": {
    "name": "ipython",
    "version": 3
   },
   "file_extension": ".py",
   "mimetype": "text/x-python",
   "name": "python",
   "nbconvert_exporter": "python",
   "pygments_lexer": "ipython3",
   "version": "3.9.9"
  }
 },
 "nbformat": 4,
 "nbformat_minor": 4
}
